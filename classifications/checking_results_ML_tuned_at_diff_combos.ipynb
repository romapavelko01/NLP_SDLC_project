{
  "cells": [
    {
      "cell_type": "markdown",
      "metadata": {
        "id": "view-in-github",
        "colab_type": "text"
      },
      "source": [
        "<a href=\"https://colab.research.google.com/github/romapavelko01/NLP_SDLC_project/blob/classifications/checking_results_ML_tuned_at_diff_combos.ipynb\" target=\"_parent\"><img src=\"https://colab.research.google.com/assets/colab-badge.svg\" alt=\"Open In Colab\"/></a>"
      ]
    },
    {
      "cell_type": "code",
      "execution_count": 1,
      "metadata": {
        "id": "oHgVN_-AHBV5"
      },
      "outputs": [],
      "source": [
        "import pandas as pd\n",
        "import os\n",
        "import numpy as np"
      ]
    },
    {
      "cell_type": "code",
      "execution_count": 2,
      "metadata": {
        "id": "inRkQOU_HK6d"
      },
      "outputs": [],
      "source": [
        "from sklearn.svm import LinearSVC\n",
        "from sklearn.naive_bayes import MultinomialNB, ComplementNB\n",
        "from sklearn.linear_model import PassiveAggressiveClassifier, SGDClassifier\n",
        "from sklearn.ensemble import RandomForestClassifier\n",
        "from xgboost import XGBClassifier\n",
        "\n",
        "from sklearn.feature_extraction.text import CountVectorizer, TfidfVectorizer\n",
        "from sklearn.feature_selection import SelectKBest, f_classif\n",
        "from sklearn.metrics import accuracy_score\n",
        "from sklearn.model_selection import train_test_split"
      ]
    },
    {
      "cell_type": "code",
      "execution_count": 3,
      "metadata": {
        "colab": {
          "base_uri": "https://localhost:8080/"
        },
        "id": "XG9Q1nA3HOkH",
        "outputId": "102d1d43-300b-4ff5-c96f-e1532374e407"
      },
      "outputs": [
        {
          "output_type": "stream",
          "name": "stdout",
          "text": [
            "Mounted at /content/drive\n"
          ]
        }
      ],
      "source": [
        "from google.colab import drive\n",
        "drive.mount('/content/drive')"
      ]
    },
    {
      "cell_type": "code",
      "execution_count": 4,
      "metadata": {
        "id": "04sPGg3KHRID"
      },
      "outputs": [],
      "source": [
        "os.chdir('/content/drive/MyDrive/SDLC/news_analysis_project')"
      ]
    },
    {
      "cell_type": "markdown",
      "metadata": {
        "id": "psLzykusHpJY"
      },
      "source": [
        "# Dataframe for results, with combinations of vectorizers/classifiers/tuned hyperparameter values"
      ]
    },
    {
      "cell_type": "markdown",
      "metadata": {
        "id": "KvRFXDydI30n"
      },
      "source": [
        "# Reading .csv file with best combinations of parameters"
      ]
    },
    {
      "cell_type": "markdown",
      "metadata": {
        "id": "Qa8BAKCfrXxE"
      },
      "source": [
        "## With best combinations received after classification on top 5 most frequent categories"
      ]
    },
    {
      "cell_type": "code",
      "execution_count": 5,
      "metadata": {
        "colab": {
          "base_uri": "https://localhost:8080/",
          "height": 261
        },
        "id": "uH9TknbgIPrK",
        "outputId": "f24742d9-7b19-4e24-85a0-7d0f1bcd4086"
      },
      "outputs": [
        {
          "output_type": "execute_result",
          "data": {
            "text/html": [
              "\n",
              "  <div id=\"df-d8c62bb5-1f56-493b-bfa3-8ffd0d9f0f51\">\n",
              "    <div class=\"colab-df-container\">\n",
              "      <div>\n",
              "<style scoped>\n",
              "    .dataframe tbody tr th:only-of-type {\n",
              "        vertical-align: middle;\n",
              "    }\n",
              "\n",
              "    .dataframe tbody tr th {\n",
              "        vertical-align: top;\n",
              "    }\n",
              "\n",
              "    .dataframe thead th {\n",
              "        text-align: right;\n",
              "    }\n",
              "</style>\n",
              "<table border=\"1\" class=\"dataframe\">\n",
              "  <thead>\n",
              "    <tr style=\"text-align: right;\">\n",
              "      <th></th>\n",
              "      <th>Classifier</th>\n",
              "      <th>By</th>\n",
              "      <th>Preprocessed</th>\n",
              "      <th>Vectorizer</th>\n",
              "      <th>Ngram</th>\n",
              "      <th>TopKFeatures</th>\n",
              "      <th>TrainAccuracy</th>\n",
              "      <th>TestAccuracy</th>\n",
              "    </tr>\n",
              "  </thead>\n",
              "  <tbody>\n",
              "    <tr>\n",
              "      <th>0</th>\n",
              "      <td>LinearSVC</td>\n",
              "      <td>full_text</td>\n",
              "      <td>0</td>\n",
              "      <td>TfidfVectorizer</td>\n",
              "      <td>(1, 1)</td>\n",
              "      <td>7500</td>\n",
              "      <td>NaN</td>\n",
              "      <td>0.905931</td>\n",
              "    </tr>\n",
              "    <tr>\n",
              "      <th>1</th>\n",
              "      <td>MultinomialNB</td>\n",
              "      <td>full_text</td>\n",
              "      <td>0</td>\n",
              "      <td>CountVectorizer</td>\n",
              "      <td>(1, 1)</td>\n",
              "      <td>7500</td>\n",
              "      <td>NaN</td>\n",
              "      <td>0.886200</td>\n",
              "    </tr>\n",
              "    <tr>\n",
              "      <th>2</th>\n",
              "      <td>ComplementNB</td>\n",
              "      <td>full_text</td>\n",
              "      <td>0</td>\n",
              "      <td>TfidfVectorizer</td>\n",
              "      <td>(1, 1)</td>\n",
              "      <td>7500</td>\n",
              "      <td>NaN</td>\n",
              "      <td>0.890030</td>\n",
              "    </tr>\n",
              "    <tr>\n",
              "      <th>3</th>\n",
              "      <td>XGBClassifier</td>\n",
              "      <td>full_text</td>\n",
              "      <td>0</td>\n",
              "      <td>CountVectorizer</td>\n",
              "      <td>(1, 2)</td>\n",
              "      <td>4500</td>\n",
              "      <td>NaN</td>\n",
              "      <td>0.818593</td>\n",
              "    </tr>\n",
              "    <tr>\n",
              "      <th>4</th>\n",
              "      <td>PassiveAggressiveClassifier</td>\n",
              "      <td>full_text</td>\n",
              "      <td>0</td>\n",
              "      <td>TfidfVectorizer</td>\n",
              "      <td>(1, 2)</td>\n",
              "      <td>7500</td>\n",
              "      <td>NaN</td>\n",
              "      <td>0.899721</td>\n",
              "    </tr>\n",
              "    <tr>\n",
              "      <th>5</th>\n",
              "      <td>SGDClassifier</td>\n",
              "      <td>full_text</td>\n",
              "      <td>0</td>\n",
              "      <td>CountVectorizer</td>\n",
              "      <td>(1, 1)</td>\n",
              "      <td>7500</td>\n",
              "      <td>NaN</td>\n",
              "      <td>0.904828</td>\n",
              "    </tr>\n",
              "    <tr>\n",
              "      <th>6</th>\n",
              "      <td>RandomForestClassifier</td>\n",
              "      <td>headline</td>\n",
              "      <td>1</td>\n",
              "      <td>TfidfVectorizer</td>\n",
              "      <td>(1, 1)</td>\n",
              "      <td>7500</td>\n",
              "      <td>NaN</td>\n",
              "      <td>0.820624</td>\n",
              "    </tr>\n",
              "  </tbody>\n",
              "</table>\n",
              "</div>\n",
              "      <button class=\"colab-df-convert\" onclick=\"convertToInteractive('df-d8c62bb5-1f56-493b-bfa3-8ffd0d9f0f51')\"\n",
              "              title=\"Convert this dataframe to an interactive table.\"\n",
              "              style=\"display:none;\">\n",
              "        \n",
              "  <svg xmlns=\"http://www.w3.org/2000/svg\" height=\"24px\"viewBox=\"0 0 24 24\"\n",
              "       width=\"24px\">\n",
              "    <path d=\"M0 0h24v24H0V0z\" fill=\"none\"/>\n",
              "    <path d=\"M18.56 5.44l.94 2.06.94-2.06 2.06-.94-2.06-.94-.94-2.06-.94 2.06-2.06.94zm-11 1L8.5 8.5l.94-2.06 2.06-.94-2.06-.94L8.5 2.5l-.94 2.06-2.06.94zm10 10l.94 2.06.94-2.06 2.06-.94-2.06-.94-.94-2.06-.94 2.06-2.06.94z\"/><path d=\"M17.41 7.96l-1.37-1.37c-.4-.4-.92-.59-1.43-.59-.52 0-1.04.2-1.43.59L10.3 9.45l-7.72 7.72c-.78.78-.78 2.05 0 2.83L4 21.41c.39.39.9.59 1.41.59.51 0 1.02-.2 1.41-.59l7.78-7.78 2.81-2.81c.8-.78.8-2.07 0-2.86zM5.41 20L4 18.59l7.72-7.72 1.47 1.35L5.41 20z\"/>\n",
              "  </svg>\n",
              "      </button>\n",
              "      \n",
              "  <style>\n",
              "    .colab-df-container {\n",
              "      display:flex;\n",
              "      flex-wrap:wrap;\n",
              "      gap: 12px;\n",
              "    }\n",
              "\n",
              "    .colab-df-convert {\n",
              "      background-color: #E8F0FE;\n",
              "      border: none;\n",
              "      border-radius: 50%;\n",
              "      cursor: pointer;\n",
              "      display: none;\n",
              "      fill: #1967D2;\n",
              "      height: 32px;\n",
              "      padding: 0 0 0 0;\n",
              "      width: 32px;\n",
              "    }\n",
              "\n",
              "    .colab-df-convert:hover {\n",
              "      background-color: #E2EBFA;\n",
              "      box-shadow: 0px 1px 2px rgba(60, 64, 67, 0.3), 0px 1px 3px 1px rgba(60, 64, 67, 0.15);\n",
              "      fill: #174EA6;\n",
              "    }\n",
              "\n",
              "    [theme=dark] .colab-df-convert {\n",
              "      background-color: #3B4455;\n",
              "      fill: #D2E3FC;\n",
              "    }\n",
              "\n",
              "    [theme=dark] .colab-df-convert:hover {\n",
              "      background-color: #434B5C;\n",
              "      box-shadow: 0px 1px 3px 1px rgba(0, 0, 0, 0.15);\n",
              "      filter: drop-shadow(0px 1px 2px rgba(0, 0, 0, 0.3));\n",
              "      fill: #FFFFFF;\n",
              "    }\n",
              "  </style>\n",
              "\n",
              "      <script>\n",
              "        const buttonEl =\n",
              "          document.querySelector('#df-d8c62bb5-1f56-493b-bfa3-8ffd0d9f0f51 button.colab-df-convert');\n",
              "        buttonEl.style.display =\n",
              "          google.colab.kernel.accessAllowed ? 'block' : 'none';\n",
              "\n",
              "        async function convertToInteractive(key) {\n",
              "          const element = document.querySelector('#df-d8c62bb5-1f56-493b-bfa3-8ffd0d9f0f51');\n",
              "          const dataTable =\n",
              "            await google.colab.kernel.invokeFunction('convertToInteractive',\n",
              "                                                     [key], {});\n",
              "          if (!dataTable) return;\n",
              "\n",
              "          const docLinkHtml = 'Like what you see? Visit the ' +\n",
              "            '<a target=\"_blank\" href=https://colab.research.google.com/notebooks/data_table.ipynb>data table notebook</a>'\n",
              "            + ' to learn more about interactive tables.';\n",
              "          element.innerHTML = '';\n",
              "          dataTable['output_type'] = 'display_data';\n",
              "          await google.colab.output.renderOutput(dataTable, element);\n",
              "          const docLink = document.createElement('div');\n",
              "          docLink.innerHTML = docLinkHtml;\n",
              "          element.appendChild(docLink);\n",
              "        }\n",
              "      </script>\n",
              "    </div>\n",
              "  </div>\n",
              "  "
            ],
            "text/plain": [
              "                    Classifier         By  ...  TrainAccuracy TestAccuracy\n",
              "0                    LinearSVC  full_text  ...            NaN     0.905931\n",
              "1                MultinomialNB  full_text  ...            NaN     0.886200\n",
              "2                 ComplementNB  full_text  ...            NaN     0.890030\n",
              "3                XGBClassifier  full_text  ...            NaN     0.818593\n",
              "4  PassiveAggressiveClassifier  full_text  ...            NaN     0.899721\n",
              "5                SGDClassifier  full_text  ...            NaN     0.904828\n",
              "6       RandomForestClassifier   headline  ...            NaN     0.820624\n",
              "\n",
              "[7 rows x 8 columns]"
            ]
          },
          "metadata": {},
          "execution_count": 5
        }
      ],
      "source": [
        "tuned_5 = pd.read_csv('results_for_top_5categories/TunedResultsforTop5categories.csv')\n",
        "tuned_5 = tuned_5.iloc[:, 1:-1]\n",
        "tuned_5"
      ]
    },
    {
      "cell_type": "markdown",
      "metadata": {
        "id": "gj6OR8lbrhX4"
      },
      "source": [
        "## With best combinations received after classification on all categories (full dataset)"
      ]
    },
    {
      "cell_type": "code",
      "execution_count": 6,
      "metadata": {
        "colab": {
          "base_uri": "https://localhost:8080/",
          "height": 261
        },
        "id": "9J7ae3uVrk7W",
        "outputId": "a3a93bca-0971-4c01-db6d-f5adfc46b24c"
      },
      "outputs": [
        {
          "output_type": "execute_result",
          "data": {
            "text/html": [
              "\n",
              "  <div id=\"df-8ffe9f75-3ef1-43a3-b455-746b860aa5d2\">\n",
              "    <div class=\"colab-df-container\">\n",
              "      <div>\n",
              "<style scoped>\n",
              "    .dataframe tbody tr th:only-of-type {\n",
              "        vertical-align: middle;\n",
              "    }\n",
              "\n",
              "    .dataframe tbody tr th {\n",
              "        vertical-align: top;\n",
              "    }\n",
              "\n",
              "    .dataframe thead th {\n",
              "        text-align: right;\n",
              "    }\n",
              "</style>\n",
              "<table border=\"1\" class=\"dataframe\">\n",
              "  <thead>\n",
              "    <tr style=\"text-align: right;\">\n",
              "      <th></th>\n",
              "      <th>Classifier</th>\n",
              "      <th>By</th>\n",
              "      <th>Preprocessed</th>\n",
              "      <th>Vectorizer</th>\n",
              "      <th>Ngram</th>\n",
              "      <th>TopKFeatures</th>\n",
              "      <th>TrainAccuracy</th>\n",
              "      <th>TestAccuracy</th>\n",
              "    </tr>\n",
              "  </thead>\n",
              "  <tbody>\n",
              "    <tr>\n",
              "      <th>2</th>\n",
              "      <td>LinearSVC</td>\n",
              "      <td>full_text</td>\n",
              "      <td>1</td>\n",
              "      <td>TfidfVectorizer</td>\n",
              "      <td>(1, 1)</td>\n",
              "      <td>12000</td>\n",
              "      <td>0.687725</td>\n",
              "      <td>0.585870</td>\n",
              "    </tr>\n",
              "    <tr>\n",
              "      <th>0</th>\n",
              "      <td>MultinomialNB</td>\n",
              "      <td>full_text</td>\n",
              "      <td>0</td>\n",
              "      <td>CountVectorizer</td>\n",
              "      <td>(1, 1)</td>\n",
              "      <td>10000</td>\n",
              "      <td>0.629797</td>\n",
              "      <td>0.573946</td>\n",
              "    </tr>\n",
              "    <tr>\n",
              "      <th>1</th>\n",
              "      <td>ComplementNB</td>\n",
              "      <td>full_text</td>\n",
              "      <td>0</td>\n",
              "      <td>TfidfVectorizer</td>\n",
              "      <td>(1, 2)</td>\n",
              "      <td>14000</td>\n",
              "      <td>0.591883</td>\n",
              "      <td>0.563068</td>\n",
              "    </tr>\n",
              "    <tr>\n",
              "      <th>6</th>\n",
              "      <td>SGDClassifier</td>\n",
              "      <td>full_text</td>\n",
              "      <td>1</td>\n",
              "      <td>CountVectorizer</td>\n",
              "      <td>(1, 1)</td>\n",
              "      <td>12000</td>\n",
              "      <td>0.634987</td>\n",
              "      <td>0.561524</td>\n",
              "    </tr>\n",
              "    <tr>\n",
              "      <th>3</th>\n",
              "      <td>PassiveAggressiveClassifier</td>\n",
              "      <td>full_text</td>\n",
              "      <td>1</td>\n",
              "      <td>TfidfVectorizer</td>\n",
              "      <td>(1, 1)</td>\n",
              "      <td>12000</td>\n",
              "      <td>0.696077</td>\n",
              "      <td>0.557591</td>\n",
              "    </tr>\n",
              "    <tr>\n",
              "      <th>5</th>\n",
              "      <td>RandomForestClassifier</td>\n",
              "      <td>full_text</td>\n",
              "      <td>1</td>\n",
              "      <td>TfidfVectorizer</td>\n",
              "      <td>(1, 1)</td>\n",
              "      <td>12000</td>\n",
              "      <td>0.998786</td>\n",
              "      <td>0.512957</td>\n",
              "    </tr>\n",
              "    <tr>\n",
              "      <th>4</th>\n",
              "      <td>XGBClassifier</td>\n",
              "      <td>full_text</td>\n",
              "      <td>1</td>\n",
              "      <td>TfidfVectorizer</td>\n",
              "      <td>(1, 1)</td>\n",
              "      <td>9000</td>\n",
              "      <td>0.485923</td>\n",
              "      <td>0.457469</td>\n",
              "    </tr>\n",
              "  </tbody>\n",
              "</table>\n",
              "</div>\n",
              "      <button class=\"colab-df-convert\" onclick=\"convertToInteractive('df-8ffe9f75-3ef1-43a3-b455-746b860aa5d2')\"\n",
              "              title=\"Convert this dataframe to an interactive table.\"\n",
              "              style=\"display:none;\">\n",
              "        \n",
              "  <svg xmlns=\"http://www.w3.org/2000/svg\" height=\"24px\"viewBox=\"0 0 24 24\"\n",
              "       width=\"24px\">\n",
              "    <path d=\"M0 0h24v24H0V0z\" fill=\"none\"/>\n",
              "    <path d=\"M18.56 5.44l.94 2.06.94-2.06 2.06-.94-2.06-.94-.94-2.06-.94 2.06-2.06.94zm-11 1L8.5 8.5l.94-2.06 2.06-.94-2.06-.94L8.5 2.5l-.94 2.06-2.06.94zm10 10l.94 2.06.94-2.06 2.06-.94-2.06-.94-.94-2.06-.94 2.06-2.06.94z\"/><path d=\"M17.41 7.96l-1.37-1.37c-.4-.4-.92-.59-1.43-.59-.52 0-1.04.2-1.43.59L10.3 9.45l-7.72 7.72c-.78.78-.78 2.05 0 2.83L4 21.41c.39.39.9.59 1.41.59.51 0 1.02-.2 1.41-.59l7.78-7.78 2.81-2.81c.8-.78.8-2.07 0-2.86zM5.41 20L4 18.59l7.72-7.72 1.47 1.35L5.41 20z\"/>\n",
              "  </svg>\n",
              "      </button>\n",
              "      \n",
              "  <style>\n",
              "    .colab-df-container {\n",
              "      display:flex;\n",
              "      flex-wrap:wrap;\n",
              "      gap: 12px;\n",
              "    }\n",
              "\n",
              "    .colab-df-convert {\n",
              "      background-color: #E8F0FE;\n",
              "      border: none;\n",
              "      border-radius: 50%;\n",
              "      cursor: pointer;\n",
              "      display: none;\n",
              "      fill: #1967D2;\n",
              "      height: 32px;\n",
              "      padding: 0 0 0 0;\n",
              "      width: 32px;\n",
              "    }\n",
              "\n",
              "    .colab-df-convert:hover {\n",
              "      background-color: #E2EBFA;\n",
              "      box-shadow: 0px 1px 2px rgba(60, 64, 67, 0.3), 0px 1px 3px 1px rgba(60, 64, 67, 0.15);\n",
              "      fill: #174EA6;\n",
              "    }\n",
              "\n",
              "    [theme=dark] .colab-df-convert {\n",
              "      background-color: #3B4455;\n",
              "      fill: #D2E3FC;\n",
              "    }\n",
              "\n",
              "    [theme=dark] .colab-df-convert:hover {\n",
              "      background-color: #434B5C;\n",
              "      box-shadow: 0px 1px 3px 1px rgba(0, 0, 0, 0.15);\n",
              "      filter: drop-shadow(0px 1px 2px rgba(0, 0, 0, 0.3));\n",
              "      fill: #FFFFFF;\n",
              "    }\n",
              "  </style>\n",
              "\n",
              "      <script>\n",
              "        const buttonEl =\n",
              "          document.querySelector('#df-8ffe9f75-3ef1-43a3-b455-746b860aa5d2 button.colab-df-convert');\n",
              "        buttonEl.style.display =\n",
              "          google.colab.kernel.accessAllowed ? 'block' : 'none';\n",
              "\n",
              "        async function convertToInteractive(key) {\n",
              "          const element = document.querySelector('#df-8ffe9f75-3ef1-43a3-b455-746b860aa5d2');\n",
              "          const dataTable =\n",
              "            await google.colab.kernel.invokeFunction('convertToInteractive',\n",
              "                                                     [key], {});\n",
              "          if (!dataTable) return;\n",
              "\n",
              "          const docLinkHtml = 'Like what you see? Visit the ' +\n",
              "            '<a target=\"_blank\" href=https://colab.research.google.com/notebooks/data_table.ipynb>data table notebook</a>'\n",
              "            + ' to learn more about interactive tables.';\n",
              "          element.innerHTML = '';\n",
              "          dataTable['output_type'] = 'display_data';\n",
              "          await google.colab.output.renderOutput(dataTable, element);\n",
              "          const docLink = document.createElement('div');\n",
              "          docLink.innerHTML = docLinkHtml;\n",
              "          element.appendChild(docLink);\n",
              "        }\n",
              "      </script>\n",
              "    </div>\n",
              "  </div>\n",
              "  "
            ],
            "text/plain": [
              "                    Classifier         By  ... TrainAccuracy TestAccuracy\n",
              "2                    LinearSVC  full_text  ...      0.687725     0.585870\n",
              "0                MultinomialNB  full_text  ...      0.629797     0.573946\n",
              "1                 ComplementNB  full_text  ...      0.591883     0.563068\n",
              "6                SGDClassifier  full_text  ...      0.634987     0.561524\n",
              "3  PassiveAggressiveClassifier  full_text  ...      0.696077     0.557591\n",
              "5       RandomForestClassifier  full_text  ...      0.998786     0.512957\n",
              "4                XGBClassifier  full_text  ...      0.485923     0.457469\n",
              "\n",
              "[7 rows x 8 columns]"
            ]
          },
          "metadata": {},
          "execution_count": 6
        }
      ],
      "source": [
        "maxes_df = pd.DataFrame(columns=['Classifier', 'By', 'Preprocessed', \n",
        "                                 'Vectorizer', 'Ngram', 'TopKFeatures', \n",
        "                                 'TrainAccuracy', 'TestAccuracy'])\n",
        "for filename in os.listdir(os.getcwd()):\n",
        "    if '.csv' in filename and '5' not in filename:\n",
        "        try:\n",
        "          best = pd.read_csv(filename).sort_values(by='TestAccuracy', ascending=False).iloc[:1]\n",
        "          maxes_df = maxes_df.append(best, ignore_index=True)\n",
        "        except:\n",
        "          print(filename)\n",
        "\n",
        "maxes_df = maxes_df.iloc[:, :-1]\n",
        "maxes_df.sort_values(by='TestAccuracy', ascending=False)"
      ]
    },
    {
      "cell_type": "markdown",
      "metadata": {
        "id": "r6auABPKKOns"
      },
      "source": [
        "# Reading news dataset and cleaning it"
      ]
    },
    {
      "cell_type": "code",
      "execution_count": 7,
      "metadata": {
        "colab": {
          "base_uri": "https://localhost:8080/",
          "height": 221
        },
        "id": "vCtx2vzpJJ1Y",
        "outputId": "03458c0e-905d-4877-899e-984a46b69beb"
      },
      "outputs": [
        {
          "output_type": "execute_result",
          "data": {
            "text/html": [
              "\n",
              "  <div id=\"df-a57d90db-afd0-4f94-b967-588717af7973\">\n",
              "    <div class=\"colab-df-container\">\n",
              "      <div>\n",
              "<style scoped>\n",
              "    .dataframe tbody tr th:only-of-type {\n",
              "        vertical-align: middle;\n",
              "    }\n",
              "\n",
              "    .dataframe tbody tr th {\n",
              "        vertical-align: top;\n",
              "    }\n",
              "\n",
              "    .dataframe thead th {\n",
              "        text-align: right;\n",
              "    }\n",
              "</style>\n",
              "<table border=\"1\" class=\"dataframe\">\n",
              "  <thead>\n",
              "    <tr style=\"text-align: right;\">\n",
              "      <th></th>\n",
              "      <th>category</th>\n",
              "      <th>headline</th>\n",
              "      <th>authors</th>\n",
              "      <th>link</th>\n",
              "      <th>short_description</th>\n",
              "      <th>date</th>\n",
              "    </tr>\n",
              "  </thead>\n",
              "  <tbody>\n",
              "    <tr>\n",
              "      <th>0</th>\n",
              "      <td>CRIME</td>\n",
              "      <td>There Were 2 Mass Shootings In Texas Last Week...</td>\n",
              "      <td>Melissa Jeltsen</td>\n",
              "      <td>https://www.huffingtonpost.com/entry/texas-ama...</td>\n",
              "      <td>She left her husband. He killed their children...</td>\n",
              "      <td>2018-05-26</td>\n",
              "    </tr>\n",
              "    <tr>\n",
              "      <th>1</th>\n",
              "      <td>ENTERTAINMENT</td>\n",
              "      <td>Will Smith Joins Diplo And Nicky Jam For The 2...</td>\n",
              "      <td>Andy McDonald</td>\n",
              "      <td>https://www.huffingtonpost.com/entry/will-smit...</td>\n",
              "      <td>Of course it has a song.</td>\n",
              "      <td>2018-05-26</td>\n",
              "    </tr>\n",
              "    <tr>\n",
              "      <th>2</th>\n",
              "      <td>ENTERTAINMENT</td>\n",
              "      <td>Hugh Grant Marries For The First Time At Age 57</td>\n",
              "      <td>Ron Dicker</td>\n",
              "      <td>https://www.huffingtonpost.com/entry/hugh-gran...</td>\n",
              "      <td>The actor and his longtime girlfriend Anna Ebe...</td>\n",
              "      <td>2018-05-26</td>\n",
              "    </tr>\n",
              "  </tbody>\n",
              "</table>\n",
              "</div>\n",
              "      <button class=\"colab-df-convert\" onclick=\"convertToInteractive('df-a57d90db-afd0-4f94-b967-588717af7973')\"\n",
              "              title=\"Convert this dataframe to an interactive table.\"\n",
              "              style=\"display:none;\">\n",
              "        \n",
              "  <svg xmlns=\"http://www.w3.org/2000/svg\" height=\"24px\"viewBox=\"0 0 24 24\"\n",
              "       width=\"24px\">\n",
              "    <path d=\"M0 0h24v24H0V0z\" fill=\"none\"/>\n",
              "    <path d=\"M18.56 5.44l.94 2.06.94-2.06 2.06-.94-2.06-.94-.94-2.06-.94 2.06-2.06.94zm-11 1L8.5 8.5l.94-2.06 2.06-.94-2.06-.94L8.5 2.5l-.94 2.06-2.06.94zm10 10l.94 2.06.94-2.06 2.06-.94-2.06-.94-.94-2.06-.94 2.06-2.06.94z\"/><path d=\"M17.41 7.96l-1.37-1.37c-.4-.4-.92-.59-1.43-.59-.52 0-1.04.2-1.43.59L10.3 9.45l-7.72 7.72c-.78.78-.78 2.05 0 2.83L4 21.41c.39.39.9.59 1.41.59.51 0 1.02-.2 1.41-.59l7.78-7.78 2.81-2.81c.8-.78.8-2.07 0-2.86zM5.41 20L4 18.59l7.72-7.72 1.47 1.35L5.41 20z\"/>\n",
              "  </svg>\n",
              "      </button>\n",
              "      \n",
              "  <style>\n",
              "    .colab-df-container {\n",
              "      display:flex;\n",
              "      flex-wrap:wrap;\n",
              "      gap: 12px;\n",
              "    }\n",
              "\n",
              "    .colab-df-convert {\n",
              "      background-color: #E8F0FE;\n",
              "      border: none;\n",
              "      border-radius: 50%;\n",
              "      cursor: pointer;\n",
              "      display: none;\n",
              "      fill: #1967D2;\n",
              "      height: 32px;\n",
              "      padding: 0 0 0 0;\n",
              "      width: 32px;\n",
              "    }\n",
              "\n",
              "    .colab-df-convert:hover {\n",
              "      background-color: #E2EBFA;\n",
              "      box-shadow: 0px 1px 2px rgba(60, 64, 67, 0.3), 0px 1px 3px 1px rgba(60, 64, 67, 0.15);\n",
              "      fill: #174EA6;\n",
              "    }\n",
              "\n",
              "    [theme=dark] .colab-df-convert {\n",
              "      background-color: #3B4455;\n",
              "      fill: #D2E3FC;\n",
              "    }\n",
              "\n",
              "    [theme=dark] .colab-df-convert:hover {\n",
              "      background-color: #434B5C;\n",
              "      box-shadow: 0px 1px 3px 1px rgba(0, 0, 0, 0.15);\n",
              "      filter: drop-shadow(0px 1px 2px rgba(0, 0, 0, 0.3));\n",
              "      fill: #FFFFFF;\n",
              "    }\n",
              "  </style>\n",
              "\n",
              "      <script>\n",
              "        const buttonEl =\n",
              "          document.querySelector('#df-a57d90db-afd0-4f94-b967-588717af7973 button.colab-df-convert');\n",
              "        buttonEl.style.display =\n",
              "          google.colab.kernel.accessAllowed ? 'block' : 'none';\n",
              "\n",
              "        async function convertToInteractive(key) {\n",
              "          const element = document.querySelector('#df-a57d90db-afd0-4f94-b967-588717af7973');\n",
              "          const dataTable =\n",
              "            await google.colab.kernel.invokeFunction('convertToInteractive',\n",
              "                                                     [key], {});\n",
              "          if (!dataTable) return;\n",
              "\n",
              "          const docLinkHtml = 'Like what you see? Visit the ' +\n",
              "            '<a target=\"_blank\" href=https://colab.research.google.com/notebooks/data_table.ipynb>data table notebook</a>'\n",
              "            + ' to learn more about interactive tables.';\n",
              "          element.innerHTML = '';\n",
              "          dataTable['output_type'] = 'display_data';\n",
              "          await google.colab.output.renderOutput(dataTable, element);\n",
              "          const docLink = document.createElement('div');\n",
              "          docLink.innerHTML = docLinkHtml;\n",
              "          element.appendChild(docLink);\n",
              "        }\n",
              "      </script>\n",
              "    </div>\n",
              "  </div>\n",
              "  "
            ],
            "text/plain": [
              "        category  ...       date\n",
              "0          CRIME  ... 2018-05-26\n",
              "1  ENTERTAINMENT  ... 2018-05-26\n",
              "2  ENTERTAINMENT  ... 2018-05-26\n",
              "\n",
              "[3 rows x 6 columns]"
            ]
          },
          "metadata": {},
          "execution_count": 7
        }
      ],
      "source": [
        "filename = \"data/final_news_category_dataset.json\"\n",
        "df = pd.read_json(filename, orient='split')\n",
        "df.head(3)"
      ]
    },
    {
      "cell_type": "code",
      "execution_count": 8,
      "metadata": {
        "colab": {
          "base_uri": "https://localhost:8080/"
        },
        "id": "HaTo_EY-KVq_",
        "outputId": "07ba203c-2603-4f82-a24d-24b5ccbf4f5f"
      },
      "outputs": [
        {
          "output_type": "stream",
          "name": "stdout",
          "text": [
            "[nltk_data] Downloading package stopwords to /root/nltk_data...\n",
            "[nltk_data]   Unzipping corpora/stopwords.zip.\n"
          ]
        }
      ],
      "source": [
        "import nltk\n",
        "nltk.download('stopwords')\n",
        "from nltk.corpus import stopwords\n",
        "stop_words = set(stopwords.words('english'))"
      ]
    },
    {
      "cell_type": "code",
      "execution_count": 9,
      "metadata": {
        "id": "1ABYKv8wKb-N"
      },
      "outputs": [],
      "source": [
        "import re\n",
        "import string\n",
        "\n",
        "\n",
        "def cleaning_function(sentence):\n",
        "    \"\"\"\n",
        "    Function needed to perform data preprocessing: removing punctuation symbols,\n",
        "    stop_words and other random things in order to obtain clean text\n",
        "    \"\"\"\n",
        "    # the following line removes numbers from text\n",
        "    result = re.sub(r'\\d+', '', sentence.lower())\n",
        "\n",
        "    # the following line removes any punctuation from the text\n",
        "    result = result.translate(str.maketrans('','',string.punctuation))\n",
        "    return [word for word in result.split() if not word in stop_words]"
      ]
    },
    {
      "cell_type": "code",
      "execution_count": 10,
      "metadata": {
        "id": "tnfOmZD6Kh9x"
      },
      "outputs": [],
      "source": [
        "df['processed_description'] = df['short_description'].apply(lambda x: ' '.join(cleaning_function(x)))\n",
        "df['processed_headline'] = df['headline'].apply(lambda x: ' '.join(cleaning_function(x)))\n",
        "df['full_text'] = df['headline'] + df['short_description']\n",
        "df['processed_full_text'] = df['processed_headline'] + df['processed_description']"
      ]
    },
    {
      "cell_type": "code",
      "execution_count": 11,
      "metadata": {
        "id": "p_mQaWKHKuGp"
      },
      "outputs": [],
      "source": [
        "X_train, X_test, y_train, y_test = train_test_split(df.loc[:, df.columns != 'category'], df['category'], \n",
        "                                                    test_size=0.2, stratify=df.category,\n",
        "                                                    random_state=1)"
      ]
    },
    {
      "cell_type": "markdown",
      "metadata": {
        "id": "kkEki3FZLWyH"
      },
      "source": [
        "# Testing models"
      ]
    },
    {
      "cell_type": "markdown",
      "metadata": {
        "id": "jib51qekqTYU"
      },
      "source": [
        "## Helper functions "
      ]
    },
    {
      "cell_type": "code",
      "execution_count": 12,
      "metadata": {
        "id": "-hNQxY6fHV4k"
      },
      "outputs": [],
      "source": [
        "tuned_df_all = pd.DataFrame(columns=['Classifier', 'By', 'Preprocessed', \n",
        "                                 'Vectorizer', 'Ngram', 'TopKFeatures',\n",
        "                                 'Best_parameters', 'TestAccuracy'])"
      ]
    },
    {
      "cell_type": "code",
      "execution_count": 13,
      "metadata": {
        "id": "rJk_eiKSs40Q"
      },
      "outputs": [],
      "source": [
        "tuned_df_all_with_all = pd.DataFrame(columns=['Classifier', 'By', 'Preprocessed', \n",
        "                                 'Vectorizer', 'Ngram', 'TopKFeatures',\n",
        "                                 'Best_parameters', 'TestAccuracy'])"
      ]
    },
    {
      "cell_type": "code",
      "execution_count": 14,
      "metadata": {
        "id": "uuGcCTbVK1cL"
      },
      "outputs": [],
      "source": [
        "def row_map_clf(clf_name, top5=True):\n",
        "    res_df = tuned_5 if top5 else maxes_df\n",
        "    return res_df[tuned_5.Classifier == clf_name]\n",
        "\n",
        "\n",
        "def test_model(clf_name, params, top5=True, print_results=True):\n",
        "    global tuned_df_all\n",
        "    global tuned_df_all_with_all\n",
        "\n",
        "    to_change = row_map_clf(clf_name, top5)\n",
        "    row = to_change.iloc[0]\n",
        "    by, prepr, vect, ngram, topk = row[1:-2]\n",
        "    what_to_take = (\"processed_\" if prepr else \"\") + by\n",
        "\n",
        "    X_train_this, X_test_this, y_train_this, y_test_this = (X_train[what_to_take], \n",
        "                                                            X_test[what_to_take], \n",
        "                                                            y_train, \n",
        "                                                            y_test)\n",
        "\n",
        "    vect = eval(f\"{vect}()\")\n",
        "    vect = vect.__class__(ngram_range=eval(ngram))\n",
        "    x_train_ = vect.fit_transform(X_train_this)\n",
        "\n",
        "    # Vectorize validation texts.\n",
        "    # current_params = dict(zip(params_names, item))\n",
        "    clf = eval(f\"{clf_name}()\")\n",
        "    clf.set_params(**best_params)\n",
        "    \n",
        "    x_val = vect.transform(X_test_this)\n",
        "    # Select top 'k' of the vectorized features.\n",
        "    selector = SelectKBest(f_classif, k=min(topk, x_train_.shape[1]))\n",
        "    selector.fit(x_train_, y_train_this)\n",
        "    x_train = selector.transform(x_train_).astype('float32')\n",
        "    x_val = selector.transform(x_val).astype('float32')   \n",
        "\n",
        "    clf.fit(x_train, y_train_this)\n",
        "    y_pred_test = clf.predict(x_val)\n",
        "    test_acc = accuracy_score(y_test_this, y_pred_test)\n",
        "    if print_results:\n",
        "        print(\"Test accuracy on the tuned model on ALL categories: \", test_acc)\n",
        "    to_change[\"TestAccuracy\"] = test_acc\n",
        "    to_change[\"Best_parameters\"] = str(params)\n",
        "    to_change = to_change[[i for i in to_change.columns if i != 'TrainAccuracy']]\n",
        "    if top5:\n",
        "        tuned_df_all = tuned_df_all.append(to_change)\n",
        "    else:\n",
        "        tuned_df_all_with_all = tuned_df_all_with_all.append(to_change)\n",
        "    "
      ]
    },
    {
      "cell_type": "markdown",
      "metadata": {
        "id": "8u1ybADiqYqR"
      },
      "source": [
        "## Testing models at best parameters, selected by classification on top 5 most frequent categories, and with the best combinations received in the same way"
      ]
    },
    {
      "cell_type": "markdown",
      "metadata": {
        "id": "gbuv2UCCOGYU"
      },
      "source": [
        "### Multinomial NB"
      ]
    },
    {
      "cell_type": "code",
      "execution_count": 15,
      "metadata": {
        "colab": {
          "base_uri": "https://localhost:8080/"
        },
        "id": "eRe9J4o4OF4r",
        "outputId": "bf5ed582-a572-47cd-862c-c03bd8ff813d"
      },
      "outputs": [
        {
          "output_type": "stream",
          "name": "stdout",
          "text": [
            "Test accuracy on the tuned model on ALL categories:  0.5626695875133803\n"
          ]
        },
        {
          "output_type": "stream",
          "name": "stderr",
          "text": [
            "/usr/local/lib/python3.7/dist-packages/ipykernel_launcher.py:41: SettingWithCopyWarning: \n",
            "A value is trying to be set on a copy of a slice from a DataFrame.\n",
            "Try using .loc[row_indexer,col_indexer] = value instead\n",
            "\n",
            "See the caveats in the documentation: https://pandas.pydata.org/pandas-docs/stable/user_guide/indexing.html#returning-a-view-versus-a-copy\n",
            "/usr/local/lib/python3.7/dist-packages/ipykernel_launcher.py:42: SettingWithCopyWarning: \n",
            "A value is trying to be set on a copy of a slice from a DataFrame.\n",
            "Try using .loc[row_indexer,col_indexer] = value instead\n",
            "\n",
            "See the caveats in the documentation: https://pandas.pydata.org/pandas-docs/stable/user_guide/indexing.html#returning-a-view-versus-a-copy\n"
          ]
        }
      ],
      "source": [
        "best_params = {'alpha': 1.0, 'fit_prior': True}\n",
        "test_model(\"MultinomialNB\", best_params)"
      ]
    },
    {
      "cell_type": "markdown",
      "metadata": {
        "id": "8XJvI5n3W9_v"
      },
      "source": [
        "### LinearSVC"
      ]
    },
    {
      "cell_type": "code",
      "execution_count": 16,
      "metadata": {
        "id": "4zU6xA0GSr1l",
        "colab": {
          "base_uri": "https://localhost:8080/"
        },
        "outputId": "2a82380c-b9ac-4775-b7ff-4a50d7e3fbf8"
      },
      "outputs": [
        {
          "output_type": "stream",
          "name": "stdout",
          "text": [
            "Test accuracy on the tuned model on ALL categories:  0.6023499539468771\n"
          ]
        },
        {
          "output_type": "stream",
          "name": "stderr",
          "text": [
            "/usr/local/lib/python3.7/dist-packages/ipykernel_launcher.py:41: SettingWithCopyWarning: \n",
            "A value is trying to be set on a copy of a slice from a DataFrame.\n",
            "Try using .loc[row_indexer,col_indexer] = value instead\n",
            "\n",
            "See the caveats in the documentation: https://pandas.pydata.org/pandas-docs/stable/user_guide/indexing.html#returning-a-view-versus-a-copy\n",
            "/usr/local/lib/python3.7/dist-packages/ipykernel_launcher.py:42: SettingWithCopyWarning: \n",
            "A value is trying to be set on a copy of a slice from a DataFrame.\n",
            "Try using .loc[row_indexer,col_indexer] = value instead\n",
            "\n",
            "See the caveats in the documentation: https://pandas.pydata.org/pandas-docs/stable/user_guide/indexing.html#returning-a-view-versus-a-copy\n"
          ]
        }
      ],
      "source": [
        "best_params = {'dual': True, 'max_iter': 4000, 'C': 1}\n",
        "test_model(\"LinearSVC\", best_params)"
      ]
    },
    {
      "cell_type": "markdown",
      "metadata": {
        "id": "BftMjfk-XJnk"
      },
      "source": [
        "### ComplementNB"
      ]
    },
    {
      "cell_type": "code",
      "execution_count": 17,
      "metadata": {
        "colab": {
          "base_uri": "https://localhost:8080/"
        },
        "id": "jz6nXjX2XVTF",
        "outputId": "dc4dfb4f-a179-4fbf-a553-f551c0b56c8a"
      },
      "outputs": [
        {
          "output_type": "stream",
          "name": "stdout",
          "text": [
            "Test accuracy on the tuned model on ALL categories:  0.553782579472754\n"
          ]
        },
        {
          "output_type": "stream",
          "name": "stderr",
          "text": [
            "/usr/local/lib/python3.7/dist-packages/ipykernel_launcher.py:41: SettingWithCopyWarning: \n",
            "A value is trying to be set on a copy of a slice from a DataFrame.\n",
            "Try using .loc[row_indexer,col_indexer] = value instead\n",
            "\n",
            "See the caveats in the documentation: https://pandas.pydata.org/pandas-docs/stable/user_guide/indexing.html#returning-a-view-versus-a-copy\n",
            "/usr/local/lib/python3.7/dist-packages/ipykernel_launcher.py:42: SettingWithCopyWarning: \n",
            "A value is trying to be set on a copy of a slice from a DataFrame.\n",
            "Try using .loc[row_indexer,col_indexer] = value instead\n",
            "\n",
            "See the caveats in the documentation: https://pandas.pydata.org/pandas-docs/stable/user_guide/indexing.html#returning-a-view-versus-a-copy\n"
          ]
        }
      ],
      "source": [
        "best_params = {'alpha': 1.0, 'fit_prior': True, 'norm': False}\n",
        "test_model(\"ComplementNB\", best_params)"
      ]
    },
    {
      "cell_type": "markdown",
      "metadata": {
        "id": "yPe8I2znXcLX"
      },
      "source": [
        "### XGBClassifier"
      ]
    },
    {
      "cell_type": "code",
      "execution_count": 18,
      "metadata": {
        "colab": {
          "base_uri": "https://localhost:8080/"
        },
        "id": "IT161jY5XfZw",
        "outputId": "1b6c39b0-f617-4ea7-b46a-7f69a3a24c8e"
      },
      "outputs": [
        {
          "output_type": "stream",
          "name": "stdout",
          "text": [
            "Test accuracy on the tuned model on ALL categories:  0.5397923875432526\n"
          ]
        },
        {
          "output_type": "stream",
          "name": "stderr",
          "text": [
            "/usr/local/lib/python3.7/dist-packages/ipykernel_launcher.py:41: SettingWithCopyWarning: \n",
            "A value is trying to be set on a copy of a slice from a DataFrame.\n",
            "Try using .loc[row_indexer,col_indexer] = value instead\n",
            "\n",
            "See the caveats in the documentation: https://pandas.pydata.org/pandas-docs/stable/user_guide/indexing.html#returning-a-view-versus-a-copy\n",
            "/usr/local/lib/python3.7/dist-packages/ipykernel_launcher.py:42: SettingWithCopyWarning: \n",
            "A value is trying to be set on a copy of a slice from a DataFrame.\n",
            "Try using .loc[row_indexer,col_indexer] = value instead\n",
            "\n",
            "See the caveats in the documentation: https://pandas.pydata.org/pandas-docs/stable/user_guide/indexing.html#returning-a-view-versus-a-copy\n"
          ]
        }
      ],
      "source": [
        "best_params = {'learning_rate': 0.15, 'max_depth': 4, 'n_estimators': 150, 'n_jobs': -1}\n",
        "test_model(\"XGBClassifier\", best_params)"
      ]
    },
    {
      "cell_type": "markdown",
      "metadata": {
        "id": "QKzrZTTsXo9y"
      },
      "source": [
        "### RandomForestClassifier"
      ]
    },
    {
      "cell_type": "code",
      "execution_count": 19,
      "metadata": {
        "colab": {
          "base_uri": "https://localhost:8080/"
        },
        "id": "UuLcYOTBXrfE",
        "outputId": "e0c5f561-cfe9-41a2-9cac-ee4cd8758dbe"
      },
      "outputs": [
        {
          "output_type": "stream",
          "name": "stdout",
          "text": [
            "Test accuracy on the tuned model on ALL categories:  0.4828607702073635\n"
          ]
        },
        {
          "output_type": "stream",
          "name": "stderr",
          "text": [
            "/usr/local/lib/python3.7/dist-packages/ipykernel_launcher.py:41: SettingWithCopyWarning: \n",
            "A value is trying to be set on a copy of a slice from a DataFrame.\n",
            "Try using .loc[row_indexer,col_indexer] = value instead\n",
            "\n",
            "See the caveats in the documentation: https://pandas.pydata.org/pandas-docs/stable/user_guide/indexing.html#returning-a-view-versus-a-copy\n",
            "/usr/local/lib/python3.7/dist-packages/ipykernel_launcher.py:42: SettingWithCopyWarning: \n",
            "A value is trying to be set on a copy of a slice from a DataFrame.\n",
            "Try using .loc[row_indexer,col_indexer] = value instead\n",
            "\n",
            "See the caveats in the documentation: https://pandas.pydata.org/pandas-docs/stable/user_guide/indexing.html#returning-a-view-versus-a-copy\n"
          ]
        }
      ],
      "source": [
        "best_params = {'n_jobs': -1, 'max_depth': None}\n",
        "test_model(\"RandomForestClassifier\", best_params)"
      ]
    },
    {
      "cell_type": "markdown",
      "metadata": {
        "id": "0f9pnmMNX01s"
      },
      "source": [
        "### PassiveAggressiveClassifier"
      ]
    },
    {
      "cell_type": "code",
      "execution_count": 20,
      "metadata": {
        "colab": {
          "base_uri": "https://localhost:8080/"
        },
        "id": "3E3Ns7H8X3Q3",
        "outputId": "c10e201c-2f72-4f4f-eca0-4fffca524b1f"
      },
      "outputs": [
        {
          "output_type": "stream",
          "name": "stdout",
          "text": [
            "Test accuracy on the tuned model on ALL categories:  0.5795972218764781\n"
          ]
        },
        {
          "output_type": "stream",
          "name": "stderr",
          "text": [
            "/usr/local/lib/python3.7/dist-packages/ipykernel_launcher.py:41: SettingWithCopyWarning: \n",
            "A value is trying to be set on a copy of a slice from a DataFrame.\n",
            "Try using .loc[row_indexer,col_indexer] = value instead\n",
            "\n",
            "See the caveats in the documentation: https://pandas.pydata.org/pandas-docs/stable/user_guide/indexing.html#returning-a-view-versus-a-copy\n",
            "/usr/local/lib/python3.7/dist-packages/ipykernel_launcher.py:42: SettingWithCopyWarning: \n",
            "A value is trying to be set on a copy of a slice from a DataFrame.\n",
            "Try using .loc[row_indexer,col_indexer] = value instead\n",
            "\n",
            "See the caveats in the documentation: https://pandas.pydata.org/pandas-docs/stable/user_guide/indexing.html#returning-a-view-versus-a-copy\n"
          ]
        }
      ],
      "source": [
        "best_params = {'max_iter': 2500, 'C': 0.5, 'n_jobs': -1}\n",
        "test_model(\"PassiveAggressiveClassifier\", best_params)"
      ]
    },
    {
      "cell_type": "markdown",
      "metadata": {
        "id": "lToMbZhdX-ye"
      },
      "source": [
        "### SGDClassifier"
      ]
    },
    {
      "cell_type": "code",
      "execution_count": 21,
      "metadata": {
        "colab": {
          "base_uri": "https://localhost:8080/"
        },
        "id": "d8y7mLsRYGJq",
        "outputId": "57e4269a-c309-437d-fb1d-bcc6857bc931"
      },
      "outputs": [
        {
          "output_type": "stream",
          "name": "stdout",
          "text": [
            "Test accuracy on the tuned model on ALL categories:  0.5887082721366159\n"
          ]
        },
        {
          "output_type": "stream",
          "name": "stderr",
          "text": [
            "/usr/local/lib/python3.7/dist-packages/ipykernel_launcher.py:41: SettingWithCopyWarning: \n",
            "A value is trying to be set on a copy of a slice from a DataFrame.\n",
            "Try using .loc[row_indexer,col_indexer] = value instead\n",
            "\n",
            "See the caveats in the documentation: https://pandas.pydata.org/pandas-docs/stable/user_guide/indexing.html#returning-a-view-versus-a-copy\n",
            "/usr/local/lib/python3.7/dist-packages/ipykernel_launcher.py:42: SettingWithCopyWarning: \n",
            "A value is trying to be set on a copy of a slice from a DataFrame.\n",
            "Try using .loc[row_indexer,col_indexer] = value instead\n",
            "\n",
            "See the caveats in the documentation: https://pandas.pydata.org/pandas-docs/stable/user_guide/indexing.html#returning-a-view-versus-a-copy\n"
          ]
        }
      ],
      "source": [
        "best_params = {'max_iter': 2500, 'n_jobs': -1, 'learning_rate': 'adaptive', 'eta0': 0.1}\n",
        "test_model(\"SGDClassifier\", best_params)"
      ]
    },
    {
      "cell_type": "markdown",
      "metadata": {
        "id": "jrvDXprrfXLl"
      },
      "source": [
        "## Checking final tuned_df_all and saving it to .csv file"
      ]
    },
    {
      "cell_type": "code",
      "execution_count": 22,
      "metadata": {
        "colab": {
          "base_uri": "https://localhost:8080/",
          "height": 261
        },
        "id": "cWbmPZ9zfbQW",
        "outputId": "69c0509d-1497-42c1-87d5-d9ba2fac0fd6"
      },
      "outputs": [
        {
          "output_type": "execute_result",
          "data": {
            "text/html": [
              "\n",
              "  <div id=\"df-c0923d16-54fc-4025-a64e-34d9f53a2ad4\">\n",
              "    <div class=\"colab-df-container\">\n",
              "      <div>\n",
              "<style scoped>\n",
              "    .dataframe tbody tr th:only-of-type {\n",
              "        vertical-align: middle;\n",
              "    }\n",
              "\n",
              "    .dataframe tbody tr th {\n",
              "        vertical-align: top;\n",
              "    }\n",
              "\n",
              "    .dataframe thead th {\n",
              "        text-align: right;\n",
              "    }\n",
              "</style>\n",
              "<table border=\"1\" class=\"dataframe\">\n",
              "  <thead>\n",
              "    <tr style=\"text-align: right;\">\n",
              "      <th></th>\n",
              "      <th>Classifier</th>\n",
              "      <th>By</th>\n",
              "      <th>Preprocessed</th>\n",
              "      <th>Vectorizer</th>\n",
              "      <th>Ngram</th>\n",
              "      <th>TopKFeatures</th>\n",
              "      <th>Best_parameters</th>\n",
              "      <th>TestAccuracy</th>\n",
              "    </tr>\n",
              "  </thead>\n",
              "  <tbody>\n",
              "    <tr>\n",
              "      <th>1</th>\n",
              "      <td>MultinomialNB</td>\n",
              "      <td>full_text</td>\n",
              "      <td>0</td>\n",
              "      <td>CountVectorizer</td>\n",
              "      <td>(1, 1)</td>\n",
              "      <td>7500</td>\n",
              "      <td>{'alpha': 1.0, 'fit_prior': True}</td>\n",
              "      <td>0.562670</td>\n",
              "    </tr>\n",
              "    <tr>\n",
              "      <th>0</th>\n",
              "      <td>LinearSVC</td>\n",
              "      <td>full_text</td>\n",
              "      <td>0</td>\n",
              "      <td>TfidfVectorizer</td>\n",
              "      <td>(1, 1)</td>\n",
              "      <td>7500</td>\n",
              "      <td>{'dual': True, 'max_iter': 4000, 'C': 1}</td>\n",
              "      <td>0.602350</td>\n",
              "    </tr>\n",
              "    <tr>\n",
              "      <th>2</th>\n",
              "      <td>ComplementNB</td>\n",
              "      <td>full_text</td>\n",
              "      <td>0</td>\n",
              "      <td>TfidfVectorizer</td>\n",
              "      <td>(1, 1)</td>\n",
              "      <td>7500</td>\n",
              "      <td>{'alpha': 1.0, 'fit_prior': True, 'norm': False}</td>\n",
              "      <td>0.553783</td>\n",
              "    </tr>\n",
              "    <tr>\n",
              "      <th>3</th>\n",
              "      <td>XGBClassifier</td>\n",
              "      <td>full_text</td>\n",
              "      <td>0</td>\n",
              "      <td>CountVectorizer</td>\n",
              "      <td>(1, 2)</td>\n",
              "      <td>4500</td>\n",
              "      <td>{'learning_rate': 0.15, 'max_depth': 4, 'n_est...</td>\n",
              "      <td>0.539792</td>\n",
              "    </tr>\n",
              "    <tr>\n",
              "      <th>6</th>\n",
              "      <td>RandomForestClassifier</td>\n",
              "      <td>headline</td>\n",
              "      <td>1</td>\n",
              "      <td>TfidfVectorizer</td>\n",
              "      <td>(1, 1)</td>\n",
              "      <td>7500</td>\n",
              "      <td>{'n_jobs': -1, 'max_depth': None}</td>\n",
              "      <td>0.482861</td>\n",
              "    </tr>\n",
              "    <tr>\n",
              "      <th>4</th>\n",
              "      <td>PassiveAggressiveClassifier</td>\n",
              "      <td>full_text</td>\n",
              "      <td>0</td>\n",
              "      <td>TfidfVectorizer</td>\n",
              "      <td>(1, 2)</td>\n",
              "      <td>7500</td>\n",
              "      <td>{'max_iter': 2500, 'C': 0.5, 'n_jobs': -1}</td>\n",
              "      <td>0.579597</td>\n",
              "    </tr>\n",
              "    <tr>\n",
              "      <th>5</th>\n",
              "      <td>SGDClassifier</td>\n",
              "      <td>full_text</td>\n",
              "      <td>0</td>\n",
              "      <td>CountVectorizer</td>\n",
              "      <td>(1, 1)</td>\n",
              "      <td>7500</td>\n",
              "      <td>{'max_iter': 2500, 'n_jobs': -1, 'learning_rat...</td>\n",
              "      <td>0.588708</td>\n",
              "    </tr>\n",
              "  </tbody>\n",
              "</table>\n",
              "</div>\n",
              "      <button class=\"colab-df-convert\" onclick=\"convertToInteractive('df-c0923d16-54fc-4025-a64e-34d9f53a2ad4')\"\n",
              "              title=\"Convert this dataframe to an interactive table.\"\n",
              "              style=\"display:none;\">\n",
              "        \n",
              "  <svg xmlns=\"http://www.w3.org/2000/svg\" height=\"24px\"viewBox=\"0 0 24 24\"\n",
              "       width=\"24px\">\n",
              "    <path d=\"M0 0h24v24H0V0z\" fill=\"none\"/>\n",
              "    <path d=\"M18.56 5.44l.94 2.06.94-2.06 2.06-.94-2.06-.94-.94-2.06-.94 2.06-2.06.94zm-11 1L8.5 8.5l.94-2.06 2.06-.94-2.06-.94L8.5 2.5l-.94 2.06-2.06.94zm10 10l.94 2.06.94-2.06 2.06-.94-2.06-.94-.94-2.06-.94 2.06-2.06.94z\"/><path d=\"M17.41 7.96l-1.37-1.37c-.4-.4-.92-.59-1.43-.59-.52 0-1.04.2-1.43.59L10.3 9.45l-7.72 7.72c-.78.78-.78 2.05 0 2.83L4 21.41c.39.39.9.59 1.41.59.51 0 1.02-.2 1.41-.59l7.78-7.78 2.81-2.81c.8-.78.8-2.07 0-2.86zM5.41 20L4 18.59l7.72-7.72 1.47 1.35L5.41 20z\"/>\n",
              "  </svg>\n",
              "      </button>\n",
              "      \n",
              "  <style>\n",
              "    .colab-df-container {\n",
              "      display:flex;\n",
              "      flex-wrap:wrap;\n",
              "      gap: 12px;\n",
              "    }\n",
              "\n",
              "    .colab-df-convert {\n",
              "      background-color: #E8F0FE;\n",
              "      border: none;\n",
              "      border-radius: 50%;\n",
              "      cursor: pointer;\n",
              "      display: none;\n",
              "      fill: #1967D2;\n",
              "      height: 32px;\n",
              "      padding: 0 0 0 0;\n",
              "      width: 32px;\n",
              "    }\n",
              "\n",
              "    .colab-df-convert:hover {\n",
              "      background-color: #E2EBFA;\n",
              "      box-shadow: 0px 1px 2px rgba(60, 64, 67, 0.3), 0px 1px 3px 1px rgba(60, 64, 67, 0.15);\n",
              "      fill: #174EA6;\n",
              "    }\n",
              "\n",
              "    [theme=dark] .colab-df-convert {\n",
              "      background-color: #3B4455;\n",
              "      fill: #D2E3FC;\n",
              "    }\n",
              "\n",
              "    [theme=dark] .colab-df-convert:hover {\n",
              "      background-color: #434B5C;\n",
              "      box-shadow: 0px 1px 3px 1px rgba(0, 0, 0, 0.15);\n",
              "      filter: drop-shadow(0px 1px 2px rgba(0, 0, 0, 0.3));\n",
              "      fill: #FFFFFF;\n",
              "    }\n",
              "  </style>\n",
              "\n",
              "      <script>\n",
              "        const buttonEl =\n",
              "          document.querySelector('#df-c0923d16-54fc-4025-a64e-34d9f53a2ad4 button.colab-df-convert');\n",
              "        buttonEl.style.display =\n",
              "          google.colab.kernel.accessAllowed ? 'block' : 'none';\n",
              "\n",
              "        async function convertToInteractive(key) {\n",
              "          const element = document.querySelector('#df-c0923d16-54fc-4025-a64e-34d9f53a2ad4');\n",
              "          const dataTable =\n",
              "            await google.colab.kernel.invokeFunction('convertToInteractive',\n",
              "                                                     [key], {});\n",
              "          if (!dataTable) return;\n",
              "\n",
              "          const docLinkHtml = 'Like what you see? Visit the ' +\n",
              "            '<a target=\"_blank\" href=https://colab.research.google.com/notebooks/data_table.ipynb>data table notebook</a>'\n",
              "            + ' to learn more about interactive tables.';\n",
              "          element.innerHTML = '';\n",
              "          dataTable['output_type'] = 'display_data';\n",
              "          await google.colab.output.renderOutput(dataTable, element);\n",
              "          const docLink = document.createElement('div');\n",
              "          docLink.innerHTML = docLinkHtml;\n",
              "          element.appendChild(docLink);\n",
              "        }\n",
              "      </script>\n",
              "    </div>\n",
              "  </div>\n",
              "  "
            ],
            "text/plain": [
              "                    Classifier  ... TestAccuracy\n",
              "1                MultinomialNB  ...     0.562670\n",
              "0                    LinearSVC  ...     0.602350\n",
              "2                 ComplementNB  ...     0.553783\n",
              "3                XGBClassifier  ...     0.539792\n",
              "6       RandomForestClassifier  ...     0.482861\n",
              "4  PassiveAggressiveClassifier  ...     0.579597\n",
              "5                SGDClassifier  ...     0.588708\n",
              "\n",
              "[7 rows x 8 columns]"
            ]
          },
          "metadata": {},
          "execution_count": 22
        }
      ],
      "source": [
        "tuned_df_all"
      ]
    },
    {
      "cell_type": "code",
      "execution_count": 23,
      "metadata": {
        "id": "-c4thrczfca7"
      },
      "outputs": [],
      "source": [
        "tuned_df_all.to_csv(\"results_after_tuning/TunedResultsforAllWithTop5Combos.csv\")"
      ]
    },
    {
      "cell_type": "markdown",
      "metadata": {
        "id": "r7O_NiCjtuC8"
      },
      "source": [
        "## Testing models at best parameters, but with the best combinations after classifications on all categories"
      ]
    },
    {
      "cell_type": "markdown",
      "metadata": {
        "id": "cpWKE7qCt4Uc"
      },
      "source": [
        "### MultinomialNB"
      ]
    },
    {
      "cell_type": "code",
      "execution_count": 24,
      "metadata": {
        "colab": {
          "base_uri": "https://localhost:8080/"
        },
        "id": "FQhdMDZyt3sh",
        "outputId": "c879b6da-2307-4232-966d-8af6679ac774"
      },
      "outputs": [
        {
          "output_type": "stream",
          "name": "stdout",
          "text": [
            "Test accuracy on the tuned model on ALL categories:  0.3876179333349929\n"
          ]
        },
        {
          "output_type": "stream",
          "name": "stderr",
          "text": [
            "/usr/local/lib/python3.7/dist-packages/ipykernel_launcher.py:41: SettingWithCopyWarning: \n",
            "A value is trying to be set on a copy of a slice from a DataFrame.\n",
            "Try using .loc[row_indexer,col_indexer] = value instead\n",
            "\n",
            "See the caveats in the documentation: https://pandas.pydata.org/pandas-docs/stable/user_guide/indexing.html#returning-a-view-versus-a-copy\n",
            "/usr/local/lib/python3.7/dist-packages/ipykernel_launcher.py:42: SettingWithCopyWarning: \n",
            "A value is trying to be set on a copy of a slice from a DataFrame.\n",
            "Try using .loc[row_indexer,col_indexer] = value instead\n",
            "\n",
            "See the caveats in the documentation: https://pandas.pydata.org/pandas-docs/stable/user_guide/indexing.html#returning-a-view-versus-a-copy\n"
          ]
        }
      ],
      "source": [
        "best_params = {'alpha': 1.0, 'fit_prior': True}\n",
        "test_model(\"MultinomialNB\", best_params, top5=False)"
      ]
    },
    {
      "cell_type": "markdown",
      "metadata": {
        "id": "9JDGkhtpuBFV"
      },
      "source": [
        "### LinearSVC"
      ]
    },
    {
      "cell_type": "code",
      "execution_count": 25,
      "metadata": {
        "colab": {
          "base_uri": "https://localhost:8080/"
        },
        "id": "P0kYe4PfuEXz",
        "outputId": "ab36c896-7bd1-4a9f-e2dd-1fe1c2a7d0e8"
      },
      "outputs": [
        {
          "output_type": "stream",
          "name": "stderr",
          "text": [
            "/usr/local/lib/python3.7/dist-packages/sklearn/svm/_base.py:1208: ConvergenceWarning: Liblinear failed to converge, increase the number of iterations.\n",
            "  ConvergenceWarning,\n",
            "/usr/local/lib/python3.7/dist-packages/ipykernel_launcher.py:41: SettingWithCopyWarning: \n",
            "A value is trying to be set on a copy of a slice from a DataFrame.\n",
            "Try using .loc[row_indexer,col_indexer] = value instead\n",
            "\n",
            "See the caveats in the documentation: https://pandas.pydata.org/pandas-docs/stable/user_guide/indexing.html#returning-a-view-versus-a-copy\n",
            "/usr/local/lib/python3.7/dist-packages/ipykernel_launcher.py:42: SettingWithCopyWarning: \n",
            "A value is trying to be set on a copy of a slice from a DataFrame.\n",
            "Try using .loc[row_indexer,col_indexer] = value instead\n",
            "\n",
            "See the caveats in the documentation: https://pandas.pydata.org/pandas-docs/stable/user_guide/indexing.html#returning-a-view-versus-a-copy\n"
          ]
        },
        {
          "output_type": "stream",
          "name": "stdout",
          "text": [
            "Test accuracy on the tuned model on ALL categories:  0.581364666052625\n"
          ]
        }
      ],
      "source": [
        "best_params = {'dual': True, 'max_iter': 4000, 'C': 1}\n",
        "test_model(\"LinearSVC\", best_params, top5=False)"
      ]
    },
    {
      "cell_type": "markdown",
      "metadata": {
        "id": "C9cMk8IEuEkC"
      },
      "source": [
        "### ComplementNB"
      ]
    },
    {
      "cell_type": "code",
      "execution_count": 26,
      "metadata": {
        "colab": {
          "base_uri": "https://localhost:8080/"
        },
        "id": "4Jh1NilGuGL2",
        "outputId": "31e8e693-d518-4b03-c87f-710fbccadefd"
      },
      "outputs": [
        {
          "output_type": "stream",
          "name": "stdout",
          "text": [
            "Test accuracy on the tuned model on ALL categories:  0.551367902218018\n"
          ]
        },
        {
          "output_type": "stream",
          "name": "stderr",
          "text": [
            "/usr/local/lib/python3.7/dist-packages/ipykernel_launcher.py:41: SettingWithCopyWarning: \n",
            "A value is trying to be set on a copy of a slice from a DataFrame.\n",
            "Try using .loc[row_indexer,col_indexer] = value instead\n",
            "\n",
            "See the caveats in the documentation: https://pandas.pydata.org/pandas-docs/stable/user_guide/indexing.html#returning-a-view-versus-a-copy\n",
            "/usr/local/lib/python3.7/dist-packages/ipykernel_launcher.py:42: SettingWithCopyWarning: \n",
            "A value is trying to be set on a copy of a slice from a DataFrame.\n",
            "Try using .loc[row_indexer,col_indexer] = value instead\n",
            "\n",
            "See the caveats in the documentation: https://pandas.pydata.org/pandas-docs/stable/user_guide/indexing.html#returning-a-view-versus-a-copy\n"
          ]
        }
      ],
      "source": [
        "best_params = {'alpha': 1.0, 'fit_prior': True, 'norm': False}\n",
        "test_model(\"ComplementNB\", best_params, top5=False)"
      ]
    },
    {
      "cell_type": "markdown",
      "metadata": {
        "id": "xicCnv-ouGYy"
      },
      "source": [
        "### XGBClassifier"
      ]
    },
    {
      "cell_type": "code",
      "execution_count": 27,
      "metadata": {
        "colab": {
          "base_uri": "https://localhost:8080/"
        },
        "id": "iI27JriFuICK",
        "outputId": "fbc9ae33-f465-4537-ce2d-e729405c8654"
      },
      "outputs": [
        {
          "output_type": "stream",
          "name": "stdout",
          "text": [
            "Test accuracy on the tuned model on ALL categories:  0.5200268850663414\n"
          ]
        },
        {
          "output_type": "stream",
          "name": "stderr",
          "text": [
            "/usr/local/lib/python3.7/dist-packages/ipykernel_launcher.py:41: SettingWithCopyWarning: \n",
            "A value is trying to be set on a copy of a slice from a DataFrame.\n",
            "Try using .loc[row_indexer,col_indexer] = value instead\n",
            "\n",
            "See the caveats in the documentation: https://pandas.pydata.org/pandas-docs/stable/user_guide/indexing.html#returning-a-view-versus-a-copy\n",
            "/usr/local/lib/python3.7/dist-packages/ipykernel_launcher.py:42: SettingWithCopyWarning: \n",
            "A value is trying to be set on a copy of a slice from a DataFrame.\n",
            "Try using .loc[row_indexer,col_indexer] = value instead\n",
            "\n",
            "See the caveats in the documentation: https://pandas.pydata.org/pandas-docs/stable/user_guide/indexing.html#returning-a-view-versus-a-copy\n"
          ]
        }
      ],
      "source": [
        "best_params = {'learning_rate': 0.15, 'max_depth': 4, 'n_estimators': 150, 'n_jobs': -1}\n",
        "test_model(\"XGBClassifier\", best_params, top5=False)"
      ]
    },
    {
      "cell_type": "markdown",
      "metadata": {
        "id": "dFcMz9b5uIRA"
      },
      "source": [
        "### RandomForestClassifier"
      ]
    },
    {
      "cell_type": "code",
      "execution_count": 28,
      "metadata": {
        "colab": {
          "base_uri": "https://localhost:8080/"
        },
        "id": "gHKrt-HIuKtC",
        "outputId": "45d0e5b8-cf1c-4a43-82d6-9a2446cfc73d"
      },
      "outputs": [
        {
          "output_type": "stream",
          "name": "stdout",
          "text": [
            "Test accuracy on the tuned model on ALL categories:  0.49737372731572527\n"
          ]
        },
        {
          "output_type": "stream",
          "name": "stderr",
          "text": [
            "/usr/local/lib/python3.7/dist-packages/ipykernel_launcher.py:41: SettingWithCopyWarning: \n",
            "A value is trying to be set on a copy of a slice from a DataFrame.\n",
            "Try using .loc[row_indexer,col_indexer] = value instead\n",
            "\n",
            "See the caveats in the documentation: https://pandas.pydata.org/pandas-docs/stable/user_guide/indexing.html#returning-a-view-versus-a-copy\n",
            "/usr/local/lib/python3.7/dist-packages/ipykernel_launcher.py:42: SettingWithCopyWarning: \n",
            "A value is trying to be set on a copy of a slice from a DataFrame.\n",
            "Try using .loc[row_indexer,col_indexer] = value instead\n",
            "\n",
            "See the caveats in the documentation: https://pandas.pydata.org/pandas-docs/stable/user_guide/indexing.html#returning-a-view-versus-a-copy\n"
          ]
        }
      ],
      "source": [
        "best_params = {'n_jobs': -1, 'max_depth': None}\n",
        "test_model(\"RandomForestClassifier\", best_params, top5=False)"
      ]
    },
    {
      "cell_type": "markdown",
      "metadata": {
        "id": "syIXbunnuK6L"
      },
      "source": [
        "### PassiveAggressiveClassifier"
      ]
    },
    {
      "cell_type": "code",
      "execution_count": 29,
      "metadata": {
        "colab": {
          "base_uri": "https://localhost:8080/"
        },
        "id": "ZDUzlASBuOHj",
        "outputId": "09744990-4f38-42d5-a527-a3249c7f776c"
      },
      "outputs": [
        {
          "output_type": "stream",
          "name": "stdout",
          "text": [
            "Test accuracy on the tuned model on ALL categories:  0.5636653307112096\n"
          ]
        },
        {
          "output_type": "stream",
          "name": "stderr",
          "text": [
            "/usr/local/lib/python3.7/dist-packages/ipykernel_launcher.py:41: SettingWithCopyWarning: \n",
            "A value is trying to be set on a copy of a slice from a DataFrame.\n",
            "Try using .loc[row_indexer,col_indexer] = value instead\n",
            "\n",
            "See the caveats in the documentation: https://pandas.pydata.org/pandas-docs/stable/user_guide/indexing.html#returning-a-view-versus-a-copy\n",
            "/usr/local/lib/python3.7/dist-packages/ipykernel_launcher.py:42: SettingWithCopyWarning: \n",
            "A value is trying to be set on a copy of a slice from a DataFrame.\n",
            "Try using .loc[row_indexer,col_indexer] = value instead\n",
            "\n",
            "See the caveats in the documentation: https://pandas.pydata.org/pandas-docs/stable/user_guide/indexing.html#returning-a-view-versus-a-copy\n"
          ]
        }
      ],
      "source": [
        "best_params = {'max_iter': 2500, 'C': 0.5, 'n_jobs': -1}\n",
        "test_model(\"PassiveAggressiveClassifier\", best_params, top5=False)"
      ]
    },
    {
      "cell_type": "markdown",
      "metadata": {
        "id": "oT_uYDnEuOkl"
      },
      "source": [
        "### SGDClassifier"
      ]
    },
    {
      "cell_type": "code",
      "execution_count": 30,
      "metadata": {
        "colab": {
          "base_uri": "https://localhost:8080/"
        },
        "id": "vNpmibK_uQMN",
        "outputId": "3aa8f04e-2fc0-404d-d37a-a29a4f2a1f14"
      },
      "outputs": [
        {
          "output_type": "stream",
          "name": "stdout",
          "text": [
            "Test accuracy on the tuned model on ALL categories:  0.5397177068034154\n"
          ]
        },
        {
          "output_type": "stream",
          "name": "stderr",
          "text": [
            "/usr/local/lib/python3.7/dist-packages/ipykernel_launcher.py:41: SettingWithCopyWarning: \n",
            "A value is trying to be set on a copy of a slice from a DataFrame.\n",
            "Try using .loc[row_indexer,col_indexer] = value instead\n",
            "\n",
            "See the caveats in the documentation: https://pandas.pydata.org/pandas-docs/stable/user_guide/indexing.html#returning-a-view-versus-a-copy\n",
            "/usr/local/lib/python3.7/dist-packages/ipykernel_launcher.py:42: SettingWithCopyWarning: \n",
            "A value is trying to be set on a copy of a slice from a DataFrame.\n",
            "Try using .loc[row_indexer,col_indexer] = value instead\n",
            "\n",
            "See the caveats in the documentation: https://pandas.pydata.org/pandas-docs/stable/user_guide/indexing.html#returning-a-view-versus-a-copy\n"
          ]
        }
      ],
      "source": [
        "best_params = {'max_iter': 2500, 'n_jobs': -1, 'learning_rate': 'adaptive', 'eta0': 0.1}\n",
        "test_model(\"SGDClassifier\", best_params, top5=False)"
      ]
    },
    {
      "cell_type": "markdown",
      "metadata": {
        "id": "T56Kd29ZuzRG"
      },
      "source": [
        "## Checking final *tuned_df_all_wih_all* and saving it to .csv file"
      ]
    },
    {
      "cell_type": "code",
      "execution_count": 31,
      "metadata": {
        "colab": {
          "base_uri": "https://localhost:8080/",
          "height": 261
        },
        "id": "dkCmW9G3u52a",
        "outputId": "e8133c4d-82c3-4446-a9b5-434a824df8ee"
      },
      "outputs": [
        {
          "output_type": "execute_result",
          "data": {
            "text/html": [
              "\n",
              "  <div id=\"df-90adb344-e7fc-4e55-8d88-e0f1a5c9ebe8\">\n",
              "    <div class=\"colab-df-container\">\n",
              "      <div>\n",
              "<style scoped>\n",
              "    .dataframe tbody tr th:only-of-type {\n",
              "        vertical-align: middle;\n",
              "    }\n",
              "\n",
              "    .dataframe tbody tr th {\n",
              "        vertical-align: top;\n",
              "    }\n",
              "\n",
              "    .dataframe thead th {\n",
              "        text-align: right;\n",
              "    }\n",
              "</style>\n",
              "<table border=\"1\" class=\"dataframe\">\n",
              "  <thead>\n",
              "    <tr style=\"text-align: right;\">\n",
              "      <th></th>\n",
              "      <th>Classifier</th>\n",
              "      <th>By</th>\n",
              "      <th>Preprocessed</th>\n",
              "      <th>Vectorizer</th>\n",
              "      <th>Ngram</th>\n",
              "      <th>TopKFeatures</th>\n",
              "      <th>Best_parameters</th>\n",
              "      <th>TestAccuracy</th>\n",
              "    </tr>\n",
              "  </thead>\n",
              "  <tbody>\n",
              "    <tr>\n",
              "      <th>1</th>\n",
              "      <td>ComplementNB</td>\n",
              "      <td>full_text</td>\n",
              "      <td>0</td>\n",
              "      <td>TfidfVectorizer</td>\n",
              "      <td>(1, 2)</td>\n",
              "      <td>14000</td>\n",
              "      <td>{'alpha': 1.0, 'fit_prior': True}</td>\n",
              "      <td>0.387618</td>\n",
              "    </tr>\n",
              "    <tr>\n",
              "      <th>0</th>\n",
              "      <td>MultinomialNB</td>\n",
              "      <td>full_text</td>\n",
              "      <td>0</td>\n",
              "      <td>CountVectorizer</td>\n",
              "      <td>(1, 1)</td>\n",
              "      <td>10000</td>\n",
              "      <td>{'dual': True, 'max_iter': 4000, 'C': 1}</td>\n",
              "      <td>0.581365</td>\n",
              "    </tr>\n",
              "    <tr>\n",
              "      <th>2</th>\n",
              "      <td>LinearSVC</td>\n",
              "      <td>full_text</td>\n",
              "      <td>1</td>\n",
              "      <td>TfidfVectorizer</td>\n",
              "      <td>(1, 1)</td>\n",
              "      <td>12000</td>\n",
              "      <td>{'alpha': 1.0, 'fit_prior': True, 'norm': False}</td>\n",
              "      <td>0.551368</td>\n",
              "    </tr>\n",
              "    <tr>\n",
              "      <th>3</th>\n",
              "      <td>PassiveAggressiveClassifier</td>\n",
              "      <td>full_text</td>\n",
              "      <td>1</td>\n",
              "      <td>TfidfVectorizer</td>\n",
              "      <td>(1, 1)</td>\n",
              "      <td>12000</td>\n",
              "      <td>{'learning_rate': 0.15, 'max_depth': 4, 'n_est...</td>\n",
              "      <td>0.520027</td>\n",
              "    </tr>\n",
              "    <tr>\n",
              "      <th>6</th>\n",
              "      <td>SGDClassifier</td>\n",
              "      <td>full_text</td>\n",
              "      <td>1</td>\n",
              "      <td>CountVectorizer</td>\n",
              "      <td>(1, 1)</td>\n",
              "      <td>12000</td>\n",
              "      <td>{'n_jobs': -1, 'max_depth': None}</td>\n",
              "      <td>0.497374</td>\n",
              "    </tr>\n",
              "    <tr>\n",
              "      <th>4</th>\n",
              "      <td>XGBClassifier</td>\n",
              "      <td>full_text</td>\n",
              "      <td>1</td>\n",
              "      <td>TfidfVectorizer</td>\n",
              "      <td>(1, 1)</td>\n",
              "      <td>9000</td>\n",
              "      <td>{'max_iter': 2500, 'C': 0.5, 'n_jobs': -1}</td>\n",
              "      <td>0.563665</td>\n",
              "    </tr>\n",
              "    <tr>\n",
              "      <th>5</th>\n",
              "      <td>RandomForestClassifier</td>\n",
              "      <td>full_text</td>\n",
              "      <td>1</td>\n",
              "      <td>TfidfVectorizer</td>\n",
              "      <td>(1, 1)</td>\n",
              "      <td>12000</td>\n",
              "      <td>{'max_iter': 2500, 'n_jobs': -1, 'learning_rat...</td>\n",
              "      <td>0.539718</td>\n",
              "    </tr>\n",
              "  </tbody>\n",
              "</table>\n",
              "</div>\n",
              "      <button class=\"colab-df-convert\" onclick=\"convertToInteractive('df-90adb344-e7fc-4e55-8d88-e0f1a5c9ebe8')\"\n",
              "              title=\"Convert this dataframe to an interactive table.\"\n",
              "              style=\"display:none;\">\n",
              "        \n",
              "  <svg xmlns=\"http://www.w3.org/2000/svg\" height=\"24px\"viewBox=\"0 0 24 24\"\n",
              "       width=\"24px\">\n",
              "    <path d=\"M0 0h24v24H0V0z\" fill=\"none\"/>\n",
              "    <path d=\"M18.56 5.44l.94 2.06.94-2.06 2.06-.94-2.06-.94-.94-2.06-.94 2.06-2.06.94zm-11 1L8.5 8.5l.94-2.06 2.06-.94-2.06-.94L8.5 2.5l-.94 2.06-2.06.94zm10 10l.94 2.06.94-2.06 2.06-.94-2.06-.94-.94-2.06-.94 2.06-2.06.94z\"/><path d=\"M17.41 7.96l-1.37-1.37c-.4-.4-.92-.59-1.43-.59-.52 0-1.04.2-1.43.59L10.3 9.45l-7.72 7.72c-.78.78-.78 2.05 0 2.83L4 21.41c.39.39.9.59 1.41.59.51 0 1.02-.2 1.41-.59l7.78-7.78 2.81-2.81c.8-.78.8-2.07 0-2.86zM5.41 20L4 18.59l7.72-7.72 1.47 1.35L5.41 20z\"/>\n",
              "  </svg>\n",
              "      </button>\n",
              "      \n",
              "  <style>\n",
              "    .colab-df-container {\n",
              "      display:flex;\n",
              "      flex-wrap:wrap;\n",
              "      gap: 12px;\n",
              "    }\n",
              "\n",
              "    .colab-df-convert {\n",
              "      background-color: #E8F0FE;\n",
              "      border: none;\n",
              "      border-radius: 50%;\n",
              "      cursor: pointer;\n",
              "      display: none;\n",
              "      fill: #1967D2;\n",
              "      height: 32px;\n",
              "      padding: 0 0 0 0;\n",
              "      width: 32px;\n",
              "    }\n",
              "\n",
              "    .colab-df-convert:hover {\n",
              "      background-color: #E2EBFA;\n",
              "      box-shadow: 0px 1px 2px rgba(60, 64, 67, 0.3), 0px 1px 3px 1px rgba(60, 64, 67, 0.15);\n",
              "      fill: #174EA6;\n",
              "    }\n",
              "\n",
              "    [theme=dark] .colab-df-convert {\n",
              "      background-color: #3B4455;\n",
              "      fill: #D2E3FC;\n",
              "    }\n",
              "\n",
              "    [theme=dark] .colab-df-convert:hover {\n",
              "      background-color: #434B5C;\n",
              "      box-shadow: 0px 1px 3px 1px rgba(0, 0, 0, 0.15);\n",
              "      filter: drop-shadow(0px 1px 2px rgba(0, 0, 0, 0.3));\n",
              "      fill: #FFFFFF;\n",
              "    }\n",
              "  </style>\n",
              "\n",
              "      <script>\n",
              "        const buttonEl =\n",
              "          document.querySelector('#df-90adb344-e7fc-4e55-8d88-e0f1a5c9ebe8 button.colab-df-convert');\n",
              "        buttonEl.style.display =\n",
              "          google.colab.kernel.accessAllowed ? 'block' : 'none';\n",
              "\n",
              "        async function convertToInteractive(key) {\n",
              "          const element = document.querySelector('#df-90adb344-e7fc-4e55-8d88-e0f1a5c9ebe8');\n",
              "          const dataTable =\n",
              "            await google.colab.kernel.invokeFunction('convertToInteractive',\n",
              "                                                     [key], {});\n",
              "          if (!dataTable) return;\n",
              "\n",
              "          const docLinkHtml = 'Like what you see? Visit the ' +\n",
              "            '<a target=\"_blank\" href=https://colab.research.google.com/notebooks/data_table.ipynb>data table notebook</a>'\n",
              "            + ' to learn more about interactive tables.';\n",
              "          element.innerHTML = '';\n",
              "          dataTable['output_type'] = 'display_data';\n",
              "          await google.colab.output.renderOutput(dataTable, element);\n",
              "          const docLink = document.createElement('div');\n",
              "          docLink.innerHTML = docLinkHtml;\n",
              "          element.appendChild(docLink);\n",
              "        }\n",
              "      </script>\n",
              "    </div>\n",
              "  </div>\n",
              "  "
            ],
            "text/plain": [
              "                    Classifier  ... TestAccuracy\n",
              "1                 ComplementNB  ...     0.387618\n",
              "0                MultinomialNB  ...     0.581365\n",
              "2                    LinearSVC  ...     0.551368\n",
              "3  PassiveAggressiveClassifier  ...     0.520027\n",
              "6                SGDClassifier  ...     0.497374\n",
              "4                XGBClassifier  ...     0.563665\n",
              "5       RandomForestClassifier  ...     0.539718\n",
              "\n",
              "[7 rows x 8 columns]"
            ]
          },
          "metadata": {},
          "execution_count": 31
        }
      ],
      "source": [
        "tuned_df_all_with_all"
      ]
    },
    {
      "cell_type": "code",
      "execution_count": 32,
      "metadata": {
        "id": "nKPXidYEu7Yg"
      },
      "outputs": [],
      "source": [
        "tuned_df_all.to_csv(\"results_after_tuning/TunedResultsforAllWithAllCombos.csv\")"
      ]
    }
  ],
  "metadata": {
    "colab": {
      "name": "checking_results_ML_tuned_at_diff_combos.ipynb",
      "toc_visible": true,
      "provenance": [],
      "authorship_tag": "ABX9TyPnj0Ko4HvXnhOhHaplZw2g",
      "include_colab_link": true
    },
    "kernelspec": {
      "display_name": "Python 3",
      "name": "python3"
    },
    "language_info": {
      "name": "python"
    }
  },
  "nbformat": 4,
  "nbformat_minor": 0
}