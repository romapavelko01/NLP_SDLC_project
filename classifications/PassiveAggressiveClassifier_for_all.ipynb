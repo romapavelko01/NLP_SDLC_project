{
  "nbformat": 4,
  "nbformat_minor": 0,
  "metadata": {
    "colab": {
      "name": "PassiveAggressiveClassifier_for_all.ipynb",
      "provenance": [],
      "authorship_tag": "ABX9TyMJ9km3gekttJs482ZwXZ13",
      "include_colab_link": true
    },
    "kernelspec": {
      "name": "python3",
      "display_name": "Python 3"
    },
    "language_info": {
      "name": "python"
    }
  },
  "cells": [
    {
      "cell_type": "markdown",
      "metadata": {
        "id": "view-in-github",
        "colab_type": "text"
      },
      "source": [
        "<a href=\"https://colab.research.google.com/github/romapavelko01/NLP_SDLC_project/blob/classifications/PassiveAggressiveClassifier_for_all.ipynb\" target=\"_parent\"><img src=\"https://colab.research.google.com/assets/colab-badge.svg\" alt=\"Open In Colab\"/></a>"
      ]
    },
    {
      "cell_type": "code",
      "execution_count": 1,
      "metadata": {
        "colab": {
          "base_uri": "https://localhost:8080/"
        },
        "id": "B5Lt7XbwQz9Y",
        "outputId": "a48d7d71-16f1-4ad8-bbd2-e040a9d9f278"
      },
      "outputs": [
        {
          "output_type": "stream",
          "name": "stdout",
          "text": [
            "Mounted at /content/drive\n"
          ]
        }
      ],
      "source": [
        "from google.colab import drive\n",
        "drive.mount('/content/drive', force_remount=False)"
      ]
    },
    {
      "cell_type": "code",
      "source": [
        "import pandas as pd\n",
        "import numpy as np\n",
        "from sklearn.linear_model import PassiveAggressiveClassifier\n",
        "from sklearn.model_selection import train_test_split\n",
        "from sklearn.metrics import accuracy_score\n",
        "from sklearn.feature_selection import SelectKBest, f_classif\n",
        "from sklearn.feature_extraction.text import CountVectorizer, TfidfVectorizer"
      ],
      "metadata": {
        "id": "AU90jPM7Q7nz"
      },
      "execution_count": 2,
      "outputs": []
    },
    {
      "cell_type": "code",
      "source": [
        "filename = \"/content/drive/MyDrive/SDLC/news_analysis_project/data/final_news_category_dataset.json\"\n",
        "df = pd.read_json(filename, orient='split')\n",
        "df.head()"
      ],
      "metadata": {
        "colab": {
          "base_uri": "https://localhost:8080/",
          "height": 206
        },
        "id": "59ZIDp41RPQR",
        "outputId": "f41ac5f7-0b92-412d-9bf0-ac8614b24af6"
      },
      "execution_count": 3,
      "outputs": [
        {
          "output_type": "execute_result",
          "data": {
            "text/html": [
              "<div>\n",
              "<style scoped>\n",
              "    .dataframe tbody tr th:only-of-type {\n",
              "        vertical-align: middle;\n",
              "    }\n",
              "\n",
              "    .dataframe tbody tr th {\n",
              "        vertical-align: top;\n",
              "    }\n",
              "\n",
              "    .dataframe thead th {\n",
              "        text-align: right;\n",
              "    }\n",
              "</style>\n",
              "<table border=\"1\" class=\"dataframe\">\n",
              "  <thead>\n",
              "    <tr style=\"text-align: right;\">\n",
              "      <th></th>\n",
              "      <th>category</th>\n",
              "      <th>headline</th>\n",
              "      <th>authors</th>\n",
              "      <th>link</th>\n",
              "      <th>short_description</th>\n",
              "      <th>date</th>\n",
              "    </tr>\n",
              "  </thead>\n",
              "  <tbody>\n",
              "    <tr>\n",
              "      <th>0</th>\n",
              "      <td>CRIME</td>\n",
              "      <td>There Were 2 Mass Shootings In Texas Last Week...</td>\n",
              "      <td>Melissa Jeltsen</td>\n",
              "      <td>https://www.huffingtonpost.com/entry/texas-ama...</td>\n",
              "      <td>She left her husband. He killed their children...</td>\n",
              "      <td>2018-05-26</td>\n",
              "    </tr>\n",
              "    <tr>\n",
              "      <th>1</th>\n",
              "      <td>ENTERTAINMENT</td>\n",
              "      <td>Will Smith Joins Diplo And Nicky Jam For The 2...</td>\n",
              "      <td>Andy McDonald</td>\n",
              "      <td>https://www.huffingtonpost.com/entry/will-smit...</td>\n",
              "      <td>Of course it has a song.</td>\n",
              "      <td>2018-05-26</td>\n",
              "    </tr>\n",
              "    <tr>\n",
              "      <th>2</th>\n",
              "      <td>ENTERTAINMENT</td>\n",
              "      <td>Hugh Grant Marries For The First Time At Age 57</td>\n",
              "      <td>Ron Dicker</td>\n",
              "      <td>https://www.huffingtonpost.com/entry/hugh-gran...</td>\n",
              "      <td>The actor and his longtime girlfriend Anna Ebe...</td>\n",
              "      <td>2018-05-26</td>\n",
              "    </tr>\n",
              "    <tr>\n",
              "      <th>3</th>\n",
              "      <td>ENTERTAINMENT</td>\n",
              "      <td>Jim Carrey Blasts 'Castrato' Adam Schiff And D...</td>\n",
              "      <td>Ron Dicker</td>\n",
              "      <td>https://www.huffingtonpost.com/entry/jim-carre...</td>\n",
              "      <td>The actor gives Dems an ass-kicking for not fi...</td>\n",
              "      <td>2018-05-26</td>\n",
              "    </tr>\n",
              "    <tr>\n",
              "      <th>4</th>\n",
              "      <td>ENTERTAINMENT</td>\n",
              "      <td>Julianna Margulies Uses Donald Trump Poop Bags...</td>\n",
              "      <td>Ron Dicker</td>\n",
              "      <td>https://www.huffingtonpost.com/entry/julianna-...</td>\n",
              "      <td>The \"Dietland\" actress said using the bags is ...</td>\n",
              "      <td>2018-05-26</td>\n",
              "    </tr>\n",
              "  </tbody>\n",
              "</table>\n",
              "</div>"
            ],
            "text/plain": [
              "        category  ...       date\n",
              "0          CRIME  ... 2018-05-26\n",
              "1  ENTERTAINMENT  ... 2018-05-26\n",
              "2  ENTERTAINMENT  ... 2018-05-26\n",
              "3  ENTERTAINMENT  ... 2018-05-26\n",
              "4  ENTERTAINMENT  ... 2018-05-26\n",
              "\n",
              "[5 rows x 6 columns]"
            ]
          },
          "metadata": {},
          "execution_count": 3
        }
      ]
    },
    {
      "cell_type": "markdown",
      "source": [
        "# Text preprocessing"
      ],
      "metadata": {
        "id": "AgIASH6uRRrZ"
      }
    },
    {
      "cell_type": "code",
      "source": [
        "import nltk\n",
        "nltk.download('stopwords')\n",
        "from nltk.corpus import stopwords\n",
        "stop_words = set(stopwords.words('english'))"
      ],
      "metadata": {
        "colab": {
          "base_uri": "https://localhost:8080/"
        },
        "id": "smGiEXJSRPo1",
        "outputId": "83bce3f7-e797-42e0-de2e-a7f04146f87d"
      },
      "execution_count": 4,
      "outputs": [
        {
          "output_type": "stream",
          "name": "stdout",
          "text": [
            "[nltk_data] Downloading package stopwords to /root/nltk_data...\n",
            "[nltk_data]   Unzipping corpora/stopwords.zip.\n"
          ]
        }
      ]
    },
    {
      "cell_type": "code",
      "source": [
        "import re\n",
        "import string\n",
        "\n",
        "\n",
        "def cleaning_function(sentence):\n",
        "    \"\"\"\n",
        "    Function needed to perform data preprocessing: removing punctuation symbols,\n",
        "    stop_words and other random things in order to obtain clean text\n",
        "    \"\"\"\n",
        "    # the following line removes numbers from text\n",
        "    result = re.sub(r'\\d+', '', sentence.lower())\n",
        "\n",
        "    # the following line removes any punctuation from the text\n",
        "    result = result.translate(str.maketrans('','',string.punctuation))\n",
        "    return [word for word in result.split() if not word in stop_words]"
      ],
      "metadata": {
        "id": "yf0i9oIbRXo-"
      },
      "execution_count": 1,
      "outputs": []
    },
    {
      "cell_type": "code",
      "source": [
        "df['processed_description'] = df['short_description'].apply(lambda x: ' '.join(cleaning_function(x)))\n",
        "df['processed_headline'] = df['headline'].apply(lambda x: ' '.join(cleaning_function(x)))\n",
        "df['full_text'] = df['headline'] + df['short_description']\n",
        "df['processed_full_text'] = df['processed_headline'] + df['processed_description']"
      ],
      "metadata": {
        "id": "0HW53XkwRbZ7"
      },
      "execution_count": 6,
      "outputs": []
    },
    {
      "cell_type": "markdown",
      "source": [
        "# Splitting the data into train/test set with identical distribution of labels for processed and raw datasets"
      ],
      "metadata": {
        "id": "vlQYmaivRjun"
      }
    },
    {
      "cell_type": "code",
      "source": [
        "X_train, X_test, y_train, y_test = train_test_split(df.loc[:, df.columns != 'category'], df['category'], \n",
        "                                                    test_size=0.2, stratify=df.category,\n",
        "                                                    random_state=1)\n",
        "\n",
        "processed_split_description = (X_train['processed_description'], X_test['processed_description'], y_train, y_test)\n",
        "processed_split_headline = (X_train['processed_headline'], X_test['processed_headline'], y_train, y_test)\n",
        "processed_split_full_text = (X_train['processed_full_text'], X_test['processed_full_text'], y_train, y_test)\n",
        "\n",
        "raw_split_description = (X_train['short_description'], X_test['short_description'], y_train, y_test)\n",
        "raw_split_headline = (X_train['headline'], X_test['headline'], y_train, y_test)\n",
        "raw_split_full_text = (X_train['full_text'], X_test['full_text'], y_train, y_test)"
      ],
      "metadata": {
        "id": "ZJJnj-SYRe-s"
      },
      "execution_count": 7,
      "outputs": []
    },
    {
      "cell_type": "markdown",
      "source": [
        "# Function for recording accuracy results for each combination of vectorizer parameters into a dataframe "
      ],
      "metadata": {
        "id": "jTg9pCJ1Rqi0"
      }
    },
    {
      "cell_type": "code",
      "source": [
        "results_df = pd.DataFrame(columns=['Classifier', 'By', 'Preprocessed', 'Vectorizer', 'Ngram', 'TopKFeatures', 'TrainAccuracy', 'TestAccuracy'])\n",
        "\n",
        "def write_df(dataset, preprocessed, by, clf, vect, ngram=(1, 1), topk=6000, display=True):\n",
        "    \"\"\"\n",
        "    Function to calculate accuracies for the given dataset split, \n",
        "    whether it is raw or preprocessed; \n",
        "    by - in ['headline', 'descirption', 'full_text']\n",
        "    classifier, \n",
        "    vectorizer, ngram parameter, and how many top features to consider;\n",
        "    record calculated accuracies to the results_df;\n",
        "    and, once display is set to True, print classification accuracies\n",
        "    \"\"\"\n",
        "    global results_df\n",
        "\n",
        "    X_train, X_test, y_train, y_test = dataset\n",
        "\n",
        "    vectorizer = vect(ngram_range=ngram)\n",
        "    x_train_ = vectorizer.fit_transform(X_train)\n",
        "\n",
        "    # Vectorize validation texts.\n",
        "    x_val = vectorizer.transform(X_test)\n",
        "    # Select top 'k' of the vectorized features.\n",
        "    selector = SelectKBest(f_classif, k=min(topk, x_train_.shape[1]))\n",
        "    selector.fit(x_train_, y_train)\n",
        "    x_train = selector.transform(x_train_).astype('float32')\n",
        "    x_val = selector.transform(x_val).astype('float32')   \n",
        "\n",
        "    clf = clf(n_jobs=-1)\n",
        "    clf.fit(x_train, y_train)\n",
        "    y_pred_test = clf.predict(x_val)\n",
        "    y_pred_train = clf.predict(x_train)\n",
        "    train_acc, test_acc = accuracy_score(y_train, y_pred_train), accuracy_score(y_test, y_pred_test)\n",
        "    if display:\n",
        "        print(f\"Train classification accuracy = {train_acc},\\n Test classification accuracy = {test_acc}\")\n",
        "\n",
        "    results_df = results_df.append(pd.DataFrame({\n",
        "        'Classifier': [clf.__class__.__name__],\n",
        "        'By': [by],\n",
        "        'Preprocessed': [preprocessed],\n",
        "        'Vectorizer': [vectorizer.__class__.__name__],\n",
        "        'Ngram': [ngram],\n",
        "        'TopKFeatures': [topk],\n",
        "        'TrainAccuracy': [train_acc],\n",
        "        'TestAccuracy': [test_acc]\n",
        "    }), ignore_index=True)"
      ],
      "metadata": {
        "id": "3ON3nxiHRnhJ"
      },
      "execution_count": 9,
      "outputs": []
    },
    {
      "cell_type": "code",
      "source": [
        "TOP_KS = np.arange(9000, 12001, 1500)\n",
        "TOP_KS"
      ],
      "metadata": {
        "colab": {
          "base_uri": "https://localhost:8080/"
        },
        "id": "0aWoOiZpRxq3",
        "outputId": "b1af708b-7b39-4865-f91e-ce99d148d43c"
      },
      "execution_count": 10,
      "outputs": [
        {
          "output_type": "execute_result",
          "data": {
            "text/plain": [
              "array([ 9000, 10500, 12000])"
            ]
          },
          "metadata": {},
          "execution_count": 10
        }
      ]
    },
    {
      "cell_type": "markdown",
      "source": [
        "# Classifying on full text"
      ],
      "metadata": {
        "id": "DkJLqPJVSMTY"
      }
    },
    {
      "cell_type": "markdown",
      "source": [
        "## CountVectorizer on Unigrams"
      ],
      "metadata": {
        "id": "G-lBncCfSQ04"
      }
    },
    {
      "cell_type": "code",
      "source": [
        "for i in (TOP_KS):\n",
        "    print(f\"For top {i} features selected:\\n\")\n",
        "    write_df(processed_split_full_text, 1, 'full_text', PassiveAggressiveClassifier, CountVectorizer, topk=i)\n",
        "    print('\\n')"
      ],
      "metadata": {
        "colab": {
          "base_uri": "https://localhost:8080/"
        },
        "id": "qGDMXIB5R0au",
        "outputId": "04421b92-0e11-4ed7-dc57-b42dde0dc686"
      },
      "execution_count": 11,
      "outputs": [
        {
          "output_type": "stream",
          "name": "stdout",
          "text": [
            "For top 9000 features selected:\n",
            "\n",
            "Train classification accuracy = 0.5910867427589898,\n",
            " Test classification accuracy = 0.47571631276293846\n",
            "\n",
            "\n",
            "For top 10500 features selected:\n",
            "\n",
            "Train classification accuracy = 0.6019404787095007,\n",
            " Test classification accuracy = 0.47860396803664335\n",
            "\n",
            "\n",
            "For top 12000 features selected:\n",
            "\n",
            "Train classification accuracy = 0.6150906759935774,\n",
            " Test classification accuracy = 0.47529312190386097\n",
            "\n",
            "\n"
          ]
        }
      ]
    },
    {
      "cell_type": "markdown",
      "source": [
        "## TfidfVectorizer on Unigrams"
      ],
      "metadata": {
        "id": "jN21bmx_SUqK"
      }
    },
    {
      "cell_type": "code",
      "source": [
        "for i in (TOP_KS):\n",
        "    print(f\"For top {i} features selected:\\n\")\n",
        "    write_df(processed_split_full_text, 1, 'full_text', PassiveAggressiveClassifier, TfidfVectorizer, topk=i)\n",
        "    print('\\n')"
      ],
      "metadata": {
        "colab": {
          "base_uri": "https://localhost:8080/"
        },
        "id": "bjAR3YMXSXZL",
        "outputId": "b578f0c8-ba06-4c96-d443-95e14d57bf0c"
      },
      "execution_count": 12,
      "outputs": [
        {
          "output_type": "stream",
          "name": "stdout",
          "text": [
            "For top 9000 features selected:\n",
            "\n",
            "Train classification accuracy = 0.6721039070960033,\n",
            " Test classification accuracy = 0.5553757685892808\n",
            "\n",
            "\n",
            "For top 10500 features selected:\n",
            "\n",
            "Train classification accuracy = 0.6814142218792397,\n",
            " Test classification accuracy = 0.554529386871126\n",
            "\n",
            "\n",
            "For top 12000 features selected:\n",
            "\n",
            "Train classification accuracy = 0.6960767229683474,\n",
            " Test classification accuracy = 0.557591297204451\n",
            "\n",
            "\n"
          ]
        }
      ]
    },
    {
      "cell_type": "markdown",
      "source": [
        "# Showing top 5 results by test accuracy and saving the table to csv file"
      ],
      "metadata": {
        "id": "f3wogtp-ShDV"
      }
    },
    {
      "cell_type": "code",
      "source": [
        "results_df.sort_values(by='TestAccuracy', ascending=False).head(5)"
      ],
      "metadata": {
        "colab": {
          "base_uri": "https://localhost:8080/",
          "height": 206
        },
        "id": "Esj4xTPCSvuy",
        "outputId": "1e6a29a2-8e01-4ab0-a4fb-91ff0a2197a8"
      },
      "execution_count": 13,
      "outputs": [
        {
          "output_type": "execute_result",
          "data": {
            "text/html": [
              "<div>\n",
              "<style scoped>\n",
              "    .dataframe tbody tr th:only-of-type {\n",
              "        vertical-align: middle;\n",
              "    }\n",
              "\n",
              "    .dataframe tbody tr th {\n",
              "        vertical-align: top;\n",
              "    }\n",
              "\n",
              "    .dataframe thead th {\n",
              "        text-align: right;\n",
              "    }\n",
              "</style>\n",
              "<table border=\"1\" class=\"dataframe\">\n",
              "  <thead>\n",
              "    <tr style=\"text-align: right;\">\n",
              "      <th></th>\n",
              "      <th>Classifier</th>\n",
              "      <th>By</th>\n",
              "      <th>Preprocessed</th>\n",
              "      <th>Vectorizer</th>\n",
              "      <th>Ngram</th>\n",
              "      <th>TopKFeatures</th>\n",
              "      <th>TrainAccuracy</th>\n",
              "      <th>TestAccuracy</th>\n",
              "    </tr>\n",
              "  </thead>\n",
              "  <tbody>\n",
              "    <tr>\n",
              "      <th>5</th>\n",
              "      <td>PassiveAggressiveClassifier</td>\n",
              "      <td>full_text</td>\n",
              "      <td>1</td>\n",
              "      <td>TfidfVectorizer</td>\n",
              "      <td>(1, 1)</td>\n",
              "      <td>12000</td>\n",
              "      <td>0.696077</td>\n",
              "      <td>0.557591</td>\n",
              "    </tr>\n",
              "    <tr>\n",
              "      <th>3</th>\n",
              "      <td>PassiveAggressiveClassifier</td>\n",
              "      <td>full_text</td>\n",
              "      <td>1</td>\n",
              "      <td>TfidfVectorizer</td>\n",
              "      <td>(1, 1)</td>\n",
              "      <td>9000</td>\n",
              "      <td>0.672104</td>\n",
              "      <td>0.555376</td>\n",
              "    </tr>\n",
              "    <tr>\n",
              "      <th>4</th>\n",
              "      <td>PassiveAggressiveClassifier</td>\n",
              "      <td>full_text</td>\n",
              "      <td>1</td>\n",
              "      <td>TfidfVectorizer</td>\n",
              "      <td>(1, 1)</td>\n",
              "      <td>10500</td>\n",
              "      <td>0.681414</td>\n",
              "      <td>0.554529</td>\n",
              "    </tr>\n",
              "    <tr>\n",
              "      <th>1</th>\n",
              "      <td>PassiveAggressiveClassifier</td>\n",
              "      <td>full_text</td>\n",
              "      <td>1</td>\n",
              "      <td>CountVectorizer</td>\n",
              "      <td>(1, 1)</td>\n",
              "      <td>10500</td>\n",
              "      <td>0.601940</td>\n",
              "      <td>0.478604</td>\n",
              "    </tr>\n",
              "    <tr>\n",
              "      <th>0</th>\n",
              "      <td>PassiveAggressiveClassifier</td>\n",
              "      <td>full_text</td>\n",
              "      <td>1</td>\n",
              "      <td>CountVectorizer</td>\n",
              "      <td>(1, 1)</td>\n",
              "      <td>9000</td>\n",
              "      <td>0.591087</td>\n",
              "      <td>0.475716</td>\n",
              "    </tr>\n",
              "  </tbody>\n",
              "</table>\n",
              "</div>"
            ],
            "text/plain": [
              "                    Classifier         By  ... TrainAccuracy TestAccuracy\n",
              "5  PassiveAggressiveClassifier  full_text  ...      0.696077     0.557591\n",
              "3  PassiveAggressiveClassifier  full_text  ...      0.672104     0.555376\n",
              "4  PassiveAggressiveClassifier  full_text  ...      0.681414     0.554529\n",
              "1  PassiveAggressiveClassifier  full_text  ...      0.601940     0.478604\n",
              "0  PassiveAggressiveClassifier  full_text  ...      0.591087     0.475716\n",
              "\n",
              "[5 rows x 8 columns]"
            ]
          },
          "metadata": {},
          "execution_count": 13
        }
      ]
    },
    {
      "cell_type": "code",
      "source": [
        "results_df.to_csv('/content/drive/MyDrive/SDLC/news_analysis_project/resultsPRC.csv')"
      ],
      "metadata": {
        "id": "nKbCabHpTKgp"
      },
      "execution_count": 14,
      "outputs": []
    }
  ]
}