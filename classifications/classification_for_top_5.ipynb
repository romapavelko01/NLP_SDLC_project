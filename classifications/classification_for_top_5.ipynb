{
  "nbformat": 4,
  "nbformat_minor": 0,
  "metadata": {
    "colab": {
      "name": "classification_for_top_5.ipynb",
      "provenance": [],
      "authorship_tag": "ABX9TyNHfIHnllUujrbUL67Pk7oV",
      "include_colab_link": true
    },
    "kernelspec": {
      "name": "python3",
      "display_name": "Python 3"
    },
    "language_info": {
      "name": "python"
    }
  },
  "cells": [
    {
      "cell_type": "markdown",
      "metadata": {
        "id": "view-in-github",
        "colab_type": "text"
      },
      "source": [
        "<a href=\"https://colab.research.google.com/github/romapavelko01/NLP_SDLC_project/blob/classifications/classification_for_top_5.ipynb\" target=\"_parent\"><img src=\"https://colab.research.google.com/assets/colab-badge.svg\" alt=\"Open In Colab\"/></a>"
      ]
    },
    {
      "cell_type": "code",
      "execution_count": 1,
      "metadata": {
        "colab": {
          "base_uri": "https://localhost:8080/"
        },
        "id": "UTaewcNzKZRa",
        "outputId": "b3d0143e-ceca-4937-88ba-2aff456d8b35"
      },
      "outputs": [
        {
          "output_type": "stream",
          "name": "stdout",
          "text": [
            "Drive already mounted at /content/drive; to attempt to forcibly remount, call drive.mount(\"/content/drive\", force_remount=True).\n"
          ]
        }
      ],
      "source": [
        "from google.colab import drive\n",
        "drive.mount('/content/drive')"
      ]
    },
    {
      "cell_type": "code",
      "source": [
        "import pandas as pd\n",
        "import numpy as np\n",
        "import os\n",
        "from sklearn.feature_extraction.text import CountVectorizer, TfidfVectorizer\n",
        "from sklearn.feature_selection import SelectKBest, f_classif\n",
        "from sklearn.metrics import accuracy_score\n",
        "from sklearn.model_selection import train_test_split\n",
        "from sklearn.svm import LinearSVC\n",
        "from sklearn.naive_bayes import MultinomialNB, ComplementNB\n",
        "from sklearn.linear_model import PassiveAggressiveClassifier, SGDClassifier\n",
        "from sklearn.ensemble import RandomForestClassifier\n",
        "from xgboost import XGBClassifier"
      ],
      "metadata": {
        "id": "ogmgeGmQKvH1"
      },
      "execution_count": 2,
      "outputs": []
    },
    {
      "cell_type": "markdown",
      "source": [
        "Reading data"
      ],
      "metadata": {
        "id": "VX_Z_8glKrKM"
      }
    },
    {
      "cell_type": "code",
      "source": [
        "os.chdir('/content/drive/MyDrive/SDLC/news_analysis_project')"
      ],
      "metadata": {
        "id": "H6BMdY5ULZJV"
      },
      "execution_count": 3,
      "outputs": []
    },
    {
      "cell_type": "code",
      "source": [
        "df = pd.read_json(\"data/final_news_category_dataset.json\", orient=\"split\")\n",
        "df.head()"
      ],
      "metadata": {
        "colab": {
          "base_uri": "https://localhost:8080/",
          "height": 354
        },
        "id": "mDp4o7cTKi7n",
        "outputId": "c7bbcd24-e1f7-4b77-de36-dc3b8ac8481f"
      },
      "execution_count": 4,
      "outputs": [
        {
          "output_type": "execute_result",
          "data": {
            "text/html": [
              "\n",
              "  <div id=\"df-8cd9ac12-77ae-4c39-b54e-ca6f0c725f25\">\n",
              "    <div class=\"colab-df-container\">\n",
              "      <div>\n",
              "<style scoped>\n",
              "    .dataframe tbody tr th:only-of-type {\n",
              "        vertical-align: middle;\n",
              "    }\n",
              "\n",
              "    .dataframe tbody tr th {\n",
              "        vertical-align: top;\n",
              "    }\n",
              "\n",
              "    .dataframe thead th {\n",
              "        text-align: right;\n",
              "    }\n",
              "</style>\n",
              "<table border=\"1\" class=\"dataframe\">\n",
              "  <thead>\n",
              "    <tr style=\"text-align: right;\">\n",
              "      <th></th>\n",
              "      <th>category</th>\n",
              "      <th>headline</th>\n",
              "      <th>authors</th>\n",
              "      <th>link</th>\n",
              "      <th>short_description</th>\n",
              "      <th>date</th>\n",
              "    </tr>\n",
              "  </thead>\n",
              "  <tbody>\n",
              "    <tr>\n",
              "      <th>0</th>\n",
              "      <td>CRIME</td>\n",
              "      <td>There Were 2 Mass Shootings In Texas Last Week...</td>\n",
              "      <td>Melissa Jeltsen</td>\n",
              "      <td>https://www.huffingtonpost.com/entry/texas-ama...</td>\n",
              "      <td>She left her husband. He killed their children...</td>\n",
              "      <td>2018-05-26</td>\n",
              "    </tr>\n",
              "    <tr>\n",
              "      <th>1</th>\n",
              "      <td>ENTERTAINMENT</td>\n",
              "      <td>Will Smith Joins Diplo And Nicky Jam For The 2...</td>\n",
              "      <td>Andy McDonald</td>\n",
              "      <td>https://www.huffingtonpost.com/entry/will-smit...</td>\n",
              "      <td>Of course it has a song.</td>\n",
              "      <td>2018-05-26</td>\n",
              "    </tr>\n",
              "    <tr>\n",
              "      <th>2</th>\n",
              "      <td>ENTERTAINMENT</td>\n",
              "      <td>Hugh Grant Marries For The First Time At Age 57</td>\n",
              "      <td>Ron Dicker</td>\n",
              "      <td>https://www.huffingtonpost.com/entry/hugh-gran...</td>\n",
              "      <td>The actor and his longtime girlfriend Anna Ebe...</td>\n",
              "      <td>2018-05-26</td>\n",
              "    </tr>\n",
              "    <tr>\n",
              "      <th>3</th>\n",
              "      <td>ENTERTAINMENT</td>\n",
              "      <td>Jim Carrey Blasts 'Castrato' Adam Schiff And D...</td>\n",
              "      <td>Ron Dicker</td>\n",
              "      <td>https://www.huffingtonpost.com/entry/jim-carre...</td>\n",
              "      <td>The actor gives Dems an ass-kicking for not fi...</td>\n",
              "      <td>2018-05-26</td>\n",
              "    </tr>\n",
              "    <tr>\n",
              "      <th>4</th>\n",
              "      <td>ENTERTAINMENT</td>\n",
              "      <td>Julianna Margulies Uses Donald Trump Poop Bags...</td>\n",
              "      <td>Ron Dicker</td>\n",
              "      <td>https://www.huffingtonpost.com/entry/julianna-...</td>\n",
              "      <td>The \"Dietland\" actress said using the bags is ...</td>\n",
              "      <td>2018-05-26</td>\n",
              "    </tr>\n",
              "  </tbody>\n",
              "</table>\n",
              "</div>\n",
              "      <button class=\"colab-df-convert\" onclick=\"convertToInteractive('df-8cd9ac12-77ae-4c39-b54e-ca6f0c725f25')\"\n",
              "              title=\"Convert this dataframe to an interactive table.\"\n",
              "              style=\"display:none;\">\n",
              "        \n",
              "  <svg xmlns=\"http://www.w3.org/2000/svg\" height=\"24px\"viewBox=\"0 0 24 24\"\n",
              "       width=\"24px\">\n",
              "    <path d=\"M0 0h24v24H0V0z\" fill=\"none\"/>\n",
              "    <path d=\"M18.56 5.44l.94 2.06.94-2.06 2.06-.94-2.06-.94-.94-2.06-.94 2.06-2.06.94zm-11 1L8.5 8.5l.94-2.06 2.06-.94-2.06-.94L8.5 2.5l-.94 2.06-2.06.94zm10 10l.94 2.06.94-2.06 2.06-.94-2.06-.94-.94-2.06-.94 2.06-2.06.94z\"/><path d=\"M17.41 7.96l-1.37-1.37c-.4-.4-.92-.59-1.43-.59-.52 0-1.04.2-1.43.59L10.3 9.45l-7.72 7.72c-.78.78-.78 2.05 0 2.83L4 21.41c.39.39.9.59 1.41.59.51 0 1.02-.2 1.41-.59l7.78-7.78 2.81-2.81c.8-.78.8-2.07 0-2.86zM5.41 20L4 18.59l7.72-7.72 1.47 1.35L5.41 20z\"/>\n",
              "  </svg>\n",
              "      </button>\n",
              "      \n",
              "  <style>\n",
              "    .colab-df-container {\n",
              "      display:flex;\n",
              "      flex-wrap:wrap;\n",
              "      gap: 12px;\n",
              "    }\n",
              "\n",
              "    .colab-df-convert {\n",
              "      background-color: #E8F0FE;\n",
              "      border: none;\n",
              "      border-radius: 50%;\n",
              "      cursor: pointer;\n",
              "      display: none;\n",
              "      fill: #1967D2;\n",
              "      height: 32px;\n",
              "      padding: 0 0 0 0;\n",
              "      width: 32px;\n",
              "    }\n",
              "\n",
              "    .colab-df-convert:hover {\n",
              "      background-color: #E2EBFA;\n",
              "      box-shadow: 0px 1px 2px rgba(60, 64, 67, 0.3), 0px 1px 3px 1px rgba(60, 64, 67, 0.15);\n",
              "      fill: #174EA6;\n",
              "    }\n",
              "\n",
              "    [theme=dark] .colab-df-convert {\n",
              "      background-color: #3B4455;\n",
              "      fill: #D2E3FC;\n",
              "    }\n",
              "\n",
              "    [theme=dark] .colab-df-convert:hover {\n",
              "      background-color: #434B5C;\n",
              "      box-shadow: 0px 1px 3px 1px rgba(0, 0, 0, 0.15);\n",
              "      filter: drop-shadow(0px 1px 2px rgba(0, 0, 0, 0.3));\n",
              "      fill: #FFFFFF;\n",
              "    }\n",
              "  </style>\n",
              "\n",
              "      <script>\n",
              "        const buttonEl =\n",
              "          document.querySelector('#df-8cd9ac12-77ae-4c39-b54e-ca6f0c725f25 button.colab-df-convert');\n",
              "        buttonEl.style.display =\n",
              "          google.colab.kernel.accessAllowed ? 'block' : 'none';\n",
              "\n",
              "        async function convertToInteractive(key) {\n",
              "          const element = document.querySelector('#df-8cd9ac12-77ae-4c39-b54e-ca6f0c725f25');\n",
              "          const dataTable =\n",
              "            await google.colab.kernel.invokeFunction('convertToInteractive',\n",
              "                                                     [key], {});\n",
              "          if (!dataTable) return;\n",
              "\n",
              "          const docLinkHtml = 'Like what you see? Visit the ' +\n",
              "            '<a target=\"_blank\" href=https://colab.research.google.com/notebooks/data_table.ipynb>data table notebook</a>'\n",
              "            + ' to learn more about interactive tables.';\n",
              "          element.innerHTML = '';\n",
              "          dataTable['output_type'] = 'display_data';\n",
              "          await google.colab.output.renderOutput(dataTable, element);\n",
              "          const docLink = document.createElement('div');\n",
              "          docLink.innerHTML = docLinkHtml;\n",
              "          element.appendChild(docLink);\n",
              "        }\n",
              "      </script>\n",
              "    </div>\n",
              "  </div>\n",
              "  "
            ],
            "text/plain": [
              "        category  ...       date\n",
              "0          CRIME  ... 2018-05-26\n",
              "1  ENTERTAINMENT  ... 2018-05-26\n",
              "2  ENTERTAINMENT  ... 2018-05-26\n",
              "3  ENTERTAINMENT  ... 2018-05-26\n",
              "4  ENTERTAINMENT  ... 2018-05-26\n",
              "\n",
              "[5 rows x 6 columns]"
            ]
          },
          "metadata": {},
          "execution_count": 4
        }
      ]
    },
    {
      "cell_type": "markdown",
      "source": [
        "# Preprocessing "
      ],
      "metadata": {
        "id": "3ON_AqlFL95a"
      }
    },
    {
      "cell_type": "code",
      "source": [
        "import nltk\n",
        "nltk.download('stopwords')\n",
        "from nltk.corpus import stopwords\n",
        "stop_words = set(stopwords.words('english'))"
      ],
      "metadata": {
        "colab": {
          "base_uri": "https://localhost:8080/"
        },
        "id": "d3spCPEvL1sO",
        "outputId": "829e5a00-ff33-4525-94ac-ca95ab2e918c"
      },
      "execution_count": 5,
      "outputs": [
        {
          "output_type": "stream",
          "name": "stdout",
          "text": [
            "[nltk_data] Downloading package stopwords to /root/nltk_data...\n",
            "[nltk_data]   Package stopwords is already up-to-date!\n"
          ]
        }
      ]
    },
    {
      "cell_type": "code",
      "source": [
        "import re\n",
        "import string\n",
        "\n",
        "\n",
        "def cleaning_function(sentence):\n",
        "    \"\"\"\n",
        "    Function needed to perform data preprocessing: removing punctuation symbols,\n",
        "    stop_words and other random things in order to obtain clean text\n",
        "    \"\"\"\n",
        "    # the following line removes numbers from text\n",
        "    result = re.sub(r'\\d+', '', sentence.lower())\n",
        "\n",
        "    # the following line removes any punctuation from the text\n",
        "    result = result.translate(str.maketrans('','',string.punctuation))\n",
        "    return [word for word in result.split() if not word in stop_words]"
      ],
      "metadata": {
        "id": "xDS1rSsMMAAe"
      },
      "execution_count": 6,
      "outputs": []
    },
    {
      "cell_type": "code",
      "source": [
        "df['processed_short_description'] = df['short_description'].apply(lambda x: ' '.join(cleaning_function(x)))\n",
        "df['processed_headline'] = df['headline'].apply(lambda x: ' '.join(cleaning_function(x)))\n",
        "df['full_text'] = df['headline'] + df['short_description']\n",
        "df['processed_full_text'] = df['processed_headline'] + df['processed_short_description']"
      ],
      "metadata": {
        "id": "0iwFQNItMFQ8"
      },
      "execution_count": 7,
      "outputs": []
    },
    {
      "cell_type": "markdown",
      "source": [
        "# Creating a smaller dataset with only top 10 categories included"
      ],
      "metadata": {
        "id": "TVSsTcbfMQDp"
      }
    },
    {
      "cell_type": "code",
      "source": [
        "df.category.value_counts(normalize=True)"
      ],
      "metadata": {
        "colab": {
          "base_uri": "https://localhost:8080/"
        },
        "id": "aazu2lCcMiRm",
        "outputId": "79aa5297-cde9-4244-fc3e-e653b33a425d"
      },
      "execution_count": 8,
      "outputs": [
        {
          "output_type": "execute_result",
          "data": {
            "text/plain": [
              "POLITICS          0.163000\n",
              "WELLNESS          0.088756\n",
              "ENTERTAINMENT     0.079949\n",
              "TRAVEL            0.049225\n",
              "STYLE & BEAUTY    0.048040\n",
              "PARENTING         0.043201\n",
              "HEALTHY LIVING    0.033328\n",
              "QUEER VOICES      0.031436\n",
              "FOOD & DRINK      0.030998\n",
              "BUSINESS          0.029559\n",
              "COMEDY            0.025765\n",
              "SPORTS            0.024316\n",
              "BLACK VOICES      0.022544\n",
              "HOME & LIVING     0.020886\n",
              "PARENTS           0.019691\n",
              "THE WORLDPOST     0.018242\n",
              "WEDDINGS          0.018177\n",
              "WOMEN             0.017376\n",
              "IMPACT            0.017222\n",
              "DIVORCE           0.017057\n",
              "CRIME             0.016953\n",
              "MEDIA             0.014015\n",
              "WEIRD NEWS        0.013293\n",
              "GREEN             0.013054\n",
              "WORLDPOST         0.012840\n",
              "RELIGION          0.012726\n",
              "STYLE             0.011222\n",
              "SCIENCE           0.010844\n",
              "WORLD NEWS        0.010839\n",
              "TASTE             0.010435\n",
              "TECH              0.010366\n",
              "MONEY             0.008499\n",
              "ARTS              0.007513\n",
              "FIFTY             0.006975\n",
              "GOOD NEWS         0.006960\n",
              "ARTS & CULTURE    0.006667\n",
              "ENVIRONMENT       0.006587\n",
              "COLLEGE           0.005696\n",
              "LATINO VOICES     0.005621\n",
              "CULTURE & ARTS    0.005128\n",
              "EDUCATION         0.004999\n",
              "Name: category, dtype: float64"
            ]
          },
          "metadata": {},
          "execution_count": 8
        }
      ]
    },
    {
      "cell_type": "code",
      "source": [
        "small_df = df[df.category.isin(df.category.value_counts().index[:5])]\n",
        "small_df.head(3)\n",
        "\n"
      ],
      "metadata": {
        "colab": {
          "base_uri": "https://localhost:8080/",
          "height": 502
        },
        "id": "Tt0_pGH9MPB3",
        "outputId": "b7be5bc8-2ccd-43cd-b800-4f912e90884e"
      },
      "execution_count": 9,
      "outputs": [
        {
          "output_type": "execute_result",
          "data": {
            "text/html": [
              "\n",
              "  <div id=\"df-63063e28-8f4b-4bb1-8874-061b607a54d2\">\n",
              "    <div class=\"colab-df-container\">\n",
              "      <div>\n",
              "<style scoped>\n",
              "    .dataframe tbody tr th:only-of-type {\n",
              "        vertical-align: middle;\n",
              "    }\n",
              "\n",
              "    .dataframe tbody tr th {\n",
              "        vertical-align: top;\n",
              "    }\n",
              "\n",
              "    .dataframe thead th {\n",
              "        text-align: right;\n",
              "    }\n",
              "</style>\n",
              "<table border=\"1\" class=\"dataframe\">\n",
              "  <thead>\n",
              "    <tr style=\"text-align: right;\">\n",
              "      <th></th>\n",
              "      <th>category</th>\n",
              "      <th>headline</th>\n",
              "      <th>authors</th>\n",
              "      <th>link</th>\n",
              "      <th>short_description</th>\n",
              "      <th>date</th>\n",
              "      <th>processed_short_description</th>\n",
              "      <th>processed_headline</th>\n",
              "      <th>full_text</th>\n",
              "      <th>processed_full_text</th>\n",
              "    </tr>\n",
              "  </thead>\n",
              "  <tbody>\n",
              "    <tr>\n",
              "      <th>1</th>\n",
              "      <td>ENTERTAINMENT</td>\n",
              "      <td>Will Smith Joins Diplo And Nicky Jam For The 2...</td>\n",
              "      <td>Andy McDonald</td>\n",
              "      <td>https://www.huffingtonpost.com/entry/will-smit...</td>\n",
              "      <td>Of course it has a song.</td>\n",
              "      <td>2018-05-26</td>\n",
              "      <td>course song</td>\n",
              "      <td>smith joins diplo nicky jam world cups officia...</td>\n",
              "      <td>Will Smith Joins Diplo And Nicky Jam For The 2...</td>\n",
              "      <td>smith joins diplo nicky jam world cups officia...</td>\n",
              "    </tr>\n",
              "    <tr>\n",
              "      <th>2</th>\n",
              "      <td>ENTERTAINMENT</td>\n",
              "      <td>Hugh Grant Marries For The First Time At Age 57</td>\n",
              "      <td>Ron Dicker</td>\n",
              "      <td>https://www.huffingtonpost.com/entry/hugh-gran...</td>\n",
              "      <td>The actor and his longtime girlfriend Anna Ebe...</td>\n",
              "      <td>2018-05-26</td>\n",
              "      <td>actor longtime girlfriend anna eberstein tied ...</td>\n",
              "      <td>hugh grant marries first time age</td>\n",
              "      <td>Hugh Grant Marries For The First Time At Age 5...</td>\n",
              "      <td>hugh grant marries first time ageactor longtim...</td>\n",
              "    </tr>\n",
              "    <tr>\n",
              "      <th>3</th>\n",
              "      <td>ENTERTAINMENT</td>\n",
              "      <td>Jim Carrey Blasts 'Castrato' Adam Schiff And D...</td>\n",
              "      <td>Ron Dicker</td>\n",
              "      <td>https://www.huffingtonpost.com/entry/jim-carre...</td>\n",
              "      <td>The actor gives Dems an ass-kicking for not fi...</td>\n",
              "      <td>2018-05-26</td>\n",
              "      <td>actor gives dems asskicking fighting hard enou...</td>\n",
              "      <td>jim carrey blasts castrato adam schiff democra...</td>\n",
              "      <td>Jim Carrey Blasts 'Castrato' Adam Schiff And D...</td>\n",
              "      <td>jim carrey blasts castrato adam schiff democra...</td>\n",
              "    </tr>\n",
              "  </tbody>\n",
              "</table>\n",
              "</div>\n",
              "      <button class=\"colab-df-convert\" onclick=\"convertToInteractive('df-63063e28-8f4b-4bb1-8874-061b607a54d2')\"\n",
              "              title=\"Convert this dataframe to an interactive table.\"\n",
              "              style=\"display:none;\">\n",
              "        \n",
              "  <svg xmlns=\"http://www.w3.org/2000/svg\" height=\"24px\"viewBox=\"0 0 24 24\"\n",
              "       width=\"24px\">\n",
              "    <path d=\"M0 0h24v24H0V0z\" fill=\"none\"/>\n",
              "    <path d=\"M18.56 5.44l.94 2.06.94-2.06 2.06-.94-2.06-.94-.94-2.06-.94 2.06-2.06.94zm-11 1L8.5 8.5l.94-2.06 2.06-.94-2.06-.94L8.5 2.5l-.94 2.06-2.06.94zm10 10l.94 2.06.94-2.06 2.06-.94-2.06-.94-.94-2.06-.94 2.06-2.06.94z\"/><path d=\"M17.41 7.96l-1.37-1.37c-.4-.4-.92-.59-1.43-.59-.52 0-1.04.2-1.43.59L10.3 9.45l-7.72 7.72c-.78.78-.78 2.05 0 2.83L4 21.41c.39.39.9.59 1.41.59.51 0 1.02-.2 1.41-.59l7.78-7.78 2.81-2.81c.8-.78.8-2.07 0-2.86zM5.41 20L4 18.59l7.72-7.72 1.47 1.35L5.41 20z\"/>\n",
              "  </svg>\n",
              "      </button>\n",
              "      \n",
              "  <style>\n",
              "    .colab-df-container {\n",
              "      display:flex;\n",
              "      flex-wrap:wrap;\n",
              "      gap: 12px;\n",
              "    }\n",
              "\n",
              "    .colab-df-convert {\n",
              "      background-color: #E8F0FE;\n",
              "      border: none;\n",
              "      border-radius: 50%;\n",
              "      cursor: pointer;\n",
              "      display: none;\n",
              "      fill: #1967D2;\n",
              "      height: 32px;\n",
              "      padding: 0 0 0 0;\n",
              "      width: 32px;\n",
              "    }\n",
              "\n",
              "    .colab-df-convert:hover {\n",
              "      background-color: #E2EBFA;\n",
              "      box-shadow: 0px 1px 2px rgba(60, 64, 67, 0.3), 0px 1px 3px 1px rgba(60, 64, 67, 0.15);\n",
              "      fill: #174EA6;\n",
              "    }\n",
              "\n",
              "    [theme=dark] .colab-df-convert {\n",
              "      background-color: #3B4455;\n",
              "      fill: #D2E3FC;\n",
              "    }\n",
              "\n",
              "    [theme=dark] .colab-df-convert:hover {\n",
              "      background-color: #434B5C;\n",
              "      box-shadow: 0px 1px 3px 1px rgba(0, 0, 0, 0.15);\n",
              "      filter: drop-shadow(0px 1px 2px rgba(0, 0, 0, 0.3));\n",
              "      fill: #FFFFFF;\n",
              "    }\n",
              "  </style>\n",
              "\n",
              "      <script>\n",
              "        const buttonEl =\n",
              "          document.querySelector('#df-63063e28-8f4b-4bb1-8874-061b607a54d2 button.colab-df-convert');\n",
              "        buttonEl.style.display =\n",
              "          google.colab.kernel.accessAllowed ? 'block' : 'none';\n",
              "\n",
              "        async function convertToInteractive(key) {\n",
              "          const element = document.querySelector('#df-63063e28-8f4b-4bb1-8874-061b607a54d2');\n",
              "          const dataTable =\n",
              "            await google.colab.kernel.invokeFunction('convertToInteractive',\n",
              "                                                     [key], {});\n",
              "          if (!dataTable) return;\n",
              "\n",
              "          const docLinkHtml = 'Like what you see? Visit the ' +\n",
              "            '<a target=\"_blank\" href=https://colab.research.google.com/notebooks/data_table.ipynb>data table notebook</a>'\n",
              "            + ' to learn more about interactive tables.';\n",
              "          element.innerHTML = '';\n",
              "          dataTable['output_type'] = 'display_data';\n",
              "          await google.colab.output.renderOutput(dataTable, element);\n",
              "          const docLink = document.createElement('div');\n",
              "          docLink.innerHTML = docLinkHtml;\n",
              "          element.appendChild(docLink);\n",
              "        }\n",
              "      </script>\n",
              "    </div>\n",
              "  </div>\n",
              "  "
            ],
            "text/plain": [
              "        category  ...                                processed_full_text\n",
              "1  ENTERTAINMENT  ...  smith joins diplo nicky jam world cups officia...\n",
              "2  ENTERTAINMENT  ...  hugh grant marries first time ageactor longtim...\n",
              "3  ENTERTAINMENT  ...  jim carrey blasts castrato adam schiff democra...\n",
              "\n",
              "[3 rows x 10 columns]"
            ]
          },
          "metadata": {},
          "execution_count": 9
        }
      ]
    },
    {
      "cell_type": "code",
      "source": [
        "print(\"The length of the smaller dataframe with only top 5 categories included: \", len(small_df))"
      ],
      "metadata": {
        "colab": {
          "base_uri": "https://localhost:8080/"
        },
        "id": "CCR3PmRMMKQE",
        "outputId": "f15a0894-de8c-41e7-d72c-b6b17fc325ed"
      },
      "execution_count": 10,
      "outputs": [
        {
          "output_type": "stream",
          "name": "stdout",
          "text": [
            "The length of the smaller dataframe with only top 5 categories included:  86160\n"
          ]
        }
      ]
    },
    {
      "cell_type": "code",
      "source": [
        "small_df.category.value_counts(normalize=True)"
      ],
      "metadata": {
        "colab": {
          "base_uri": "https://localhost:8080/"
        },
        "id": "D_J2bEflNLsI",
        "outputId": "0679ba93-0550-4dff-a2f2-652eae1e4434"
      },
      "execution_count": 11,
      "outputs": [
        {
          "output_type": "execute_result",
          "data": {
            "text/plain": [
              "POLITICS          0.379979\n",
              "WELLNESS          0.206906\n",
              "ENTERTAINMENT     0.186374\n",
              "TRAVEL            0.114752\n",
              "STYLE & BEAUTY    0.111989\n",
              "Name: category, dtype: float64"
            ]
          },
          "metadata": {},
          "execution_count": 11
        }
      ]
    },
    {
      "cell_type": "markdown",
      "source": [
        "# Training models\n",
        "\n",
        "For each model two types of vectorizers will be provided, TfidfVectorizer and CountVectorizer, with 3 possible ngram options - cosidering single words, Unigrams, single words and word pairs, Unigrams&Bigrams, and word pairs only - Bigrams"
      ],
      "metadata": {
        "id": "I4tS3GI1VIr-"
      }
    },
    {
      "cell_type": "markdown",
      "source": [
        "## Importing itertools library to generate parameter combinations - tuples of parameters in the form (classifier, vectorizer used, ngram - Unigrams/Bigrams/Combined, what the classification was based on - headline/short_description/combined, whether it was preprocessed, top k most frequent features to consider) for model training"
      ],
      "metadata": {
        "id": "V8q3cYTRbZU4"
      }
    },
    {
      "cell_type": "code",
      "source": [
        "import itertools"
      ],
      "metadata": {
        "id": "F21vzpMGbXzE"
      },
      "execution_count": 12,
      "outputs": []
    },
    {
      "cell_type": "markdown",
      "source": [
        "## Splitting the dataset into train/test"
      ],
      "metadata": {
        "id": "ndscaQ56WHx6"
      }
    },
    {
      "cell_type": "code",
      "source": [
        "X_train, X_test, y_train, y_test = train_test_split(small_df.loc[:, small_df.columns != 'category'], small_df['category'], \n",
        "                                                    test_size=0.2, stratify=small_df.category,\n",
        "                                                    random_state=1)"
      ],
      "metadata": {
        "id": "RmLklJ-LWF5w"
      },
      "execution_count": 13,
      "outputs": []
    },
    {
      "cell_type": "markdown",
      "source": [
        "## Helper functions to train a model"
      ],
      "metadata": {
        "id": "sXskNnQ9WBzZ"
      }
    },
    {
      "cell_type": "code",
      "source": [
        "def train_model(clf, vect, ngram, by, preprocessed, topk):\n",
        "    \"\"\"\n",
        "    Returns pd.DataFrame - with train and test results\n",
        "    \"\"\"\n",
        "    res_df = pd.DataFrame(columns=['Classifier', 'By', 'Preprocessed', \n",
        "                                   'Vectorizer', 'Ngram', 'TopKFeatures', \n",
        "                                   'TrainAccuracy', 'TestAccuracy'])\n",
        "    data_to_use = ('processed_' if preprocessed else '') + by\n",
        "    X_train_curr, X_test_curr = X_train[data_to_use], X_test[data_to_use]\n",
        "\n",
        "    vectorizer = vect(ngram_range=ngram)\n",
        "    x_train_ = vectorizer.fit_transform(X_train_curr)\n",
        "\n",
        "    # Vectorize validation texts.\n",
        "    x_val = vectorizer.transform(X_test_curr)\n",
        "    # Select top 'k' of the vectorized features.\n",
        "    selector = SelectKBest(f_classif, k=min(topk, x_train_.shape[1]))\n",
        "    selector.fit(x_train_, y_train)\n",
        "    x_train = selector.transform(x_train_).astype('float32')\n",
        "    x_val = selector.transform(x_val).astype('float32')   \n",
        "\n",
        "    clf.fit(x_train, y_train)\n",
        "    y_pred_test = clf.predict(x_val)\n",
        "    y_pred_train = clf.predict(x_train)\n",
        "    train_acc, test_acc = accuracy_score(y_train, y_pred_train), accuracy_score(y_test, y_pred_test)\n",
        "    return pd.DataFrame({\n",
        "        'Classifier': [clf.__class__.__name__],\n",
        "        'By': [by],\n",
        "        'Preprocessed': [preprocessed],\n",
        "        'Vectorizer': [vectorizer.__class__.__name__],\n",
        "        'Ngram': [ngram],\n",
        "        'TopKFeatures': [topk],\n",
        "        'TrainAccuracy': [train_acc],\n",
        "        'TestAccuracy': [test_acc]\n",
        "    })\n",
        "\n",
        "\n",
        "def train_model_combinations(combinations):\n",
        "    res_model_comb_df = pd.DataFrame(columns=['Classifier', 'By', 'Preprocessed', \n",
        "                                   'Vectorizer', 'Ngram', 'TopKFeatures', \n",
        "                                   'TrainAccuracy', 'TestAccuracy'])\n",
        "    for comb in combinations:  # for tuple - (model, vectorizer, ngram, by, preprocessed, topkfeatures)\n",
        "        curr_dict = dict(zip((\"clf\", \"vect\", \"ngram\", \"by\", \"preprocessed\", \"topk\"), (comb)))\n",
        "        res_model_comb_df = res_model_comb_df.append(train_model(**curr_dict))\n",
        "    return res_model_comb_df"
      ],
      "metadata": {
        "id": "Qx1ToA4eVHbu"
      },
      "execution_count": 14,
      "outputs": []
    },
    {
      "cell_type": "markdown",
      "source": [
        "## Models"
      ],
      "metadata": {
        "id": "qkL2PDGHcLnn"
      }
    },
    {
      "cell_type": "code",
      "source": [
        "vects = [CountVectorizer, TfidfVectorizer]\n",
        "ngrams = [(1, 1), (1, 2), (2, 2)]\n",
        "bys = ['full_text', 'headline', 'short_description']\n",
        "preprocessed = [0, 1]\n",
        "topk = list(range(3000, 7501, 1500))"
      ],
      "metadata": {
        "id": "J3j_IKahK1x4"
      },
      "execution_count": 15,
      "outputs": []
    },
    {
      "cell_type": "markdown",
      "source": [
        "### LinearSVC"
      ],
      "metadata": {
        "id": "tEAPnnMUcOrT"
      }
    },
    {
      "cell_type": "code",
      "source": [
        "clfs_1 = [LinearSVC(max_iter=2500)]\n",
        "linearSVC_combs = itertools.product(clfs_1, vects, ngrams, bys, preprocessed, topk)\n",
        "linear_svc_df = train_model_combinations(linearSVC_combs)"
      ],
      "metadata": {
        "colab": {
          "base_uri": "https://localhost:8080/"
        },
        "id": "kpLhrKTROHG0",
        "outputId": "9dcae4d6-28f3-4f3e-bba4-4139ac6d862b"
      },
      "execution_count": 21,
      "outputs": [
        {
          "output_type": "stream",
          "name": "stderr",
          "text": [
            "/usr/local/lib/python3.7/dist-packages/sklearn/svm/_base.py:1208: ConvergenceWarning: Liblinear failed to converge, increase the number of iterations.\n",
            "  ConvergenceWarning,\n",
            "/usr/local/lib/python3.7/dist-packages/sklearn/svm/_base.py:1208: ConvergenceWarning: Liblinear failed to converge, increase the number of iterations.\n",
            "  ConvergenceWarning,\n",
            "/usr/local/lib/python3.7/dist-packages/sklearn/svm/_base.py:1208: ConvergenceWarning: Liblinear failed to converge, increase the number of iterations.\n",
            "  ConvergenceWarning,\n",
            "/usr/local/lib/python3.7/dist-packages/sklearn/svm/_base.py:1208: ConvergenceWarning: Liblinear failed to converge, increase the number of iterations.\n",
            "  ConvergenceWarning,\n",
            "/usr/local/lib/python3.7/dist-packages/sklearn/svm/_base.py:1208: ConvergenceWarning: Liblinear failed to converge, increase the number of iterations.\n",
            "  ConvergenceWarning,\n",
            "/usr/local/lib/python3.7/dist-packages/sklearn/svm/_base.py:1208: ConvergenceWarning: Liblinear failed to converge, increase the number of iterations.\n",
            "  ConvergenceWarning,\n",
            "/usr/local/lib/python3.7/dist-packages/sklearn/svm/_base.py:1208: ConvergenceWarning: Liblinear failed to converge, increase the number of iterations.\n",
            "  ConvergenceWarning,\n",
            "/usr/local/lib/python3.7/dist-packages/sklearn/svm/_base.py:1208: ConvergenceWarning: Liblinear failed to converge, increase the number of iterations.\n",
            "  ConvergenceWarning,\n",
            "/usr/local/lib/python3.7/dist-packages/sklearn/svm/_base.py:1208: ConvergenceWarning: Liblinear failed to converge, increase the number of iterations.\n",
            "  ConvergenceWarning,\n",
            "/usr/local/lib/python3.7/dist-packages/sklearn/svm/_base.py:1208: ConvergenceWarning: Liblinear failed to converge, increase the number of iterations.\n",
            "  ConvergenceWarning,\n",
            "/usr/local/lib/python3.7/dist-packages/sklearn/svm/_base.py:1208: ConvergenceWarning: Liblinear failed to converge, increase the number of iterations.\n",
            "  ConvergenceWarning,\n",
            "/usr/local/lib/python3.7/dist-packages/sklearn/svm/_base.py:1208: ConvergenceWarning: Liblinear failed to converge, increase the number of iterations.\n",
            "  ConvergenceWarning,\n",
            "/usr/local/lib/python3.7/dist-packages/sklearn/svm/_base.py:1208: ConvergenceWarning: Liblinear failed to converge, increase the number of iterations.\n",
            "  ConvergenceWarning,\n",
            "/usr/local/lib/python3.7/dist-packages/sklearn/svm/_base.py:1208: ConvergenceWarning: Liblinear failed to converge, increase the number of iterations.\n",
            "  ConvergenceWarning,\n",
            "/usr/local/lib/python3.7/dist-packages/sklearn/svm/_base.py:1208: ConvergenceWarning: Liblinear failed to converge, increase the number of iterations.\n",
            "  ConvergenceWarning,\n",
            "/usr/local/lib/python3.7/dist-packages/sklearn/svm/_base.py:1208: ConvergenceWarning: Liblinear failed to converge, increase the number of iterations.\n",
            "  ConvergenceWarning,\n"
          ]
        }
      ]
    },
    {
      "cell_type": "code",
      "source": [
        "linear_svc_df.sort_values(by='TestAccuracy', ascending=False).to_csv('results_for_top_5categories/linearSVC_top5results.csv')\n"
      ],
      "metadata": {
        "id": "3-lMQn9jXnRP"
      },
      "execution_count": 25,
      "outputs": []
    },
    {
      "cell_type": "markdown",
      "source": [
        "### PassiveAggressiveClassifier"
      ],
      "metadata": {
        "id": "dixS3FuOh5AF"
      }
    },
    {
      "cell_type": "code",
      "source": [
        "clfs_2 = [PassiveAggressiveClassifier(max_iter=2500, n_jobs=-1)]\n",
        "PAC_combs = itertools.product(clfs_2, vects, ngrams, bys, preprocessed, topk)\n",
        "PAC_df = train_model_combinations(PAC_combs)"
      ],
      "metadata": {
        "id": "8fyq2339h4NU"
      },
      "execution_count": 17,
      "outputs": []
    },
    {
      "cell_type": "code",
      "source": [
        "PAC_df.sort_values(by='TestAccuracy', ascending=False).to_csv('results_for_top_5categories/PAC_top5results.csv')"
      ],
      "metadata": {
        "id": "PG3VfjSliSdq"
      },
      "execution_count": 18,
      "outputs": []
    },
    {
      "cell_type": "markdown",
      "source": [
        "### SGDClassifier"
      ],
      "metadata": {
        "id": "oNd5ityLMjXz"
      }
    },
    {
      "cell_type": "code",
      "source": [
        "clfs_3 = [SGDClassifier(max_iter=2500, n_jobs=-1)]\n",
        "SGD_combs = itertools.product(clfs_3, vects, ngrams, bys, preprocessed, topk)\n",
        "SGD_df = train_model_combinations(SGD_combs)\n"
      ],
      "metadata": {
        "id": "MkfUGIILNKs-"
      },
      "execution_count": 19,
      "outputs": []
    },
    {
      "cell_type": "code",
      "source": [
        "SGD_df.sort_values(by='TestAccuracy', ascending=False).to_csv('results_for_top_5categories/SGD_top5results.csv')"
      ],
      "metadata": {
        "id": "9BiM4kxFOSlV"
      },
      "execution_count": 20,
      "outputs": []
    },
    {
      "cell_type": "markdown",
      "source": [
        "### XGBClassifier"
      ],
      "metadata": {
        "id": "1J-4fSPZOeGK"
      }
    },
    {
      "cell_type": "code",
      "source": [
        "clfs_4 = [XGBClassifier(n_jobs=-1)]\n",
        "XGB_combs = itertools.product(clfs_4, vects, ngrams, bys, preprocessed, topk)\n",
        "XGB_df = train_model_combinations(XGB_combs)"
      ],
      "metadata": {
        "id": "f1V2a3xqOdVn"
      },
      "execution_count": 21,
      "outputs": []
    },
    {
      "cell_type": "code",
      "source": [
        "XGB_df.sort_values(by='TestAccuracy', ascending=False).to_csv('results_for_top_5categories/XGB_top5results.csv')"
      ],
      "metadata": {
        "id": "vGQbwSqEOu2K"
      },
      "execution_count": 22,
      "outputs": []
    },
    {
      "cell_type": "markdown",
      "source": [
        "### RandomForestClassifier"
      ],
      "metadata": {
        "id": "0cXUWTWAPLzR"
      }
    },
    {
      "cell_type": "code",
      "source": [
        "clfs_5 = [RandomForestClassifier(n_jobs=-1)]\n",
        "RFC_combs = itertools.product(clfs_5, vects, ngrams, bys, preprocessed, topk)\n",
        "RFC_df = train_model_combinations(RFC_combs)"
      ],
      "metadata": {
        "id": "iFXwAWBIPPkz"
      },
      "execution_count": 23,
      "outputs": []
    },
    {
      "cell_type": "code",
      "source": [
        "RFC_df.sort_values(by='TestAccuracy', ascending=False).to_csv('results_for_top_5categories/RFC_top5results.csv')"
      ],
      "metadata": {
        "id": "RWQlmy7TPjow"
      },
      "execution_count": 24,
      "outputs": []
    },
    {
      "cell_type": "markdown",
      "source": [
        "### MultinomialNB"
      ],
      "metadata": {
        "id": "ctEPUjWgPoIR"
      }
    },
    {
      "cell_type": "code",
      "source": [
        "clfs_6 = [MultinomialNB()]\n",
        "MNB_combs = itertools.product(clfs_6, vects, ngrams, bys, preprocessed, topk)\n",
        "MNB_df = train_model_combinations(MNB_combs)"
      ],
      "metadata": {
        "id": "MnIckXNIPpyo"
      },
      "execution_count": 25,
      "outputs": []
    },
    {
      "cell_type": "code",
      "source": [
        "MNB_df.sort_values(by='TestAccuracy', ascending=False).to_csv('results_for_top_5categories/MNB_top5results.csv')"
      ],
      "metadata": {
        "id": "GZthDp8OPzko"
      },
      "execution_count": 26,
      "outputs": []
    },
    {
      "cell_type": "markdown",
      "source": [
        "### ComplementNB"
      ],
      "metadata": {
        "id": "PTBmdzqKP4EY"
      }
    },
    {
      "cell_type": "code",
      "source": [
        "clfs_7 = [ComplementNB()]\n",
        "CNB_combs = itertools.product(clfs_7, vects, ngrams, bys, preprocessed, topk)\n",
        "CNB_df = train_model_combinations(CNB_combs)"
      ],
      "metadata": {
        "id": "1tkhfFL4P5zl"
      },
      "execution_count": 27,
      "outputs": []
    },
    {
      "cell_type": "code",
      "source": [
        "CNB_df.sort_values(by='TestAccuracy', ascending=False).to_csv('results_for_top_5categories/CNB_top5results.csv')"
      ],
      "metadata": {
        "id": "ta_TAniVQB56"
      },
      "execution_count": 28,
      "outputs": []
    }
  ]
}