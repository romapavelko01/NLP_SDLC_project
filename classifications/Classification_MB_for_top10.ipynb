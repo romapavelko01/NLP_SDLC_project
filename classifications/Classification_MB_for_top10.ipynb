{
  "nbformat": 4,
  "nbformat_minor": 0,
  "metadata": {
    "colab": {
      "name": "Classification_MB_for_top10.ipynb",
      "provenance": [],
      "toc_visible": true,
      "authorship_tag": "ABX9TyNs2J1U/KtYSa9r52Pk0SXB",
      "include_colab_link": true
    },
    "kernelspec": {
      "name": "python3",
      "display_name": "Python 3"
    },
    "language_info": {
      "name": "python"
    }
  },
  "cells": [
    {
      "cell_type": "markdown",
      "metadata": {
        "id": "view-in-github",
        "colab_type": "text"
      },
      "source": [
        "<a href=\"https://colab.research.google.com/github/romapavelko01/NLP_SDLC_project/blob/classifications/Classification_MB_for_top10.ipynb\" target=\"_parent\"><img src=\"https://colab.research.google.com/assets/colab-badge.svg\" alt=\"Open In Colab\"/></a>"
      ]
    },
    {
      "cell_type": "code",
      "metadata": {
        "colab": {
          "base_uri": "https://localhost:8080/"
        },
        "id": "4RVItNJrb9ks",
        "outputId": "d64edf91-1d12-4487-d7a3-760f362b7aa1"
      },
      "source": [
        "from google.colab import drive\n",
        "drive.mount('/content/drive', force_remount=False)"
      ],
      "execution_count": 25,
      "outputs": [
        {
          "output_type": "stream",
          "name": "stdout",
          "text": [
            "Drive already mounted at /content/drive; to attempt to forcibly remount, call drive.mount(\"/content/drive\", force_remount=True).\n"
          ]
        }
      ]
    },
    {
      "cell_type": "code",
      "metadata": {
        "id": "pTAC7429cHG7"
      },
      "source": [
        "import pandas as pd\n",
        "import numpy as np"
      ],
      "execution_count": 26,
      "outputs": []
    },
    {
      "cell_type": "code",
      "metadata": {
        "colab": {
          "base_uri": "https://localhost:8080/",
          "height": 191
        },
        "id": "dBhUJHtCcUuN",
        "outputId": "c0e20e48-058c-431e-efe8-0d8ff1e98f21"
      },
      "source": [
        "filename = \"/content/drive/MyDrive/SDLC/news_analysis_project/data/final_news_category_dataset.json\"\n",
        "df = pd.read_json(filename, orient='split')\n",
        "df.head(3)"
      ],
      "execution_count": 27,
      "outputs": [
        {
          "output_type": "execute_result",
          "data": {
            "text/html": [
              "<div>\n",
              "<style scoped>\n",
              "    .dataframe tbody tr th:only-of-type {\n",
              "        vertical-align: middle;\n",
              "    }\n",
              "\n",
              "    .dataframe tbody tr th {\n",
              "        vertical-align: top;\n",
              "    }\n",
              "\n",
              "    .dataframe thead th {\n",
              "        text-align: right;\n",
              "    }\n",
              "</style>\n",
              "<table border=\"1\" class=\"dataframe\">\n",
              "  <thead>\n",
              "    <tr style=\"text-align: right;\">\n",
              "      <th></th>\n",
              "      <th>category</th>\n",
              "      <th>headline</th>\n",
              "      <th>authors</th>\n",
              "      <th>link</th>\n",
              "      <th>short_description</th>\n",
              "      <th>date</th>\n",
              "    </tr>\n",
              "  </thead>\n",
              "  <tbody>\n",
              "    <tr>\n",
              "      <th>0</th>\n",
              "      <td>CRIME</td>\n",
              "      <td>There Were 2 Mass Shootings In Texas Last Week...</td>\n",
              "      <td>Melissa Jeltsen</td>\n",
              "      <td>https://www.huffingtonpost.com/entry/texas-ama...</td>\n",
              "      <td>She left her husband. He killed their children...</td>\n",
              "      <td>2018-05-26</td>\n",
              "    </tr>\n",
              "    <tr>\n",
              "      <th>1</th>\n",
              "      <td>ENTERTAINMENT</td>\n",
              "      <td>Will Smith Joins Diplo And Nicky Jam For The 2...</td>\n",
              "      <td>Andy McDonald</td>\n",
              "      <td>https://www.huffingtonpost.com/entry/will-smit...</td>\n",
              "      <td>Of course it has a song.</td>\n",
              "      <td>2018-05-26</td>\n",
              "    </tr>\n",
              "    <tr>\n",
              "      <th>2</th>\n",
              "      <td>ENTERTAINMENT</td>\n",
              "      <td>Hugh Grant Marries For The First Time At Age 57</td>\n",
              "      <td>Ron Dicker</td>\n",
              "      <td>https://www.huffingtonpost.com/entry/hugh-gran...</td>\n",
              "      <td>The actor and his longtime girlfriend Anna Ebe...</td>\n",
              "      <td>2018-05-26</td>\n",
              "    </tr>\n",
              "  </tbody>\n",
              "</table>\n",
              "</div>"
            ],
            "text/plain": [
              "        category  ...       date\n",
              "0          CRIME  ... 2018-05-26\n",
              "1  ENTERTAINMENT  ... 2018-05-26\n",
              "2  ENTERTAINMENT  ... 2018-05-26\n",
              "\n",
              "[3 rows x 6 columns]"
            ]
          },
          "metadata": {},
          "execution_count": 27
        }
      ]
    },
    {
      "cell_type": "code",
      "metadata": {
        "colab": {
          "base_uri": "https://localhost:8080/",
          "height": 208
        },
        "id": "BJbd3TmVepNN",
        "outputId": "705b163b-7d04-430b-8d59-b054ef5e52fa"
      },
      "source": [
        "df = df[df.category.isin(df['category'].value_counts().sort_values(ascending=False).index[:10])]\n",
        "print(len(df), sum(df['category'].value_counts().sort_values(ascending=False).values[:10]))\n",
        "df.head(3)"
      ],
      "execution_count": 28,
      "outputs": [
        {
          "output_type": "stream",
          "name": "stdout",
          "text": [
            "120008 120008\n"
          ]
        },
        {
          "output_type": "execute_result",
          "data": {
            "text/html": [
              "<div>\n",
              "<style scoped>\n",
              "    .dataframe tbody tr th:only-of-type {\n",
              "        vertical-align: middle;\n",
              "    }\n",
              "\n",
              "    .dataframe tbody tr th {\n",
              "        vertical-align: top;\n",
              "    }\n",
              "\n",
              "    .dataframe thead th {\n",
              "        text-align: right;\n",
              "    }\n",
              "</style>\n",
              "<table border=\"1\" class=\"dataframe\">\n",
              "  <thead>\n",
              "    <tr style=\"text-align: right;\">\n",
              "      <th></th>\n",
              "      <th>category</th>\n",
              "      <th>headline</th>\n",
              "      <th>authors</th>\n",
              "      <th>link</th>\n",
              "      <th>short_description</th>\n",
              "      <th>date</th>\n",
              "    </tr>\n",
              "  </thead>\n",
              "  <tbody>\n",
              "    <tr>\n",
              "      <th>1</th>\n",
              "      <td>ENTERTAINMENT</td>\n",
              "      <td>Will Smith Joins Diplo And Nicky Jam For The 2...</td>\n",
              "      <td>Andy McDonald</td>\n",
              "      <td>https://www.huffingtonpost.com/entry/will-smit...</td>\n",
              "      <td>Of course it has a song.</td>\n",
              "      <td>2018-05-26</td>\n",
              "    </tr>\n",
              "    <tr>\n",
              "      <th>2</th>\n",
              "      <td>ENTERTAINMENT</td>\n",
              "      <td>Hugh Grant Marries For The First Time At Age 57</td>\n",
              "      <td>Ron Dicker</td>\n",
              "      <td>https://www.huffingtonpost.com/entry/hugh-gran...</td>\n",
              "      <td>The actor and his longtime girlfriend Anna Ebe...</td>\n",
              "      <td>2018-05-26</td>\n",
              "    </tr>\n",
              "    <tr>\n",
              "      <th>3</th>\n",
              "      <td>ENTERTAINMENT</td>\n",
              "      <td>Jim Carrey Blasts 'Castrato' Adam Schiff And D...</td>\n",
              "      <td>Ron Dicker</td>\n",
              "      <td>https://www.huffingtonpost.com/entry/jim-carre...</td>\n",
              "      <td>The actor gives Dems an ass-kicking for not fi...</td>\n",
              "      <td>2018-05-26</td>\n",
              "    </tr>\n",
              "  </tbody>\n",
              "</table>\n",
              "</div>"
            ],
            "text/plain": [
              "        category  ...       date\n",
              "1  ENTERTAINMENT  ... 2018-05-26\n",
              "2  ENTERTAINMENT  ... 2018-05-26\n",
              "3  ENTERTAINMENT  ... 2018-05-26\n",
              "\n",
              "[3 rows x 6 columns]"
            ]
          },
          "metadata": {},
          "execution_count": 28
        }
      ]
    },
    {
      "cell_type": "code",
      "metadata": {
        "id": "U-1fxOkMwUyC"
      },
      "source": [
        "from sklearn.feature_extraction.text import CountVectorizer, TfidfVectorizer\n",
        "from sklearn.naive_bayes import MultinomialNB\n",
        "from sklearn.model_selection import train_test_split\n",
        "from sklearn.metrics import accuracy_score"
      ],
      "execution_count": 32,
      "outputs": []
    },
    {
      "cell_type": "markdown",
      "metadata": {
        "id": "iouXNz6tcad0"
      },
      "source": [
        "# Text preprocessing"
      ]
    },
    {
      "cell_type": "code",
      "metadata": {
        "colab": {
          "base_uri": "https://localhost:8080/"
        },
        "id": "wXiX5Wj1cW-_",
        "outputId": "8c728c9f-b5fb-45cf-cf41-32aea91430cc"
      },
      "source": [
        "import nltk\n",
        "nltk.download('stopwords')\n",
        "from nltk.corpus import stopwords\n",
        "stop_words = set(stopwords.words('english'))"
      ],
      "execution_count": 29,
      "outputs": [
        {
          "output_type": "stream",
          "name": "stdout",
          "text": [
            "[nltk_data] Downloading package stopwords to /root/nltk_data...\n",
            "[nltk_data]   Package stopwords is already up-to-date!\n"
          ]
        }
      ]
    },
    {
      "cell_type": "code",
      "metadata": {
        "id": "B-8qWRm5ceJD"
      },
      "source": [
        "import re\n",
        "import string\n",
        "\n",
        "\n",
        "def cleaning_function(sentence):\n",
        "    \"\"\"\n",
        "    Function needed to perform data preprocessing: removing punctuation symbols,\n",
        "    stop_words and other random things in order to obtain clean text\n",
        "    \"\"\"\n",
        "    # the following line removes numbers from text\n",
        "    result = re.sub(r'\\d+', '', sentence.lower())\n",
        "\n",
        "    # the following line removes any punctuation from the text\n",
        "    result = result.translate(str.maketrans('','',string.punctuation))\n",
        "    return [word for word in result.split() if not word in stop_words]\n",
        "\n",
        "\n",
        "def collect_words(lst):\n",
        "    \"\"\"\n",
        "    Given a list of lists of words,\n",
        "    return a list of all the words in a list representation of the text.\n",
        "    \"\"\"\n",
        "    return [word for sentence in lst for word in sentence]"
      ],
      "execution_count": 30,
      "outputs": []
    },
    {
      "cell_type": "markdown",
      "metadata": {
        "id": "4j8GjK6Lc2G9"
      },
      "source": [
        "# Classification based on short description"
      ]
    },
    {
      "cell_type": "code",
      "metadata": {
        "colab": {
          "base_uri": "https://localhost:8080/",
          "height": 202
        },
        "id": "-_SdZBYyciB4",
        "outputId": "f8496120-b0b0-4b6e-b894-220dfe5bc5d4"
      },
      "source": [
        "df_1 = df.copy()\n",
        "df_1['processed_description'] = df_1['short_description'].apply(lambda x: ' '.join(cleaning_function(x)))\n",
        "df_1 = df_1[['category', 'processed_description']]\n",
        "df_1.head()"
      ],
      "execution_count": 31,
      "outputs": [
        {
          "output_type": "execute_result",
          "data": {
            "text/html": [
              "<div>\n",
              "<style scoped>\n",
              "    .dataframe tbody tr th:only-of-type {\n",
              "        vertical-align: middle;\n",
              "    }\n",
              "\n",
              "    .dataframe tbody tr th {\n",
              "        vertical-align: top;\n",
              "    }\n",
              "\n",
              "    .dataframe thead th {\n",
              "        text-align: right;\n",
              "    }\n",
              "</style>\n",
              "<table border=\"1\" class=\"dataframe\">\n",
              "  <thead>\n",
              "    <tr style=\"text-align: right;\">\n",
              "      <th></th>\n",
              "      <th>category</th>\n",
              "      <th>processed_description</th>\n",
              "    </tr>\n",
              "  </thead>\n",
              "  <tbody>\n",
              "    <tr>\n",
              "      <th>1</th>\n",
              "      <td>ENTERTAINMENT</td>\n",
              "      <td>course song</td>\n",
              "    </tr>\n",
              "    <tr>\n",
              "      <th>2</th>\n",
              "      <td>ENTERTAINMENT</td>\n",
              "      <td>actor longtime girlfriend anna eberstein tied ...</td>\n",
              "    </tr>\n",
              "    <tr>\n",
              "      <th>3</th>\n",
              "      <td>ENTERTAINMENT</td>\n",
              "      <td>actor gives dems asskicking fighting hard enou...</td>\n",
              "    </tr>\n",
              "    <tr>\n",
              "      <th>4</th>\n",
              "      <td>ENTERTAINMENT</td>\n",
              "      <td>dietland actress said using bags really cathar...</td>\n",
              "    </tr>\n",
              "    <tr>\n",
              "      <th>5</th>\n",
              "      <td>ENTERTAINMENT</td>\n",
              "      <td>right equate horrific incidents sexual assault...</td>\n",
              "    </tr>\n",
              "  </tbody>\n",
              "</table>\n",
              "</div>"
            ],
            "text/plain": [
              "        category                              processed_description\n",
              "1  ENTERTAINMENT                                        course song\n",
              "2  ENTERTAINMENT  actor longtime girlfriend anna eberstein tied ...\n",
              "3  ENTERTAINMENT  actor gives dems asskicking fighting hard enou...\n",
              "4  ENTERTAINMENT  dietland actress said using bags really cathar...\n",
              "5  ENTERTAINMENT  right equate horrific incidents sexual assault..."
            ]
          },
          "metadata": {},
          "execution_count": 31
        }
      ]
    },
    {
      "cell_type": "markdown",
      "metadata": {
        "id": "ykZ68ruowbXg"
      },
      "source": [
        "## Without PCA"
      ]
    },
    {
      "cell_type": "markdown",
      "metadata": {
        "id": "vkC1bquPwexT"
      },
      "source": [
        "### Using Countvectorizer\n",
        "\n",
        "\n"
      ]
    },
    {
      "cell_type": "code",
      "metadata": {
        "colab": {
          "base_uri": "https://localhost:8080/"
        },
        "id": "CpGlbPzQdEbl",
        "outputId": "392fa150-8c15-4fe8-eb42-c18578309da1"
      },
      "source": [
        "cv_u = CountVectorizer()\n",
        "X_u = cv_u.fit_transform(df_1.processed_description)\n",
        "\n",
        "X_train, X_test, y_train, y_test = train_test_split(X_u, df_1['category'].values, test_size=0.2)\n",
        "\n",
        "classifier_u = MultinomialNB()\n",
        "classifier_u.fit(X_train, y_train)\n",
        "y_pred = classifier_u.predict(X_test)\n",
        "\n",
        "accuracy_score(y_test, y_pred)"
      ],
      "execution_count": 33,
      "outputs": [
        {
          "output_type": "execute_result",
          "data": {
            "text/plain": [
              "0.6245729522539788"
            ]
          },
          "metadata": {},
          "execution_count": 33
        }
      ]
    },
    {
      "cell_type": "markdown",
      "metadata": {
        "id": "F4vANd5TwkPU"
      },
      "source": [
        "### Using Tfidfvectorizer"
      ]
    },
    {
      "cell_type": "code",
      "metadata": {
        "colab": {
          "base_uri": "https://localhost:8080/"
        },
        "id": "-BRoqjX7wiea",
        "outputId": "861f6c71-970a-4746-c914-6791dbaaba86"
      },
      "source": [
        "tf_u = TfidfVectorizer()\n",
        "X_u = tf_u.fit_transform(df_1.processed_description)\n",
        "\n",
        "X_train, X_test, y_train, y_test = train_test_split(X_u, df_1['category'].values, test_size=0.2)\n",
        "\n",
        "classifier_u = MultinomialNB()\n",
        "classifier_u.fit(X_train, y_train)\n",
        "y_pred = classifier_u.predict(X_test)\n",
        "\n",
        "accuracy_score(y_test, y_pred)"
      ],
      "execution_count": 34,
      "outputs": [
        {
          "output_type": "execute_result",
          "data": {
            "text/plain": [
              "0.5327056078660112"
            ]
          },
          "metadata": {},
          "execution_count": 34
        }
      ]
    },
    {
      "cell_type": "markdown",
      "metadata": {
        "id": "WZxeUrEODETi"
      },
      "source": [
        "# Classification based on headline"
      ]
    },
    {
      "cell_type": "code",
      "metadata": {
        "colab": {
          "base_uri": "https://localhost:8080/",
          "height": 202
        },
        "id": "4FWOhhlGwsV6",
        "outputId": "8ecf057d-c72e-443e-fde4-3124f3e83b4f"
      },
      "source": [
        "new_df = df.copy()\n",
        "new_df['processed_headline'] = new_df['headline'].apply(lambda x: ' '.join(cleaning_function(x)))\n",
        "new_df = new_df[['category', 'processed_headline']]\n",
        "new_df.head()"
      ],
      "execution_count": 35,
      "outputs": [
        {
          "output_type": "execute_result",
          "data": {
            "text/html": [
              "<div>\n",
              "<style scoped>\n",
              "    .dataframe tbody tr th:only-of-type {\n",
              "        vertical-align: middle;\n",
              "    }\n",
              "\n",
              "    .dataframe tbody tr th {\n",
              "        vertical-align: top;\n",
              "    }\n",
              "\n",
              "    .dataframe thead th {\n",
              "        text-align: right;\n",
              "    }\n",
              "</style>\n",
              "<table border=\"1\" class=\"dataframe\">\n",
              "  <thead>\n",
              "    <tr style=\"text-align: right;\">\n",
              "      <th></th>\n",
              "      <th>category</th>\n",
              "      <th>processed_headline</th>\n",
              "    </tr>\n",
              "  </thead>\n",
              "  <tbody>\n",
              "    <tr>\n",
              "      <th>1</th>\n",
              "      <td>ENTERTAINMENT</td>\n",
              "      <td>smith joins diplo nicky jam world cups officia...</td>\n",
              "    </tr>\n",
              "    <tr>\n",
              "      <th>2</th>\n",
              "      <td>ENTERTAINMENT</td>\n",
              "      <td>hugh grant marries first time age</td>\n",
              "    </tr>\n",
              "    <tr>\n",
              "      <th>3</th>\n",
              "      <td>ENTERTAINMENT</td>\n",
              "      <td>jim carrey blasts castrato adam schiff democra...</td>\n",
              "    </tr>\n",
              "    <tr>\n",
              "      <th>4</th>\n",
              "      <td>ENTERTAINMENT</td>\n",
              "      <td>julianna margulies uses donald trump poop bags...</td>\n",
              "    </tr>\n",
              "    <tr>\n",
              "      <th>5</th>\n",
              "      <td>ENTERTAINMENT</td>\n",
              "      <td>morgan freeman devastated sexual harassment cl...</td>\n",
              "    </tr>\n",
              "  </tbody>\n",
              "</table>\n",
              "</div>"
            ],
            "text/plain": [
              "        category                                 processed_headline\n",
              "1  ENTERTAINMENT  smith joins diplo nicky jam world cups officia...\n",
              "2  ENTERTAINMENT                  hugh grant marries first time age\n",
              "3  ENTERTAINMENT  jim carrey blasts castrato adam schiff democra...\n",
              "4  ENTERTAINMENT  julianna margulies uses donald trump poop bags...\n",
              "5  ENTERTAINMENT  morgan freeman devastated sexual harassment cl..."
            ]
          },
          "metadata": {},
          "execution_count": 35
        }
      ]
    },
    {
      "cell_type": "markdown",
      "metadata": {
        "id": "HEO2a9wCDd12"
      },
      "source": [
        "## Without PCA"
      ]
    },
    {
      "cell_type": "markdown",
      "metadata": {
        "id": "1bjotkbpDhZC"
      },
      "source": [
        "### Using Countvectorizer"
      ]
    },
    {
      "cell_type": "code",
      "metadata": {
        "colab": {
          "base_uri": "https://localhost:8080/"
        },
        "id": "Dh4ZHCIsDZs6",
        "outputId": "b7b2c4fa-588c-4e2f-df04-17c4b0e9a296"
      },
      "source": [
        "cv_u = CountVectorizer()\n",
        "X_u = cv_u.fit_transform(new_df.processed_headline)\n",
        "\n",
        "X_train, X_test, y_train, y_test = train_test_split(X_u, new_df['category'].values, test_size=0.2)\n",
        "\n",
        "classifier_u = MultinomialNB()\n",
        "classifier_u.fit(X_train, y_train)\n",
        "y_pred = classifier_u.predict(X_test)\n",
        "\n",
        "accuracy_score(y_test, y_pred)"
      ],
      "execution_count": 36,
      "outputs": [
        {
          "output_type": "execute_result",
          "data": {
            "text/plain": [
              "0.7362719773352221"
            ]
          },
          "metadata": {},
          "execution_count": 36
        }
      ]
    },
    {
      "cell_type": "markdown",
      "metadata": {
        "id": "4qDiUBbADsgv"
      },
      "source": [
        "### Using Tfidfvectorizer"
      ]
    },
    {
      "cell_type": "code",
      "metadata": {
        "colab": {
          "base_uri": "https://localhost:8080/"
        },
        "id": "dSrIn_dEDrNy",
        "outputId": "aa99ecae-c7e6-419b-9796-9f70a6ae5ad9"
      },
      "source": [
        "tf_u = TfidfVectorizer()\n",
        "X_u = tf_u.fit_transform(new_df.processed_headline)\n",
        "\n",
        "X_train, X_test, y_train, y_test = train_test_split(X_u, new_df['category'].values, test_size=0.2)\n",
        "\n",
        "classifier_u = MultinomialNB()\n",
        "classifier_u.fit(X_train, y_train)\n",
        "y_pred = classifier_u.predict(X_test)\n",
        "\n",
        "accuracy_score(y_test, y_pred)"
      ],
      "execution_count": 37,
      "outputs": [
        {
          "output_type": "execute_result",
          "data": {
            "text/plain": [
              "0.6589450879093409"
            ]
          },
          "metadata": {},
          "execution_count": 37
        }
      ]
    },
    {
      "cell_type": "markdown",
      "metadata": {
        "id": "95YruLhPF9-U"
      },
      "source": [
        "# Parameter tuning"
      ]
    },
    {
      "cell_type": "code",
      "metadata": {
        "id": "lJ_GuarTGGGO"
      },
      "source": [
        "from sklearn.model_selection import GridSearchCV"
      ],
      "execution_count": 38,
      "outputs": []
    },
    {
      "cell_type": "markdown",
      "metadata": {
        "id": "MDscNOPXF_Pt"
      },
      "source": [
        "## For short description"
      ]
    },
    {
      "cell_type": "code",
      "metadata": {
        "id": "mitepIuoGCJ6"
      },
      "source": [
        "params = {'alpha': [0.01, 0.1, 1, 5],\n",
        "          'fit_prior': [False, True]}\n",
        "\n",
        "X_train_d, X_test_d, y_train_d, y_test_d = train_test_split(X_u, df_1['category'].values, test_size=0.2)"
      ],
      "execution_count": 39,
      "outputs": []
    },
    {
      "cell_type": "code",
      "metadata": {
        "colab": {
          "base_uri": "https://localhost:8080/"
        },
        "id": "lEdTKa-BGLM_",
        "outputId": "e8b7db01-c68f-420a-c33d-017006c4d49b"
      },
      "source": [
        "mnb_d = GridSearchCV(MultinomialNB(), param_grid=params, n_jobs=-1)\n",
        "mnb_d.fit(X_train_d, y_train_d)"
      ],
      "execution_count": 40,
      "outputs": [
        {
          "output_type": "execute_result",
          "data": {
            "text/plain": [
              "GridSearchCV(estimator=MultinomialNB(), n_jobs=-1,\n",
              "             param_grid={'alpha': [0.01, 0.1, 1, 5],\n",
              "                         'fit_prior': [False, True]})"
            ]
          },
          "metadata": {},
          "execution_count": 40
        }
      ]
    },
    {
      "cell_type": "code",
      "metadata": {
        "colab": {
          "base_uri": "https://localhost:8080/"
        },
        "id": "mqgVZN8kGS4u",
        "outputId": "4ee2dbd8-dbd1-4991-dc61-9e4cf418293a"
      },
      "source": [
        "mnb_d.best_params_"
      ],
      "execution_count": 41,
      "outputs": [
        {
          "output_type": "execute_result",
          "data": {
            "text/plain": [
              "{'alpha': 1, 'fit_prior': False}"
            ]
          },
          "metadata": {},
          "execution_count": 41
        }
      ]
    },
    {
      "cell_type": "code",
      "metadata": {
        "colab": {
          "base_uri": "https://localhost:8080/"
        },
        "id": "pPpOGfjeGUGe",
        "outputId": "17ce78ba-0b90-4a8c-f210-5f9dab4e6f27"
      },
      "source": [
        "y_pred_best_d = mnb_d.predict(X_test_d)\n",
        "accuracy_score(y_test_d, y_pred_best_d)"
      ],
      "execution_count": 42,
      "outputs": [
        {
          "output_type": "execute_result",
          "data": {
            "text/plain": [
              "0.738480126656112"
            ]
          },
          "metadata": {},
          "execution_count": 42
        }
      ]
    },
    {
      "cell_type": "markdown",
      "metadata": {
        "id": "yDtH_xCbGCYw"
      },
      "source": [
        "## For headline"
      ]
    },
    {
      "cell_type": "code",
      "metadata": {
        "id": "RoLOEdKBGYzS"
      },
      "source": [
        "cv_u_h = CountVectorizer()\n",
        "X_u_h = cv_u.fit_transform(new_df.processed_headline)\n",
        "\n",
        "X_train_h, X_test_h, y_train_h, y_test_h = train_test_split(X_u_h, new_df['category'].values, test_size=0.2)"
      ],
      "execution_count": 43,
      "outputs": []
    },
    {
      "cell_type": "code",
      "metadata": {
        "colab": {
          "base_uri": "https://localhost:8080/"
        },
        "id": "cK9kIQdAGbYo",
        "outputId": "26812eca-97f3-4843-a324-a8a220525370"
      },
      "source": [
        "mnb_h = GridSearchCV(MultinomialNB(), param_grid=params, n_jobs=-1)\n",
        "mnb_h.fit(X_train_h, y_train_h)"
      ],
      "execution_count": 44,
      "outputs": [
        {
          "output_type": "execute_result",
          "data": {
            "text/plain": [
              "GridSearchCV(estimator=MultinomialNB(), n_jobs=-1,\n",
              "             param_grid={'alpha': [0.01, 0.1, 1, 5],\n",
              "                         'fit_prior': [False, True]})"
            ]
          },
          "metadata": {},
          "execution_count": 44
        }
      ]
    },
    {
      "cell_type": "code",
      "metadata": {
        "colab": {
          "base_uri": "https://localhost:8080/"
        },
        "id": "wQvkby9_GesA",
        "outputId": "5a01bcea-7088-4565-d89a-698fa59203c7"
      },
      "source": [
        "mnb_h.best_params_"
      ],
      "execution_count": 45,
      "outputs": [
        {
          "output_type": "execute_result",
          "data": {
            "text/plain": [
              "{'alpha': 1, 'fit_prior': False}"
            ]
          },
          "metadata": {},
          "execution_count": 45
        }
      ]
    },
    {
      "cell_type": "code",
      "metadata": {
        "colab": {
          "base_uri": "https://localhost:8080/"
        },
        "id": "5BMauqc3GhVO",
        "outputId": "aa31db95-bf9a-470f-92c9-a9dc1dd54a16"
      },
      "source": [
        "y_pred_best_h = mnb_d.predict(X_test_h)\n",
        "accuracy_score(y_test_h, y_pred_best_h)"
      ],
      "execution_count": 46,
      "outputs": [
        {
          "output_type": "execute_result",
          "data": {
            "text/plain": [
              "0.781101574868761"
            ]
          },
          "metadata": {},
          "execution_count": 46
        }
      ]
    }
  ]
}