{
  "cells": [
    {
      "cell_type": "markdown",
      "metadata": {
        "id": "view-in-github",
        "colab_type": "text"
      },
      "source": [
        "<a href=\"https://colab.research.google.com/github/romapavelko01/NLP_SDLC_project/blob/classifications/tuning_models_for_top5.ipynb\" target=\"_parent\"><img src=\"https://colab.research.google.com/assets/colab-badge.svg\" alt=\"Open In Colab\"/></a>"
      ]
    },
    {
      "cell_type": "code",
      "execution_count": 1,
      "metadata": {
        "id": "CKPBE-v4CEFi"
      },
      "outputs": [],
      "source": [
        "import pandas as pd\n",
        "import os\n",
        "import numpy as np"
      ]
    },
    {
      "cell_type": "markdown",
      "metadata": {
        "id": "CzYkGfxyDeBG"
      },
      "source": [
        "Importing sklearn models, which were used for news classification"
      ]
    },
    {
      "cell_type": "code",
      "execution_count": 2,
      "metadata": {
        "id": "NuqMxrwLDZxJ"
      },
      "outputs": [],
      "source": [
        "from sklearn.svm import LinearSVC\n",
        "from sklearn.naive_bayes import MultinomialNB, ComplementNB\n",
        "from sklearn.linear_model import PassiveAggressiveClassifier, SGDClassifier\n",
        "from sklearn.ensemble import RandomForestClassifier\n",
        "from xgboost import XGBClassifier\n",
        "\n",
        "from sklearn.feature_extraction.text import CountVectorizer, TfidfVectorizer\n",
        "from sklearn.feature_selection import SelectKBest, f_classif\n",
        "from sklearn.metrics import accuracy_score\n",
        "from sklearn.model_selection import train_test_split\n"
      ]
    },
    {
      "cell_type": "code",
      "execution_count": 3,
      "metadata": {
        "colab": {
          "base_uri": "https://localhost:8080/"
        },
        "id": "TTmLtyUeDhDH",
        "outputId": "de326fdd-db88-424f-b6d5-ce6c1bfc8516"
      },
      "outputs": [
        {
          "output_type": "stream",
          "name": "stdout",
          "text": [
            "Mounted at /content/drive\n"
          ]
        }
      ],
      "source": [
        "from google.colab import drive\n",
        "drive.mount('/content/drive')"
      ]
    },
    {
      "cell_type": "code",
      "execution_count": 4,
      "metadata": {
        "id": "sfloKnPaDplu"
      },
      "outputs": [],
      "source": [
        "os.chdir('/content/drive/MyDrive/SDLC/news_analysis_project')"
      ]
    },
    {
      "cell_type": "markdown",
      "metadata": {
        "id": "bEuV7pGyEHtu"
      },
      "source": [
        "# Creating a dataframe with best combinations by test accuracy for each model type"
      ]
    },
    {
      "cell_type": "code",
      "execution_count": 9,
      "metadata": {
        "colab": {
          "base_uri": "https://localhost:8080/",
          "height": 206
        },
        "id": "o5mawaZWDvAi",
        "outputId": "33773b21-a172-4b25-dbf3-e2439689a487"
      },
      "outputs": [
        {
          "output_type": "execute_result",
          "data": {
            "text/html": [
              "\n",
              "  <div id=\"df-e40f011d-ff6b-4f05-a8c2-a58e57154b9a\">\n",
              "    <div class=\"colab-df-container\">\n",
              "      <div>\n",
              "<style scoped>\n",
              "    .dataframe tbody tr th:only-of-type {\n",
              "        vertical-align: middle;\n",
              "    }\n",
              "\n",
              "    .dataframe tbody tr th {\n",
              "        vertical-align: top;\n",
              "    }\n",
              "\n",
              "    .dataframe thead th {\n",
              "        text-align: right;\n",
              "    }\n",
              "</style>\n",
              "<table border=\"1\" class=\"dataframe\">\n",
              "  <thead>\n",
              "    <tr style=\"text-align: right;\">\n",
              "      <th></th>\n",
              "      <th>Classifier</th>\n",
              "      <th>By</th>\n",
              "      <th>Preprocessed</th>\n",
              "      <th>Vectorizer</th>\n",
              "      <th>Ngram</th>\n",
              "      <th>TopKFeatures</th>\n",
              "      <th>TrainAccuracy</th>\n",
              "      <th>TestAccuracy</th>\n",
              "      <th>Unnamed: 0</th>\n",
              "    </tr>\n",
              "  </thead>\n",
              "  <tbody>\n",
              "    <tr>\n",
              "      <th>0</th>\n",
              "      <td>LinearSVC</td>\n",
              "      <td>full_text</td>\n",
              "      <td>0</td>\n",
              "      <td>TfidfVectorizer</td>\n",
              "      <td>(1, 1)</td>\n",
              "      <td>7500</td>\n",
              "      <td>0.946625</td>\n",
              "      <td>0.905931</td>\n",
              "      <td>0.0</td>\n",
              "    </tr>\n",
              "    <tr>\n",
              "      <th>2</th>\n",
              "      <td>SGDClassifier</td>\n",
              "      <td>full_text</td>\n",
              "      <td>0</td>\n",
              "      <td>CountVectorizer</td>\n",
              "      <td>(1, 1)</td>\n",
              "      <td>7500</td>\n",
              "      <td>0.938632</td>\n",
              "      <td>0.901578</td>\n",
              "      <td>0.0</td>\n",
              "    </tr>\n",
              "    <tr>\n",
              "      <th>1</th>\n",
              "      <td>PassiveAggressiveClassifier</td>\n",
              "      <td>full_text</td>\n",
              "      <td>0</td>\n",
              "      <td>TfidfVectorizer</td>\n",
              "      <td>(1, 2)</td>\n",
              "      <td>7500</td>\n",
              "      <td>0.949382</td>\n",
              "      <td>0.896936</td>\n",
              "      <td>0.0</td>\n",
              "    </tr>\n",
              "    <tr>\n",
              "      <th>6</th>\n",
              "      <td>ComplementNB</td>\n",
              "      <td>full_text</td>\n",
              "      <td>0</td>\n",
              "      <td>TfidfVectorizer</td>\n",
              "      <td>(1, 1)</td>\n",
              "      <td>7500</td>\n",
              "      <td>0.903842</td>\n",
              "      <td>0.890030</td>\n",
              "      <td>0.0</td>\n",
              "    </tr>\n",
              "    <tr>\n",
              "      <th>5</th>\n",
              "      <td>MultinomialNB</td>\n",
              "      <td>full_text</td>\n",
              "      <td>0</td>\n",
              "      <td>CountVectorizer</td>\n",
              "      <td>(1, 1)</td>\n",
              "      <td>7500</td>\n",
              "      <td>0.904277</td>\n",
              "      <td>0.886200</td>\n",
              "      <td>0.0</td>\n",
              "    </tr>\n",
              "  </tbody>\n",
              "</table>\n",
              "</div>\n",
              "      <button class=\"colab-df-convert\" onclick=\"convertToInteractive('df-e40f011d-ff6b-4f05-a8c2-a58e57154b9a')\"\n",
              "              title=\"Convert this dataframe to an interactive table.\"\n",
              "              style=\"display:none;\">\n",
              "        \n",
              "  <svg xmlns=\"http://www.w3.org/2000/svg\" height=\"24px\"viewBox=\"0 0 24 24\"\n",
              "       width=\"24px\">\n",
              "    <path d=\"M0 0h24v24H0V0z\" fill=\"none\"/>\n",
              "    <path d=\"M18.56 5.44l.94 2.06.94-2.06 2.06-.94-2.06-.94-.94-2.06-.94 2.06-2.06.94zm-11 1L8.5 8.5l.94-2.06 2.06-.94-2.06-.94L8.5 2.5l-.94 2.06-2.06.94zm10 10l.94 2.06.94-2.06 2.06-.94-2.06-.94-.94-2.06-.94 2.06-2.06.94z\"/><path d=\"M17.41 7.96l-1.37-1.37c-.4-.4-.92-.59-1.43-.59-.52 0-1.04.2-1.43.59L10.3 9.45l-7.72 7.72c-.78.78-.78 2.05 0 2.83L4 21.41c.39.39.9.59 1.41.59.51 0 1.02-.2 1.41-.59l7.78-7.78 2.81-2.81c.8-.78.8-2.07 0-2.86zM5.41 20L4 18.59l7.72-7.72 1.47 1.35L5.41 20z\"/>\n",
              "  </svg>\n",
              "      </button>\n",
              "      \n",
              "  <style>\n",
              "    .colab-df-container {\n",
              "      display:flex;\n",
              "      flex-wrap:wrap;\n",
              "      gap: 12px;\n",
              "    }\n",
              "\n",
              "    .colab-df-convert {\n",
              "      background-color: #E8F0FE;\n",
              "      border: none;\n",
              "      border-radius: 50%;\n",
              "      cursor: pointer;\n",
              "      display: none;\n",
              "      fill: #1967D2;\n",
              "      height: 32px;\n",
              "      padding: 0 0 0 0;\n",
              "      width: 32px;\n",
              "    }\n",
              "\n",
              "    .colab-df-convert:hover {\n",
              "      background-color: #E2EBFA;\n",
              "      box-shadow: 0px 1px 2px rgba(60, 64, 67, 0.3), 0px 1px 3px 1px rgba(60, 64, 67, 0.15);\n",
              "      fill: #174EA6;\n",
              "    }\n",
              "\n",
              "    [theme=dark] .colab-df-convert {\n",
              "      background-color: #3B4455;\n",
              "      fill: #D2E3FC;\n",
              "    }\n",
              "\n",
              "    [theme=dark] .colab-df-convert:hover {\n",
              "      background-color: #434B5C;\n",
              "      box-shadow: 0px 1px 3px 1px rgba(0, 0, 0, 0.15);\n",
              "      filter: drop-shadow(0px 1px 2px rgba(0, 0, 0, 0.3));\n",
              "      fill: #FFFFFF;\n",
              "    }\n",
              "  </style>\n",
              "\n",
              "      <script>\n",
              "        const buttonEl =\n",
              "          document.querySelector('#df-e40f011d-ff6b-4f05-a8c2-a58e57154b9a button.colab-df-convert');\n",
              "        buttonEl.style.display =\n",
              "          google.colab.kernel.accessAllowed ? 'block' : 'none';\n",
              "\n",
              "        async function convertToInteractive(key) {\n",
              "          const element = document.querySelector('#df-e40f011d-ff6b-4f05-a8c2-a58e57154b9a');\n",
              "          const dataTable =\n",
              "            await google.colab.kernel.invokeFunction('convertToInteractive',\n",
              "                                                     [key], {});\n",
              "          if (!dataTable) return;\n",
              "\n",
              "          const docLinkHtml = 'Like what you see? Visit the ' +\n",
              "            '<a target=\"_blank\" href=https://colab.research.google.com/notebooks/data_table.ipynb>data table notebook</a>'\n",
              "            + ' to learn more about interactive tables.';\n",
              "          element.innerHTML = '';\n",
              "          dataTable['output_type'] = 'display_data';\n",
              "          await google.colab.output.renderOutput(dataTable, element);\n",
              "          const docLink = document.createElement('div');\n",
              "          docLink.innerHTML = docLinkHtml;\n",
              "          element.appendChild(docLink);\n",
              "        }\n",
              "      </script>\n",
              "    </div>\n",
              "  </div>\n",
              "  "
            ],
            "text/plain": [
              "                    Classifier         By  ... TestAccuracy Unnamed: 0\n",
              "0                    LinearSVC  full_text  ...     0.905931        0.0\n",
              "2                SGDClassifier  full_text  ...     0.901578        0.0\n",
              "1  PassiveAggressiveClassifier  full_text  ...     0.896936        0.0\n",
              "6                 ComplementNB  full_text  ...     0.890030        0.0\n",
              "5                MultinomialNB  full_text  ...     0.886200        0.0\n",
              "\n",
              "[5 rows x 9 columns]"
            ]
          },
          "metadata": {},
          "execution_count": 9
        }
      ],
      "source": [
        "maxes_df = pd.DataFrame(columns=['Classifier', 'By', 'Preprocessed', \n",
        "                                 'Vectorizer', 'Ngram', 'TopKFeatures', \n",
        "                                 'TrainAccuracy', 'TestAccuracy'])\n",
        "fold_top5 = 'results_for_top_5categories'\n",
        "for filename in os.listdir(fold_top5):\n",
        "    if '.csv' in filename:\n",
        "        best = pd.read_csv(fold_top5 + '/' +filename).sort_values(by='TestAccuracy', ascending=False).iloc[:1]\n",
        "        maxes_df = maxes_df.append(best, ignore_index=True)\n",
        "\n",
        "maxes_df.sort_values(by='TestAccuracy', ascending=False).head(5)"
      ]
    },
    {
      "cell_type": "markdown",
      "metadata": {
        "id": "G6VjmPf9FTkV"
      },
      "source": [
        "# Preparation steps"
      ]
    },
    {
      "cell_type": "markdown",
      "metadata": {
        "id": "kR8QjG-BFc1C"
      },
      "source": [
        "## Creating a dataframe where accuracies of tuned models will be stored "
      ]
    },
    {
      "cell_type": "code",
      "execution_count": 10,
      "metadata": {
        "id": "O_J_B3BvFdDt"
      },
      "outputs": [],
      "source": [
        "tuned_df = pd.DataFrame(columns=maxes_df.columns)"
      ]
    },
    {
      "cell_type": "markdown",
      "metadata": {
        "id": "mqxJLFvAEw6n"
      },
      "source": [
        "## Reading the final news dataset, performing data preprocessing and splitting it into final train/test on which performance will be measured"
      ]
    },
    {
      "cell_type": "code",
      "execution_count": 11,
      "metadata": {
        "colab": {
          "base_uri": "https://localhost:8080/",
          "height": 240
        },
        "id": "K-nMGBCjEFlV",
        "outputId": "6a318089-d8d2-4c90-d1bb-b56de4195e6c"
      },
      "outputs": [
        {
          "output_type": "execute_result",
          "data": {
            "text/html": [
              "\n",
              "  <div id=\"df-26fa451a-3763-4fee-8a7e-09eb1ec243e9\">\n",
              "    <div class=\"colab-df-container\">\n",
              "      <div>\n",
              "<style scoped>\n",
              "    .dataframe tbody tr th:only-of-type {\n",
              "        vertical-align: middle;\n",
              "    }\n",
              "\n",
              "    .dataframe tbody tr th {\n",
              "        vertical-align: top;\n",
              "    }\n",
              "\n",
              "    .dataframe thead th {\n",
              "        text-align: right;\n",
              "    }\n",
              "</style>\n",
              "<table border=\"1\" class=\"dataframe\">\n",
              "  <thead>\n",
              "    <tr style=\"text-align: right;\">\n",
              "      <th></th>\n",
              "      <th>category</th>\n",
              "      <th>headline</th>\n",
              "      <th>authors</th>\n",
              "      <th>link</th>\n",
              "      <th>short_description</th>\n",
              "      <th>date</th>\n",
              "    </tr>\n",
              "  </thead>\n",
              "  <tbody>\n",
              "    <tr>\n",
              "      <th>0</th>\n",
              "      <td>CRIME</td>\n",
              "      <td>There Were 2 Mass Shootings In Texas Last Week...</td>\n",
              "      <td>Melissa Jeltsen</td>\n",
              "      <td>https://www.huffingtonpost.com/entry/texas-ama...</td>\n",
              "      <td>She left her husband. He killed their children...</td>\n",
              "      <td>2018-05-26</td>\n",
              "    </tr>\n",
              "    <tr>\n",
              "      <th>1</th>\n",
              "      <td>ENTERTAINMENT</td>\n",
              "      <td>Will Smith Joins Diplo And Nicky Jam For The 2...</td>\n",
              "      <td>Andy McDonald</td>\n",
              "      <td>https://www.huffingtonpost.com/entry/will-smit...</td>\n",
              "      <td>Of course it has a song.</td>\n",
              "      <td>2018-05-26</td>\n",
              "    </tr>\n",
              "    <tr>\n",
              "      <th>2</th>\n",
              "      <td>ENTERTAINMENT</td>\n",
              "      <td>Hugh Grant Marries For The First Time At Age 57</td>\n",
              "      <td>Ron Dicker</td>\n",
              "      <td>https://www.huffingtonpost.com/entry/hugh-gran...</td>\n",
              "      <td>The actor and his longtime girlfriend Anna Ebe...</td>\n",
              "      <td>2018-05-26</td>\n",
              "    </tr>\n",
              "  </tbody>\n",
              "</table>\n",
              "</div>\n",
              "      <button class=\"colab-df-convert\" onclick=\"convertToInteractive('df-26fa451a-3763-4fee-8a7e-09eb1ec243e9')\"\n",
              "              title=\"Convert this dataframe to an interactive table.\"\n",
              "              style=\"display:none;\">\n",
              "        \n",
              "  <svg xmlns=\"http://www.w3.org/2000/svg\" height=\"24px\"viewBox=\"0 0 24 24\"\n",
              "       width=\"24px\">\n",
              "    <path d=\"M0 0h24v24H0V0z\" fill=\"none\"/>\n",
              "    <path d=\"M18.56 5.44l.94 2.06.94-2.06 2.06-.94-2.06-.94-.94-2.06-.94 2.06-2.06.94zm-11 1L8.5 8.5l.94-2.06 2.06-.94-2.06-.94L8.5 2.5l-.94 2.06-2.06.94zm10 10l.94 2.06.94-2.06 2.06-.94-2.06-.94-.94-2.06-.94 2.06-2.06.94z\"/><path d=\"M17.41 7.96l-1.37-1.37c-.4-.4-.92-.59-1.43-.59-.52 0-1.04.2-1.43.59L10.3 9.45l-7.72 7.72c-.78.78-.78 2.05 0 2.83L4 21.41c.39.39.9.59 1.41.59.51 0 1.02-.2 1.41-.59l7.78-7.78 2.81-2.81c.8-.78.8-2.07 0-2.86zM5.41 20L4 18.59l7.72-7.72 1.47 1.35L5.41 20z\"/>\n",
              "  </svg>\n",
              "      </button>\n",
              "      \n",
              "  <style>\n",
              "    .colab-df-container {\n",
              "      display:flex;\n",
              "      flex-wrap:wrap;\n",
              "      gap: 12px;\n",
              "    }\n",
              "\n",
              "    .colab-df-convert {\n",
              "      background-color: #E8F0FE;\n",
              "      border: none;\n",
              "      border-radius: 50%;\n",
              "      cursor: pointer;\n",
              "      display: none;\n",
              "      fill: #1967D2;\n",
              "      height: 32px;\n",
              "      padding: 0 0 0 0;\n",
              "      width: 32px;\n",
              "    }\n",
              "\n",
              "    .colab-df-convert:hover {\n",
              "      background-color: #E2EBFA;\n",
              "      box-shadow: 0px 1px 2px rgba(60, 64, 67, 0.3), 0px 1px 3px 1px rgba(60, 64, 67, 0.15);\n",
              "      fill: #174EA6;\n",
              "    }\n",
              "\n",
              "    [theme=dark] .colab-df-convert {\n",
              "      background-color: #3B4455;\n",
              "      fill: #D2E3FC;\n",
              "    }\n",
              "\n",
              "    [theme=dark] .colab-df-convert:hover {\n",
              "      background-color: #434B5C;\n",
              "      box-shadow: 0px 1px 3px 1px rgba(0, 0, 0, 0.15);\n",
              "      filter: drop-shadow(0px 1px 2px rgba(0, 0, 0, 0.3));\n",
              "      fill: #FFFFFF;\n",
              "    }\n",
              "  </style>\n",
              "\n",
              "      <script>\n",
              "        const buttonEl =\n",
              "          document.querySelector('#df-26fa451a-3763-4fee-8a7e-09eb1ec243e9 button.colab-df-convert');\n",
              "        buttonEl.style.display =\n",
              "          google.colab.kernel.accessAllowed ? 'block' : 'none';\n",
              "\n",
              "        async function convertToInteractive(key) {\n",
              "          const element = document.querySelector('#df-26fa451a-3763-4fee-8a7e-09eb1ec243e9');\n",
              "          const dataTable =\n",
              "            await google.colab.kernel.invokeFunction('convertToInteractive',\n",
              "                                                     [key], {});\n",
              "          if (!dataTable) return;\n",
              "\n",
              "          const docLinkHtml = 'Like what you see? Visit the ' +\n",
              "            '<a target=\"_blank\" href=https://colab.research.google.com/notebooks/data_table.ipynb>data table notebook</a>'\n",
              "            + ' to learn more about interactive tables.';\n",
              "          element.innerHTML = '';\n",
              "          dataTable['output_type'] = 'display_data';\n",
              "          await google.colab.output.renderOutput(dataTable, element);\n",
              "          const docLink = document.createElement('div');\n",
              "          docLink.innerHTML = docLinkHtml;\n",
              "          element.appendChild(docLink);\n",
              "        }\n",
              "      </script>\n",
              "    </div>\n",
              "  </div>\n",
              "  "
            ],
            "text/plain": [
              "        category  ...       date\n",
              "0          CRIME  ... 2018-05-26\n",
              "1  ENTERTAINMENT  ... 2018-05-26\n",
              "2  ENTERTAINMENT  ... 2018-05-26\n",
              "\n",
              "[3 rows x 6 columns]"
            ]
          },
          "metadata": {},
          "execution_count": 11
        }
      ],
      "source": [
        "filename = \"data/final_news_category_dataset.json\"\n",
        "df = pd.read_json(filename, orient='split')\n",
        "df.head(3)"
      ]
    },
    {
      "cell_type": "code",
      "source": [
        "top5_df = df[df.category.isin(df.category.value_counts().index[:5])]\n",
        "print(\"Number of elements in the the dataset with top 5 most frequent categories: \", len(top5_df))\n",
        "print(top5_df.category.value_counts(normalize=True))"
      ],
      "metadata": {
        "colab": {
          "base_uri": "https://localhost:8080/"
        },
        "id": "upF0e46Xp70Z",
        "outputId": "c9a5d271-8080-4ec1-c674-abb7838bd596"
      },
      "execution_count": 13,
      "outputs": [
        {
          "output_type": "stream",
          "name": "stdout",
          "text": [
            "Number of elements in the the dataset with top 5 most frequent categories:  86160\n",
            "POLITICS          0.379979\n",
            "WELLNESS          0.206906\n",
            "ENTERTAINMENT     0.186374\n",
            "TRAVEL            0.114752\n",
            "STYLE & BEAUTY    0.111989\n",
            "Name: category, dtype: float64\n"
          ]
        }
      ]
    },
    {
      "cell_type": "code",
      "execution_count": 14,
      "metadata": {
        "colab": {
          "base_uri": "https://localhost:8080/"
        },
        "id": "1MH30xvnE6jt",
        "outputId": "dcf61d8b-3c32-477b-b712-fa3c9faa5514"
      },
      "outputs": [
        {
          "output_type": "stream",
          "name": "stdout",
          "text": [
            "[nltk_data] Downloading package stopwords to /root/nltk_data...\n",
            "[nltk_data]   Unzipping corpora/stopwords.zip.\n"
          ]
        }
      ],
      "source": [
        "import nltk\n",
        "nltk.download('stopwords')\n",
        "from nltk.corpus import stopwords\n",
        "stop_words = set(stopwords.words('english'))"
      ]
    },
    {
      "cell_type": "code",
      "execution_count": 15,
      "metadata": {
        "id": "BrmUv898E9oy"
      },
      "outputs": [],
      "source": [
        "import re\n",
        "import string\n",
        "\n",
        "\n",
        "def cleaning_function(sentence):\n",
        "    \"\"\"\n",
        "    Function needed to perform data preprocessing: removing punctuation symbols,\n",
        "    stop_words and other random things in order to obtain clean text\n",
        "    \"\"\"\n",
        "    # the following line removes numbers from text\n",
        "    result = re.sub(r'\\d+', '', sentence.lower())\n",
        "\n",
        "    # the following line removes any punctuation from the text\n",
        "    result = result.translate(str.maketrans('','',string.punctuation))\n",
        "    return [word for word in result.split() if not word in stop_words]"
      ]
    },
    {
      "cell_type": "code",
      "execution_count": null,
      "metadata": {
        "id": "YlQRlCBFFAyG"
      },
      "outputs": [],
      "source": [
        "top5_df['processed_description'] = top5_df['short_description'].apply(lambda x: ' '.join(cleaning_function(x)))\n",
        "top5_df['processed_headline'] = top5_df['headline'].apply(lambda x: ' '.join(cleaning_function(x)))\n",
        "top5_df['full_text'] = top5_df['headline'] + top5_df['short_description']\n",
        "top5_df['processed_full_text'] = top5_df['processed_headline'] + top5_df['processed_description']"
      ]
    },
    {
      "cell_type": "markdown",
      "metadata": {
        "id": "VE4hmrH2-yz2"
      },
      "source": [
        "## Splitting into train/test data sets"
      ]
    },
    {
      "cell_type": "code",
      "execution_count": 17,
      "metadata": {
        "id": "ZYPwd0eZFDWY"
      },
      "outputs": [],
      "source": [
        "X_train, X_test, y_train, y_test = train_test_split(top5_df.loc[:, top5_df.columns != 'category'], top5_df['category'], \n",
        "                                                    test_size=0.2, stratify=top5_df.category,\n",
        "                                                    random_state=1)\n"
      ]
    },
    {
      "cell_type": "code",
      "execution_count": 18,
      "metadata": {
        "id": "E90In6d0FIbi"
      },
      "outputs": [],
      "source": [
        "def map_datarow_to_comb(classifier_name):\n",
        "    \"\"\"\n",
        "    Function for mapping row\n",
        "    \"\"\"\n",
        "    cl_row =  maxes_df[maxes_df.Classifier == classifier_name][['Preprocessed', \n",
        "                                                                'Vectorizer', \n",
        "                                                                'Ngram', \n",
        "                                                                'TopKFeatures', 'By']].values[0]\n",
        "                                          \n",
        "    return [int(cl_row[0]), eval(f'{classifier_name}()'), eval(f\"{cl_row[1]}(ngram_range={cl_row[2]})\"), int(cl_row[3]), cl_row[4]] "
      ]
    },
    {
      "cell_type": "markdown",
      "metadata": {
        "id": "XSCVf56JGFgX"
      },
      "source": [
        "## Generating customised folds to feed to GridSearchCV, for reasons that each X fold must be separately fit by vectorizers"
      ]
    },
    {
      "cell_type": "code",
      "execution_count": 19,
      "metadata": {
        "id": "AyUpfT2tFMgT"
      },
      "outputs": [],
      "source": [
        "from sklearn.model_selection import KFold\n",
        "n_folds = 2\n",
        "train_test_splits = []\n",
        "for train_index, test_index in KFold(n_splits=n_folds).split(X_train):\n",
        "    train_test_splits.append([X_train.iloc[train_index], X_train.iloc[test_index], y_train.iloc[train_index], y_train.iloc[test_index]])"
      ]
    },
    {
      "cell_type": "markdown",
      "metadata": {
        "id": "2RtrRKemGR56"
      },
      "source": [
        "# Tuning process"
      ]
    },
    {
      "cell_type": "markdown",
      "metadata": {
        "id": "JTvQLxT8Jv_Z"
      },
      "source": [
        "## Creating a function to test a model"
      ]
    },
    {
      "cell_type": "code",
      "execution_count": 20,
      "metadata": {
        "id": "dQIC4fMRJvZx"
      },
      "outputs": [],
      "source": [
        "def test_model(data, model, vect, topk, params):\n",
        "    X_train_this, X_test_this, y_train_this, y_test_this = data\n",
        "    x_train_ = vect.fit_transform(X_train_this)\n",
        "\n",
        "    # Vectorize validation texts.\n",
        "    # current_params = dict(zip(params_names, item))\n",
        "    clf = model.__class__(**params)\n",
        "    x_val = vect.transform(X_test_this)\n",
        "    # Select top 'k' of the vectorized features.\n",
        "    selector = SelectKBest(f_classif, k=min(topk, x_train_.shape[1]))\n",
        "    selector.fit(x_train_, y_train_this)\n",
        "    x_train = selector.transform(x_train_).astype('float32')\n",
        "    x_val = selector.transform(x_val).astype('float32')   \n",
        "\n",
        "    clf.fit(x_train, y_train_this)\n",
        "    y_pred_test = clf.predict(x_val)\n",
        "    test_acc = accuracy_score(y_test_this, y_pred_test)\n",
        "    return test_acc"
      ]
    },
    {
      "cell_type": "markdown",
      "metadata": {
        "id": "FmHr1YffGU85"
      },
      "source": [
        "## Creating a function to which hyperparameters dict will be fed, the model type and corresponding best-accuracy combination (from *maxes_df* dataframe) will be specified"
      ]
    },
    {
      "cell_type": "code",
      "execution_count": 21,
      "metadata": {
        "id": "oAGyhKq7GPqO"
      },
      "outputs": [],
      "source": [
        "import itertools\n",
        "\n",
        "\n",
        "def tune_model(params_to_tune, model_name, print_results=True):\n",
        "    \"\"\"\n",
        "    Function to tune hyperparameters for any ML model type considered before,\n",
        "    Parameters:\n",
        "    -----------\n",
        "    params_to_tune: dict, !SHOULD CONTAIN DEFAULT PARAMETERS VALUES!\n",
        "    model_name: str, specifies what model is passed\n",
        "    print_results: bool, compare results before and after tuning\n",
        "    \"\"\"\n",
        "    global tuned_df\n",
        "    global train_test_splits\n",
        "    pr, model, vect, topk, by = map_datarow_to_comb(model_name)\n",
        "    data_to_use = ('processed_' if pr else '') + by\n",
        "    print(\"Ok\")\n",
        "    \n",
        "    best_params = None\n",
        "    best_accuracy = 0\n",
        "    params_names = list(params_to_tune.keys())\n",
        "    a = []\n",
        "    for key in params_to_tune:\n",
        "        a.append(params_to_tune[key])\n",
        "    all = itertools.product(*a)\n",
        "    for item in all:\n",
        "        history = []   \n",
        "        for fold in train_test_splits:\n",
        "            X_train_curr, X_test_curr, y_train_curr, y_test_curr = fold\n",
        "            x_train_ = vect.fit_transform(X_train_curr[data_to_use])\n",
        "\n",
        "            # Vectorize validation texts.\n",
        "            current_params = dict(zip(params_names, item))\n",
        "            clf = model.__class__(**current_params)\n",
        "            x_val = vect.transform(X_test_curr[data_to_use])\n",
        "            # Select top 'k' of the vectorized features.\n",
        "            selector = SelectKBest(f_classif, k=min(topk, x_train_.shape[1]))\n",
        "            selector.fit(x_train_, y_train_curr)\n",
        "            x_train = selector.transform(x_train_).astype('float32')\n",
        "            x_val = selector.transform(x_val).astype('float32')   \n",
        "\n",
        "            clf.fit(x_train, y_train_curr)\n",
        "            y_pred_test = clf.predict(x_val)\n",
        "            test_acc = accuracy_score(y_test_curr, y_pred_test)\n",
        "            history.append(test_acc)\n",
        "        if np.mean(history) > best_accuracy:\n",
        "            best_accuracy = np.mean(history)\n",
        "            best_params = current_params\n",
        "\n",
        "    print(\"OK\")\n",
        "    data = (X_train[data_to_use], X_test[data_to_use], y_train, y_test)\n",
        "    print(\"OK\")\n",
        "    tuned_test_acc = test_model(data, model, vect, topk, best_params)\n",
        "    to_change = maxes_df[maxes_df['Classifier'] == model_name].copy()\n",
        "    to_change.reset_index(inplace=True, drop=True)\n",
        "    to_change.loc[0, 'TrainAccuracy'] = None\n",
        "    to_change.loc[0, 'TestAccuracy'] = tuned_test_acc\n",
        "    tuned_df = tuned_df.append(to_change)\n",
        "    print(\"OK\")\n",
        "    print(\"Best model parameters: \", best_params)\n",
        "    if print_results:\n",
        "        print(\"Initial test accuracy: \", maxes_df[maxes_df['Classifier'] == 'LinearSVC']['TestAccuracy'])\n",
        "        print(\"Test accuracy after tuning: \", tuned_test_acc)\n"
      ]
    },
    {
      "cell_type": "markdown",
      "metadata": {
        "id": "ed-yOaBQM9I1"
      },
      "source": [
        "## Tuning LinearSVC"
      ]
    },
    {
      "cell_type": "code",
      "execution_count": 22,
      "metadata": {
        "colab": {
          "base_uri": "https://localhost:8080/"
        },
        "id": "jyrxfmjyNCEu",
        "outputId": "6c8e32d6-e621-4138-fd64-c10fe5f51249"
      },
      "outputs": [
        {
          "output_type": "execute_result",
          "data": {
            "text/plain": [
              "{'C': 1.0,\n",
              " 'class_weight': None,\n",
              " 'dual': True,\n",
              " 'fit_intercept': True,\n",
              " 'intercept_scaling': 1,\n",
              " 'loss': 'squared_hinge',\n",
              " 'max_iter': 1000,\n",
              " 'multi_class': 'ovr',\n",
              " 'penalty': 'l2',\n",
              " 'random_state': None,\n",
              " 'tol': 0.0001,\n",
              " 'verbose': 0}"
            ]
          },
          "metadata": {},
          "execution_count": 22
        }
      ],
      "source": [
        "clf = LinearSVC()\n",
        "clf.get_params()"
      ]
    },
    {
      "cell_type": "code",
      "execution_count": 23,
      "metadata": {
        "colab": {
          "base_uri": "https://localhost:8080/"
        },
        "id": "xd_Je8x3NITm",
        "outputId": "dfa8f23f-2f4b-412d-dd15-d1137327d02c"
      },
      "outputs": [
        {
          "output_type": "stream",
          "name": "stdout",
          "text": [
            "Ok\n",
            "OK\n",
            "OK\n",
            "OK\n",
            "Best model parameters:  {'dual': True, 'max_iter': 4000, 'C': 1}\n",
            "Initial test accuracy:  0    0.905931\n",
            "Name: TestAccuracy, dtype: float64\n",
            "Test accuracy after tuning:  0.905930826369545\n"
          ]
        }
      ],
      "source": [
        "tuned_parameters = {\n",
        "    \"dual\": [True, False],\n",
        "    \"max_iter\": [4000],\n",
        "    \"C\": [1, 10]\n",
        "}\n",
        "\n",
        "tune_model(tuned_parameters, clf.__class__.__name__)\n"
      ]
    },
    {
      "cell_type": "markdown",
      "metadata": {
        "id": "A3-ow3HTTETz"
      },
      "source": [
        "## Tuning MultinomialNB"
      ]
    },
    {
      "cell_type": "code",
      "execution_count": 24,
      "metadata": {
        "colab": {
          "base_uri": "https://localhost:8080/"
        },
        "id": "pFjSKD8CShPr",
        "outputId": "ddcedacf-1bdd-4813-fb65-4e2d5e0a3070"
      },
      "outputs": [
        {
          "output_type": "execute_result",
          "data": {
            "text/plain": [
              "{'alpha': 1.0, 'class_prior': None, 'fit_prior': True}"
            ]
          },
          "metadata": {},
          "execution_count": 24
        }
      ],
      "source": [
        "clf = MultinomialNB()\n",
        "clf.get_params()"
      ]
    },
    {
      "cell_type": "code",
      "execution_count": 25,
      "metadata": {
        "colab": {
          "base_uri": "https://localhost:8080/"
        },
        "id": "mYO4comoTOL6",
        "outputId": "b1d8ed9e-0581-4dc8-e3b3-e24a35fc7c20"
      },
      "outputs": [
        {
          "output_type": "stream",
          "name": "stdout",
          "text": [
            "Ok\n",
            "OK\n",
            "OK\n",
            "OK\n",
            "Best model parameters:  {'alpha': 1.0, 'fit_prior': True}\n",
            "Initial test accuracy:  0    0.905931\n",
            "Name: TestAccuracy, dtype: float64\n",
            "Test accuracy after tuning:  0.8862000928505107\n"
          ]
        }
      ],
      "source": [
        "tuned_parameters = {\n",
        "    \"alpha\": [0.25, 0.5, 1.0, 5.0],\n",
        "    \"fit_prior\": [True, False],\n",
        "    \"alpha\": [1.0]\n",
        "}\n",
        "\n",
        "tune_model(tuned_parameters, clf.__class__.__name__)\n"
      ]
    },
    {
      "cell_type": "markdown",
      "metadata": {
        "id": "sEtwg9lvUCZD"
      },
      "source": [
        "## Tuning ComplementNB"
      ]
    },
    {
      "cell_type": "code",
      "execution_count": 26,
      "metadata": {
        "colab": {
          "base_uri": "https://localhost:8080/"
        },
        "id": "FdDqEElHUGfg",
        "outputId": "fdf5eb42-39be-4795-aa79-d88bbc60a1c7"
      },
      "outputs": [
        {
          "output_type": "execute_result",
          "data": {
            "text/plain": [
              "{'alpha': 1.0, 'class_prior': None, 'fit_prior': True, 'norm': False}"
            ]
          },
          "metadata": {},
          "execution_count": 26
        }
      ],
      "source": [
        "clf = ComplementNB()\n",
        "clf.get_params()"
      ]
    },
    {
      "cell_type": "code",
      "execution_count": 27,
      "metadata": {
        "colab": {
          "base_uri": "https://localhost:8080/"
        },
        "id": "4-w3dmBPUJ1_",
        "outputId": "8ff30351-636c-4f47-8c59-d65019b28022"
      },
      "outputs": [
        {
          "output_type": "stream",
          "name": "stdout",
          "text": [
            "Ok\n",
            "OK\n",
            "OK\n",
            "OK\n",
            "Best model parameters:  {'alpha': 1.0, 'fit_prior': True, 'norm': False}\n",
            "Initial test accuracy:  0    0.905931\n",
            "Name: TestAccuracy, dtype: float64\n",
            "Test accuracy after tuning:  0.8900301764159703\n"
          ]
        }
      ],
      "source": [
        "tuned_parameters['norm'] = [True, False]\n",
        "\n",
        "tune_model(tuned_parameters, clf.__class__.__name__)"
      ]
    },
    {
      "cell_type": "markdown",
      "metadata": {
        "id": "JMBDBNiMUx_S"
      },
      "source": [
        "## Tuning XGBClassifier"
      ]
    },
    {
      "cell_type": "code",
      "execution_count": 28,
      "metadata": {
        "colab": {
          "base_uri": "https://localhost:8080/"
        },
        "id": "x7cZH3wVU0vA",
        "outputId": "ab11a7a0-627b-41a4-a786-11ea0f1bf716"
      },
      "outputs": [
        {
          "output_type": "execute_result",
          "data": {
            "text/plain": [
              "{'base_score': 0.5,\n",
              " 'booster': 'gbtree',\n",
              " 'colsample_bylevel': 1,\n",
              " 'colsample_bynode': 1,\n",
              " 'colsample_bytree': 1,\n",
              " 'gamma': 0,\n",
              " 'learning_rate': 0.1,\n",
              " 'max_delta_step': 0,\n",
              " 'max_depth': 3,\n",
              " 'min_child_weight': 1,\n",
              " 'missing': None,\n",
              " 'n_estimators': 100,\n",
              " 'n_jobs': 1,\n",
              " 'nthread': None,\n",
              " 'objective': 'binary:logistic',\n",
              " 'random_state': 0,\n",
              " 'reg_alpha': 0,\n",
              " 'reg_lambda': 1,\n",
              " 'scale_pos_weight': 1,\n",
              " 'seed': None,\n",
              " 'silent': None,\n",
              " 'subsample': 1,\n",
              " 'verbosity': 1}"
            ]
          },
          "metadata": {},
          "execution_count": 28
        }
      ],
      "source": [
        "clf = XGBClassifier()\n",
        "clf.get_params()"
      ]
    },
    {
      "cell_type": "code",
      "execution_count": 29,
      "metadata": {
        "colab": {
          "base_uri": "https://localhost:8080/"
        },
        "id": "QFvOtEM4U4Bx",
        "outputId": "abbd856f-5096-42eb-aaf9-7f6b372d327d"
      },
      "outputs": [
        {
          "output_type": "stream",
          "name": "stdout",
          "text": [
            "Ok\n",
            "OK\n",
            "OK\n",
            "OK\n",
            "Best model parameters:  {'learning_rate': 0.15, 'max_depth': 4, 'n_estimators': 150, 'n_jobs': -1}\n",
            "Initial test accuracy:  0    0.905931\n",
            "Name: TestAccuracy, dtype: float64\n",
            "Test accuracy after tuning:  0.8185933147632312\n"
          ]
        }
      ],
      "source": [
        "tuned_parameters = {\n",
        "    \"learning_rate\": [0.05, 0.1, 0.15],\n",
        "    \"max_depth\": [2, 3, 4],\n",
        "    \"n_estimators\": [100, 150],\n",
        "    \"n_jobs\": [-1]\n",
        "}\n",
        "\n",
        "tune_model(tuned_parameters, clf.__class__.__name__)"
      ]
    },
    {
      "cell_type": "markdown",
      "metadata": {
        "id": "g37ES8lTVuM1"
      },
      "source": [
        "## Tuning RandomForestClassifier"
      ]
    },
    {
      "cell_type": "code",
      "execution_count": 42,
      "metadata": {
        "colab": {
          "base_uri": "https://localhost:8080/"
        },
        "id": "cuHMXBFbVzxI",
        "outputId": "9f1dbf6f-979e-4d0b-bfab-6a811e6d9de7"
      },
      "outputs": [
        {
          "output_type": "execute_result",
          "data": {
            "text/plain": [
              "{'bootstrap': True,\n",
              " 'ccp_alpha': 0.0,\n",
              " 'class_weight': None,\n",
              " 'criterion': 'gini',\n",
              " 'max_depth': None,\n",
              " 'max_features': 'auto',\n",
              " 'max_leaf_nodes': None,\n",
              " 'max_samples': None,\n",
              " 'min_impurity_decrease': 0.0,\n",
              " 'min_samples_leaf': 1,\n",
              " 'min_samples_split': 2,\n",
              " 'min_weight_fraction_leaf': 0.0,\n",
              " 'n_estimators': 100,\n",
              " 'n_jobs': None,\n",
              " 'oob_score': False,\n",
              " 'random_state': None,\n",
              " 'verbose': 0,\n",
              " 'warm_start': False}"
            ]
          },
          "metadata": {},
          "execution_count": 42
        }
      ],
      "source": [
        "clf = RandomForestClassifier()\n",
        "clf.get_params()"
      ]
    },
    {
      "cell_type": "code",
      "execution_count": 43,
      "metadata": {
        "id": "BcnO3ZjTV4RF",
        "colab": {
          "base_uri": "https://localhost:8080/"
        },
        "outputId": "a1a6a962-ee01-41ac-94ad-6a2ea3a5b116"
      },
      "outputs": [
        {
          "output_type": "stream",
          "name": "stdout",
          "text": [
            "Ok\n",
            "OK\n",
            "OK\n",
            "OK\n",
            "Best model parameters:  {'n_jobs': -1, 'max_depth': None}\n",
            "Initial test accuracy:  0    0.905931\n",
            "Name: TestAccuracy, dtype: float64\n",
            "Test accuracy after tuning:  0.8206244196843082\n"
          ]
        }
      ],
      "source": [
        "tuned_parameters = {\n",
        "    \"n_jobs\": [-1],\n",
        "    \"max_depth\": [None, 2, 3, 4, 5]\n",
        "}\n",
        "\n",
        "tune_model(tuned_parameters, clf.__class__.__name__)"
      ]
    },
    {
      "cell_type": "markdown",
      "metadata": {
        "id": "Y4zx7g4ZWjqn"
      },
      "source": [
        "## Tuning PassiveAggressiveClassifier"
      ]
    },
    {
      "cell_type": "code",
      "execution_count": 31,
      "metadata": {
        "id": "vza7fFiTWudl",
        "colab": {
          "base_uri": "https://localhost:8080/"
        },
        "outputId": "1d5f9551-edb5-4e53-96c7-e52ab22ad5e9"
      },
      "outputs": [
        {
          "output_type": "execute_result",
          "data": {
            "text/plain": [
              "{'C': 1.0,\n",
              " 'average': False,\n",
              " 'class_weight': None,\n",
              " 'early_stopping': False,\n",
              " 'fit_intercept': True,\n",
              " 'loss': 'hinge',\n",
              " 'max_iter': 1000,\n",
              " 'n_iter_no_change': 5,\n",
              " 'n_jobs': None,\n",
              " 'random_state': None,\n",
              " 'shuffle': True,\n",
              " 'tol': 0.001,\n",
              " 'validation_fraction': 0.1,\n",
              " 'verbose': 0,\n",
              " 'warm_start': False}"
            ]
          },
          "metadata": {},
          "execution_count": 31
        }
      ],
      "source": [
        "clf = PassiveAggressiveClassifier()\n",
        "clf.get_params()"
      ]
    },
    {
      "cell_type": "code",
      "execution_count": 32,
      "metadata": {
        "id": "WKWTtGKKWw2i",
        "colab": {
          "base_uri": "https://localhost:8080/"
        },
        "outputId": "e6f62978-1e5f-4c4c-fa1d-79a5bc5b0210"
      },
      "outputs": [
        {
          "output_type": "stream",
          "name": "stdout",
          "text": [
            "Ok\n",
            "OK\n",
            "OK\n",
            "OK\n",
            "Best model parameters:  {'max_iter': 2500, 'C': 0.5, 'n_jobs': -1}\n",
            "Initial test accuracy:  0    0.905931\n",
            "Name: TestAccuracy, dtype: float64\n",
            "Test accuracy after tuning:  0.8997214484679665\n"
          ]
        }
      ],
      "source": [
        "tuned_parameters = {\n",
        "    \"max_iter\": [2500],\n",
        "    \"C\": [0.5, 1.0, 5.0],\n",
        "    \"n_jobs\": [-1]\n",
        "}\n",
        "\n",
        "tune_model(tuned_parameters, clf.__class__.__name__)\n"
      ]
    },
    {
      "cell_type": "markdown",
      "metadata": {
        "id": "DIbVVaOQXJWC"
      },
      "source": [
        "## Tuning SGDClassifier"
      ]
    },
    {
      "cell_type": "code",
      "execution_count": 33,
      "metadata": {
        "id": "0gf42LWDXMEH",
        "colab": {
          "base_uri": "https://localhost:8080/"
        },
        "outputId": "ae184991-ed97-4ac1-9e56-ff272e2d7308"
      },
      "outputs": [
        {
          "output_type": "execute_result",
          "data": {
            "text/plain": [
              "{'alpha': 0.0001,\n",
              " 'average': False,\n",
              " 'class_weight': None,\n",
              " 'early_stopping': False,\n",
              " 'epsilon': 0.1,\n",
              " 'eta0': 0.0,\n",
              " 'fit_intercept': True,\n",
              " 'l1_ratio': 0.15,\n",
              " 'learning_rate': 'optimal',\n",
              " 'loss': 'hinge',\n",
              " 'max_iter': 1000,\n",
              " 'n_iter_no_change': 5,\n",
              " 'n_jobs': None,\n",
              " 'penalty': 'l2',\n",
              " 'power_t': 0.5,\n",
              " 'random_state': None,\n",
              " 'shuffle': True,\n",
              " 'tol': 0.001,\n",
              " 'validation_fraction': 0.1,\n",
              " 'verbose': 0,\n",
              " 'warm_start': False}"
            ]
          },
          "metadata": {},
          "execution_count": 33
        }
      ],
      "source": [
        "clf = SGDClassifier()\n",
        "clf.get_params()"
      ]
    },
    {
      "cell_type": "code",
      "execution_count": 36,
      "metadata": {
        "id": "cvXyTjNBXPCU",
        "colab": {
          "base_uri": "https://localhost:8080/"
        },
        "outputId": "e062deda-57d9-46c0-8e9b-9d0cee2e578e"
      },
      "outputs": [
        {
          "output_type": "stream",
          "name": "stdout",
          "text": [
            "Ok\n",
            "OK\n",
            "OK\n",
            "OK\n",
            "Best model parameters:  {'max_iter': 2500, 'n_jobs': -1, 'learning_rate': 'adaptive', 'eta0': 0.1}\n",
            "Initial test accuracy:  0    0.905931\n",
            "Name: TestAccuracy, dtype: float64\n",
            "Test accuracy after tuning:  0.9048282265552461\n"
          ]
        }
      ],
      "source": [
        "tuned_parameters = {\n",
        "    \"max_iter\": [2500, 4000],\n",
        "    \"n_jobs\": [-1],\n",
        "    \"learning_rate\": [\"optimal\", \"adaptive\"],\n",
        "    \"eta0\": [0.1, 0.3]\n",
        "}\n",
        "tune_model(tuned_parameters, clf.__class__.__name__)"
      ]
    },
    {
      "cell_type": "markdown",
      "metadata": {
        "id": "BgoxpIypX4Zu"
      },
      "source": [
        "# Checking the tuned_df and saving the dataframe to a .csv file"
      ]
    },
    {
      "cell_type": "code",
      "execution_count": 37,
      "metadata": {
        "id": "O4100ZZyX3na",
        "colab": {
          "base_uri": "https://localhost:8080/",
          "height": 206
        },
        "outputId": "7c652143-eac9-45bf-f855-71ba01bcbbf5"
      },
      "outputs": [
        {
          "output_type": "execute_result",
          "data": {
            "text/html": [
              "\n",
              "  <div id=\"df-0bdb3dd4-827e-44e4-9638-aac097df8ce6\">\n",
              "    <div class=\"colab-df-container\">\n",
              "      <div>\n",
              "<style scoped>\n",
              "    .dataframe tbody tr th:only-of-type {\n",
              "        vertical-align: middle;\n",
              "    }\n",
              "\n",
              "    .dataframe tbody tr th {\n",
              "        vertical-align: top;\n",
              "    }\n",
              "\n",
              "    .dataframe thead th {\n",
              "        text-align: right;\n",
              "    }\n",
              "</style>\n",
              "<table border=\"1\" class=\"dataframe\">\n",
              "  <thead>\n",
              "    <tr style=\"text-align: right;\">\n",
              "      <th></th>\n",
              "      <th>Classifier</th>\n",
              "      <th>By</th>\n",
              "      <th>Preprocessed</th>\n",
              "      <th>Vectorizer</th>\n",
              "      <th>Ngram</th>\n",
              "      <th>TopKFeatures</th>\n",
              "      <th>TrainAccuracy</th>\n",
              "      <th>TestAccuracy</th>\n",
              "      <th>Unnamed: 0</th>\n",
              "    </tr>\n",
              "  </thead>\n",
              "  <tbody>\n",
              "    <tr>\n",
              "      <th>0</th>\n",
              "      <td>LinearSVC</td>\n",
              "      <td>full_text</td>\n",
              "      <td>0</td>\n",
              "      <td>TfidfVectorizer</td>\n",
              "      <td>(1, 1)</td>\n",
              "      <td>7500</td>\n",
              "      <td>NaN</td>\n",
              "      <td>0.905931</td>\n",
              "      <td>0.0</td>\n",
              "    </tr>\n",
              "    <tr>\n",
              "      <th>0</th>\n",
              "      <td>SGDClassifier</td>\n",
              "      <td>full_text</td>\n",
              "      <td>0</td>\n",
              "      <td>CountVectorizer</td>\n",
              "      <td>(1, 1)</td>\n",
              "      <td>7500</td>\n",
              "      <td>NaN</td>\n",
              "      <td>0.904828</td>\n",
              "      <td>0.0</td>\n",
              "    </tr>\n",
              "    <tr>\n",
              "      <th>0</th>\n",
              "      <td>PassiveAggressiveClassifier</td>\n",
              "      <td>full_text</td>\n",
              "      <td>0</td>\n",
              "      <td>TfidfVectorizer</td>\n",
              "      <td>(1, 2)</td>\n",
              "      <td>7500</td>\n",
              "      <td>NaN</td>\n",
              "      <td>0.899721</td>\n",
              "      <td>0.0</td>\n",
              "    </tr>\n",
              "    <tr>\n",
              "      <th>0</th>\n",
              "      <td>ComplementNB</td>\n",
              "      <td>full_text</td>\n",
              "      <td>0</td>\n",
              "      <td>TfidfVectorizer</td>\n",
              "      <td>(1, 1)</td>\n",
              "      <td>7500</td>\n",
              "      <td>NaN</td>\n",
              "      <td>0.890030</td>\n",
              "      <td>0.0</td>\n",
              "    </tr>\n",
              "    <tr>\n",
              "      <th>0</th>\n",
              "      <td>MultinomialNB</td>\n",
              "      <td>full_text</td>\n",
              "      <td>0</td>\n",
              "      <td>CountVectorizer</td>\n",
              "      <td>(1, 1)</td>\n",
              "      <td>7500</td>\n",
              "      <td>NaN</td>\n",
              "      <td>0.886200</td>\n",
              "      <td>0.0</td>\n",
              "    </tr>\n",
              "  </tbody>\n",
              "</table>\n",
              "</div>\n",
              "      <button class=\"colab-df-convert\" onclick=\"convertToInteractive('df-0bdb3dd4-827e-44e4-9638-aac097df8ce6')\"\n",
              "              title=\"Convert this dataframe to an interactive table.\"\n",
              "              style=\"display:none;\">\n",
              "        \n",
              "  <svg xmlns=\"http://www.w3.org/2000/svg\" height=\"24px\"viewBox=\"0 0 24 24\"\n",
              "       width=\"24px\">\n",
              "    <path d=\"M0 0h24v24H0V0z\" fill=\"none\"/>\n",
              "    <path d=\"M18.56 5.44l.94 2.06.94-2.06 2.06-.94-2.06-.94-.94-2.06-.94 2.06-2.06.94zm-11 1L8.5 8.5l.94-2.06 2.06-.94-2.06-.94L8.5 2.5l-.94 2.06-2.06.94zm10 10l.94 2.06.94-2.06 2.06-.94-2.06-.94-.94-2.06-.94 2.06-2.06.94z\"/><path d=\"M17.41 7.96l-1.37-1.37c-.4-.4-.92-.59-1.43-.59-.52 0-1.04.2-1.43.59L10.3 9.45l-7.72 7.72c-.78.78-.78 2.05 0 2.83L4 21.41c.39.39.9.59 1.41.59.51 0 1.02-.2 1.41-.59l7.78-7.78 2.81-2.81c.8-.78.8-2.07 0-2.86zM5.41 20L4 18.59l7.72-7.72 1.47 1.35L5.41 20z\"/>\n",
              "  </svg>\n",
              "      </button>\n",
              "      \n",
              "  <style>\n",
              "    .colab-df-container {\n",
              "      display:flex;\n",
              "      flex-wrap:wrap;\n",
              "      gap: 12px;\n",
              "    }\n",
              "\n",
              "    .colab-df-convert {\n",
              "      background-color: #E8F0FE;\n",
              "      border: none;\n",
              "      border-radius: 50%;\n",
              "      cursor: pointer;\n",
              "      display: none;\n",
              "      fill: #1967D2;\n",
              "      height: 32px;\n",
              "      padding: 0 0 0 0;\n",
              "      width: 32px;\n",
              "    }\n",
              "\n",
              "    .colab-df-convert:hover {\n",
              "      background-color: #E2EBFA;\n",
              "      box-shadow: 0px 1px 2px rgba(60, 64, 67, 0.3), 0px 1px 3px 1px rgba(60, 64, 67, 0.15);\n",
              "      fill: #174EA6;\n",
              "    }\n",
              "\n",
              "    [theme=dark] .colab-df-convert {\n",
              "      background-color: #3B4455;\n",
              "      fill: #D2E3FC;\n",
              "    }\n",
              "\n",
              "    [theme=dark] .colab-df-convert:hover {\n",
              "      background-color: #434B5C;\n",
              "      box-shadow: 0px 1px 3px 1px rgba(0, 0, 0, 0.15);\n",
              "      filter: drop-shadow(0px 1px 2px rgba(0, 0, 0, 0.3));\n",
              "      fill: #FFFFFF;\n",
              "    }\n",
              "  </style>\n",
              "\n",
              "      <script>\n",
              "        const buttonEl =\n",
              "          document.querySelector('#df-0bdb3dd4-827e-44e4-9638-aac097df8ce6 button.colab-df-convert');\n",
              "        buttonEl.style.display =\n",
              "          google.colab.kernel.accessAllowed ? 'block' : 'none';\n",
              "\n",
              "        async function convertToInteractive(key) {\n",
              "          const element = document.querySelector('#df-0bdb3dd4-827e-44e4-9638-aac097df8ce6');\n",
              "          const dataTable =\n",
              "            await google.colab.kernel.invokeFunction('convertToInteractive',\n",
              "                                                     [key], {});\n",
              "          if (!dataTable) return;\n",
              "\n",
              "          const docLinkHtml = 'Like what you see? Visit the ' +\n",
              "            '<a target=\"_blank\" href=https://colab.research.google.com/notebooks/data_table.ipynb>data table notebook</a>'\n",
              "            + ' to learn more about interactive tables.';\n",
              "          element.innerHTML = '';\n",
              "          dataTable['output_type'] = 'display_data';\n",
              "          await google.colab.output.renderOutput(dataTable, element);\n",
              "          const docLink = document.createElement('div');\n",
              "          docLink.innerHTML = docLinkHtml;\n",
              "          element.appendChild(docLink);\n",
              "        }\n",
              "      </script>\n",
              "    </div>\n",
              "  </div>\n",
              "  "
            ],
            "text/plain": [
              "                    Classifier         By  ... TestAccuracy Unnamed: 0\n",
              "0                    LinearSVC  full_text  ...     0.905931        0.0\n",
              "0                SGDClassifier  full_text  ...     0.904828        0.0\n",
              "0  PassiveAggressiveClassifier  full_text  ...     0.899721        0.0\n",
              "0                 ComplementNB  full_text  ...     0.890030        0.0\n",
              "0                MultinomialNB  full_text  ...     0.886200        0.0\n",
              "\n",
              "[5 rows x 9 columns]"
            ]
          },
          "metadata": {},
          "execution_count": 37
        }
      ],
      "source": [
        "tuned_df.sort_values(by=['TestAccuracy'], ascending=False).head(5)\n"
      ]
    },
    {
      "cell_type": "code",
      "execution_count": 44,
      "metadata": {
        "id": "MRfX3qUyYC6z"
      },
      "outputs": [],
      "source": [
        "tuned_df.to_csv(\"results_for_top_5categories/TunedResultsforTop5categories.csv\")"
      ]
    }
  ],
  "metadata": {
    "colab": {
      "name": "tuning_models_for_top5.ipynb",
      "toc_visible": true,
      "provenance": [],
      "authorship_tag": "ABX9TyPU43LMspljvXC/zBQ8/h7i",
      "include_colab_link": true
    },
    "kernelspec": {
      "display_name": "Python 3",
      "name": "python3"
    },
    "language_info": {
      "name": "python"
    }
  },
  "nbformat": 4,
  "nbformat_minor": 0
}