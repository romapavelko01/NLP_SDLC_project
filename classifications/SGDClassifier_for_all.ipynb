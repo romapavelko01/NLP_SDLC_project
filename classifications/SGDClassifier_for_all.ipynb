{
  "nbformat": 4,
  "nbformat_minor": 0,
  "metadata": {
    "colab": {
      "name": "SGDClassifier_for_all.ipynb",
      "provenance": [],
      "authorship_tag": "ABX9TyOf4JnTVKa05n2M2UKZwpnx",
      "include_colab_link": true
    },
    "kernelspec": {
      "name": "python3",
      "display_name": "Python 3"
    },
    "language_info": {
      "name": "python"
    }
  },
  "cells": [
    {
      "cell_type": "markdown",
      "metadata": {
        "id": "view-in-github",
        "colab_type": "text"
      },
      "source": [
        "<a href=\"https://colab.research.google.com/github/romapavelko01/NLP_SDLC_project/blob/classifications/SGDClassifier_for_all.ipynb\" target=\"_parent\"><img src=\"https://colab.research.google.com/assets/colab-badge.svg\" alt=\"Open In Colab\"/></a>"
      ]
    },
    {
      "cell_type": "code",
      "execution_count": null,
      "metadata": {
        "colab": {
          "base_uri": "https://localhost:8080/"
        },
        "id": "471jtpa7_Ldu",
        "outputId": "fe37bdbd-7e0f-4b11-da8e-720cb990c7dd"
      },
      "outputs": [
        {
          "output_type": "stream",
          "name": "stdout",
          "text": [
            "Mounted at /content/drive\n"
          ]
        }
      ],
      "source": [
        "from google.colab import drive\n",
        "drive.mount('/content/drive', force_remount=False)"
      ]
    },
    {
      "cell_type": "code",
      "source": [
        "import pandas as pd\n",
        "import numpy as np\n",
        "from sklearn.linear_model import SGDClassifier\n",
        "from sklearn.model_selection import train_test_split\n",
        "from sklearn.metrics import accuracy_score\n",
        "from sklearn.feature_selection import SelectKBest, f_classif\n",
        "from sklearn.feature_extraction.text import CountVectorizer, TfidfVectorizer"
      ],
      "metadata": {
        "id": "wUKwHaRv_PJQ"
      },
      "execution_count": null,
      "outputs": []
    },
    {
      "cell_type": "code",
      "source": [
        "filename = \"/content/drive/MyDrive/SDLC/news_analysis_project/data/final_news_category_dataset.json\"\n",
        "df = pd.read_json(filename, orient='split')\n",
        "df.head()"
      ],
      "metadata": {
        "colab": {
          "base_uri": "https://localhost:8080/",
          "height": 206
        },
        "id": "SBCm1yxc_Ygc",
        "outputId": "8a7ddd91-6c8d-49de-b524-80ac9185cb3b"
      },
      "execution_count": null,
      "outputs": [
        {
          "output_type": "execute_result",
          "data": {
            "text/html": [
              "<div>\n",
              "<style scoped>\n",
              "    .dataframe tbody tr th:only-of-type {\n",
              "        vertical-align: middle;\n",
              "    }\n",
              "\n",
              "    .dataframe tbody tr th {\n",
              "        vertical-align: top;\n",
              "    }\n",
              "\n",
              "    .dataframe thead th {\n",
              "        text-align: right;\n",
              "    }\n",
              "</style>\n",
              "<table border=\"1\" class=\"dataframe\">\n",
              "  <thead>\n",
              "    <tr style=\"text-align: right;\">\n",
              "      <th></th>\n",
              "      <th>category</th>\n",
              "      <th>headline</th>\n",
              "      <th>authors</th>\n",
              "      <th>link</th>\n",
              "      <th>short_description</th>\n",
              "      <th>date</th>\n",
              "    </tr>\n",
              "  </thead>\n",
              "  <tbody>\n",
              "    <tr>\n",
              "      <th>0</th>\n",
              "      <td>CRIME</td>\n",
              "      <td>There Were 2 Mass Shootings In Texas Last Week...</td>\n",
              "      <td>Melissa Jeltsen</td>\n",
              "      <td>https://www.huffingtonpost.com/entry/texas-ama...</td>\n",
              "      <td>She left her husband. He killed their children...</td>\n",
              "      <td>2018-05-26</td>\n",
              "    </tr>\n",
              "    <tr>\n",
              "      <th>1</th>\n",
              "      <td>ENTERTAINMENT</td>\n",
              "      <td>Will Smith Joins Diplo And Nicky Jam For The 2...</td>\n",
              "      <td>Andy McDonald</td>\n",
              "      <td>https://www.huffingtonpost.com/entry/will-smit...</td>\n",
              "      <td>Of course it has a song.</td>\n",
              "      <td>2018-05-26</td>\n",
              "    </tr>\n",
              "    <tr>\n",
              "      <th>2</th>\n",
              "      <td>ENTERTAINMENT</td>\n",
              "      <td>Hugh Grant Marries For The First Time At Age 57</td>\n",
              "      <td>Ron Dicker</td>\n",
              "      <td>https://www.huffingtonpost.com/entry/hugh-gran...</td>\n",
              "      <td>The actor and his longtime girlfriend Anna Ebe...</td>\n",
              "      <td>2018-05-26</td>\n",
              "    </tr>\n",
              "    <tr>\n",
              "      <th>3</th>\n",
              "      <td>ENTERTAINMENT</td>\n",
              "      <td>Jim Carrey Blasts 'Castrato' Adam Schiff And D...</td>\n",
              "      <td>Ron Dicker</td>\n",
              "      <td>https://www.huffingtonpost.com/entry/jim-carre...</td>\n",
              "      <td>The actor gives Dems an ass-kicking for not fi...</td>\n",
              "      <td>2018-05-26</td>\n",
              "    </tr>\n",
              "    <tr>\n",
              "      <th>4</th>\n",
              "      <td>ENTERTAINMENT</td>\n",
              "      <td>Julianna Margulies Uses Donald Trump Poop Bags...</td>\n",
              "      <td>Ron Dicker</td>\n",
              "      <td>https://www.huffingtonpost.com/entry/julianna-...</td>\n",
              "      <td>The \"Dietland\" actress said using the bags is ...</td>\n",
              "      <td>2018-05-26</td>\n",
              "    </tr>\n",
              "  </tbody>\n",
              "</table>\n",
              "</div>"
            ],
            "text/plain": [
              "        category  ...       date\n",
              "0          CRIME  ... 2018-05-26\n",
              "1  ENTERTAINMENT  ... 2018-05-26\n",
              "2  ENTERTAINMENT  ... 2018-05-26\n",
              "3  ENTERTAINMENT  ... 2018-05-26\n",
              "4  ENTERTAINMENT  ... 2018-05-26\n",
              "\n",
              "[5 rows x 6 columns]"
            ]
          },
          "metadata": {},
          "execution_count": 3
        }
      ]
    },
    {
      "cell_type": "markdown",
      "source": [
        "# Text preprocessing"
      ],
      "metadata": {
        "id": "vLpj1x7z_cRe"
      }
    },
    {
      "cell_type": "code",
      "source": [
        "import nltk\n",
        "nltk.download('stopwords')\n",
        "from nltk.corpus import stopwords\n",
        "stop_words = set(stopwords.words('english'))"
      ],
      "metadata": {
        "colab": {
          "base_uri": "https://localhost:8080/"
        },
        "id": "BE7_Ssr3_aVC",
        "outputId": "cc99a3bd-294f-4366-f7e1-b5e5078ef84f"
      },
      "execution_count": null,
      "outputs": [
        {
          "output_type": "stream",
          "name": "stdout",
          "text": [
            "[nltk_data] Downloading package stopwords to /root/nltk_data...\n",
            "[nltk_data]   Unzipping corpora/stopwords.zip.\n"
          ]
        }
      ]
    },
    {
      "cell_type": "code",
      "source": [
        "import re\n",
        "import string\n",
        "\n",
        "\n",
        "def cleaning_function(sentence):\n",
        "    \"\"\"\n",
        "    Function needed to perform data preprocessing: removing punctuation symbols,\n",
        "    stop_words and other random things in order to obtain clean text\n",
        "    \"\"\"\n",
        "    # the following line removes numbers from text\n",
        "    result = re.sub(r'\\d+', '', sentence.lower())\n",
        "\n",
        "    # the following line removes any punctuation from the text\n",
        "    result = result.translate(str.maketrans('','',string.punctuation))\n",
        "    return [word for word in result.split() if not word in stop_words]\n",
        "\n",
        "\n",
        "def collect_words(lst):\n",
        "    \"\"\"\n",
        "    Given a list of lists of words,\n",
        "    return a list of all the words in a list representation of the text.\n",
        "    \"\"\"\n",
        "    return [word for sentence in lst for word in sentence]"
      ],
      "metadata": {
        "id": "O-F61mGd_f68"
      },
      "execution_count": null,
      "outputs": []
    },
    {
      "cell_type": "code",
      "source": [
        "df['processed_description'] = df['short_description'].apply(lambda x: ' '.join(cleaning_function(x)))\n",
        "df['processed_headline'] = df['headline'].apply(lambda x: ' '.join(cleaning_function(x)))\n",
        "df['full_text'] = df['headline'] + df['short_description']\n",
        "df['processed_full_text'] = df['processed_headline'] + df['processed_description']"
      ],
      "metadata": {
        "id": "PNn8T3rG_iY0"
      },
      "execution_count": null,
      "outputs": []
    },
    {
      "cell_type": "markdown",
      "source": [
        "# Splitting the data into train/test set with identical distribution of labels for processed and raw datasets"
      ],
      "metadata": {
        "id": "u9JXobWiBlZh"
      }
    },
    {
      "cell_type": "code",
      "source": [
        "X_train, X_test, y_train, y_test = train_test_split(df.loc[:, df.columns != 'category'], df['category'], \n",
        "                                                    test_size=0.2, stratify=df.category,\n",
        "                                                    random_state=1)\n",
        "\n",
        "processed_split_description = (X_train['processed_description'], X_test['processed_description'], y_train, y_test)\n",
        "processed_split_headline = (X_train['processed_headline'], X_test['processed_headline'], y_train, y_test)\n",
        "processed_split_full_text = (X_train['processed_full_text'], X_test['processed_full_text'], y_train, y_test)\n",
        "\n",
        "raw_split_description = (X_train['short_description'], X_test['short_description'], y_train, y_test)\n",
        "raw_split_headline = (X_train['headline'], X_test['headline'], y_train, y_test)\n",
        "raw_split_full_text = (X_train['full_text'], X_test['full_text'], y_train, y_test)"
      ],
      "metadata": {
        "id": "h4fwr9izBgTW"
      },
      "execution_count": null,
      "outputs": []
    },
    {
      "cell_type": "markdown",
      "source": [
        "# Function for recording accuracy results for each combination of vectorizer parameters into a dataframe "
      ],
      "metadata": {
        "id": "8WVpgaOFBrSv"
      }
    },
    {
      "cell_type": "code",
      "source": [
        "results_df = pd.DataFrame(columns=['Classifier', 'By', 'Preprocessed', 'Vectorizer', 'Ngram', 'TopKFeatures', 'TrainAccuracy', 'TestAccuracy'])\n",
        "\n",
        "def write_df(dataset, preprocessed, by, clf, vect, ngram=(1, 1), topk=6000, display=True):\n",
        "    \"\"\"\n",
        "    Function to calculate accuracies for the given dataset split, \n",
        "    whether it is raw or preprocessed; \n",
        "    by - in ['headline', 'descirption', 'full_text']\n",
        "    classifier, \n",
        "    vectorizer, ngram parameter, and how many top features to consider;\n",
        "    record calculated accuracies to the results_df;\n",
        "    and, once display is set to True, print classification accuracies\n",
        "    \"\"\"\n",
        "    global results_df\n",
        "\n",
        "    X_train, X_test, y_train, y_test = dataset\n",
        "\n",
        "    vectorizer = vect(ngram_range=ngram)\n",
        "    x_train_ = vectorizer.fit_transform(X_train)\n",
        "\n",
        "    # Vectorize validation texts.\n",
        "    x_val = vectorizer.transform(X_test)\n",
        "    # Select top 'k' of the vectorized features.\n",
        "    selector = SelectKBest(f_classif, k=min(topk, x_train_.shape[1]))\n",
        "    selector.fit(x_train_, y_train)\n",
        "    x_train = selector.transform(x_train_).astype('float32')\n",
        "    x_val = selector.transform(x_val).astype('float32')   \n",
        "\n",
        "    clf = clf()\n",
        "    clf.fit(x_train, y_train)\n",
        "    y_pred_test = clf.predict(x_val)\n",
        "    y_pred_train = clf.predict(x_train)\n",
        "    train_acc, test_acc = accuracy_score(y_train, y_pred_train), accuracy_score(y_test, y_pred_test)\n",
        "    if display:\n",
        "        print(f\"Train classification accuracy = {train_acc},\\n Test classification accuracy = {test_acc}\")\n",
        "\n",
        "    results_df = results_df.append(pd.DataFrame({\n",
        "        'Classifier': [clf.__class__.__name__],\n",
        "        'By': [by],\n",
        "        'Preprocessed': [preprocessed],\n",
        "        'Vectorizer': [vectorizer.__class__.__name__],\n",
        "        'Ngram': [ngram],\n",
        "        'TopKFeatures': [topk],\n",
        "        'TrainAccuracy': [train_acc],\n",
        "        'TestAccuracy': [test_acc]\n",
        "    }), ignore_index=True)"
      ],
      "metadata": {
        "id": "U-E8Wt2qBovZ"
      },
      "execution_count": null,
      "outputs": []
    },
    {
      "cell_type": "code",
      "source": [
        "TOP_KS = np.arange(9000, 12001, 1500)\n",
        "TOP_KS"
      ],
      "metadata": {
        "colab": {
          "base_uri": "https://localhost:8080/"
        },
        "id": "tigc-DNXB0lz",
        "outputId": "a20fc75e-ce5a-4a11-c832-5e82eb5459d4"
      },
      "execution_count": null,
      "outputs": [
        {
          "output_type": "execute_result",
          "data": {
            "text/plain": [
              "array([ 9000, 10500, 12000])"
            ]
          },
          "metadata": {},
          "execution_count": 9
        }
      ]
    },
    {
      "cell_type": "markdown",
      "source": [
        "# Classifying on full text"
      ],
      "metadata": {
        "id": "dcyYAheyB4U5"
      }
    },
    {
      "cell_type": "markdown",
      "source": [
        "## CountVectorizer on Unigrams"
      ],
      "metadata": {
        "id": "HWS2W-_LB5_k"
      }
    },
    {
      "cell_type": "code",
      "source": [
        "for i in (TOP_KS):\n",
        "    print(f\"For top {i} features selected:\\n\")\n",
        "    write_df(processed_split_full_text, 1, 'full_text', SGDClassifier, CountVectorizer, topk=i)\n",
        "    print('\\n')"
      ],
      "metadata": {
        "colab": {
          "base_uri": "https://localhost:8080/"
        },
        "id": "-3KeOF2oB8D_",
        "outputId": "fd0d81da-f3f0-4772-f56b-5d365737d08c"
      },
      "execution_count": null,
      "outputs": [
        {
          "output_type": "stream",
          "name": "stdout",
          "text": [
            "For top 9000 features selected:\n",
            "\n",
            "Train classification accuracy = 0.622963368641167,\n",
            " Test classification accuracy = 0.5572427870852107\n",
            "\n",
            "\n",
            "For top 10500 features selected:\n",
            "\n",
            "Train classification accuracy = 0.625434087203296,\n",
            " Test classification accuracy = 0.5608025690174504\n",
            "\n",
            "\n",
            "For top 12000 features selected:\n",
            "\n",
            "Train classification accuracy = 0.6349871174120312,\n",
            " Test classification accuracy = 0.5615244828358766\n",
            "\n",
            "\n"
          ]
        }
      ]
    },
    {
      "cell_type": "markdown",
      "source": [
        "## TfidfVectorizer on Unirams and Bigrams"
      ],
      "metadata": {
        "id": "OSo8BU7nB8PS"
      }
    },
    {
      "cell_type": "code",
      "source": [
        "for i in (TOP_KS):\n",
        "    print(f\"For top {i} features selected:\\n\")\n",
        "    write_df(processed_split_full_text, 1, 'full_text', SGDClassifier, TfidfVectorizer, topk=i)\n",
        "    print('\\n')"
      ],
      "metadata": {
        "colab": {
          "base_uri": "https://localhost:8080/"
        },
        "id": "JfX3Omd5B2yn",
        "outputId": "833d33f6-72af-469b-f253-9266566a06f3"
      },
      "execution_count": null,
      "outputs": [
        {
          "output_type": "stream",
          "name": "stdout",
          "text": [
            "For top 9000 features selected:\n",
            "\n",
            "Train classification accuracy = 0.5881990515427988,\n",
            " Test classification accuracy = 0.5354111174728038\n",
            "\n",
            "\n",
            "For top 10500 features selected:\n",
            "\n",
            "Train classification accuracy = 0.5885226721101305,\n",
            " Test classification accuracy = 0.5363321799307958\n",
            "\n",
            "\n",
            "For top 12000 features selected:\n",
            "\n",
            "Train classification accuracy = 0.5965322811515913,\n",
            " Test classification accuracy = 0.5399168554429813\n",
            "\n",
            "\n"
          ]
        }
      ]
    },
    {
      "cell_type": "markdown",
      "source": [
        "# Showing top 5 results by test accuracy and saving the table to csv file"
      ],
      "metadata": {
        "id": "LyKG6WFlCKfG"
      }
    },
    {
      "cell_type": "code",
      "source": [
        "results_df.sort_values(by='TestAccuracy', ascending=False).head(5)"
      ],
      "metadata": {
        "colab": {
          "base_uri": "https://localhost:8080/",
          "height": 206
        },
        "id": "O9NYmpYZCO3J",
        "outputId": "c9a0c0f1-3398-453a-ec71-77fca4b3e9ce"
      },
      "execution_count": null,
      "outputs": [
        {
          "output_type": "execute_result",
          "data": {
            "text/html": [
              "<div>\n",
              "<style scoped>\n",
              "    .dataframe tbody tr th:only-of-type {\n",
              "        vertical-align: middle;\n",
              "    }\n",
              "\n",
              "    .dataframe tbody tr th {\n",
              "        vertical-align: top;\n",
              "    }\n",
              "\n",
              "    .dataframe thead th {\n",
              "        text-align: right;\n",
              "    }\n",
              "</style>\n",
              "<table border=\"1\" class=\"dataframe\">\n",
              "  <thead>\n",
              "    <tr style=\"text-align: right;\">\n",
              "      <th></th>\n",
              "      <th>Classifier</th>\n",
              "      <th>By</th>\n",
              "      <th>Preprocessed</th>\n",
              "      <th>Vectorizer</th>\n",
              "      <th>Ngram</th>\n",
              "      <th>TopKFeatures</th>\n",
              "      <th>TrainAccuracy</th>\n",
              "      <th>TestAccuracy</th>\n",
              "    </tr>\n",
              "  </thead>\n",
              "  <tbody>\n",
              "    <tr>\n",
              "      <th>2</th>\n",
              "      <td>SGDClassifier</td>\n",
              "      <td>full_text</td>\n",
              "      <td>1</td>\n",
              "      <td>CountVectorizer</td>\n",
              "      <td>(1, 1)</td>\n",
              "      <td>12000</td>\n",
              "      <td>0.634987</td>\n",
              "      <td>0.561524</td>\n",
              "    </tr>\n",
              "    <tr>\n",
              "      <th>1</th>\n",
              "      <td>SGDClassifier</td>\n",
              "      <td>full_text</td>\n",
              "      <td>1</td>\n",
              "      <td>CountVectorizer</td>\n",
              "      <td>(1, 1)</td>\n",
              "      <td>10500</td>\n",
              "      <td>0.625434</td>\n",
              "      <td>0.560803</td>\n",
              "    </tr>\n",
              "    <tr>\n",
              "      <th>0</th>\n",
              "      <td>SGDClassifier</td>\n",
              "      <td>full_text</td>\n",
              "      <td>1</td>\n",
              "      <td>CountVectorizer</td>\n",
              "      <td>(1, 1)</td>\n",
              "      <td>9000</td>\n",
              "      <td>0.622963</td>\n",
              "      <td>0.557243</td>\n",
              "    </tr>\n",
              "    <tr>\n",
              "      <th>5</th>\n",
              "      <td>SGDClassifier</td>\n",
              "      <td>full_text</td>\n",
              "      <td>1</td>\n",
              "      <td>TfidfVectorizer</td>\n",
              "      <td>(1, 1)</td>\n",
              "      <td>12000</td>\n",
              "      <td>0.596532</td>\n",
              "      <td>0.539917</td>\n",
              "    </tr>\n",
              "    <tr>\n",
              "      <th>4</th>\n",
              "      <td>SGDClassifier</td>\n",
              "      <td>full_text</td>\n",
              "      <td>1</td>\n",
              "      <td>TfidfVectorizer</td>\n",
              "      <td>(1, 1)</td>\n",
              "      <td>10500</td>\n",
              "      <td>0.588523</td>\n",
              "      <td>0.536332</td>\n",
              "    </tr>\n",
              "  </tbody>\n",
              "</table>\n",
              "</div>"
            ],
            "text/plain": [
              "      Classifier         By  ... TrainAccuracy TestAccuracy\n",
              "2  SGDClassifier  full_text  ...      0.634987     0.561524\n",
              "1  SGDClassifier  full_text  ...      0.625434     0.560803\n",
              "0  SGDClassifier  full_text  ...      0.622963     0.557243\n",
              "5  SGDClassifier  full_text  ...      0.596532     0.539917\n",
              "4  SGDClassifier  full_text  ...      0.588523     0.536332\n",
              "\n",
              "[5 rows x 8 columns]"
            ]
          },
          "metadata": {},
          "execution_count": 13
        }
      ]
    },
    {
      "cell_type": "code",
      "source": [
        "results_df.to_csv('/content/drive/MyDrive/SDLC/news_analysis_project/resultsSGD_for_all.csv')"
      ],
      "metadata": {
        "id": "p6mgDe1SCSvD"
      },
      "execution_count": null,
      "outputs": []
    }
  ]
}