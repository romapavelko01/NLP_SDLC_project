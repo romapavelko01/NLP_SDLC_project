{
  "nbformat": 4,
  "nbformat_minor": 0,
  "metadata": {
    "colab": {
      "name": "ComplementNB_for_all.ipynb",
      "provenance": [],
      "toc_visible": true,
      "authorship_tag": "ABX9TyMxd2ADvh76oYuI3rGwu5F1",
      "include_colab_link": true
    },
    "kernelspec": {
      "name": "python3",
      "display_name": "Python 3"
    },
    "language_info": {
      "name": "python"
    }
  },
  "cells": [
    {
      "cell_type": "markdown",
      "metadata": {
        "id": "view-in-github",
        "colab_type": "text"
      },
      "source": [
        "<a href=\"https://colab.research.google.com/github/romapavelko01/NLP_SDLC_project/blob/classifications/ComplementNB_for_all.ipynb\" target=\"_parent\"><img src=\"https://colab.research.google.com/assets/colab-badge.svg\" alt=\"Open In Colab\"/></a>"
      ]
    },
    {
      "cell_type": "code",
      "metadata": {
        "colab": {
          "base_uri": "https://localhost:8080/"
        },
        "id": "MoMX_TiQ_jTv",
        "outputId": "a8088702-d701-4e8a-d47e-fd78de0b5f46"
      },
      "source": [
        "from google.colab import drive\n",
        "drive.mount('/content/drive/')"
      ],
      "execution_count": null,
      "outputs": [
        {
          "output_type": "stream",
          "name": "stdout",
          "text": [
            "Mounted at /content/drive/\n"
          ]
        }
      ]
    },
    {
      "cell_type": "code",
      "metadata": {
        "id": "9Y9WqR6K_rLU"
      },
      "source": [
        "import pandas as pd\n",
        "import numpy as np\n",
        "from sklearn.feature_extraction.text import CountVectorizer, TfidfVectorizer\n",
        "from sklearn.naive_bayes import ComplementNB\n",
        "from sklearn.model_selection import train_test_split\n",
        "from sklearn.metrics import accuracy_score\n",
        "from sklearn.feature_selection import SelectKBest, f_classif"
      ],
      "execution_count": null,
      "outputs": []
    },
    {
      "cell_type": "code",
      "metadata": {
        "colab": {
          "base_uri": "https://localhost:8080/",
          "height": 195
        },
        "id": "1bTIjI1mAWoQ",
        "outputId": "bd1ed887-9a4a-432b-db6a-ebdba1905477"
      },
      "source": [
        "filename = \"/content/drive/MyDrive/SDLC/news_analysis_project/data/final_news_category_dataset.json\"\n",
        "df = pd.read_json(filename, orient='split')\n",
        "df.head(3)"
      ],
      "execution_count": null,
      "outputs": [
        {
          "output_type": "execute_result",
          "data": {
            "text/html": [
              "<div>\n",
              "<style scoped>\n",
              "    .dataframe tbody tr th:only-of-type {\n",
              "        vertical-align: middle;\n",
              "    }\n",
              "\n",
              "    .dataframe tbody tr th {\n",
              "        vertical-align: top;\n",
              "    }\n",
              "\n",
              "    .dataframe thead th {\n",
              "        text-align: right;\n",
              "    }\n",
              "</style>\n",
              "<table border=\"1\" class=\"dataframe\">\n",
              "  <thead>\n",
              "    <tr style=\"text-align: right;\">\n",
              "      <th></th>\n",
              "      <th>category</th>\n",
              "      <th>headline</th>\n",
              "      <th>authors</th>\n",
              "      <th>link</th>\n",
              "      <th>short_description</th>\n",
              "      <th>date</th>\n",
              "    </tr>\n",
              "  </thead>\n",
              "  <tbody>\n",
              "    <tr>\n",
              "      <th>0</th>\n",
              "      <td>CRIME</td>\n",
              "      <td>There Were 2 Mass Shootings In Texas Last Week...</td>\n",
              "      <td>Melissa Jeltsen</td>\n",
              "      <td>https://www.huffingtonpost.com/entry/texas-ama...</td>\n",
              "      <td>She left her husband. He killed their children...</td>\n",
              "      <td>2018-05-26</td>\n",
              "    </tr>\n",
              "    <tr>\n",
              "      <th>1</th>\n",
              "      <td>ENTERTAINMENT</td>\n",
              "      <td>Will Smith Joins Diplo And Nicky Jam For The 2...</td>\n",
              "      <td>Andy McDonald</td>\n",
              "      <td>https://www.huffingtonpost.com/entry/will-smit...</td>\n",
              "      <td>Of course it has a song.</td>\n",
              "      <td>2018-05-26</td>\n",
              "    </tr>\n",
              "    <tr>\n",
              "      <th>2</th>\n",
              "      <td>ENTERTAINMENT</td>\n",
              "      <td>Hugh Grant Marries For The First Time At Age 57</td>\n",
              "      <td>Ron Dicker</td>\n",
              "      <td>https://www.huffingtonpost.com/entry/hugh-gran...</td>\n",
              "      <td>The actor and his longtime girlfriend Anna Ebe...</td>\n",
              "      <td>2018-05-26</td>\n",
              "    </tr>\n",
              "  </tbody>\n",
              "</table>\n",
              "</div>"
            ],
            "text/plain": [
              "        category  ...       date\n",
              "0          CRIME  ... 2018-05-26\n",
              "1  ENTERTAINMENT  ... 2018-05-26\n",
              "2  ENTERTAINMENT  ... 2018-05-26\n",
              "\n",
              "[3 rows x 6 columns]"
            ]
          },
          "metadata": {},
          "execution_count": 3
        }
      ]
    },
    {
      "cell_type": "markdown",
      "metadata": {
        "id": "65pUT3uVAcfR"
      },
      "source": [
        "## Text preprocessing"
      ]
    },
    {
      "cell_type": "code",
      "metadata": {
        "colab": {
          "base_uri": "https://localhost:8080/"
        },
        "id": "6N0O5gRAAYWE",
        "outputId": "b2f6b8a1-dc4b-4130-a1b6-312d7a1bd1f1"
      },
      "source": [
        "import nltk\n",
        "nltk.download('stopwords')\n",
        "from nltk.corpus import stopwords\n",
        "stop_words = set(stopwords.words('english'))"
      ],
      "execution_count": null,
      "outputs": [
        {
          "output_type": "stream",
          "name": "stdout",
          "text": [
            "[nltk_data] Downloading package stopwords to /root/nltk_data...\n",
            "[nltk_data]   Unzipping corpora/stopwords.zip.\n"
          ]
        }
      ]
    },
    {
      "cell_type": "code",
      "metadata": {
        "id": "O-4k4jZRAfu4"
      },
      "source": [
        "import re\n",
        "import string\n",
        "\n",
        "\n",
        "def cleaning_function(sentence):\n",
        "    \"\"\"\n",
        "    Function needed to perform data preprocessing: removing punctuation symbols,\n",
        "    stop_words and other random things in order to obtain clean text\n",
        "    \"\"\"\n",
        "    # the following line removes numbers from text\n",
        "    result = re.sub(r'\\d+', '', sentence.lower())\n",
        "\n",
        "    # the following line removes any punctuation from the text\n",
        "    result = result.translate(str.maketrans('','',string.punctuation))\n",
        "    return [word for word in result.split() if not word in stop_words]"
      ],
      "execution_count": null,
      "outputs": []
    },
    {
      "cell_type": "code",
      "metadata": {
        "id": "w0mBNEDQAjOZ"
      },
      "source": [
        "df['processed_description'] = df['short_description'].apply(lambda x: ' '.join(cleaning_function(x)))\n",
        "df['processed_headline'] = df['headline'].apply(lambda x: ' '.join(cleaning_function(x)))\n",
        "df['full_text'] = df['headline'] + df['short_description']\n",
        "df['processed_full_text'] = df['processed_headline'] + df['processed_description']"
      ],
      "execution_count": null,
      "outputs": []
    },
    {
      "cell_type": "markdown",
      "metadata": {
        "id": "Gu2-TYoXc_UZ"
      },
      "source": [
        "**ComplementNB is said to be suitable for imbalanced datasets, so that is why an entire notebook is created for this model**"
      ]
    },
    {
      "cell_type": "markdown",
      "source": [
        "# Splitting the data into train/test with equal distribution of labels in both sets"
      ],
      "metadata": {
        "id": "_joAeIspE5am"
      }
    },
    {
      "cell_type": "code",
      "source": [
        "X_train, X_test, y_train, y_test = train_test_split(df.loc[:, df.columns != 'category'], df['category'], \n",
        "                                                    test_size=0.2, stratify=df.category,\n",
        "                                                    random_state=1)\n",
        "\n",
        "processed_split_description = (X_train['processed_description'], X_test['processed_description'], y_train, y_test)\n",
        "processed_split_headline = (X_train['processed_headline'], X_test['processed_headline'], y_train, y_test)\n",
        "processed_split_full_text = (X_train['processed_full_text'], X_test['processed_full_text'], y_train, y_test)\n",
        "\n",
        "raw_split_description = (X_train['short_description'], X_test['short_description'], y_train, y_test)\n",
        "raw_split_headline = (X_train['headline'], X_test['headline'], y_train, y_test)\n",
        "raw_split_full_text = (X_train['full_text'], X_test['full_text'], y_train, y_test)"
      ],
      "metadata": {
        "id": "OIkPa8PlFAvU"
      },
      "execution_count": null,
      "outputs": []
    },
    {
      "cell_type": "markdown",
      "source": [
        "# Creating a results table to store accuracies of combinations of vectorizer parameters for ComplementNB and defining a function to record data to the table"
      ],
      "metadata": {
        "id": "zDNDhmUyDovM"
      }
    },
    {
      "cell_type": "code",
      "source": [
        "results_df = pd.DataFrame(columns=['Classifier', 'By', 'Preprocessed', 'Vectorizer', 'Ngram', 'TopKFeatures', 'TrainAccuracy', 'TestAccuracy'])\n",
        "\n",
        "def write_df(dataset, preprocessed, by, clf, vect, ngram=(1, 1), topk=6000, display=True):\n",
        "    \"\"\"\n",
        "    Function to calculate accuracies for the given dataset split, \n",
        "    whether it is raw or preprocessed; \n",
        "    by - in ['headline', 'descirption', 'full_text']\n",
        "    classifier, \n",
        "    vectorizer, ngram parameter, and how many top features to consider;\n",
        "    record calculated accuracies to the results_df;\n",
        "    and, once display is set to True, print classification accuracies\n",
        "    \"\"\"\n",
        "    global results_df\n",
        "\n",
        "    X_train, X_test, y_train, y_test = dataset\n",
        "\n",
        "    vectorizer = vect(ngram_range=ngram)\n",
        "    x_train_ = vectorizer.fit_transform(X_train)\n",
        "\n",
        "    # Vectorize validation texts.\n",
        "    x_val = vectorizer.transform(X_test)\n",
        "    # Select top 'k' of the vectorized features.\n",
        "    selector = SelectKBest(f_classif, k=min(topk, x_train_.shape[1]))\n",
        "    selector.fit(x_train_, y_train)\n",
        "    x_train = selector.transform(x_train_).astype('float32')\n",
        "    x_val = selector.transform(x_val).astype('float32')   \n",
        "\n",
        "    clf = clf()\n",
        "    clf.fit(x_train, y_train)\n",
        "    y_pred_test = clf.predict(x_val)\n",
        "    y_pred_train = clf.predict(x_train)\n",
        "    train_acc, test_acc = accuracy_score(y_train, y_pred_train), accuracy_score(y_test, y_pred_test)\n",
        "    if display:\n",
        "        print(f\"Train classification accuracy = {train_acc},\\n Test classification accuracy = {test_acc}\")\n",
        "\n",
        "    results_df = results_df.append(pd.DataFrame({\n",
        "        'Classifier': [clf.__class__.__name__],\n",
        "        'By': [by],\n",
        "        'Preprocessed': [preprocessed],\n",
        "        'Vectorizer': [vectorizer.__class__.__name__],\n",
        "        'Ngram': [ngram],\n",
        "        'TopKFeatures': [topk],\n",
        "        'TrainAccuracy': [train_acc],\n",
        "        'TestAccuracy': [test_acc]\n",
        "    }), ignore_index=True)"
      ],
      "metadata": {
        "id": "C_GoOUyVEN_3"
      },
      "execution_count": null,
      "outputs": []
    },
    {
      "cell_type": "code",
      "source": [
        "TOP_KS = np.arange(5000, 15000, 1000)"
      ],
      "metadata": {
        "id": "_Yk6sTB5HABd"
      },
      "execution_count": null,
      "outputs": []
    },
    {
      "cell_type": "markdown",
      "metadata": {
        "id": "_eNRbhWRfQon"
      },
      "source": [
        "# Classifying  on short description"
      ]
    },
    {
      "cell_type": "markdown",
      "source": [
        "## With preprocessing"
      ],
      "metadata": {
        "id": "pMPYIWoTSZHd"
      }
    },
    {
      "cell_type": "markdown",
      "source": [
        "### CountVectorizer"
      ],
      "metadata": {
        "id": "bA-ifcsgHXjY"
      }
    },
    {
      "cell_type": "markdown",
      "source": [
        "#### Unigrams"
      ],
      "metadata": {
        "id": "-Gntd_OvHZGq"
      }
    },
    {
      "cell_type": "code",
      "source": [
        "for i in (TOP_KS):\n",
        "    print(f\"For top {i} features selected:\\n\")\n",
        "    write_df(processed_split_description, 1, 'description', ComplementNB, CountVectorizer, topk=i)\n",
        "    print('\\n')"
      ],
      "metadata": {
        "id": "Af2G9YyISb-i",
        "colab": {
          "base_uri": "https://localhost:8080/"
        },
        "outputId": "6f003d4f-7811-447a-a1b1-1f27edb39a72"
      },
      "execution_count": null,
      "outputs": [
        {
          "output_type": "stream",
          "name": "stdout",
          "text": [
            "For top 5000 features selected:\n",
            "\n",
            "Train classification accuracy = 0.4114524340000747,\n",
            " Test classification accuracy = 0.3924970750043564\n",
            "\n",
            "\n",
            "For top 6000 features selected:\n",
            "\n",
            "Train classification accuracy = 0.4178439402048767,\n",
            " Test classification accuracy = 0.39645515421572775\n",
            "\n",
            "\n",
            "For top 7000 features selected:\n",
            "\n",
            "Train classification accuracy = 0.4230654335893255,\n",
            " Test classification accuracy = 0.39894451221030097\n",
            "\n",
            "\n",
            "For top 8000 features selected:\n",
            "\n",
            "Train classification accuracy = 0.4278450604299175,\n",
            " Test classification accuracy = 0.3998157875084016\n",
            "\n",
            "\n",
            "For top 9000 features selected:\n",
            "\n",
            "Train classification accuracy = 0.43263713421540684,\n",
            " Test classification accuracy = 0.4018072739040601\n",
            "\n",
            "\n",
            "For top 10000 features selected:\n",
            "\n",
            "Train classification accuracy = 0.43744165494579357,\n",
            " Test classification accuracy = 0.40454556769809064\n",
            "\n",
            "\n",
            "For top 11000 features selected:\n",
            "\n",
            "Train classification accuracy = 0.4415864875966194,\n",
            " Test classification accuracy = 0.4056657787956486\n",
            "\n",
            "\n",
            "For top 12000 features selected:\n",
            "\n",
            "Train classification accuracy = 0.44662127680760755,\n",
            " Test classification accuracy = 0.4075576908715242\n",
            "\n",
            "\n",
            "For top 13000 features selected:\n",
            "\n",
            "Train classification accuracy = 0.45069765126149786,\n",
            " Test classification accuracy = 0.4099225809663688\n",
            "\n",
            "\n",
            "For top 14000 features selected:\n",
            "\n",
            "Train classification accuracy = 0.453740929288906,\n",
            " Test classification accuracy = 0.41007194244604317\n",
            "\n",
            "\n"
          ]
        }
      ]
    },
    {
      "cell_type": "markdown",
      "source": [
        "#### Unigrams and Bigrams"
      ],
      "metadata": {
        "id": "JRPChYi0Haz6"
      }
    },
    {
      "cell_type": "code",
      "source": [
        "for i in (TOP_KS):\n",
        "    print(f\"For top {i} features selected:\\n\")\n",
        "    write_df(processed_split_description, 1, 'description', ComplementNB, CountVectorizer, ngram=(1, 2), topk=i)\n",
        "    print('\\n')"
      ],
      "metadata": {
        "colab": {
          "base_uri": "https://localhost:8080/"
        },
        "id": "WFZkOcjrHc_3",
        "outputId": "0f02f24e-b471-47a1-ec4a-4322d3874eb4"
      },
      "execution_count": null,
      "outputs": [
        {
          "output_type": "stream",
          "name": "stdout",
          "text": [
            "For top 5000 features selected:\n",
            "\n",
            "Train classification accuracy = 0.40695908689212235,\n",
            " Test classification accuracy = 0.3874436782753728\n",
            "\n",
            "\n",
            "For top 6000 features selected:\n",
            "\n",
            "Train classification accuracy = 0.41407873937342077,\n",
            " Test classification accuracy = 0.3920240969853875\n",
            "\n",
            "\n",
            "For top 7000 features selected:\n",
            "\n",
            "Train classification accuracy = 0.41708467656613685,\n",
            " Test classification accuracy = 0.3938911154813174\n",
            "\n",
            "\n",
            "For top 8000 features selected:\n",
            "\n",
            "Train classification accuracy = 0.41768212992121084,\n",
            " Test classification accuracy = 0.39386622190137166\n",
            "\n",
            "\n",
            "For top 9000 features selected:\n",
            "\n",
            "Train classification accuracy = 0.4180057504885426,\n",
            " Test classification accuracy = 0.39386622190137166\n",
            "\n",
            "\n",
            "For top 10000 features selected:\n",
            "\n",
            "Train classification accuracy = 0.41813644340996503,\n",
            " Test classification accuracy = 0.39364217968186005\n",
            "\n",
            "\n",
            "For top 11000 features selected:\n",
            "\n",
            "Train classification accuracy = 0.4181302199375163,\n",
            " Test classification accuracy = 0.3936670732618058\n",
            "\n",
            "\n",
            "For top 12000 features selected:\n",
            "\n",
            "Train classification accuracy = 0.4181551138273111,\n",
            " Test classification accuracy = 0.3935923925219686\n",
            "\n",
            "\n",
            "For top 13000 features selected:\n",
            "\n",
            "Train classification accuracy = 0.41818000771710584,\n",
            " Test classification accuracy = 0.39356749894202286\n",
            "\n",
            "\n",
            "For top 14000 features selected:\n",
            "\n",
            "Train classification accuracy = 0.42042045779863335,\n",
            " Test classification accuracy = 0.3944636678200692\n",
            "\n",
            "\n"
          ]
        }
      ]
    },
    {
      "cell_type": "markdown",
      "source": [
        "### TfidfVectorizer"
      ],
      "metadata": {
        "id": "UfNcO7G0HtZD"
      }
    },
    {
      "cell_type": "markdown",
      "source": [
        "#### Unigrams"
      ],
      "metadata": {
        "id": "DzSPKdMGHu-9"
      }
    },
    {
      "cell_type": "code",
      "source": [
        "for i in (TOP_KS):\n",
        "    print(f\"For top {i} features selected:\\n\")\n",
        "    write_df(processed_split_description, 1, 'description', ComplementNB, TfidfVectorizer, topk=i)\n",
        "    print('\\n')"
      ],
      "metadata": {
        "colab": {
          "base_uri": "https://localhost:8080/"
        },
        "id": "kmYm32KUHyX0",
        "outputId": "5df67771-172c-45b6-da5d-d82f101f7863"
      },
      "execution_count": null,
      "outputs": [
        {
          "output_type": "stream",
          "name": "stdout",
          "text": [
            "For top 5000 features selected:\n",
            "\n",
            "Train classification accuracy = 0.41239840181227516,\n",
            " Test classification accuracy = 0.39247218142441065\n",
            "\n",
            "\n",
            "For top 6000 features selected:\n",
            "\n",
            "Train classification accuracy = 0.42020885973537797,\n",
            " Test classification accuracy = 0.3984964277712778\n",
            "\n",
            "\n",
            "For top 7000 features selected:\n",
            "\n",
            "Train classification accuracy = 0.42447816183517756,\n",
            " Test classification accuracy = 0.39869557641084363\n",
            "\n",
            "\n",
            "For top 8000 features selected:\n",
            "\n",
            "Train classification accuracy = 0.43011662787368843,\n",
            " Test classification accuracy = 0.40220557118319183\n",
            "\n",
            "\n",
            "For top 9000 features selected:\n",
            "\n",
            "Train classification accuracy = 0.4338382643980035,\n",
            " Test classification accuracy = 0.4035498245002614\n",
            "\n",
            "\n",
            "For top 10000 features selected:\n",
            "\n",
            "Train classification accuracy = 0.44017375935076736,\n",
            " Test classification accuracy = 0.40613875681461753\n",
            "\n",
            "\n",
            "For top 11000 features selected:\n",
            "\n",
            "Train classification accuracy = 0.4448351402148343,\n",
            " Test classification accuracy = 0.40790620099076447\n",
            "\n",
            "\n",
            "For top 12000 features selected:\n",
            "\n",
            "Train classification accuracy = 0.4498512590084764,\n",
            " Test classification accuracy = 0.40935002862761694\n",
            "\n",
            "\n",
            "For top 13000 features selected:\n",
            "\n",
            "Train classification accuracy = 0.45410189069092993,\n",
            " Test classification accuracy = 0.4106942819446865\n",
            "\n",
            "\n",
            "For top 14000 features selected:\n",
            "\n",
            "Train classification accuracy = 0.45736299025404215,\n",
            " Test classification accuracy = 0.41081874984441513\n",
            "\n",
            "\n"
          ]
        }
      ]
    },
    {
      "cell_type": "markdown",
      "source": [
        "#### Unigrams and Bigrams"
      ],
      "metadata": {
        "id": "IpNVZa9sHwDg"
      }
    },
    {
      "cell_type": "code",
      "source": [
        "for i in (TOP_KS):\n",
        "    print(f\"For top {i} features selected:\\n\")\n",
        "    write_df(processed_split_description, 1, 'description', ComplementNB, TfidfVectorizer, ngram=(1, 2), topk=i)\n",
        "    print('\\n')"
      ],
      "metadata": {
        "colab": {
          "base_uri": "https://localhost:8080/"
        },
        "id": "ToTGbmCvHzQV",
        "outputId": "bea051a1-e28c-4cb9-c6b8-89caf61101f9"
      },
      "execution_count": null,
      "outputs": [
        {
          "output_type": "stream",
          "name": "stdout",
          "text": [
            "For top 5000 features selected:\n",
            "\n",
            "Train classification accuracy = 0.40610024769420344,\n",
            " Test classification accuracy = 0.3863732543377063\n",
            "\n",
            "\n",
            "For top 6000 features selected:\n",
            "\n",
            "Train classification accuracy = 0.4130892072540795,\n",
            " Test classification accuracy = 0.39053048218864356\n",
            "\n",
            "\n",
            "For top 7000 features selected:\n",
            "\n",
            "Train classification accuracy = 0.41386714131016544,\n",
            " Test classification accuracy = 0.3904806950287521\n",
            "\n",
            "\n",
            "For top 8000 features selected:\n",
            "\n",
            "Train classification accuracy = 0.4141845384050485,\n",
            " Test classification accuracy = 0.39082920514799235\n",
            "\n",
            "\n",
            "For top 9000 features selected:\n",
            "\n",
            "Train classification accuracy = 0.4142281027121893,\n",
            " Test classification accuracy = 0.39120260884717833\n",
            "\n",
            "\n",
            "For top 10000 features selected:\n",
            "\n",
            "Train classification accuracy = 0.4150682714927621,\n",
            " Test classification accuracy = 0.39122750242712406\n",
            "\n",
            "\n",
            "For top 11000 features selected:\n",
            "\n",
            "Train classification accuracy = 0.41532965733560695,\n",
            " Test classification accuracy = 0.3914266510666899\n",
            "\n",
            "\n",
            "For top 12000 features selected:\n",
            "\n",
            "Train classification accuracy = 0.4154105624774399,\n",
            " Test classification accuracy = 0.3915511189664186\n",
            "\n",
            "\n",
            "For top 13000 features selected:\n",
            "\n",
            "Train classification accuracy = 0.4158088647141559,\n",
            " Test classification accuracy = 0.39184984192576733\n",
            "\n",
            "\n",
            "For top 14000 features selected:\n",
            "\n",
            "Train classification accuracy = 0.4178439402048767,\n",
            " Test classification accuracy = 0.3929202658634338\n",
            "\n",
            "\n"
          ]
        }
      ]
    },
    {
      "cell_type": "markdown",
      "source": [
        "## Without preprocessing"
      ],
      "metadata": {
        "id": "X3rUiqMcScgi"
      }
    },
    {
      "cell_type": "markdown",
      "source": [
        "### CountVectorizer"
      ],
      "metadata": {
        "id": "fH8ebJ9qH8Wi"
      }
    },
    {
      "cell_type": "markdown",
      "source": [
        "#### Unigrams"
      ],
      "metadata": {
        "id": "cxL2SM_eH-6b"
      }
    },
    {
      "cell_type": "code",
      "source": [
        "for i in (TOP_KS):\n",
        "    print(f\"For top {i} features selected:\\n\")\n",
        "    write_df(raw_split_description, 0, 'description', ComplementNB, CountVectorizer, topk=i)\n",
        "    print('\\n')"
      ],
      "metadata": {
        "id": "HaDcstTbSeGt",
        "colab": {
          "base_uri": "https://localhost:8080/"
        },
        "outputId": "e521e639-c4dc-402e-b2b3-c4c316a316e6"
      },
      "execution_count": null,
      "outputs": [
        {
          "output_type": "stream",
          "name": "stdout",
          "text": [
            "For top 5000 features selected:\n",
            "\n",
            "Train classification accuracy = 0.41409740979076687,\n",
            " Test classification accuracy = 0.39645515421572775\n",
            "\n",
            "\n",
            "For top 6000 features selected:\n",
            "\n",
            "Train classification accuracy = 0.4198727922231488,\n",
            " Test classification accuracy = 0.3995170645490528\n",
            "\n",
            "\n",
            "For top 7000 features selected:\n",
            "\n",
            "Train classification accuracy = 0.4245403965596644,\n",
            " Test classification accuracy = 0.4004630205869906\n",
            "\n",
            "\n",
            "For top 8000 features selected:\n",
            "\n",
            "Train classification accuracy = 0.42956273882575524,\n",
            " Test classification accuracy = 0.4027781235219437\n",
            "\n",
            "\n",
            "For top 9000 features selected:\n",
            "\n",
            "Train classification accuracy = 0.4334710795235309,\n",
            " Test classification accuracy = 0.4040228025192303\n",
            "\n",
            "\n",
            "For top 10000 features selected:\n",
            "\n",
            "Train classification accuracy = 0.4378586275998556,\n",
            " Test classification accuracy = 0.4056159916357571\n",
            "\n",
            "\n",
            "For top 11000 features selected:\n",
            "\n",
            "Train classification accuracy = 0.4419287785812972,\n",
            " Test classification accuracy = 0.40743322297179557\n",
            "\n",
            "\n",
            "For top 12000 features selected:\n",
            "\n",
            "Train classification accuracy = 0.44583711927907294,\n",
            " Test classification accuracy = 0.4094744965273456\n",
            "\n",
            "\n",
            "For top 13000 features selected:\n",
            "\n",
            "Train classification accuracy = 0.44901731370035225,\n",
            " Test classification accuracy = 0.4099225809663688\n",
            "\n",
            "\n",
            "For top 14000 features selected:\n",
            "\n",
            "Train classification accuracy = 0.45239665923998956,\n",
            " Test classification accuracy = 0.41111747280376393\n",
            "\n",
            "\n"
          ]
        }
      ]
    },
    {
      "cell_type": "markdown",
      "source": [
        "#### Unigrams and bigrams"
      ],
      "metadata": {
        "id": "djkRZ5XPIZP8"
      }
    },
    {
      "cell_type": "code",
      "source": [
        "for i in (TOP_KS):\n",
        "    print(f\"For top {i} features selected:\\n\")\n",
        "    write_df(raw_split_description, 0, 'description', ComplementNB, CountVectorizer, ngram=(1, 2), topk=i)\n",
        "    print('\\n')"
      ],
      "metadata": {
        "colab": {
          "base_uri": "https://localhost:8080/"
        },
        "id": "Vb64vX_jIbDj",
        "outputId": "64d68d6a-8ff7-4e44-8364-9fea3ac8fc0c"
      },
      "execution_count": null,
      "outputs": [
        {
          "output_type": "stream",
          "name": "stdout",
          "text": [
            "For top 5000 features selected:\n",
            "\n",
            "Train classification accuracy = 0.4007605083332296,\n",
            " Test classification accuracy = 0.38525304324014836\n",
            "\n",
            "\n",
            "For top 6000 features selected:\n",
            "\n",
            "Train classification accuracy = 0.40794239553901496,\n",
            " Test classification accuracy = 0.3890866545517911\n",
            "\n",
            "\n",
            "For top 7000 features selected:\n",
            "\n",
            "Train classification accuracy = 0.41379868311322987,\n",
            " Test classification accuracy = 0.3923228199447363\n",
            "\n",
            "\n",
            "For top 8000 features selected:\n",
            "\n",
            "Train classification accuracy = 0.4192379980333827,\n",
            " Test classification accuracy = 0.3954594110178985\n",
            "\n",
            "\n",
            "For top 9000 features selected:\n",
            "\n",
            "Train classification accuracy = 0.42258622621077657,\n",
            " Test classification accuracy = 0.39735132309377413\n",
            "\n",
            "\n",
            "For top 10000 features selected:\n",
            "\n",
            "Train classification accuracy = 0.42347618277093885,\n",
            " Test classification accuracy = 0.3973264295138284\n",
            "\n",
            "\n",
            "For top 11000 features selected:\n",
            "\n",
            "Train classification accuracy = 0.4239180493147957,\n",
            " Test classification accuracy = 0.3971023872943168\n",
            "\n",
            "\n",
            "For top 12000 features selected:\n",
            "\n",
            "Train classification accuracy = 0.4241420943229484,\n",
            " Test classification accuracy = 0.39707749371437107\n",
            "\n",
            "\n",
            "For top 13000 features selected:\n",
            "\n",
            "Train classification accuracy = 0.4242852341892682,\n",
            " Test classification accuracy = 0.3970028129745339\n",
            "\n",
            "\n",
            "For top 14000 features selected:\n",
            "\n",
            "Train classification accuracy = 0.42467731295353556,\n",
            " Test classification accuracy = 0.39705260013442534\n",
            "\n",
            "\n"
          ]
        }
      ]
    },
    {
      "cell_type": "markdown",
      "source": [
        "### TfidfVectorizer"
      ],
      "metadata": {
        "id": "W79u5_q9Jkoy"
      }
    },
    {
      "cell_type": "markdown",
      "source": [
        "#### Unigrams"
      ],
      "metadata": {
        "id": "MmKvGlnuJl-_"
      }
    },
    {
      "cell_type": "code",
      "source": [
        "for i in (TOP_KS):\n",
        "    print(f\"For top {i} features selected:\\n\")\n",
        "    write_df(raw_split_description, 0, 'description', ComplementNB, TfidfVectorizer, topk=i)\n",
        "    print('\\n')"
      ],
      "metadata": {
        "colab": {
          "base_uri": "https://localhost:8080/"
        },
        "id": "MGbwYLdIJnlx",
        "outputId": "5b8dcddf-cc1c-4020-ef68-26d818bb652d"
      },
      "execution_count": null,
      "outputs": [
        {
          "output_type": "stream",
          "name": "stdout",
          "text": [
            "For top 5000 features selected:\n",
            "\n",
            "Train classification accuracy = 0.4191570928915498,\n",
            " Test classification accuracy = 0.3995419581289985\n",
            "\n",
            "\n",
            "For top 6000 features selected:\n",
            "\n",
            "Train classification accuracy = 0.4258971135534783,\n",
            " Test classification accuracy = 0.4042717383186876\n",
            "\n",
            "\n",
            "For top 7000 features selected:\n",
            "\n",
            "Train classification accuracy = 0.43065806997672423,\n",
            " Test classification accuracy = 0.4059645017549974\n",
            "\n",
            "\n",
            "For top 8000 features selected:\n",
            "\n",
            "Train classification accuracy = 0.43534434473058586,\n",
            " Test classification accuracy = 0.40748301013168703\n",
            "\n",
            "\n",
            "For top 9000 features selected:\n",
            "\n",
            "Train classification accuracy = 0.4396136468303855,\n",
            " Test classification accuracy = 0.4090015185083767\n",
            "\n",
            "\n",
            "For top 10000 features selected:\n",
            "\n",
            "Train classification accuracy = 0.44410699393833786,\n",
            " Test classification accuracy = 0.41004704886609744\n",
            "\n",
            "\n",
            "For top 11000 features selected:\n",
            "\n",
            "Train classification accuracy = 0.448843056471789,\n",
            " Test classification accuracy = 0.4118144930422444\n",
            "\n",
            "\n",
            "For top 12000 features selected:\n",
            "\n",
            "Train classification accuracy = 0.4533799678868822,\n",
            " Test classification accuracy = 0.41363172437828283\n",
            "\n",
            "\n",
            "For top 13000 features selected:\n",
            "\n",
            "Train classification accuracy = 0.4566908552295839,\n",
            " Test classification accuracy = 0.41425406387692615\n",
            "\n",
            "\n",
            "For top 14000 features selected:\n",
            "\n",
            "Train classification accuracy = 0.45920513809885366,\n",
            " Test classification accuracy = 0.41417938313708896\n",
            "\n",
            "\n"
          ]
        }
      ]
    },
    {
      "cell_type": "markdown",
      "source": [
        "#### Unigrams and bigrams"
      ],
      "metadata": {
        "id": "PkHInFruJn8b"
      }
    },
    {
      "cell_type": "code",
      "source": [
        "for i in (TOP_KS):\n",
        "    print(f\"For top {i} features selected:\\n\")\n",
        "    write_df(raw_split_description, 0, 'description', ComplementNB, TfidfVectorizer, ngram=(1, 2), topk=i)\n",
        "    print('\\n')"
      ],
      "metadata": {
        "colab": {
          "base_uri": "https://localhost:8080/"
        },
        "id": "zcbq3iCvJpyN",
        "outputId": "c5e6eca7-f942-4cf6-c5d2-b00627ba0a51"
      },
      "execution_count": null,
      "outputs": [
        {
          "output_type": "stream",
          "name": "stdout",
          "text": [
            "For top 5000 features selected:\n",
            "\n",
            "Train classification accuracy = 0.40422698248714856,\n",
            " Test classification accuracy = 0.38729431679569837\n",
            "\n",
            "\n",
            "For top 6000 features selected:\n",
            "\n",
            "Train classification accuracy = 0.4120623343000461,\n",
            " Test classification accuracy = 0.3930696273431082\n",
            "\n",
            "\n",
            "For top 7000 features selected:\n",
            "\n",
            "Train classification accuracy = 0.41786883409467146,\n",
            " Test classification accuracy = 0.3970028129745339\n",
            "\n",
            "\n",
            "For top 8000 features selected:\n",
            "\n",
            "Train classification accuracy = 0.4230031988648386,\n",
            " Test classification accuracy = 0.39961663886883575\n",
            "\n",
            "\n",
            "For top 9000 features selected:\n",
            "\n",
            "Train classification accuracy = 0.4237002277790916,\n",
            " Test classification accuracy = 0.3997660003485101\n",
            "\n",
            "\n",
            "For top 10000 features selected:\n",
            "\n",
            "Train classification accuracy = 0.42402384834642337,\n",
            " Test classification accuracy = 0.3996664260287272\n",
            "\n",
            "\n",
            "For top 11000 features selected:\n",
            "\n",
            "Train classification accuracy = 0.4244968322525236,\n",
            " Test classification accuracy = 0.3996415324487815\n",
            "\n",
            "\n",
            "For top 12000 features selected:\n",
            "\n",
            "Train classification accuracy = 0.4247519946229198,\n",
            " Test classification accuracy = 0.39941749022926987\n",
            "\n",
            "\n",
            "For top 13000 features selected:\n",
            "\n",
            "Train classification accuracy = 0.4250009335208673,\n",
            " Test classification accuracy = 0.3992681287495955\n",
            "\n",
            "\n",
            "For top 14000 features selected:\n",
            "\n",
            "Train classification accuracy = 0.4272351601299461,\n",
            " Test classification accuracy = 0.40078663712628515\n",
            "\n",
            "\n"
          ]
        }
      ]
    },
    {
      "cell_type": "markdown",
      "metadata": {
        "id": "DpTHUtWSfSb7"
      },
      "source": [
        "# Classyfying on headline"
      ]
    },
    {
      "cell_type": "markdown",
      "source": [
        "## With preprocessing"
      ],
      "metadata": {
        "id": "A2hPUoQXSe2F"
      }
    },
    {
      "cell_type": "markdown",
      "source": [
        "### CountVectorizer"
      ],
      "metadata": {
        "id": "R5u8pceIIzUy"
      }
    },
    {
      "cell_type": "markdown",
      "source": [
        "#### Unigrams"
      ],
      "metadata": {
        "id": "Plrx80I1I1Nq"
      }
    },
    {
      "cell_type": "code",
      "source": [
        "for i in (TOP_KS):\n",
        "    print(f\"For top {i} features selected:\\n\")\n",
        "    write_df(processed_split_headline, 1, 'headline', ComplementNB, CountVectorizer, topk=i)\n",
        "    print('\\n')"
      ],
      "metadata": {
        "id": "tH5scLwSSggX",
        "colab": {
          "base_uri": "https://localhost:8080/"
        },
        "outputId": "0ce8ebf9-f74d-4bf2-9e03-9940d5e78142"
      },
      "execution_count": null,
      "outputs": [
        {
          "output_type": "stream",
          "name": "stdout",
          "text": [
            "For top 5000 features selected:\n",
            "\n",
            "Train classification accuracy = 0.5389464905838862,\n",
            " Test classification accuracy = 0.5149237011774663\n",
            "\n",
            "\n",
            "For top 6000 features selected:\n",
            "\n",
            "Train classification accuracy = 0.5466262555855665,\n",
            " Test classification accuracy = 0.5201513529660701\n",
            "\n",
            "\n",
            "For top 7000 features selected:\n",
            "\n",
            "Train classification accuracy = 0.5557934305024832,\n",
            " Test classification accuracy = 0.5256279405541311\n",
            "\n",
            "\n",
            "For top 8000 features selected:\n",
            "\n",
            "Train classification accuracy = 0.5611580637532517,\n",
            " Test classification accuracy = 0.5274202783102238\n",
            "\n",
            "\n",
            "For top 9000 features selected:\n",
            "\n",
            "Train classification accuracy = 0.5674002066192853,\n",
            " Test classification accuracy = 0.5318513355405641\n",
            "\n",
            "\n",
            "For top 10000 features selected:\n",
            "\n",
            "Train classification accuracy = 0.5736050086506267,\n",
            " Test classification accuracy = 0.5335192053969281\n",
            "\n",
            "\n",
            "For top 11000 features selected:\n",
            "\n",
            "Train classification accuracy = 0.5791065582952665,\n",
            " Test classification accuracy = 0.5356849468522068\n",
            "\n",
            "\n",
            "For top 12000 features selected:\n",
            "\n",
            "Train classification accuracy = 0.584689013081739,\n",
            " Test classification accuracy = 0.5384979213860746\n",
            "\n",
            "\n",
            "For top 13000 features selected:\n",
            "\n",
            "Train classification accuracy = 0.589151242827448,\n",
            " Test classification accuracy = 0.5395434517437953\n",
            "\n",
            "\n",
            "For top 14000 features selected:\n",
            "\n",
            "Train classification accuracy = 0.5933209693680687,\n",
            " Test classification accuracy = 0.5404147270418959\n",
            "\n",
            "\n"
          ]
        }
      ]
    },
    {
      "cell_type": "markdown",
      "source": [
        "#### Unigrams and bigrams"
      ],
      "metadata": {
        "id": "WgpiFTsBI3I0"
      }
    },
    {
      "cell_type": "code",
      "source": [
        "for i in (TOP_KS):\n",
        "    print(f\"For top {i} features selected:\\n\")\n",
        "    write_df(processed_split_headline, 1, 'headline', ComplementNB, CountVectorizer, ngram=(1, 2), topk=i)\n",
        "    print('\\n')"
      ],
      "metadata": {
        "colab": {
          "base_uri": "https://localhost:8080/"
        },
        "id": "CcYIo_GMI5Yi",
        "outputId": "05d8fdf3-9ba7-4f59-83db-d0b3411e7a60"
      },
      "execution_count": null,
      "outputs": [
        {
          "output_type": "stream",
          "name": "stdout",
          "text": [
            "For top 5000 features selected:\n",
            "\n",
            "Train classification accuracy = 0.5239541454549981,\n",
            " Test classification accuracy = 0.5039705260013443\n",
            "\n",
            "\n",
            "For top 6000 features selected:\n",
            "\n",
            "Train classification accuracy = 0.535206183642225,\n",
            " Test classification accuracy = 0.5119613651639242\n",
            "\n",
            "\n",
            "For top 7000 features selected:\n",
            "\n",
            "Train classification accuracy = 0.5444729341183207,\n",
            " Test classification accuracy = 0.5183092280500858\n",
            "\n",
            "\n",
            "For top 8000 features selected:\n",
            "\n",
            "Train classification accuracy = 0.5533724997199437,\n",
            " Test classification accuracy = 0.523586666998581\n",
            "\n",
            "\n",
            "For top 9000 features selected:\n",
            "\n",
            "Train classification accuracy = 0.5551150720055762,\n",
            " Test classification accuracy = 0.5234870926787981\n",
            "\n",
            "\n",
            "For top 10000 features selected:\n",
            "\n",
            "Train classification accuracy = 0.5559427938412517,\n",
            " Test classification accuracy = 0.523586666998581\n",
            "\n",
            "\n",
            "For top 11000 features selected:\n",
            "\n",
            "Train classification accuracy = 0.5586126635217386,\n",
            " Test classification accuracy = 0.5247815588359762\n",
            "\n",
            "\n",
            "For top 12000 features selected:\n",
            "\n",
            "Train classification accuracy = 0.560037838712488,\n",
            " Test classification accuracy = 0.5249309203156506\n",
            "\n",
            "\n",
            "For top 13000 features selected:\n",
            "\n",
            "Train classification accuracy = 0.560535716508383,\n",
            " Test classification accuracy = 0.5250056010554878\n",
            "\n",
            "\n",
            "For top 14000 features selected:\n",
            "\n",
            "Train classification accuracy = 0.5608219962410227,\n",
            " Test classification accuracy = 0.5248064524159219\n",
            "\n",
            "\n"
          ]
        }
      ]
    },
    {
      "cell_type": "markdown",
      "source": [
        "### TfidfVectorizer"
      ],
      "metadata": {
        "id": "a2K8w5bLI58c"
      }
    },
    {
      "cell_type": "markdown",
      "source": [
        "#### Unigrams"
      ],
      "metadata": {
        "id": "lBIDknsfI8GG"
      }
    },
    {
      "cell_type": "code",
      "source": [
        "for i in (TOP_KS):\n",
        "    print(f\"For top {i} features selected:\\n\")\n",
        "    write_df(processed_split_headline, 1, 'headline', ComplementNB, TfidfVectorizer, topk=i)\n",
        "    print('\\n')"
      ],
      "metadata": {
        "colab": {
          "base_uri": "https://localhost:8080/"
        },
        "id": "K3SKT6E6JA30",
        "outputId": "a97e1ea3-16a3-4b8e-dae2-f151959e995e"
      },
      "execution_count": null,
      "outputs": [
        {
          "output_type": "stream",
          "name": "stdout",
          "text": [
            "For top 5000 features selected:\n",
            "\n",
            "Train classification accuracy = 0.5403903361919816,\n",
            " Test classification accuracy = 0.5166413581937218\n",
            "\n",
            "\n",
            "For top 6000 features selected:\n",
            "\n",
            "Train classification accuracy = 0.5480763246661107,\n",
            " Test classification accuracy = 0.5227153917004804\n",
            "\n",
            "\n",
            "For top 7000 features selected:\n",
            "\n",
            "Train classification accuracy = 0.5568949851259009,\n",
            " Test classification accuracy = 0.5266734709118518\n",
            "\n",
            "\n",
            "For top 8000 features selected:\n",
            "\n",
            "Train classification accuracy = 0.5628757421490895,\n",
            " Test classification accuracy = 0.5287396380473476\n",
            "\n",
            "\n",
            "For top 9000 features selected:\n",
            "\n",
            "Train classification accuracy = 0.56842085610087,\n",
            " Test classification accuracy = 0.5309551666625177\n",
            "\n",
            "\n",
            "For top 10000 features selected:\n",
            "\n",
            "Train classification accuracy = 0.5755031677474763,\n",
            " Test classification accuracy = 0.5342411192153543\n",
            "\n",
            "\n",
            "For top 11000 features selected:\n",
            "\n",
            "Train classification accuracy = 0.5808740244706937,\n",
            " Test classification accuracy = 0.5355853725324239\n",
            "\n",
            "\n",
            "For top 12000 features selected:\n",
            "\n",
            "Train classification accuracy = 0.5868858988561257,\n",
            " Test classification accuracy = 0.5385726021259117\n",
            "\n",
            "\n",
            "For top 13000 features selected:\n",
            "\n",
            "Train classification accuracy = 0.5909809437273621,\n",
            " Test classification accuracy = 0.5393691966841752\n",
            "\n",
            "\n",
            "For top 14000 features selected:\n",
            "\n",
            "Train classification accuracy = 0.5948830609526892,\n",
            " Test classification accuracy = 0.5397674939633068\n",
            "\n",
            "\n"
          ]
        }
      ]
    },
    {
      "cell_type": "markdown",
      "source": [
        "#### Unigrams and bigrams"
      ],
      "metadata": {
        "id": "hbUijj3XI9cW"
      }
    },
    {
      "cell_type": "code",
      "source": [
        "for i in (TOP_KS):\n",
        "    print(f\"For top {i} features selected:\\n\")\n",
        "    write_df(processed_split_headline, 1, 'headline', ComplementNB, TfidfVectorizer, ngram=(1, 2), topk=i)\n",
        "    print('\\n')"
      ],
      "metadata": {
        "colab": {
          "base_uri": "https://localhost:8080/"
        },
        "id": "1CPeS2xPJAb7",
        "outputId": "18e1b35b-ba41-4f7a-b86e-b5c4a3154c71"
      },
      "execution_count": null,
      "outputs": [
        {
          "output_type": "stream",
          "name": "stdout",
          "text": [
            "For top 5000 features selected:\n",
            "\n",
            "Train classification accuracy = 0.5236927596121532,\n",
            " Test classification accuracy = 0.50399541958129\n",
            "\n",
            "\n",
            "For top 6000 features selected:\n",
            "\n",
            "Train classification accuracy = 0.5354488990677239,\n",
            " Test classification accuracy = 0.5125090239227303\n",
            "\n",
            "\n",
            "For top 7000 features selected:\n",
            "\n",
            "Train classification accuracy = 0.5453504437335855,\n",
            " Test classification accuracy = 0.5180105050907371\n",
            "\n",
            "\n",
            "For top 8000 features selected:\n",
            "\n",
            "Train classification accuracy = 0.5519411010567457,\n",
            " Test classification accuracy = 0.5217943292424884\n",
            "\n",
            "\n",
            "For top 9000 features selected:\n",
            "\n",
            "Train classification accuracy = 0.5527874933097671,\n",
            " Test classification accuracy = 0.5218690099823255\n",
            "\n",
            "\n",
            "For top 10000 features selected:\n",
            "\n",
            "Train classification accuracy = 0.5540197408546073,\n",
            " Test classification accuracy = 0.5222424136815116\n",
            "\n",
            "\n",
            "For top 11000 features selected:\n",
            "\n",
            "Train classification accuracy = 0.5581832439227792,\n",
            " Test classification accuracy = 0.5245575166164647\n",
            "\n",
            "\n",
            "For top 12000 features selected:\n",
            "\n",
            "Train classification accuracy = 0.5588367085298913,\n",
            " Test classification accuracy = 0.5246321973563018\n",
            "\n",
            "\n",
            "For top 13000 features selected:\n",
            "\n",
            "Train classification accuracy = 0.5597079946727076,\n",
            " Test classification accuracy = 0.5246321973563018\n",
            "\n",
            "\n",
            "For top 14000 features selected:\n",
            "\n",
            "Train classification accuracy = 0.5602183194135,\n",
            " Test classification accuracy = 0.5242836872370615\n",
            "\n",
            "\n"
          ]
        }
      ]
    },
    {
      "cell_type": "markdown",
      "source": [
        "## Without preprocessing"
      ],
      "metadata": {
        "id": "XHMYgzH1SgrJ"
      }
    },
    {
      "cell_type": "markdown",
      "source": [
        "### CountVectorizer"
      ],
      "metadata": {
        "id": "-huKPhWTJtI9"
      }
    },
    {
      "cell_type": "markdown",
      "source": [
        "#### Unigrams"
      ],
      "metadata": {
        "id": "wBjviRsGJusK"
      }
    },
    {
      "cell_type": "code",
      "source": [
        "for i in (TOP_KS):\n",
        "    print(f\"For top {i} features selected:\\n\")\n",
        "    write_df(raw_split_headline, 0, 'headline', ComplementNB, CountVectorizer, topk=i)\n",
        "    print('\\n')"
      ],
      "metadata": {
        "id": "NGkn6s1VSinK",
        "colab": {
          "base_uri": "https://localhost:8080/"
        },
        "outputId": "870e0fe1-2546-4891-9b52-35f55033d73b"
      },
      "execution_count": null,
      "outputs": [
        {
          "output_type": "stream",
          "name": "stdout",
          "text": [
            "For top 5000 features selected:\n",
            "\n",
            "Train classification accuracy = 0.549563734581347,\n",
            " Test classification accuracy = 0.5273704911503323\n",
            "\n",
            "\n",
            "For top 6000 features selected:\n",
            "\n",
            "Train classification accuracy = 0.5572808404177195,\n",
            " Test classification accuracy = 0.5318264419606183\n",
            "\n",
            "\n",
            "For top 7000 features selected:\n",
            "\n",
            "Train classification accuracy = 0.5644440572061588,\n",
            " Test classification accuracy = 0.5353115431530209\n",
            "\n",
            "\n",
            "For top 8000 features selected:\n",
            "\n",
            "Train classification accuracy = 0.5705181663160778,\n",
            " Test classification accuracy = 0.5383734534863459\n",
            "\n",
            "\n",
            "For top 9000 features selected:\n",
            "\n",
            "Train classification accuracy = 0.5754782738576816,\n",
            " Test classification accuracy = 0.5411864280202136\n",
            "\n",
            "\n",
            "For top 10000 features selected:\n",
            "\n",
            "Train classification accuracy = 0.5807495550217199,\n",
            " Test classification accuracy = 0.5428791914565234\n",
            "\n",
            "\n",
            "For top 11000 features selected:\n",
            "\n",
            "Train classification accuracy = 0.5857905677051568,\n",
            " Test classification accuracy = 0.5450200393318563\n",
            "\n",
            "\n",
            "For top 12000 features selected:\n",
            "\n",
            "Train classification accuracy = 0.5904021607896341,\n",
            " Test classification accuracy = 0.5470613128874063\n",
            "\n",
            "\n",
            "For top 13000 features selected:\n",
            "\n",
            "Train classification accuracy = 0.5939931043925268,\n",
            " Test classification accuracy = 0.5476338652261582\n",
            "\n",
            "\n",
            "For top 14000 features selected:\n",
            "\n",
            "Train classification accuracy = 0.5968434547740257,\n",
            " Test classification accuracy = 0.548305991884693\n",
            "\n",
            "\n"
          ]
        }
      ]
    },
    {
      "cell_type": "markdown",
      "source": [
        "#### Unigrams and Bigrams"
      ],
      "metadata": {
        "id": "GFR4eq4cNB5z"
      }
    },
    {
      "cell_type": "code",
      "source": [
        "for i in (TOP_KS):\n",
        "    print(f\"For top {i} features selected:\\n\")\n",
        "    write_df(raw_split_headline, 0, 'headline', ComplementNB, CountVectorizer, ngram=(1, 2), topk=i)\n",
        "    print('\\n')"
      ],
      "metadata": {
        "colab": {
          "base_uri": "https://localhost:8080/"
        },
        "id": "xk6y2qrJNFlc",
        "outputId": "4c7f6759-394d-48c9-afe4-35ec438a32f9"
      },
      "execution_count": null,
      "outputs": [
        {
          "output_type": "stream",
          "name": "stdout",
          "text": [
            "For top 5000 features selected:\n",
            "\n",
            "Train classification accuracy = 0.5332457898208884,\n",
            " Test classification accuracy = 0.5152722112967065\n",
            "\n",
            "\n",
            "For top 6000 features selected:\n",
            "\n",
            "Train classification accuracy = 0.5428237139194185,\n",
            " Test classification accuracy = 0.5210724154240621\n",
            "\n",
            "\n",
            "For top 7000 features selected:\n",
            "\n",
            "Train classification accuracy = 0.5502296461333566,\n",
            " Test classification accuracy = 0.5252794304348909\n",
            "\n",
            "\n",
            "For top 8000 features selected:\n",
            "\n",
            "Train classification accuracy = 0.5581645735054331,\n",
            " Test classification accuracy = 0.530556869383386\n",
            "\n",
            "\n",
            "For top 9000 features selected:\n",
            "\n",
            "Train classification accuracy = 0.5648610298602208,\n",
            " Test classification accuracy = 0.5341166513156257\n",
            "\n",
            "\n",
            "For top 10000 features selected:\n",
            "\n",
            "Train classification accuracy = 0.5697713496222352,\n",
            " Test classification accuracy = 0.5375021781882453\n",
            "\n",
            "\n",
            "For top 11000 features selected:\n",
            "\n",
            "Train classification accuracy = 0.5711342900884978,\n",
            " Test classification accuracy = 0.5373279231286251\n",
            "\n",
            "\n",
            "For top 12000 features selected:\n",
            "\n",
            "Train classification accuracy = 0.5717690842782639,\n",
            " Test classification accuracy = 0.5373777102885166\n",
            "\n",
            "\n",
            "For top 13000 features selected:\n",
            "\n",
            "Train classification accuracy = 0.5746194346597627,\n",
            " Test classification accuracy = 0.5383983470662916\n",
            "\n",
            "\n",
            "For top 14000 features selected:\n",
            "\n",
            "Train classification accuracy = 0.5754969442750277,\n",
            " Test classification accuracy = 0.5383983470662916\n",
            "\n",
            "\n"
          ]
        }
      ]
    },
    {
      "cell_type": "markdown",
      "source": [
        "### TfidfVectorizer"
      ],
      "metadata": {
        "id": "KFffiZzlNSPg"
      }
    },
    {
      "cell_type": "markdown",
      "source": [
        "#### Unigrams"
      ],
      "metadata": {
        "id": "GFkT9Jt6NV4h"
      }
    },
    {
      "cell_type": "code",
      "source": [
        "for i in (TOP_KS):\n",
        "    print(f\"For top {i} features selected:\\n\")\n",
        "    write_df(raw_split_headline, 0, 'headline', ComplementNB, TfidfVectorizer, topk=i)\n",
        "    print('\\n')"
      ],
      "metadata": {
        "colab": {
          "base_uri": "https://localhost:8080/"
        },
        "id": "AH9BTv7YNXG7",
        "outputId": "4c186c42-0996-4d7f-8dd8-092063d53d3f"
      },
      "execution_count": null,
      "outputs": [
        {
          "output_type": "stream",
          "name": "stdout",
          "text": [
            "For top 5000 features selected:\n",
            "\n",
            "Train classification accuracy = 0.5500802827945881,\n",
            " Test classification accuracy = 0.5286151701476189\n",
            "\n",
            "\n",
            "For top 6000 features selected:\n",
            "\n",
            "Train classification accuracy = 0.5574177568115906,\n",
            " Test classification accuracy = 0.5320504841801299\n",
            "\n",
            "\n",
            "For top 7000 features selected:\n",
            "\n",
            "Train classification accuracy = 0.5649108176398103,\n",
            " Test classification accuracy = 0.5347638843942147\n",
            "\n",
            "\n",
            "For top 8000 features selected:\n",
            "\n",
            "Train classification accuracy = 0.5708791277181016,\n",
            " Test classification accuracy = 0.5370043065893306\n",
            "\n",
            "\n",
            "For top 9000 features selected:\n",
            "\n",
            "Train classification accuracy = 0.5762624313862162,\n",
            " Test classification accuracy = 0.5396181324836324\n",
            "\n",
            "\n",
            "For top 10000 features selected:\n",
            "\n",
            "Train classification accuracy = 0.5813034440696531,\n",
            " Test classification accuracy = 0.541435363819671\n",
            "\n",
            "\n",
            "For top 11000 features selected:\n",
            "\n",
            "Train classification accuracy = 0.5868361110765362,\n",
            " Test classification accuracy = 0.5442234447735929\n",
            "\n",
            "\n",
            "For top 12000 features selected:\n",
            "\n",
            "Train classification accuracy = 0.5914539276334624,\n",
            " Test classification accuracy = 0.5449453585920191\n",
            "\n",
            "\n",
            "For top 13000 features selected:\n",
            "\n",
            "Train classification accuracy = 0.5955365255598013,\n",
            " Test classification accuracy = 0.5457668467302282\n",
            "\n",
            "\n",
            "For top 14000 features selected:\n",
            "\n",
            "Train classification accuracy = 0.5984428871933384,\n",
            " Test classification accuracy = 0.5465883348684374\n",
            "\n",
            "\n"
          ]
        }
      ]
    },
    {
      "cell_type": "markdown",
      "source": [
        "#### Unigrams and Bigrams"
      ],
      "metadata": {
        "id": "T5ibpHlyNXTT"
      }
    },
    {
      "cell_type": "code",
      "source": [
        "for i in (TOP_KS):\n",
        "    print(f\"For top {i} features selected:\\n\")\n",
        "    write_df(raw_split_headline, 0, 'headline', ComplementNB, TfidfVectorizer, ngram=(1, 2), topk=i)\n",
        "    print('\\n')"
      ],
      "metadata": {
        "colab": {
          "base_uri": "https://localhost:8080/"
        },
        "id": "_SWIHqIzNZFw",
        "outputId": "9e6cc4c2-c005-4307-814e-1bfb2cd509cd"
      },
      "execution_count": null,
      "outputs": [
        {
          "output_type": "stream",
          "name": "stdout",
          "text": [
            "For top 5000 features selected:\n",
            "\n",
            "Train classification accuracy = 0.5337436676167835,\n",
            " Test classification accuracy = 0.5151726369769236\n",
            "\n",
            "\n",
            "For top 6000 features selected:\n",
            "\n",
            "Train classification accuracy = 0.5422324840367931,\n",
            " Test classification accuracy = 0.5204998630853103\n",
            "\n",
            "\n",
            "For top 7000 features selected:\n",
            "\n",
            "Train classification accuracy = 0.5507337474017002,\n",
            " Test classification accuracy = 0.5263249607926116\n",
            "\n",
            "\n",
            "For top 8000 features selected:\n",
            "\n",
            "Train classification accuracy = 0.5577164834891276,\n",
            " Test classification accuracy = 0.5313783575215952\n",
            "\n",
            "\n",
            "For top 9000 features selected:\n",
            "\n",
            "Train classification accuracy = 0.5641764478908652,\n",
            " Test classification accuracy = 0.5355355853725324\n",
            "\n",
            "\n",
            "For top 10000 features selected:\n",
            "\n",
            "Train classification accuracy = 0.5677673914937579,\n",
            " Test classification accuracy = 0.5376515396679197\n",
            "\n",
            "\n",
            "For top 11000 features selected:\n",
            "\n",
            "Train classification accuracy = 0.5688129348651374,\n",
            " Test classification accuracy = 0.5374026038684623\n",
            "\n",
            "\n",
            "For top 12000 features selected:\n",
            "\n",
            "Train classification accuracy = 0.5712774299548176,\n",
            " Test classification accuracy = 0.5384232406462374\n",
            "\n",
            "\n",
            "For top 13000 features selected:\n",
            "\n",
            "Train classification accuracy = 0.5725345713894524,\n",
            " Test classification accuracy = 0.5385726021259117\n",
            "\n",
            "\n",
            "For top 14000 features selected:\n",
            "\n",
            "Train classification accuracy = 0.5735925617057294,\n",
            " Test classification accuracy = 0.5383983470662916\n",
            "\n",
            "\n"
          ]
        }
      ]
    },
    {
      "cell_type": "markdown",
      "source": [
        "# Classifying on full text (headline + short description)"
      ],
      "metadata": {
        "id": "Z3nnkE_uSkxs"
      }
    },
    {
      "cell_type": "markdown",
      "source": [
        "## With preprocessing"
      ],
      "metadata": {
        "id": "SRWKONn3S0Zf"
      }
    },
    {
      "cell_type": "markdown",
      "source": [
        "### CountVectorizer"
      ],
      "metadata": {
        "id": "SoUHrwzlJDqJ"
      }
    },
    {
      "cell_type": "markdown",
      "source": [
        "#### Unigrams"
      ],
      "metadata": {
        "id": "o7leVKYtJFY_"
      }
    },
    {
      "cell_type": "code",
      "source": [
        "for i in (TOP_KS):\n",
        "    print(f\"For top {i} features selected:\\n\")\n",
        "    write_df(processed_split_full_text, 1, 'full_text', ComplementNB, CountVectorizer, topk=i)\n",
        "    print('\\n')"
      ],
      "metadata": {
        "id": "6A0_WE8cSzi3",
        "colab": {
          "base_uri": "https://localhost:8080/"
        },
        "outputId": "44733bbf-b999-4452-bccf-5d97b6ffe78c"
      },
      "execution_count": null,
      "outputs": [
        {
          "output_type": "stream",
          "name": "stdout",
          "text": [
            "For top 5000 features selected:\n",
            "\n",
            "Train classification accuracy = 0.5555693854943304,\n",
            " Test classification accuracy = 0.5393691966841752\n",
            "\n",
            "\n",
            "For top 6000 features selected:\n",
            "\n",
            "Train classification accuracy = 0.5633113852204976,\n",
            " Test classification accuracy = 0.54429812551343\n",
            "\n",
            "\n",
            "For top 7000 features selected:\n",
            "\n",
            "Train classification accuracy = 0.5664853561693283,\n",
            " Test classification accuracy = 0.5449702521719648\n",
            "\n",
            "\n",
            "For top 8000 features selected:\n",
            "\n",
            "Train classification accuracy = 0.5683772917937292,\n",
            " Test classification accuracy = 0.545144507231585\n",
            "\n",
            "\n",
            "For top 9000 features selected:\n",
            "\n",
            "Train classification accuracy = 0.5723105263812998,\n",
            " Test classification accuracy = 0.5465136541286002\n",
            "\n",
            "\n",
            "For top 10000 features selected:\n",
            "\n",
            "Train classification accuracy = 0.5746567754944549,\n",
            " Test classification accuracy = 0.5468621642478405\n",
            "\n",
            "\n",
            "For top 11000 features selected:\n",
            "\n",
            "Train classification accuracy = 0.577183505308622,\n",
            " Test classification accuracy = 0.5473102486868636\n",
            "\n",
            "\n",
            "For top 12000 features selected:\n",
            "\n",
            "Train classification accuracy = 0.58136567879414,\n",
            " Test classification accuracy = 0.5497000323616539\n",
            "\n",
            "\n",
            "For top 13000 features selected:\n",
            "\n",
            "Train classification accuracy = 0.5850624214286604,\n",
            " Test classification accuracy = 0.5509198177789948\n",
            "\n",
            "\n",
            "For top 14000 features selected:\n",
            "\n",
            "Train classification accuracy = 0.5871846255336628,\n",
            " Test classification accuracy = 0.5511936471583978\n",
            "\n",
            "\n"
          ]
        }
      ]
    },
    {
      "cell_type": "markdown",
      "source": [
        "#### Unigrams and bigrams"
      ],
      "metadata": {
        "id": "MVjTMdA5JHd2"
      }
    },
    {
      "cell_type": "code",
      "source": [
        "for i in (TOP_KS):\n",
        "    print(f\"For top {i} features selected:\\n\")\n",
        "    write_df(processed_split_full_text, 1, 'full_text', ComplementNB, CountVectorizer, topk=i)\n",
        "    print('\\n')"
      ],
      "metadata": {
        "colab": {
          "base_uri": "https://localhost:8080/"
        },
        "id": "h1A2SPTWJJDB",
        "outputId": "42b9b21e-6861-48e1-925e-07f7cdc401ce"
      },
      "execution_count": null,
      "outputs": [
        {
          "output_type": "stream",
          "name": "stdout",
          "text": [
            "For top 5000 features selected:\n",
            "\n",
            "Train classification accuracy = 0.5555693854943304,\n",
            " Test classification accuracy = 0.5393691966841752\n",
            "\n",
            "\n",
            "For top 6000 features selected:\n",
            "\n",
            "Train classification accuracy = 0.5633113852204976,\n",
            " Test classification accuracy = 0.54429812551343\n",
            "\n",
            "\n",
            "For top 7000 features selected:\n",
            "\n",
            "Train classification accuracy = 0.5664853561693283,\n",
            " Test classification accuracy = 0.5449702521719648\n",
            "\n",
            "\n",
            "For top 8000 features selected:\n",
            "\n",
            "Train classification accuracy = 0.5683772917937292,\n",
            " Test classification accuracy = 0.545144507231585\n",
            "\n",
            "\n",
            "For top 9000 features selected:\n",
            "\n",
            "Train classification accuracy = 0.5723105263812998,\n",
            " Test classification accuracy = 0.5465136541286002\n",
            "\n",
            "\n",
            "For top 10000 features selected:\n",
            "\n",
            "Train classification accuracy = 0.5746567754944549,\n",
            " Test classification accuracy = 0.5468621642478405\n",
            "\n",
            "\n",
            "For top 11000 features selected:\n",
            "\n",
            "Train classification accuracy = 0.577183505308622,\n",
            " Test classification accuracy = 0.5473102486868636\n",
            "\n",
            "\n",
            "For top 12000 features selected:\n",
            "\n",
            "Train classification accuracy = 0.58136567879414,\n",
            " Test classification accuracy = 0.5497000323616539\n",
            "\n",
            "\n",
            "For top 13000 features selected:\n",
            "\n",
            "Train classification accuracy = 0.5850624214286604,\n",
            " Test classification accuracy = 0.5509198177789948\n",
            "\n",
            "\n",
            "For top 14000 features selected:\n",
            "\n",
            "Train classification accuracy = 0.5871846255336628,\n",
            " Test classification accuracy = 0.5511936471583978\n",
            "\n",
            "\n"
          ]
        }
      ]
    },
    {
      "cell_type": "markdown",
      "source": [
        "### TfidfVectorizer"
      ],
      "metadata": {
        "id": "oph-vDSZJNN8"
      }
    },
    {
      "cell_type": "markdown",
      "source": [
        "#### Unigrams"
      ],
      "metadata": {
        "id": "m8HfqCV4JOcq"
      }
    },
    {
      "cell_type": "code",
      "source": [
        "for i in (TOP_KS):\n",
        "    print(f\"For top {i} features selected:\\n\")\n",
        "    write_df(processed_split_full_text, 1, 'full_text', ComplementNB, TfidfVectorizer, topk=i)\n",
        "    print('\\n')"
      ],
      "metadata": {
        "colab": {
          "base_uri": "https://localhost:8080/"
        },
        "id": "ZkFVbQQvJP--",
        "outputId": "8e5cb064-c7ad-4d79-e9d7-fa6f1a725e01"
      },
      "execution_count": null,
      "outputs": [
        {
          "output_type": "stream",
          "name": "stdout",
          "text": [
            "For top 5000 features selected:\n",
            "\n",
            "Train classification accuracy = 0.5590483065931467,\n",
            " Test classification accuracy = 0.541236215180105\n",
            "\n",
            "\n",
            "For top 6000 features selected:\n",
            "\n",
            "Train classification accuracy = 0.5668587645162495,\n",
            " Test classification accuracy = 0.5460406761096314\n",
            "\n",
            "\n",
            "For top 7000 features selected:\n",
            "\n",
            "Train classification accuracy = 0.569597092393672,\n",
            " Test classification accuracy = 0.5465883348684374\n",
            "\n",
            "\n",
            "For top 8000 features selected:\n",
            "\n",
            "Train classification accuracy = 0.5710409380017675,\n",
            " Test classification accuracy = 0.5465883348684374\n",
            "\n",
            "\n",
            "For top 9000 features selected:\n",
            "\n",
            "Train classification accuracy = 0.5750861950934143,\n",
            " Test classification accuracy = 0.5482313111448558\n",
            "\n",
            "\n",
            "For top 10000 features selected:\n",
            "\n",
            "Train classification accuracy = 0.5769968011351614,\n",
            " Test classification accuracy = 0.5484055662044759\n",
            "\n",
            "\n",
            "For top 11000 features selected:\n",
            "\n",
            "Train classification accuracy = 0.5794364023350469,\n",
            " Test classification accuracy = 0.5486793955838789\n",
            "\n",
            "\n",
            "For top 12000 features selected:\n",
            "\n",
            "Train classification accuracy = 0.5844774150184837,\n",
            " Test classification accuracy = 0.551367902218018\n",
            "\n",
            "\n",
            "For top 13000 features selected:\n",
            "\n",
            "Train classification accuracy = 0.5873339888724313,\n",
            " Test classification accuracy = 0.5524632197356302\n",
            "\n",
            "\n",
            "For top 14000 features selected:\n",
            "\n",
            "Train classification accuracy = 0.5894126286702929,\n",
            " Test classification accuracy = 0.5524881133155759\n",
            "\n",
            "\n"
          ]
        }
      ]
    },
    {
      "cell_type": "markdown",
      "source": [
        "#### Unigrams and bigrams"
      ],
      "metadata": {
        "id": "RnAlQH3qJQKA"
      }
    },
    {
      "cell_type": "code",
      "source": [
        "for i in (TOP_KS):\n",
        "    print(f\"For top {i} features selected:\\n\")\n",
        "    write_df(processed_split_full_text, 1, 'full_text', ComplementNB, TfidfVectorizer, ngram=(1, 2), topk=i)\n",
        "    print('\\n')"
      ],
      "metadata": {
        "colab": {
          "base_uri": "https://localhost:8080/"
        },
        "id": "-RFhQuQuJRxb",
        "outputId": "306dff33-786b-451a-8137-9c7862432abc"
      },
      "execution_count": null,
      "outputs": [
        {
          "output_type": "stream",
          "name": "stdout",
          "text": [
            "For top 5000 features selected:\n",
            "\n",
            "Train classification accuracy = 0.5482879227293661,\n",
            " Test classification accuracy = 0.5352617559931294\n",
            "\n",
            "\n",
            "For top 6000 features selected:\n",
            "\n",
            "Train classification accuracy = 0.5570194545748746,\n",
            " Test classification accuracy = 0.5416842996191282\n",
            "\n",
            "\n",
            "For top 7000 features selected:\n",
            "\n",
            "Train classification accuracy = 0.5628632952041921,\n",
            " Test classification accuracy = 0.5453436558711509\n",
            "\n",
            "\n",
            "For top 8000 features selected:\n",
            "\n",
            "Train classification accuracy = 0.5690432033457388,\n",
            " Test classification accuracy = 0.5477832267058326\n",
            "\n",
            "\n",
            "For top 9000 features selected:\n",
            "\n",
            "Train classification accuracy = 0.5741775681159059,\n",
            " Test classification accuracy = 0.5510940728386149\n",
            "\n",
            "\n",
            "For top 10000 features selected:\n",
            "\n",
            "Train classification accuracy = 0.5791190052401638,\n",
            " Test classification accuracy = 0.553409175773568\n",
            "\n",
            "\n",
            "For top 11000 features selected:\n",
            "\n",
            "Train classification accuracy = 0.5838986320807558,\n",
            " Test classification accuracy = 0.556844489806079\n",
            "\n",
            "\n",
            "For top 12000 features selected:\n",
            "\n",
            "Train classification accuracy = 0.5849815162868274,\n",
            " Test classification accuracy = 0.5571929999253192\n",
            "\n",
            "\n",
            "For top 13000 features selected:\n",
            "\n",
            "Train classification accuracy = 0.585566522697004,\n",
            " Test classification accuracy = 0.5569938512857534\n",
            "\n",
            "\n",
            "For top 14000 features selected:\n",
            "\n",
            "Train classification accuracy = 0.5857096625633238,\n",
            " Test classification accuracy = 0.5567947026461876\n",
            "\n",
            "\n"
          ]
        }
      ]
    },
    {
      "cell_type": "markdown",
      "source": [
        "## Without preprocessing"
      ],
      "metadata": {
        "id": "_p_8HwPkS2cp"
      }
    },
    {
      "cell_type": "markdown",
      "source": [
        "### CountVectorizer"
      ],
      "metadata": {
        "id": "BLOSj0wrJSV5"
      }
    },
    {
      "cell_type": "markdown",
      "source": [
        "#### Unigrams"
      ],
      "metadata": {
        "id": "ZRqBOsV4JUeS"
      }
    },
    {
      "cell_type": "code",
      "source": [
        "for i in (TOP_KS):\n",
        "    print(f\"For top {i} features selected:\\n\")\n",
        "    write_df(raw_split_full_text, 0, 'full_text', ComplementNB, CountVectorizer, topk=i)\n",
        "    print('\\n')"
      ],
      "metadata": {
        "id": "nenyTR_CS3vU",
        "colab": {
          "base_uri": "https://localhost:8080/"
        },
        "outputId": "0fd91332-ce15-4897-99c2-0b885f51ecb1"
      },
      "execution_count": null,
      "outputs": [
        {
          "output_type": "stream",
          "name": "stdout",
          "text": [
            "For top 5000 features selected:\n",
            "\n",
            "Train classification accuracy = 0.5576418018197433,\n",
            " Test classification accuracy = 0.5433272758955465\n",
            "\n",
            "\n",
            "For top 6000 features selected:\n",
            "\n",
            "Train classification accuracy = 0.5648921472224643,\n",
            " Test classification accuracy = 0.5474596101665381\n",
            "\n",
            "\n",
            "For top 7000 features selected:\n",
            "\n",
            "Train classification accuracy = 0.5679292017774238,\n",
            " Test classification accuracy = 0.5481317368250728\n",
            "\n",
            "\n",
            "For top 8000 features selected:\n",
            "\n",
            "Train classification accuracy = 0.5702007692211947,\n",
            " Test classification accuracy = 0.548579821264096\n",
            "\n",
            "\n",
            "For top 9000 features selected:\n",
            "\n",
            "Train classification accuracy = 0.5733871871149226,\n",
            " Test classification accuracy = 0.549973861741057\n",
            "\n",
            "\n",
            "For top 10000 features selected:\n",
            "\n",
            "Train classification accuracy = 0.5763931243076387,\n",
            " Test classification accuracy = 0.5511438599985063\n",
            "\n",
            "\n",
            "For top 11000 features selected:\n",
            "\n",
            "Train classification accuracy = 0.5806375325176435,\n",
            " Test classification accuracy = 0.5529610913345449\n",
            "\n",
            "\n",
            "For top 12000 features selected:\n",
            "\n",
            "Train classification accuracy = 0.5832638378909897,\n",
            " Test classification accuracy = 0.5528864105947077\n",
            "\n",
            "\n",
            "For top 13000 features selected:\n",
            "\n",
            "Train classification accuracy = 0.5861328586898346,\n",
            " Test classification accuracy = 0.5530606656543278\n",
            "\n",
            "\n",
            "For top 14000 features selected:\n",
            "\n",
            "Train classification accuracy = 0.5896740145131377,\n",
            " Test classification accuracy = 0.5539319409524284\n",
            "\n",
            "\n"
          ]
        }
      ]
    },
    {
      "cell_type": "markdown",
      "source": [
        "#### Unigrams and bigrams"
      ],
      "metadata": {
        "id": "uRh9oagOJWlC"
      }
    },
    {
      "cell_type": "code",
      "source": [
        "for i in (TOP_KS):\n",
        "    print(f\"For top {i} features selected:\\n\")\n",
        "    write_df(raw_split_full_text, 0, 'full_text', ComplementNB, CountVectorizer, ngram=(1, 2), topk=i)\n",
        "    print('\\n')"
      ],
      "metadata": {
        "colab": {
          "base_uri": "https://localhost:8080/"
        },
        "id": "nIc13ZgwJYT-",
        "outputId": "cf58ac4d-99b1-40a4-ce4f-bfe1ac6ddce5"
      },
      "execution_count": null,
      "outputs": [
        {
          "output_type": "stream",
          "name": "stdout",
          "text": [
            "For top 5000 features selected:\n",
            "\n",
            "Train classification accuracy = 0.5456927347182634,\n",
            " Test classification accuracy = 0.5342162256354086\n",
            "\n",
            "\n",
            "For top 6000 features selected:\n",
            "\n",
            "Train classification accuracy = 0.5516859386863494,\n",
            " Test classification accuracy = 0.5384232406462374\n",
            "\n",
            "\n",
            "For top 7000 features selected:\n",
            "\n",
            "Train classification accuracy = 0.5576044609850512,\n",
            " Test classification accuracy = 0.5430783400960892\n",
            "\n",
            "\n",
            "For top 8000 features selected:\n",
            "\n",
            "Train classification accuracy = 0.5636101118980347,\n",
            " Test classification accuracy = 0.5470364193074606\n",
            "\n",
            "\n",
            "For top 9000 features selected:\n",
            "\n",
            "Train classification accuracy = 0.5685391020773951,\n",
            " Test classification accuracy = 0.5495755644619252\n",
            "\n",
            "\n",
            "For top 10000 features selected:\n",
            "\n",
            "Train classification accuracy = 0.5727959572322974,\n",
            " Test classification accuracy = 0.5515421572776381\n",
            "\n",
            "\n",
            "For top 11000 features selected:\n",
            "\n",
            "Train classification accuracy = 0.5768474377963929,\n",
            " Test classification accuracy = 0.5533344950337308\n",
            "\n",
            "\n",
            "For top 12000 features selected:\n",
            "\n",
            "Train classification accuracy = 0.5800960904146077,\n",
            " Test classification accuracy = 0.5551019392098778\n",
            "\n",
            "\n",
            "For top 13000 features selected:\n",
            "\n",
            "Train classification accuracy = 0.5833634134501686,\n",
            " Test classification accuracy = 0.5561723631475443\n",
            "\n",
            "\n",
            "For top 14000 features selected:\n",
            "\n",
            "Train classification accuracy = 0.5868423345489849,\n",
            " Test classification accuracy = 0.5587612954619003\n",
            "\n",
            "\n"
          ]
        }
      ]
    },
    {
      "cell_type": "markdown",
      "source": [
        "### TfidfVectorizer"
      ],
      "metadata": {
        "id": "011SJuHJOXq9"
      }
    },
    {
      "cell_type": "markdown",
      "source": [
        "#### Unigrams"
      ],
      "metadata": {
        "id": "umLPg3RpOZXn"
      }
    },
    {
      "cell_type": "code",
      "source": [
        "for i in (TOP_KS):\n",
        "    print(f\"For top {i} features selected:\\n\")\n",
        "    write_df(raw_split_full_text, 0, 'full_text', ComplementNB, TfidfVectorizer, topk=i)\n",
        "    print('\\n')"
      ],
      "metadata": {
        "colab": {
          "base_uri": "https://localhost:8080/"
        },
        "id": "cG64lEFiOakU",
        "outputId": "980b3b25-391b-43f6-e4b9-b29e34b6c256"
      },
      "execution_count": null,
      "outputs": [
        {
          "output_type": "stream",
          "name": "stdout",
          "text": [
            "For top 5000 features selected:\n",
            "\n",
            "Train classification accuracy = 0.5659625844836385,\n",
            " Test classification accuracy = 0.548579821264096\n",
            "\n",
            "\n",
            "For top 6000 features selected:\n",
            "\n",
            "Train classification accuracy = 0.5728146276496434,\n",
            " Test classification accuracy = 0.5535087500933509\n",
            "\n",
            "\n",
            "For top 7000 features selected:\n",
            "\n",
            "Train classification accuracy = 0.5748621500852615,\n",
            " Test classification accuracy = 0.5538572602125912\n",
            "\n",
            "\n",
            "For top 8000 features selected:\n",
            "\n",
            "Train classification accuracy = 0.5772955278126983,\n",
            " Test classification accuracy = 0.5542057703318314\n",
            "\n",
            "\n",
            "For top 9000 features selected:\n",
            "\n",
            "Train classification accuracy = 0.58036992320235,\n",
            " Test classification accuracy = 0.5549525777302033\n",
            "\n",
            "\n",
            "For top 10000 features selected:\n",
            "\n",
            "Train classification accuracy = 0.5831518153869133,\n",
            " Test classification accuracy = 0.555176619949715\n",
            "\n",
            "\n",
            "For top 11000 features selected:\n",
            "\n",
            "Train classification accuracy = 0.5877136206918012,\n",
            " Test classification accuracy = 0.5575415100445595\n",
            "\n",
            "\n",
            "For top 12000 features selected:\n",
            "\n",
            "Train classification accuracy = 0.5895184277019205,\n",
            " Test classification accuracy = 0.5577406586841254\n",
            "\n",
            "\n",
            "For top 13000 features selected:\n",
            "\n",
            "Train classification accuracy = 0.5921073922405745,\n",
            " Test classification accuracy = 0.5573174678250479\n",
            "\n",
            "\n",
            "For top 14000 features selected:\n",
            "\n",
            "Train classification accuracy = 0.5951817876302261,\n",
            " Test classification accuracy = 0.5588359762017375\n",
            "\n",
            "\n"
          ]
        }
      ]
    },
    {
      "cell_type": "markdown",
      "source": [
        "#### Unigrams and Bigrams"
      ],
      "metadata": {
        "id": "xBCRJlNjOa1r"
      }
    },
    {
      "cell_type": "code",
      "source": [
        "for i in (TOP_KS):\n",
        "    print(f\"For top {i} features selected:\\n\")\n",
        "    write_df(raw_split_full_text, 0, 'full_text', ComplementNB, TfidfVectorizer, ngram=(1, 2), topk=i)\n",
        "    print('\\n')"
      ],
      "metadata": {
        "colab": {
          "base_uri": "https://localhost:8080/"
        },
        "id": "3SX_Tk2iOh52",
        "outputId": "27ee707b-ccfd-4d4f-9e0b-22d0e12a8f3c"
      },
      "execution_count": null,
      "outputs": [
        {
          "output_type": "stream",
          "name": "stdout",
          "text": [
            "For top 5000 features selected:\n",
            "\n",
            "Train classification accuracy = 0.5518975367496048,\n",
            " Test classification accuracy = 0.5409374922207563\n",
            "\n",
            "\n",
            "For top 6000 features selected:\n",
            "\n",
            "Train classification accuracy = 0.5580649979462541,\n",
            " Test classification accuracy = 0.5462896119090886\n",
            "\n",
            "\n",
            "For top 7000 features selected:\n",
            "\n",
            "Train classification accuracy = 0.5636723466225215,\n",
            " Test classification accuracy = 0.5491274800229021\n",
            "\n",
            "\n",
            "For top 8000 features selected:\n",
            "\n",
            "Train classification accuracy = 0.569877148653863,\n",
            " Test classification accuracy = 0.5529859849144906\n",
            "\n",
            "\n",
            "For top 9000 features selected:\n",
            "\n",
            "Train classification accuracy = 0.5738850649108176,\n",
            " Test classification accuracy = 0.555176619949715\n",
            "\n",
            "\n",
            "For top 10000 features selected:\n",
            "\n",
            "Train classification accuracy = 0.5777125004667605,\n",
            " Test classification accuracy = 0.5575664036245053\n",
            "\n",
            "\n",
            "For top 11000 features selected:\n",
            "\n",
            "Train classification accuracy = 0.5817826514482021,\n",
            " Test classification accuracy = 0.559532996440218\n",
            "\n",
            "\n",
            "For top 12000 features selected:\n",
            "\n",
            "Train classification accuracy = 0.5853922654684408,\n",
            " Test classification accuracy = 0.5606781011177218\n",
            "\n",
            "\n",
            "For top 13000 features selected:\n",
            "\n",
            "Train classification accuracy = 0.5887965048978728,\n",
            " Test classification accuracy = 0.5621966094944114\n",
            "\n",
            "\n",
            "For top 14000 features selected:\n",
            "\n",
            "Train classification accuracy = 0.5918833472324218,\n",
            " Test classification accuracy = 0.563067884792512\n",
            "\n",
            "\n"
          ]
        }
      ]
    },
    {
      "cell_type": "markdown",
      "source": [
        "# Checking top 5 accuracies among the results and saving the results table to .csv file"
      ],
      "metadata": {
        "id": "K4O4JYS3J1YY"
      }
    },
    {
      "cell_type": "code",
      "source": [
        "results_df.to_csv('/content/drive/MyDrive/SDLC/news_analysis_project/resultsCNB.csv')\n",
        "print(results_df.sort_values(by='TestAccuracy', ascending=False).head(5))"
      ],
      "metadata": {
        "colab": {
          "base_uri": "https://localhost:8080/"
        },
        "id": "_LqWJEgaKQI1",
        "outputId": "d1ffa3dc-32d9-4651-fa88-e0c8e7abaa02"
      },
      "execution_count": null,
      "outputs": [
        {
          "output_type": "stream",
          "name": "stdout",
          "text": [
            "       Classifier         By  ... TrainAccuracy TestAccuracy\n",
            "239  ComplementNB  full_text  ...      0.591883     0.563068\n",
            "238  ComplementNB  full_text  ...      0.588797     0.562197\n",
            "237  ComplementNB  full_text  ...      0.585392     0.560678\n",
            "236  ComplementNB  full_text  ...      0.581783     0.559533\n",
            "229  ComplementNB  full_text  ...      0.595182     0.558836\n",
            "\n",
            "[5 rows x 8 columns]\n"
          ]
        }
      ]
    }
  ]
}