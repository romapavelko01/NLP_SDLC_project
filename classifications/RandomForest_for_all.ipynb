{
  "cells": [
    {
      "cell_type": "markdown",
      "metadata": {
        "id": "view-in-github",
        "colab_type": "text"
      },
      "source": [
        "<a href=\"https://colab.research.google.com/github/romapavelko01/NLP_SDLC_project/blob/classifications/RandomForest_for_all.ipynb\" target=\"_parent\"><img src=\"https://colab.research.google.com/assets/colab-badge.svg\" alt=\"Open In Colab\"/></a>"
      ]
    },
    {
      "cell_type": "code",
      "execution_count": 1,
      "metadata": {
        "colab": {
          "base_uri": "https://localhost:8080/"
        },
        "id": "zffq1S_CEWH8",
        "outputId": "fbe9f7bf-b548-435e-d415-76b52fe479c4"
      },
      "outputs": [
        {
          "output_type": "stream",
          "name": "stdout",
          "text": [
            "Mounted at /content/drive\n"
          ]
        }
      ],
      "source": [
        "from google.colab import drive\n",
        "drive.mount('/content/drive', force_remount=False)"
      ]
    },
    {
      "cell_type": "code",
      "execution_count": 31,
      "metadata": {
        "id": "68dopGXgEfYz"
      },
      "outputs": [],
      "source": [
        "import pandas as pd\n",
        "import numpy as np\n",
        "from sklearn.ensemble import RandomForestClassifier\n",
        "from sklearn.model_selection import train_test_split\n",
        "from sklearn.metrics import accuracy_score\n",
        "from sklearn.feature_selection import SelectKBest, f_classif\n",
        "from sklearn.feature_extraction.text import CountVectorizer, TfidfVectorizer"
      ]
    },
    {
      "cell_type": "code",
      "execution_count": 21,
      "metadata": {
        "colab": {
          "base_uri": "https://localhost:8080/",
          "height": 310
        },
        "id": "BJedvOZzHCCR",
        "outputId": "2b451e5d-361d-4bf0-f384-0882b4486411"
      },
      "outputs": [
        {
          "output_type": "execute_result",
          "data": {
            "text/html": [
              "<div>\n",
              "<style scoped>\n",
              "    .dataframe tbody tr th:only-of-type {\n",
              "        vertical-align: middle;\n",
              "    }\n",
              "\n",
              "    .dataframe tbody tr th {\n",
              "        vertical-align: top;\n",
              "    }\n",
              "\n",
              "    .dataframe thead th {\n",
              "        text-align: right;\n",
              "    }\n",
              "</style>\n",
              "<table border=\"1\" class=\"dataframe\">\n",
              "  <thead>\n",
              "    <tr style=\"text-align: right;\">\n",
              "      <th></th>\n",
              "      <th>category</th>\n",
              "      <th>headline</th>\n",
              "      <th>authors</th>\n",
              "      <th>link</th>\n",
              "      <th>short_description</th>\n",
              "      <th>date</th>\n",
              "    </tr>\n",
              "  </thead>\n",
              "  <tbody>\n",
              "    <tr>\n",
              "      <th>0</th>\n",
              "      <td>CRIME</td>\n",
              "      <td>There Were 2 Mass Shootings In Texas Last Week...</td>\n",
              "      <td>Melissa Jeltsen</td>\n",
              "      <td>https://www.huffingtonpost.com/entry/texas-ama...</td>\n",
              "      <td>She left her husband. He killed their children...</td>\n",
              "      <td>2018-05-26</td>\n",
              "    </tr>\n",
              "    <tr>\n",
              "      <th>1</th>\n",
              "      <td>ENTERTAINMENT</td>\n",
              "      <td>Will Smith Joins Diplo And Nicky Jam For The 2...</td>\n",
              "      <td>Andy McDonald</td>\n",
              "      <td>https://www.huffingtonpost.com/entry/will-smit...</td>\n",
              "      <td>Of course it has a song.</td>\n",
              "      <td>2018-05-26</td>\n",
              "    </tr>\n",
              "    <tr>\n",
              "      <th>2</th>\n",
              "      <td>ENTERTAINMENT</td>\n",
              "      <td>Hugh Grant Marries For The First Time At Age 57</td>\n",
              "      <td>Ron Dicker</td>\n",
              "      <td>https://www.huffingtonpost.com/entry/hugh-gran...</td>\n",
              "      <td>The actor and his longtime girlfriend Anna Ebe...</td>\n",
              "      <td>2018-05-26</td>\n",
              "    </tr>\n",
              "    <tr>\n",
              "      <th>3</th>\n",
              "      <td>ENTERTAINMENT</td>\n",
              "      <td>Jim Carrey Blasts 'Castrato' Adam Schiff And D...</td>\n",
              "      <td>Ron Dicker</td>\n",
              "      <td>https://www.huffingtonpost.com/entry/jim-carre...</td>\n",
              "      <td>The actor gives Dems an ass-kicking for not fi...</td>\n",
              "      <td>2018-05-26</td>\n",
              "    </tr>\n",
              "    <tr>\n",
              "      <th>4</th>\n",
              "      <td>ENTERTAINMENT</td>\n",
              "      <td>Julianna Margulies Uses Donald Trump Poop Bags...</td>\n",
              "      <td>Ron Dicker</td>\n",
              "      <td>https://www.huffingtonpost.com/entry/julianna-...</td>\n",
              "      <td>The \"Dietland\" actress said using the bags is ...</td>\n",
              "      <td>2018-05-26</td>\n",
              "    </tr>\n",
              "  </tbody>\n",
              "</table>\n",
              "</div>"
            ],
            "text/plain": [
              "        category  ...       date\n",
              "0          CRIME  ... 2018-05-26\n",
              "1  ENTERTAINMENT  ... 2018-05-26\n",
              "2  ENTERTAINMENT  ... 2018-05-26\n",
              "3  ENTERTAINMENT  ... 2018-05-26\n",
              "4  ENTERTAINMENT  ... 2018-05-26\n",
              "\n",
              "[5 rows x 6 columns]"
            ]
          },
          "metadata": {},
          "execution_count": 21
        }
      ],
      "source": [
        "filename = \"/content/drive/MyDrive/SDLC/news_analysis_project/data/final_news_category_dataset.json\"\n",
        "df = pd.read_json(filename, orient='split')\n",
        "df.head()"
      ]
    },
    {
      "cell_type": "markdown",
      "source": [
        "Cutting the dataframe to only have rows from the top 10 most common categories"
      ],
      "metadata": {
        "id": "dBnH0j2Fy8jS"
      }
    },
    {
      "cell_type": "code",
      "source": [
        "# df = df[df.category.isin(df['category'].value_counts().index[:10])]\n",
        "# print(df.category.value_counts())\n",
        "# df"
      ],
      "metadata": {
        "id": "b6hLEMv7yqi6"
      },
      "execution_count": 22,
      "outputs": []
    },
    {
      "cell_type": "markdown",
      "metadata": {
        "id": "CPGJx21sHKVD"
      },
      "source": [
        "# Text preprocessing"
      ]
    },
    {
      "cell_type": "code",
      "execution_count": 12,
      "metadata": {
        "colab": {
          "base_uri": "https://localhost:8080/"
        },
        "id": "p0fZiAyDHEWK",
        "outputId": "8971bd76-b613-4651-c334-a31fdb5ef8be"
      },
      "outputs": [
        {
          "output_type": "stream",
          "name": "stdout",
          "text": [
            "[nltk_data] Downloading package stopwords to /root/nltk_data...\n",
            "[nltk_data]   Unzipping corpora/stopwords.zip.\n"
          ]
        }
      ],
      "source": [
        "import nltk\n",
        "nltk.download('stopwords')\n",
        "from nltk.corpus import stopwords\n",
        "stop_words = set(stopwords.words('english'))"
      ]
    },
    {
      "cell_type": "code",
      "execution_count": 1,
      "metadata": {
        "id": "mzbjJ2ugIlGH"
      },
      "outputs": [],
      "source": [
        "import re\n",
        "import string\n",
        "\n",
        "\n",
        "def cleaning_function(sentence):\n",
        "    \"\"\"\n",
        "    Function needed to perform data preprocessing: removing punctuation symbols,\n",
        "    stop_words and other random things in order to obtain clean text\n",
        "    \"\"\"\n",
        "    # the following line removes numbers from text\n",
        "    result = re.sub(r'\\d+', '', sentence.lower())\n",
        "\n",
        "    # the following line removes any punctuation from the text\n",
        "    result = result.translate(str.maketrans('','',string.punctuation))\n",
        "    return [word for word in result.split() if not word in stop_words]"
      ]
    },
    {
      "cell_type": "code",
      "execution_count": 23,
      "metadata": {
        "id": "lqjmcOyiIoUm"
      },
      "outputs": [],
      "source": [
        "df['processed_description'] = df['short_description'].apply(lambda x: ' '.join(cleaning_function(x)))\n",
        "df['processed_headline'] = df['headline'].apply(lambda x: ' '.join(cleaning_function(x)))\n",
        "df['full_text'] = df['headline'] + df['short_description']\n",
        "df['processed_full_text'] = df['processed_headline'] + df['processed_description']"
      ]
    },
    {
      "cell_type": "markdown",
      "metadata": {
        "id": "j-_NURI6UK66"
      },
      "source": [
        "# Splitting the data into train/test with equal distribution of labels in both sets"
      ]
    },
    {
      "cell_type": "code",
      "execution_count": 24,
      "metadata": {
        "id": "1DyDmvG5UTVb"
      },
      "outputs": [],
      "source": [
        "X_train, X_test, y_train, y_test = train_test_split(df.loc[:, df.columns != 'category'], df['category'], \n",
        "                                                    test_size=0.2, stratify=df.category,\n",
        "                                                    random_state=1)\n",
        "\n",
        "processed_split_description = (X_train['processed_description'], X_test['processed_description'], y_train, y_test)\n",
        "processed_split_headline = (X_train['processed_headline'], X_test['processed_headline'], y_train, y_test)\n",
        "processed_split_full_text = (X_train['processed_full_text'], X_test['processed_full_text'], y_train, y_test)\n",
        "\n",
        "raw_split_description = (X_train['short_description'], X_test['short_description'], y_train, y_test)\n",
        "raw_split_headline = (X_train['headline'], X_test['headline'], y_train, y_test)\n",
        "raw_split_full_text = (X_train['full_text'], X_test['full_text'], y_train, y_test)"
      ]
    },
    {
      "cell_type": "markdown",
      "metadata": {
        "id": "gQGXrrQwUOmY"
      },
      "source": [
        "# Creating a results table to store accuracies of combinations of vectorizer parameters for ComplementNB and defining a function to record data to the table"
      ]
    },
    {
      "cell_type": "code",
      "execution_count": 32,
      "metadata": {
        "id": "zC6K69BHUZvk"
      },
      "outputs": [],
      "source": [
        "results_df = pd.DataFrame(columns=['Classifier', 'By', 'Preprocessed', 'Vectorizer', 'Ngram', 'TopKFeatures', 'TrainAccuracy', 'TestAccuracy'])\n",
        "\n",
        "def write_df(dataset, preprocessed, by, clf, vect, ngram=(1, 1), topk=6000, display=True):\n",
        "    \"\"\"\n",
        "    Function to calculate accuracies for the given dataset split, \n",
        "    whether it is raw or preprocessed; \n",
        "    by - in ['headline', 'descirption', 'full_text']\n",
        "    classifier, \n",
        "    vectorizer, ngram parameter, and how many top features to consider;\n",
        "    record calculated accuracies to the results_df;\n",
        "    and, once display is set to True, print classification accuracies\n",
        "    \"\"\"\n",
        "    global results_df\n",
        "\n",
        "    X_train, X_test, y_train, y_test = dataset\n",
        "\n",
        "    vectorizer = vect(ngram_range=ngram)\n",
        "    x_train_ = vectorizer.fit_transform(X_train)\n",
        "\n",
        "    # Vectorize validation texts.\n",
        "    x_val = vectorizer.transform(X_test)\n",
        "    # Select top 'k' of the vectorized features.\n",
        "    selector = SelectKBest(f_classif, k=min(topk, x_train_.shape[1]))\n",
        "    selector.fit(x_train_, y_train)\n",
        "    x_train = selector.transform(x_train_).astype('float32')\n",
        "    x_val = selector.transform(x_val).astype('float32')   \n",
        "\n",
        "    clf = clf(n_jobs=-1)\n",
        "    clf.fit(x_train, y_train)\n",
        "    y_pred_test = clf.predict(x_val)\n",
        "    y_pred_train = clf.predict(x_train)\n",
        "    train_acc, test_acc = accuracy_score(y_train, y_pred_train), accuracy_score(y_test, y_pred_test)\n",
        "    if display:\n",
        "        print(f\"Train classification accuracy = {train_acc},\\n Test classification accuracy = {test_acc}\")\n",
        "\n",
        "    results_df = results_df.append(pd.DataFrame({\n",
        "        'Classifier': [clf.__class__.__name__],\n",
        "        'By': [by],\n",
        "        'Preprocessed': [preprocessed],\n",
        "        'Vectorizer': [vectorizer.__class__.__name__],\n",
        "        'Ngram': [ngram],\n",
        "        'TopKFeatures': [topk],\n",
        "        'TrainAccuracy': [train_acc],\n",
        "        'TestAccuracy': [test_acc]\n",
        "    }), ignore_index=True)"
      ]
    },
    {
      "cell_type": "code",
      "execution_count": 30,
      "metadata": {
        "id": "GtnjXDXkUi46",
        "colab": {
          "base_uri": "https://localhost:8080/"
        },
        "outputId": "1d6cf0fb-5788-4ce0-e1ed-3970326c01f6"
      },
      "outputs": [
        {
          "output_type": "execute_result",
          "data": {
            "text/plain": [
              "array([ 9000, 10500, 12000])"
            ]
          },
          "metadata": {},
          "execution_count": 30
        }
      ],
      "source": [
        "TOP_KS = np.arange(9000, 12001, 1500)\n",
        "TOP_KS"
      ]
    },
    {
      "cell_type": "markdown",
      "metadata": {
        "id": "NjtDaRMJVdbw"
      },
      "source": [
        "# Classifying on full text"
      ]
    },
    {
      "cell_type": "markdown",
      "source": [
        "## CountVectorizer on Unigrams"
      ],
      "metadata": {
        "id": "L7g8UP8GNR1P"
      }
    },
    {
      "cell_type": "code",
      "source": [
        "for i in (TOP_KS):\n",
        "    print(f\"For top {i} features selected:\\n\")\n",
        "    write_df(processed_split_full_text, 1, 'full_text', RandomForestClassifier, CountVectorizer, topk=i)\n",
        "    print('\\n')"
      ],
      "metadata": {
        "colab": {
          "base_uri": "https://localhost:8080/"
        },
        "id": "9CNaDNeDNWJ6",
        "outputId": "50c03ea2-9798-42ba-f740-260e32b098ca"
      },
      "execution_count": 33,
      "outputs": [
        {
          "output_type": "stream",
          "name": "stdout",
          "text": [
            "For top 9000 features selected:\n",
            "\n",
            "Train classification accuracy = 0.9969193811378997,\n",
            " Test classification accuracy = 0.49199671404744716\n",
            "\n",
            "\n",
            "For top 10500 features selected:\n",
            "\n",
            "Train classification accuracy = 0.9971869904531933,\n",
            " Test classification accuracy = 0.49386373254337707\n",
            "\n",
            "\n",
            "For top 12000 features selected:\n",
            "\n",
            "Train classification accuracy = 0.9977782203358185,\n",
            " Test classification accuracy = 0.4959298996788728\n",
            "\n",
            "\n"
          ]
        }
      ]
    },
    {
      "cell_type": "markdown",
      "source": [
        "## TfidfVectorizer on Unigrams"
      ],
      "metadata": {
        "id": "3LhJg6ZCNWZ2"
      }
    },
    {
      "cell_type": "code",
      "source": [
        "for i in (TOP_KS):\n",
        "    print(f\"For top {i} features selected:\\n\")\n",
        "    write_df(processed_split_full_text, 1, 'full_text', RandomForestClassifier, TfidfVectorizer, topk=i)\n",
        "    print('\\n')"
      ],
      "metadata": {
        "colab": {
          "base_uri": "https://localhost:8080/"
        },
        "id": "1_TZx4UuNZQK",
        "outputId": "4d40cb38-76c2-4cf1-8387-10775137b49d"
      },
      "execution_count": 34,
      "outputs": [
        {
          "output_type": "stream",
          "name": "stdout",
          "text": [
            "For top 9000 features selected:\n",
            "\n",
            "Train classification accuracy = 0.9984876961949689,\n",
            " Test classification accuracy = 0.5094222200094596\n",
            "\n",
            "\n",
            "For top 10500 features selected:\n",
            "\n",
            "Train classification accuracy = 0.9985499309194559,\n",
            " Test classification accuracy = 0.5107166861666377\n",
            "\n",
            "\n",
            "For top 12000 features selected:\n",
            "\n",
            "Train classification accuracy = 0.998786422872506,\n",
            " Test classification accuracy = 0.5129571083617535\n",
            "\n",
            "\n"
          ]
        }
      ]
    },
    {
      "cell_type": "markdown",
      "source": [
        "# Showing top 5 results by test accuracies and saving the results to csv file"
      ],
      "metadata": {
        "id": "HGNYLRgxNwxr"
      }
    },
    {
      "cell_type": "code",
      "source": [
        "results_df.sort_values(by='TestAccuracy', ascending=False).head(5)"
      ],
      "metadata": {
        "colab": {
          "base_uri": "https://localhost:8080/",
          "height": 206
        },
        "id": "rYwQGq-dXWZe",
        "outputId": "975449e2-81dc-4ebd-914c-c6f10e819dd6"
      },
      "execution_count": 36,
      "outputs": [
        {
          "output_type": "execute_result",
          "data": {
            "text/html": [
              "<div>\n",
              "<style scoped>\n",
              "    .dataframe tbody tr th:only-of-type {\n",
              "        vertical-align: middle;\n",
              "    }\n",
              "\n",
              "    .dataframe tbody tr th {\n",
              "        vertical-align: top;\n",
              "    }\n",
              "\n",
              "    .dataframe thead th {\n",
              "        text-align: right;\n",
              "    }\n",
              "</style>\n",
              "<table border=\"1\" class=\"dataframe\">\n",
              "  <thead>\n",
              "    <tr style=\"text-align: right;\">\n",
              "      <th></th>\n",
              "      <th>Classifier</th>\n",
              "      <th>By</th>\n",
              "      <th>Preprocessed</th>\n",
              "      <th>Vectorizer</th>\n",
              "      <th>Ngram</th>\n",
              "      <th>TopKFeatures</th>\n",
              "      <th>TrainAccuracy</th>\n",
              "      <th>TestAccuracy</th>\n",
              "    </tr>\n",
              "  </thead>\n",
              "  <tbody>\n",
              "    <tr>\n",
              "      <th>5</th>\n",
              "      <td>RandomForestClassifier</td>\n",
              "      <td>full_text</td>\n",
              "      <td>1</td>\n",
              "      <td>TfidfVectorizer</td>\n",
              "      <td>(1, 1)</td>\n",
              "      <td>12000</td>\n",
              "      <td>0.998786</td>\n",
              "      <td>0.512957</td>\n",
              "    </tr>\n",
              "    <tr>\n",
              "      <th>4</th>\n",
              "      <td>RandomForestClassifier</td>\n",
              "      <td>full_text</td>\n",
              "      <td>1</td>\n",
              "      <td>TfidfVectorizer</td>\n",
              "      <td>(1, 1)</td>\n",
              "      <td>10500</td>\n",
              "      <td>0.998550</td>\n",
              "      <td>0.510717</td>\n",
              "    </tr>\n",
              "    <tr>\n",
              "      <th>3</th>\n",
              "      <td>RandomForestClassifier</td>\n",
              "      <td>full_text</td>\n",
              "      <td>1</td>\n",
              "      <td>TfidfVectorizer</td>\n",
              "      <td>(1, 1)</td>\n",
              "      <td>9000</td>\n",
              "      <td>0.998488</td>\n",
              "      <td>0.509422</td>\n",
              "    </tr>\n",
              "    <tr>\n",
              "      <th>2</th>\n",
              "      <td>RandomForestClassifier</td>\n",
              "      <td>full_text</td>\n",
              "      <td>1</td>\n",
              "      <td>CountVectorizer</td>\n",
              "      <td>(1, 1)</td>\n",
              "      <td>12000</td>\n",
              "      <td>0.997778</td>\n",
              "      <td>0.495930</td>\n",
              "    </tr>\n",
              "    <tr>\n",
              "      <th>1</th>\n",
              "      <td>RandomForestClassifier</td>\n",
              "      <td>full_text</td>\n",
              "      <td>1</td>\n",
              "      <td>CountVectorizer</td>\n",
              "      <td>(1, 1)</td>\n",
              "      <td>10500</td>\n",
              "      <td>0.997187</td>\n",
              "      <td>0.493864</td>\n",
              "    </tr>\n",
              "  </tbody>\n",
              "</table>\n",
              "</div>"
            ],
            "text/plain": [
              "               Classifier         By  ... TrainAccuracy TestAccuracy\n",
              "5  RandomForestClassifier  full_text  ...      0.998786     0.512957\n",
              "4  RandomForestClassifier  full_text  ...      0.998550     0.510717\n",
              "3  RandomForestClassifier  full_text  ...      0.998488     0.509422\n",
              "2  RandomForestClassifier  full_text  ...      0.997778     0.495930\n",
              "1  RandomForestClassifier  full_text  ...      0.997187     0.493864\n",
              "\n",
              "[5 rows x 8 columns]"
            ]
          },
          "metadata": {},
          "execution_count": 36
        }
      ]
    },
    {
      "cell_type": "code",
      "source": [
        "results_df.to_csv('/content/drive/MyDrive/SDLC/news_analysis_project/resultsRandomForest.csv')"
      ],
      "metadata": {
        "id": "28vm2z4cXU_d"
      },
      "execution_count": 37,
      "outputs": []
    }
  ],
  "metadata": {
    "colab": {
      "name": "RandomForest_for_all.ipynb",
      "toc_visible": true,
      "provenance": [],
      "authorship_tag": "ABX9TyPqT80a6V9u+1qXziEUZGZv",
      "include_colab_link": true
    },
    "kernelspec": {
      "display_name": "Python 3",
      "name": "python3"
    },
    "language_info": {
      "name": "python"
    }
  },
  "nbformat": 4,
  "nbformat_minor": 0
}