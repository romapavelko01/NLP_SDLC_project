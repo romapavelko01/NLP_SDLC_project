{
  "nbformat": 4,
  "nbformat_minor": 0,
  "metadata": {
    "colab": {
      "name": "graph_MLresults.ipynb",
      "provenance": [],
      "toc_visible": true
    },
    "kernelspec": {
      "name": "python3",
      "display_name": "Python 3"
    },
    "language_info": {
      "name": "python"
    }
  },
  "cells": [
    {
      "cell_type": "markdown",
      "source": [
        "Importing modules"
      ],
      "metadata": {
        "id": "kwbnVlbqgfVf"
      }
    },
    {
      "cell_type": "code",
      "execution_count": 97,
      "metadata": {
        "id": "drVBjWa6nzob"
      },
      "outputs": [],
      "source": [
        "import pandas as pd\n",
        "import os\n",
        "import numpy as np"
      ]
    },
    {
      "cell_type": "code",
      "source": [
        "import plotly.express as px\n",
        "import plotly.graph_objects as go\n",
        "from plotly.subplots import make_subplots"
      ],
      "metadata": {
        "id": "9px5UPLuxqdV"
      },
      "execution_count": 21,
      "outputs": []
    },
    {
      "cell_type": "code",
      "source": [
        "from google.colab import drive\n",
        "drive.mount('/content/drive')"
      ],
      "metadata": {
        "colab": {
          "base_uri": "https://localhost:8080/"
        },
        "id": "HCQn8zk7sLNm",
        "outputId": "00bfd4b9-a5fb-4df7-c47c-3b3dd9e0efec"
      },
      "execution_count": 3,
      "outputs": [
        {
          "output_type": "stream",
          "name": "stdout",
          "text": [
            "Mounted at /content/drive\n"
          ]
        }
      ]
    },
    {
      "cell_type": "code",
      "source": [
        "os.chdir('/content/drive/MyDrive/SDLC/news_analysis_project')"
      ],
      "metadata": {
        "id": "UqF1k4sSsIai"
      },
      "execution_count": 4,
      "outputs": []
    },
    {
      "cell_type": "markdown",
      "source": [
        "Some helper functions"
      ],
      "metadata": {
        "id": "Jz4lAaRXNXUL"
      }
    },
    {
      "cell_type": "code",
      "source": [
        "def map_grams(tup):\n",
        "    return \"Unigrams\" if tup == (1, 1) else \"Bigrams\" if tup == (1, 2) else \"Unigrams and Bigrams\"\n",
        "\n",
        "def map_prepr(bin_val):\n",
        "    return \"Preprocessed\" if bin_val else \"Raw\"\n"
      ],
      "metadata": {
        "id": "FQ52iQL3NY7g"
      },
      "execution_count": 5,
      "outputs": []
    },
    {
      "cell_type": "markdown",
      "source": [
        "# Collecting data \n",
        "\n",
        "Since I have analyzed the performance of models both on a full dataset - with all categories, and a smaller one - with only top 5 most frequent categories"
      ],
      "metadata": {
        "id": "sjHln6u6gs3w"
      }
    },
    {
      "cell_type": "markdown",
      "source": [
        "## Helper function \n",
        "\n",
        "This is the function implemented to iterate over .csv files with results and create 2 dataframes - one with only one data row per classifier (top 1 by accuracy) and ther other with 5 data rows by accuracy per classifier"
      ],
      "metadata": {
        "id": "zSx8vkiHhqmj"
      }
    },
    {
      "cell_type": "code",
      "source": [
        "def create_dfs(tuned=False, top5=False):\n",
        "    \"\"\"\n",
        "    Parameters:\n",
        "    tuned: bool, identifies on what results data should be collected, whether on tuned or not;\n",
        "    top5: bool, identifies on what results data should be collected, whether top 5 or all categories\n",
        "    Returns:\n",
        "    tuple - (pd.DataFrame, pd.DataFrame) - (one_row_per_clf_df, (up to 50)_rows_per_clf_df)\n",
        "    \"\"\"\n",
        "    columns_to_keep = [\"Classifier\",\t\"By\", \"Preprocessed\",\t\"Vectorizer\",\t\"Ngram\",\t\"TopKFeatures\",\t\"TrainAccuracy\",\t\"TestAccuracy\"]\n",
        "    if not tuned:\n",
        "        maxes_df = pd.DataFrame(columns=['Classifier', 'By', 'Preprocessed', \n",
        "                                  'Vectorizer', 'Ngram', 'TopKFeatures', \n",
        "                                  'TrainAccuracy', 'TestAccuracy'])\n",
        "        df_50 = maxes_df.copy()\n",
        "        dir = os.getcwd() + (\"/results_for_top_5categories\" if top5 else \"results_for_all\")\n",
        "        for filename in os.listdir(dir):\n",
        "            if '.csv' in filename:\n",
        "                current_df = pd.read_csv(dir + '/' + filename).sort_values(by='TestAccuracy', ascending=False).iloc[:50]\n",
        "                current_df.drop(columns=['Unnamed: 0'], inplace=True)\n",
        "                df_50 = df_50.append(current_df.iloc[:], ignore_index=True)\n",
        "                maxes_df = maxes_df.append(current_df.iloc[0], ignore_index=True)\n",
        "\n",
        "        return maxes_df[columns_to_keep], df_50[columns_to_keep]\n",
        "    else:\n",
        "        dir = \"results_after_tuning\"\n",
        "        dfs = []\n",
        "        for i in os.listdir(dir):\n",
        "            dfs.append(pd.read_csv(f\"{dir}/{i}\"))\n",
        "        return dfs[0]\n",
        "\n"
      ],
      "metadata": {
        "id": "LdacbyCBjC6p"
      },
      "execution_count": 92,
      "outputs": []
    },
    {
      "cell_type": "markdown",
      "source": [
        "## Dataframes for all categories"
      ],
      "metadata": {
        "id": "K7NVA-sUlFkg"
      }
    },
    {
      "cell_type": "code",
      "source": [
        "maxes_all, top_50_all = create_dfs()"
      ],
      "metadata": {
        "id": "mf2D3kSilNxY"
      },
      "execution_count": 7,
      "outputs": []
    },
    {
      "cell_type": "code",
      "source": [
        "maxes_all.sort_values(by='TestAccuracy', ascending=False).head()"
      ],
      "metadata": {
        "colab": {
          "base_uri": "https://localhost:8080/",
          "height": 201
        },
        "id": "zIUQkqp-leKc",
        "outputId": "9d7a375a-b918-484a-fe11-b46c3410b54d"
      },
      "execution_count": 8,
      "outputs": [
        {
          "output_type": "execute_result",
          "data": {
            "text/html": [
              "\n",
              "  <div id=\"df-e6238a94-cb61-4e5b-85cb-9cb1ede170f0\">\n",
              "    <div class=\"colab-df-container\">\n",
              "      <div>\n",
              "<style scoped>\n",
              "    .dataframe tbody tr th:only-of-type {\n",
              "        vertical-align: middle;\n",
              "    }\n",
              "\n",
              "    .dataframe tbody tr th {\n",
              "        vertical-align: top;\n",
              "    }\n",
              "\n",
              "    .dataframe thead th {\n",
              "        text-align: right;\n",
              "    }\n",
              "</style>\n",
              "<table border=\"1\" class=\"dataframe\">\n",
              "  <thead>\n",
              "    <tr style=\"text-align: right;\">\n",
              "      <th></th>\n",
              "      <th>Classifier</th>\n",
              "      <th>By</th>\n",
              "      <th>Preprocessed</th>\n",
              "      <th>Vectorizer</th>\n",
              "      <th>Ngram</th>\n",
              "      <th>TopKFeatures</th>\n",
              "      <th>TrainAccuracy</th>\n",
              "      <th>TestAccuracy</th>\n",
              "    </tr>\n",
              "  </thead>\n",
              "  <tbody>\n",
              "    <tr>\n",
              "      <th>2</th>\n",
              "      <td>LinearSVC</td>\n",
              "      <td>full_text</td>\n",
              "      <td>1</td>\n",
              "      <td>TfidfVectorizer</td>\n",
              "      <td>(1, 1)</td>\n",
              "      <td>12000</td>\n",
              "      <td>0.687725</td>\n",
              "      <td>0.585870</td>\n",
              "    </tr>\n",
              "    <tr>\n",
              "      <th>0</th>\n",
              "      <td>MultinomialNB</td>\n",
              "      <td>full_text</td>\n",
              "      <td>0</td>\n",
              "      <td>CountVectorizer</td>\n",
              "      <td>(1, 1)</td>\n",
              "      <td>10000</td>\n",
              "      <td>0.629797</td>\n",
              "      <td>0.573946</td>\n",
              "    </tr>\n",
              "    <tr>\n",
              "      <th>1</th>\n",
              "      <td>ComplementNB</td>\n",
              "      <td>full_text</td>\n",
              "      <td>0</td>\n",
              "      <td>TfidfVectorizer</td>\n",
              "      <td>(1, 2)</td>\n",
              "      <td>14000</td>\n",
              "      <td>0.591883</td>\n",
              "      <td>0.563068</td>\n",
              "    </tr>\n",
              "    <tr>\n",
              "      <th>6</th>\n",
              "      <td>SGDClassifier</td>\n",
              "      <td>full_text</td>\n",
              "      <td>1</td>\n",
              "      <td>CountVectorizer</td>\n",
              "      <td>(1, 1)</td>\n",
              "      <td>12000</td>\n",
              "      <td>0.634987</td>\n",
              "      <td>0.561524</td>\n",
              "    </tr>\n",
              "    <tr>\n",
              "      <th>3</th>\n",
              "      <td>PassiveAggressiveClassifier</td>\n",
              "      <td>full_text</td>\n",
              "      <td>1</td>\n",
              "      <td>TfidfVectorizer</td>\n",
              "      <td>(1, 1)</td>\n",
              "      <td>12000</td>\n",
              "      <td>0.696077</td>\n",
              "      <td>0.557591</td>\n",
              "    </tr>\n",
              "  </tbody>\n",
              "</table>\n",
              "</div>\n",
              "      <button class=\"colab-df-convert\" onclick=\"convertToInteractive('df-e6238a94-cb61-4e5b-85cb-9cb1ede170f0')\"\n",
              "              title=\"Convert this dataframe to an interactive table.\"\n",
              "              style=\"display:none;\">\n",
              "        \n",
              "  <svg xmlns=\"http://www.w3.org/2000/svg\" height=\"24px\"viewBox=\"0 0 24 24\"\n",
              "       width=\"24px\">\n",
              "    <path d=\"M0 0h24v24H0V0z\" fill=\"none\"/>\n",
              "    <path d=\"M18.56 5.44l.94 2.06.94-2.06 2.06-.94-2.06-.94-.94-2.06-.94 2.06-2.06.94zm-11 1L8.5 8.5l.94-2.06 2.06-.94-2.06-.94L8.5 2.5l-.94 2.06-2.06.94zm10 10l.94 2.06.94-2.06 2.06-.94-2.06-.94-.94-2.06-.94 2.06-2.06.94z\"/><path d=\"M17.41 7.96l-1.37-1.37c-.4-.4-.92-.59-1.43-.59-.52 0-1.04.2-1.43.59L10.3 9.45l-7.72 7.72c-.78.78-.78 2.05 0 2.83L4 21.41c.39.39.9.59 1.41.59.51 0 1.02-.2 1.41-.59l7.78-7.78 2.81-2.81c.8-.78.8-2.07 0-2.86zM5.41 20L4 18.59l7.72-7.72 1.47 1.35L5.41 20z\"/>\n",
              "  </svg>\n",
              "      </button>\n",
              "      \n",
              "  <style>\n",
              "    .colab-df-container {\n",
              "      display:flex;\n",
              "      flex-wrap:wrap;\n",
              "      gap: 12px;\n",
              "    }\n",
              "\n",
              "    .colab-df-convert {\n",
              "      background-color: #E8F0FE;\n",
              "      border: none;\n",
              "      border-radius: 50%;\n",
              "      cursor: pointer;\n",
              "      display: none;\n",
              "      fill: #1967D2;\n",
              "      height: 32px;\n",
              "      padding: 0 0 0 0;\n",
              "      width: 32px;\n",
              "    }\n",
              "\n",
              "    .colab-df-convert:hover {\n",
              "      background-color: #E2EBFA;\n",
              "      box-shadow: 0px 1px 2px rgba(60, 64, 67, 0.3), 0px 1px 3px 1px rgba(60, 64, 67, 0.15);\n",
              "      fill: #174EA6;\n",
              "    }\n",
              "\n",
              "    [theme=dark] .colab-df-convert {\n",
              "      background-color: #3B4455;\n",
              "      fill: #D2E3FC;\n",
              "    }\n",
              "\n",
              "    [theme=dark] .colab-df-convert:hover {\n",
              "      background-color: #434B5C;\n",
              "      box-shadow: 0px 1px 3px 1px rgba(0, 0, 0, 0.15);\n",
              "      filter: drop-shadow(0px 1px 2px rgba(0, 0, 0, 0.3));\n",
              "      fill: #FFFFFF;\n",
              "    }\n",
              "  </style>\n",
              "\n",
              "      <script>\n",
              "        const buttonEl =\n",
              "          document.querySelector('#df-e6238a94-cb61-4e5b-85cb-9cb1ede170f0 button.colab-df-convert');\n",
              "        buttonEl.style.display =\n",
              "          google.colab.kernel.accessAllowed ? 'block' : 'none';\n",
              "\n",
              "        async function convertToInteractive(key) {\n",
              "          const element = document.querySelector('#df-e6238a94-cb61-4e5b-85cb-9cb1ede170f0');\n",
              "          const dataTable =\n",
              "            await google.colab.kernel.invokeFunction('convertToInteractive',\n",
              "                                                     [key], {});\n",
              "          if (!dataTable) return;\n",
              "\n",
              "          const docLinkHtml = 'Like what you see? Visit the ' +\n",
              "            '<a target=\"_blank\" href=https://colab.research.google.com/notebooks/data_table.ipynb>data table notebook</a>'\n",
              "            + ' to learn more about interactive tables.';\n",
              "          element.innerHTML = '';\n",
              "          dataTable['output_type'] = 'display_data';\n",
              "          await google.colab.output.renderOutput(dataTable, element);\n",
              "          const docLink = document.createElement('div');\n",
              "          docLink.innerHTML = docLinkHtml;\n",
              "          element.appendChild(docLink);\n",
              "        }\n",
              "      </script>\n",
              "    </div>\n",
              "  </div>\n",
              "  "
            ],
            "text/plain": [
              "                    Classifier         By  ... TrainAccuracy TestAccuracy\n",
              "2                    LinearSVC  full_text  ...      0.687725     0.585870\n",
              "0                MultinomialNB  full_text  ...      0.629797     0.573946\n",
              "1                 ComplementNB  full_text  ...      0.591883     0.563068\n",
              "6                SGDClassifier  full_text  ...      0.634987     0.561524\n",
              "3  PassiveAggressiveClassifier  full_text  ...      0.696077     0.557591\n",
              "\n",
              "[5 rows x 8 columns]"
            ]
          },
          "metadata": {},
          "execution_count": 8
        }
      ]
    },
    {
      "cell_type": "markdown",
      "source": [
        "## Dataframes for top 5 categories"
      ],
      "metadata": {
        "id": "VXG-IZRllN7r"
      }
    },
    {
      "cell_type": "code",
      "source": [
        "maxes_5, top_50_5 = create_dfs(top5=True)"
      ],
      "metadata": {
        "id": "GbNPzhzQlQ5E"
      },
      "execution_count": 9,
      "outputs": []
    },
    {
      "cell_type": "code",
      "source": [
        "maxes_5 = maxes_5.dropna().sort_values(by='TestAccuracy', ascending=False)\n",
        "maxes_5"
      ],
      "metadata": {
        "colab": {
          "base_uri": "https://localhost:8080/",
          "height": 261
        },
        "id": "kCUSvGwEl9yV",
        "outputId": "3c7dc019-9eb2-47e2-adeb-8722c6e9c89b"
      },
      "execution_count": 10,
      "outputs": [
        {
          "output_type": "execute_result",
          "data": {
            "text/html": [
              "\n",
              "  <div id=\"df-adeef26e-681c-404e-9f1d-073edeb4c96d\">\n",
              "    <div class=\"colab-df-container\">\n",
              "      <div>\n",
              "<style scoped>\n",
              "    .dataframe tbody tr th:only-of-type {\n",
              "        vertical-align: middle;\n",
              "    }\n",
              "\n",
              "    .dataframe tbody tr th {\n",
              "        vertical-align: top;\n",
              "    }\n",
              "\n",
              "    .dataframe thead th {\n",
              "        text-align: right;\n",
              "    }\n",
              "</style>\n",
              "<table border=\"1\" class=\"dataframe\">\n",
              "  <thead>\n",
              "    <tr style=\"text-align: right;\">\n",
              "      <th></th>\n",
              "      <th>Classifier</th>\n",
              "      <th>By</th>\n",
              "      <th>Preprocessed</th>\n",
              "      <th>Vectorizer</th>\n",
              "      <th>Ngram</th>\n",
              "      <th>TopKFeatures</th>\n",
              "      <th>TrainAccuracy</th>\n",
              "      <th>TestAccuracy</th>\n",
              "    </tr>\n",
              "  </thead>\n",
              "  <tbody>\n",
              "    <tr>\n",
              "      <th>0</th>\n",
              "      <td>LinearSVC</td>\n",
              "      <td>full_text</td>\n",
              "      <td>0</td>\n",
              "      <td>TfidfVectorizer</td>\n",
              "      <td>(1, 1)</td>\n",
              "      <td>7500</td>\n",
              "      <td>0.946625</td>\n",
              "      <td>0.905931</td>\n",
              "    </tr>\n",
              "    <tr>\n",
              "      <th>2</th>\n",
              "      <td>SGDClassifier</td>\n",
              "      <td>full_text</td>\n",
              "      <td>0</td>\n",
              "      <td>CountVectorizer</td>\n",
              "      <td>(1, 1)</td>\n",
              "      <td>7500</td>\n",
              "      <td>0.938632</td>\n",
              "      <td>0.901578</td>\n",
              "    </tr>\n",
              "    <tr>\n",
              "      <th>1</th>\n",
              "      <td>PassiveAggressiveClassifier</td>\n",
              "      <td>full_text</td>\n",
              "      <td>0</td>\n",
              "      <td>TfidfVectorizer</td>\n",
              "      <td>(1, 2)</td>\n",
              "      <td>7500</td>\n",
              "      <td>0.949382</td>\n",
              "      <td>0.896936</td>\n",
              "    </tr>\n",
              "    <tr>\n",
              "      <th>6</th>\n",
              "      <td>ComplementNB</td>\n",
              "      <td>full_text</td>\n",
              "      <td>0</td>\n",
              "      <td>TfidfVectorizer</td>\n",
              "      <td>(1, 1)</td>\n",
              "      <td>7500</td>\n",
              "      <td>0.903842</td>\n",
              "      <td>0.890030</td>\n",
              "    </tr>\n",
              "    <tr>\n",
              "      <th>5</th>\n",
              "      <td>MultinomialNB</td>\n",
              "      <td>full_text</td>\n",
              "      <td>0</td>\n",
              "      <td>CountVectorizer</td>\n",
              "      <td>(1, 1)</td>\n",
              "      <td>7500</td>\n",
              "      <td>0.904277</td>\n",
              "      <td>0.886200</td>\n",
              "    </tr>\n",
              "    <tr>\n",
              "      <th>4</th>\n",
              "      <td>RandomForestClassifier</td>\n",
              "      <td>headline</td>\n",
              "      <td>1</td>\n",
              "      <td>TfidfVectorizer</td>\n",
              "      <td>(1, 1)</td>\n",
              "      <td>7500</td>\n",
              "      <td>0.994922</td>\n",
              "      <td>0.820044</td>\n",
              "    </tr>\n",
              "    <tr>\n",
              "      <th>3</th>\n",
              "      <td>XGBClassifier</td>\n",
              "      <td>full_text</td>\n",
              "      <td>0</td>\n",
              "      <td>CountVectorizer</td>\n",
              "      <td>(1, 2)</td>\n",
              "      <td>4500</td>\n",
              "      <td>0.750160</td>\n",
              "      <td>0.745532</td>\n",
              "    </tr>\n",
              "  </tbody>\n",
              "</table>\n",
              "</div>\n",
              "      <button class=\"colab-df-convert\" onclick=\"convertToInteractive('df-adeef26e-681c-404e-9f1d-073edeb4c96d')\"\n",
              "              title=\"Convert this dataframe to an interactive table.\"\n",
              "              style=\"display:none;\">\n",
              "        \n",
              "  <svg xmlns=\"http://www.w3.org/2000/svg\" height=\"24px\"viewBox=\"0 0 24 24\"\n",
              "       width=\"24px\">\n",
              "    <path d=\"M0 0h24v24H0V0z\" fill=\"none\"/>\n",
              "    <path d=\"M18.56 5.44l.94 2.06.94-2.06 2.06-.94-2.06-.94-.94-2.06-.94 2.06-2.06.94zm-11 1L8.5 8.5l.94-2.06 2.06-.94-2.06-.94L8.5 2.5l-.94 2.06-2.06.94zm10 10l.94 2.06.94-2.06 2.06-.94-2.06-.94-.94-2.06-.94 2.06-2.06.94z\"/><path d=\"M17.41 7.96l-1.37-1.37c-.4-.4-.92-.59-1.43-.59-.52 0-1.04.2-1.43.59L10.3 9.45l-7.72 7.72c-.78.78-.78 2.05 0 2.83L4 21.41c.39.39.9.59 1.41.59.51 0 1.02-.2 1.41-.59l7.78-7.78 2.81-2.81c.8-.78.8-2.07 0-2.86zM5.41 20L4 18.59l7.72-7.72 1.47 1.35L5.41 20z\"/>\n",
              "  </svg>\n",
              "      </button>\n",
              "      \n",
              "  <style>\n",
              "    .colab-df-container {\n",
              "      display:flex;\n",
              "      flex-wrap:wrap;\n",
              "      gap: 12px;\n",
              "    }\n",
              "\n",
              "    .colab-df-convert {\n",
              "      background-color: #E8F0FE;\n",
              "      border: none;\n",
              "      border-radius: 50%;\n",
              "      cursor: pointer;\n",
              "      display: none;\n",
              "      fill: #1967D2;\n",
              "      height: 32px;\n",
              "      padding: 0 0 0 0;\n",
              "      width: 32px;\n",
              "    }\n",
              "\n",
              "    .colab-df-convert:hover {\n",
              "      background-color: #E2EBFA;\n",
              "      box-shadow: 0px 1px 2px rgba(60, 64, 67, 0.3), 0px 1px 3px 1px rgba(60, 64, 67, 0.15);\n",
              "      fill: #174EA6;\n",
              "    }\n",
              "\n",
              "    [theme=dark] .colab-df-convert {\n",
              "      background-color: #3B4455;\n",
              "      fill: #D2E3FC;\n",
              "    }\n",
              "\n",
              "    [theme=dark] .colab-df-convert:hover {\n",
              "      background-color: #434B5C;\n",
              "      box-shadow: 0px 1px 3px 1px rgba(0, 0, 0, 0.15);\n",
              "      filter: drop-shadow(0px 1px 2px rgba(0, 0, 0, 0.3));\n",
              "      fill: #FFFFFF;\n",
              "    }\n",
              "  </style>\n",
              "\n",
              "      <script>\n",
              "        const buttonEl =\n",
              "          document.querySelector('#df-adeef26e-681c-404e-9f1d-073edeb4c96d button.colab-df-convert');\n",
              "        buttonEl.style.display =\n",
              "          google.colab.kernel.accessAllowed ? 'block' : 'none';\n",
              "\n",
              "        async function convertToInteractive(key) {\n",
              "          const element = document.querySelector('#df-adeef26e-681c-404e-9f1d-073edeb4c96d');\n",
              "          const dataTable =\n",
              "            await google.colab.kernel.invokeFunction('convertToInteractive',\n",
              "                                                     [key], {});\n",
              "          if (!dataTable) return;\n",
              "\n",
              "          const docLinkHtml = 'Like what you see? Visit the ' +\n",
              "            '<a target=\"_blank\" href=https://colab.research.google.com/notebooks/data_table.ipynb>data table notebook</a>'\n",
              "            + ' to learn more about interactive tables.';\n",
              "          element.innerHTML = '';\n",
              "          dataTable['output_type'] = 'display_data';\n",
              "          await google.colab.output.renderOutput(dataTable, element);\n",
              "          const docLink = document.createElement('div');\n",
              "          docLink.innerHTML = docLinkHtml;\n",
              "          element.appendChild(docLink);\n",
              "        }\n",
              "      </script>\n",
              "    </div>\n",
              "  </div>\n",
              "  "
            ],
            "text/plain": [
              "                    Classifier         By  ... TrainAccuracy TestAccuracy\n",
              "0                    LinearSVC  full_text  ...      0.946625     0.905931\n",
              "2                SGDClassifier  full_text  ...      0.938632     0.901578\n",
              "1  PassiveAggressiveClassifier  full_text  ...      0.949382     0.896936\n",
              "6                 ComplementNB  full_text  ...      0.903842     0.890030\n",
              "5                MultinomialNB  full_text  ...      0.904277     0.886200\n",
              "4       RandomForestClassifier   headline  ...      0.994922     0.820044\n",
              "3                XGBClassifier  full_text  ...      0.750160     0.745532\n",
              "\n",
              "[7 rows x 8 columns]"
            ]
          },
          "metadata": {},
          "execution_count": 10
        }
      ]
    },
    {
      "cell_type": "markdown",
      "source": [
        "# Bar plot representing best combination of vectorizer, ngram, topfeatures etc. for each ML model type"
      ],
      "metadata": {
        "id": "w2HfYtCuLhOF"
      }
    },
    {
      "cell_type": "markdown",
      "source": [
        "## Helper function"
      ],
      "metadata": {
        "id": "9Bq-p-smv0bR"
      }
    },
    {
      "cell_type": "code",
      "source": [
        "def plot_unique_clf(data):\n",
        "    data = data.sort_values(by='TestAccuracy', ascending=False)\n",
        "    fig = go.Figure(go.Bar(\n",
        "        x=data.Classifier.values,\n",
        "        y=data.TestAccuracy.values,\n",
        "        showlegend = False))\n",
        "\n",
        "    fig.update_layout(\n",
        "        title = \"The best performance (test accuracy) for each ML model type\")\n",
        "    \n",
        "    values_range = data.TestAccuracy.quantile([0, 1]).values\n",
        "    fig.update_yaxes(range=[values_range[0] - 0.05, values_range[1]])\n",
        "\n",
        "    fig.show()"
      ],
      "metadata": {
        "id": "6txQui3VewhC"
      },
      "execution_count": 96,
      "outputs": []
    },
    {
      "cell_type": "markdown",
      "source": [
        "## Building barplot for results after classification on top 5 categories"
      ],
      "metadata": {
        "id": "JPYYbr4zfHQQ"
      }
    },
    {
      "cell_type": "code",
      "source": [
        "plot_unique_clf(maxes_5)  # peak_performance_top_5.png"
      ],
      "metadata": {
        "colab": {
          "base_uri": "https://localhost:8080/",
          "height": 542
        },
        "id": "FLpMW9dOfVBg",
        "outputId": "b27cf69f-ddd7-4d12-e953-5b9e92a3125b"
      },
      "execution_count": 12,
      "outputs": [
        {
          "output_type": "display_data",
          "data": {
            "text/html": [
              "<html>\n",
              "<head><meta charset=\"utf-8\" /></head>\n",
              "<body>\n",
              "    <div>            <script src=\"https://cdnjs.cloudflare.com/ajax/libs/mathjax/2.7.5/MathJax.js?config=TeX-AMS-MML_SVG\"></script><script type=\"text/javascript\">if (window.MathJax) {MathJax.Hub.Config({SVG: {font: \"STIX-Web\"}});}</script>                <script type=\"text/javascript\">window.PlotlyConfig = {MathJaxConfig: 'local'};</script>\n",
              "        <script src=\"https://cdn.plot.ly/plotly-2.8.3.min.js\"></script>                <div id=\"afbbefe9-5f15-4c16-b524-61ca1fb0b7bf\" class=\"plotly-graph-div\" style=\"height:525px; width:100%;\"></div>            <script type=\"text/javascript\">                                    window.PLOTLYENV=window.PLOTLYENV || {};                                    if (document.getElementById(\"afbbefe9-5f15-4c16-b524-61ca1fb0b7bf\")) {                    Plotly.newPlot(                        \"afbbefe9-5f15-4c16-b524-61ca1fb0b7bf\",                        [{\"showlegend\":false,\"x\":[\"LinearSVC\",\"SGDClassifier\",\"PassiveAggressiveClassifier\",\"ComplementNB\",\"MultinomialNB\",\"RandomForestClassifier\",\"XGBClassifier\"],\"y\":[0.905930826369545,0.9015784586815228,0.8969359331476323,0.8900301764159703,0.8862000928505107,0.820044103992572,0.7455315691736305],\"type\":\"bar\"}],                        {\"template\":{\"data\":{\"bar\":[{\"error_x\":{\"color\":\"#2a3f5f\"},\"error_y\":{\"color\":\"#2a3f5f\"},\"marker\":{\"line\":{\"color\":\"#E5ECF6\",\"width\":0.5},\"pattern\":{\"fillmode\":\"overlay\",\"size\":10,\"solidity\":0.2}},\"type\":\"bar\"}],\"barpolar\":[{\"marker\":{\"line\":{\"color\":\"#E5ECF6\",\"width\":0.5},\"pattern\":{\"fillmode\":\"overlay\",\"size\":10,\"solidity\":0.2}},\"type\":\"barpolar\"}],\"carpet\":[{\"aaxis\":{\"endlinecolor\":\"#2a3f5f\",\"gridcolor\":\"white\",\"linecolor\":\"white\",\"minorgridcolor\":\"white\",\"startlinecolor\":\"#2a3f5f\"},\"baxis\":{\"endlinecolor\":\"#2a3f5f\",\"gridcolor\":\"white\",\"linecolor\":\"white\",\"minorgridcolor\":\"white\",\"startlinecolor\":\"#2a3f5f\"},\"type\":\"carpet\"}],\"choropleth\":[{\"colorbar\":{\"outlinewidth\":0,\"ticks\":\"\"},\"type\":\"choropleth\"}],\"contour\":[{\"colorbar\":{\"outlinewidth\":0,\"ticks\":\"\"},\"colorscale\":[[0.0,\"#0d0887\"],[0.1111111111111111,\"#46039f\"],[0.2222222222222222,\"#7201a8\"],[0.3333333333333333,\"#9c179e\"],[0.4444444444444444,\"#bd3786\"],[0.5555555555555556,\"#d8576b\"],[0.6666666666666666,\"#ed7953\"],[0.7777777777777778,\"#fb9f3a\"],[0.8888888888888888,\"#fdca26\"],[1.0,\"#f0f921\"]],\"type\":\"contour\"}],\"contourcarpet\":[{\"colorbar\":{\"outlinewidth\":0,\"ticks\":\"\"},\"type\":\"contourcarpet\"}],\"heatmap\":[{\"colorbar\":{\"outlinewidth\":0,\"ticks\":\"\"},\"colorscale\":[[0.0,\"#0d0887\"],[0.1111111111111111,\"#46039f\"],[0.2222222222222222,\"#7201a8\"],[0.3333333333333333,\"#9c179e\"],[0.4444444444444444,\"#bd3786\"],[0.5555555555555556,\"#d8576b\"],[0.6666666666666666,\"#ed7953\"],[0.7777777777777778,\"#fb9f3a\"],[0.8888888888888888,\"#fdca26\"],[1.0,\"#f0f921\"]],\"type\":\"heatmap\"}],\"heatmapgl\":[{\"colorbar\":{\"outlinewidth\":0,\"ticks\":\"\"},\"colorscale\":[[0.0,\"#0d0887\"],[0.1111111111111111,\"#46039f\"],[0.2222222222222222,\"#7201a8\"],[0.3333333333333333,\"#9c179e\"],[0.4444444444444444,\"#bd3786\"],[0.5555555555555556,\"#d8576b\"],[0.6666666666666666,\"#ed7953\"],[0.7777777777777778,\"#fb9f3a\"],[0.8888888888888888,\"#fdca26\"],[1.0,\"#f0f921\"]],\"type\":\"heatmapgl\"}],\"histogram\":[{\"marker\":{\"pattern\":{\"fillmode\":\"overlay\",\"size\":10,\"solidity\":0.2}},\"type\":\"histogram\"}],\"histogram2d\":[{\"colorbar\":{\"outlinewidth\":0,\"ticks\":\"\"},\"colorscale\":[[0.0,\"#0d0887\"],[0.1111111111111111,\"#46039f\"],[0.2222222222222222,\"#7201a8\"],[0.3333333333333333,\"#9c179e\"],[0.4444444444444444,\"#bd3786\"],[0.5555555555555556,\"#d8576b\"],[0.6666666666666666,\"#ed7953\"],[0.7777777777777778,\"#fb9f3a\"],[0.8888888888888888,\"#fdca26\"],[1.0,\"#f0f921\"]],\"type\":\"histogram2d\"}],\"histogram2dcontour\":[{\"colorbar\":{\"outlinewidth\":0,\"ticks\":\"\"},\"colorscale\":[[0.0,\"#0d0887\"],[0.1111111111111111,\"#46039f\"],[0.2222222222222222,\"#7201a8\"],[0.3333333333333333,\"#9c179e\"],[0.4444444444444444,\"#bd3786\"],[0.5555555555555556,\"#d8576b\"],[0.6666666666666666,\"#ed7953\"],[0.7777777777777778,\"#fb9f3a\"],[0.8888888888888888,\"#fdca26\"],[1.0,\"#f0f921\"]],\"type\":\"histogram2dcontour\"}],\"mesh3d\":[{\"colorbar\":{\"outlinewidth\":0,\"ticks\":\"\"},\"type\":\"mesh3d\"}],\"parcoords\":[{\"line\":{\"colorbar\":{\"outlinewidth\":0,\"ticks\":\"\"}},\"type\":\"parcoords\"}],\"pie\":[{\"automargin\":true,\"type\":\"pie\"}],\"scatter\":[{\"marker\":{\"colorbar\":{\"outlinewidth\":0,\"ticks\":\"\"}},\"type\":\"scatter\"}],\"scatter3d\":[{\"line\":{\"colorbar\":{\"outlinewidth\":0,\"ticks\":\"\"}},\"marker\":{\"colorbar\":{\"outlinewidth\":0,\"ticks\":\"\"}},\"type\":\"scatter3d\"}],\"scattercarpet\":[{\"marker\":{\"colorbar\":{\"outlinewidth\":0,\"ticks\":\"\"}},\"type\":\"scattercarpet\"}],\"scattergeo\":[{\"marker\":{\"colorbar\":{\"outlinewidth\":0,\"ticks\":\"\"}},\"type\":\"scattergeo\"}],\"scattergl\":[{\"marker\":{\"colorbar\":{\"outlinewidth\":0,\"ticks\":\"\"}},\"type\":\"scattergl\"}],\"scattermapbox\":[{\"marker\":{\"colorbar\":{\"outlinewidth\":0,\"ticks\":\"\"}},\"type\":\"scattermapbox\"}],\"scatterpolar\":[{\"marker\":{\"colorbar\":{\"outlinewidth\":0,\"ticks\":\"\"}},\"type\":\"scatterpolar\"}],\"scatterpolargl\":[{\"marker\":{\"colorbar\":{\"outlinewidth\":0,\"ticks\":\"\"}},\"type\":\"scatterpolargl\"}],\"scatterternary\":[{\"marker\":{\"colorbar\":{\"outlinewidth\":0,\"ticks\":\"\"}},\"type\":\"scatterternary\"}],\"surface\":[{\"colorbar\":{\"outlinewidth\":0,\"ticks\":\"\"},\"colorscale\":[[0.0,\"#0d0887\"],[0.1111111111111111,\"#46039f\"],[0.2222222222222222,\"#7201a8\"],[0.3333333333333333,\"#9c179e\"],[0.4444444444444444,\"#bd3786\"],[0.5555555555555556,\"#d8576b\"],[0.6666666666666666,\"#ed7953\"],[0.7777777777777778,\"#fb9f3a\"],[0.8888888888888888,\"#fdca26\"],[1.0,\"#f0f921\"]],\"type\":\"surface\"}],\"table\":[{\"cells\":{\"fill\":{\"color\":\"#EBF0F8\"},\"line\":{\"color\":\"white\"}},\"header\":{\"fill\":{\"color\":\"#C8D4E3\"},\"line\":{\"color\":\"white\"}},\"type\":\"table\"}]},\"layout\":{\"annotationdefaults\":{\"arrowcolor\":\"#2a3f5f\",\"arrowhead\":0,\"arrowwidth\":1},\"autotypenumbers\":\"strict\",\"coloraxis\":{\"colorbar\":{\"outlinewidth\":0,\"ticks\":\"\"}},\"colorscale\":{\"diverging\":[[0,\"#8e0152\"],[0.1,\"#c51b7d\"],[0.2,\"#de77ae\"],[0.3,\"#f1b6da\"],[0.4,\"#fde0ef\"],[0.5,\"#f7f7f7\"],[0.6,\"#e6f5d0\"],[0.7,\"#b8e186\"],[0.8,\"#7fbc41\"],[0.9,\"#4d9221\"],[1,\"#276419\"]],\"sequential\":[[0.0,\"#0d0887\"],[0.1111111111111111,\"#46039f\"],[0.2222222222222222,\"#7201a8\"],[0.3333333333333333,\"#9c179e\"],[0.4444444444444444,\"#bd3786\"],[0.5555555555555556,\"#d8576b\"],[0.6666666666666666,\"#ed7953\"],[0.7777777777777778,\"#fb9f3a\"],[0.8888888888888888,\"#fdca26\"],[1.0,\"#f0f921\"]],\"sequentialminus\":[[0.0,\"#0d0887\"],[0.1111111111111111,\"#46039f\"],[0.2222222222222222,\"#7201a8\"],[0.3333333333333333,\"#9c179e\"],[0.4444444444444444,\"#bd3786\"],[0.5555555555555556,\"#d8576b\"],[0.6666666666666666,\"#ed7953\"],[0.7777777777777778,\"#fb9f3a\"],[0.8888888888888888,\"#fdca26\"],[1.0,\"#f0f921\"]]},\"colorway\":[\"#636efa\",\"#EF553B\",\"#00cc96\",\"#ab63fa\",\"#FFA15A\",\"#19d3f3\",\"#FF6692\",\"#B6E880\",\"#FF97FF\",\"#FECB52\"],\"font\":{\"color\":\"#2a3f5f\"},\"geo\":{\"bgcolor\":\"white\",\"lakecolor\":\"white\",\"landcolor\":\"#E5ECF6\",\"showlakes\":true,\"showland\":true,\"subunitcolor\":\"white\"},\"hoverlabel\":{\"align\":\"left\"},\"hovermode\":\"closest\",\"mapbox\":{\"style\":\"light\"},\"paper_bgcolor\":\"white\",\"plot_bgcolor\":\"#E5ECF6\",\"polar\":{\"angularaxis\":{\"gridcolor\":\"white\",\"linecolor\":\"white\",\"ticks\":\"\"},\"bgcolor\":\"#E5ECF6\",\"radialaxis\":{\"gridcolor\":\"white\",\"linecolor\":\"white\",\"ticks\":\"\"}},\"scene\":{\"xaxis\":{\"backgroundcolor\":\"#E5ECF6\",\"gridcolor\":\"white\",\"gridwidth\":2,\"linecolor\":\"white\",\"showbackground\":true,\"ticks\":\"\",\"zerolinecolor\":\"white\"},\"yaxis\":{\"backgroundcolor\":\"#E5ECF6\",\"gridcolor\":\"white\",\"gridwidth\":2,\"linecolor\":\"white\",\"showbackground\":true,\"ticks\":\"\",\"zerolinecolor\":\"white\"},\"zaxis\":{\"backgroundcolor\":\"#E5ECF6\",\"gridcolor\":\"white\",\"gridwidth\":2,\"linecolor\":\"white\",\"showbackground\":true,\"ticks\":\"\",\"zerolinecolor\":\"white\"}},\"shapedefaults\":{\"line\":{\"color\":\"#2a3f5f\"}},\"ternary\":{\"aaxis\":{\"gridcolor\":\"white\",\"linecolor\":\"white\",\"ticks\":\"\"},\"baxis\":{\"gridcolor\":\"white\",\"linecolor\":\"white\",\"ticks\":\"\"},\"bgcolor\":\"#E5ECF6\",\"caxis\":{\"gridcolor\":\"white\",\"linecolor\":\"white\",\"ticks\":\"\"}},\"title\":{\"x\":0.05},\"xaxis\":{\"automargin\":true,\"gridcolor\":\"white\",\"linecolor\":\"white\",\"ticks\":\"\",\"title\":{\"standoff\":15},\"zerolinecolor\":\"white\",\"zerolinewidth\":2},\"yaxis\":{\"automargin\":true,\"gridcolor\":\"white\",\"linecolor\":\"white\",\"ticks\":\"\",\"title\":{\"standoff\":15},\"zerolinecolor\":\"white\",\"zerolinewidth\":2}}},\"title\":{\"text\":\"The best performance (test accuracy) for each ML model type\"},\"yaxis\":{\"range\":[0.6955315691736305,0.905930826369545]}},                        {\"responsive\": true}                    ).then(function(){\n",
              "                            \n",
              "var gd = document.getElementById('afbbefe9-5f15-4c16-b524-61ca1fb0b7bf');\n",
              "var x = new MutationObserver(function (mutations, observer) {{\n",
              "        var display = window.getComputedStyle(gd).display;\n",
              "        if (!display || display === 'none') {{\n",
              "            console.log([gd, 'removed!']);\n",
              "            Plotly.purge(gd);\n",
              "            observer.disconnect();\n",
              "        }}\n",
              "}});\n",
              "\n",
              "// Listen for the removal of the full notebook cells\n",
              "var notebookContainer = gd.closest('#notebook-container');\n",
              "if (notebookContainer) {{\n",
              "    x.observe(notebookContainer, {childList: true});\n",
              "}}\n",
              "\n",
              "// Listen for the clearing of the current output cell\n",
              "var outputEl = gd.closest('.output');\n",
              "if (outputEl) {{\n",
              "    x.observe(outputEl, {childList: true});\n",
              "}}\n",
              "\n",
              "                        })                };                            </script>        </div>\n",
              "</body>\n",
              "</html>"
            ]
          },
          "metadata": {}
        }
      ]
    },
    {
      "cell_type": "markdown",
      "source": [
        "## Building barplot for results after classification on all categories"
      ],
      "metadata": {
        "id": "fTZk6K1cfVL1"
      }
    },
    {
      "cell_type": "code",
      "source": [
        "plot_unique_clf(maxes_all)  # peak_performance_all.png"
      ],
      "metadata": {
        "colab": {
          "base_uri": "https://localhost:8080/",
          "height": 542
        },
        "id": "-1raKb5LfKwh",
        "outputId": "38d30de7-97a3-4990-aa00-5f6316d48203"
      },
      "execution_count": 13,
      "outputs": [
        {
          "output_type": "display_data",
          "data": {
            "text/html": [
              "<html>\n",
              "<head><meta charset=\"utf-8\" /></head>\n",
              "<body>\n",
              "    <div>            <script src=\"https://cdnjs.cloudflare.com/ajax/libs/mathjax/2.7.5/MathJax.js?config=TeX-AMS-MML_SVG\"></script><script type=\"text/javascript\">if (window.MathJax) {MathJax.Hub.Config({SVG: {font: \"STIX-Web\"}});}</script>                <script type=\"text/javascript\">window.PlotlyConfig = {MathJaxConfig: 'local'};</script>\n",
              "        <script src=\"https://cdn.plot.ly/plotly-2.8.3.min.js\"></script>                <div id=\"8522845e-b0be-4584-8188-1240399c7f84\" class=\"plotly-graph-div\" style=\"height:525px; width:100%;\"></div>            <script type=\"text/javascript\">                                    window.PLOTLYENV=window.PLOTLYENV || {};                                    if (document.getElementById(\"8522845e-b0be-4584-8188-1240399c7f84\")) {                    Plotly.newPlot(                        \"8522845e-b0be-4584-8188-1240399c7f84\",                        [{\"showlegend\":false,\"x\":[\"LinearSVC\",\"MultinomialNB\",\"ComplementNB\",\"SGDClassifier\",\"PassiveAggressiveClassifier\",\"RandomForestClassifier\",\"XGBClassifier\"],\"y\":[0.5858704040228025,0.5739463792287969,0.563067884792512,0.5615244828358766,0.557591297204451,0.5129571083617535,0.4574693186627169],\"type\":\"bar\"}],                        {\"template\":{\"data\":{\"bar\":[{\"error_x\":{\"color\":\"#2a3f5f\"},\"error_y\":{\"color\":\"#2a3f5f\"},\"marker\":{\"line\":{\"color\":\"#E5ECF6\",\"width\":0.5},\"pattern\":{\"fillmode\":\"overlay\",\"size\":10,\"solidity\":0.2}},\"type\":\"bar\"}],\"barpolar\":[{\"marker\":{\"line\":{\"color\":\"#E5ECF6\",\"width\":0.5},\"pattern\":{\"fillmode\":\"overlay\",\"size\":10,\"solidity\":0.2}},\"type\":\"barpolar\"}],\"carpet\":[{\"aaxis\":{\"endlinecolor\":\"#2a3f5f\",\"gridcolor\":\"white\",\"linecolor\":\"white\",\"minorgridcolor\":\"white\",\"startlinecolor\":\"#2a3f5f\"},\"baxis\":{\"endlinecolor\":\"#2a3f5f\",\"gridcolor\":\"white\",\"linecolor\":\"white\",\"minorgridcolor\":\"white\",\"startlinecolor\":\"#2a3f5f\"},\"type\":\"carpet\"}],\"choropleth\":[{\"colorbar\":{\"outlinewidth\":0,\"ticks\":\"\"},\"type\":\"choropleth\"}],\"contour\":[{\"colorbar\":{\"outlinewidth\":0,\"ticks\":\"\"},\"colorscale\":[[0.0,\"#0d0887\"],[0.1111111111111111,\"#46039f\"],[0.2222222222222222,\"#7201a8\"],[0.3333333333333333,\"#9c179e\"],[0.4444444444444444,\"#bd3786\"],[0.5555555555555556,\"#d8576b\"],[0.6666666666666666,\"#ed7953\"],[0.7777777777777778,\"#fb9f3a\"],[0.8888888888888888,\"#fdca26\"],[1.0,\"#f0f921\"]],\"type\":\"contour\"}],\"contourcarpet\":[{\"colorbar\":{\"outlinewidth\":0,\"ticks\":\"\"},\"type\":\"contourcarpet\"}],\"heatmap\":[{\"colorbar\":{\"outlinewidth\":0,\"ticks\":\"\"},\"colorscale\":[[0.0,\"#0d0887\"],[0.1111111111111111,\"#46039f\"],[0.2222222222222222,\"#7201a8\"],[0.3333333333333333,\"#9c179e\"],[0.4444444444444444,\"#bd3786\"],[0.5555555555555556,\"#d8576b\"],[0.6666666666666666,\"#ed7953\"],[0.7777777777777778,\"#fb9f3a\"],[0.8888888888888888,\"#fdca26\"],[1.0,\"#f0f921\"]],\"type\":\"heatmap\"}],\"heatmapgl\":[{\"colorbar\":{\"outlinewidth\":0,\"ticks\":\"\"},\"colorscale\":[[0.0,\"#0d0887\"],[0.1111111111111111,\"#46039f\"],[0.2222222222222222,\"#7201a8\"],[0.3333333333333333,\"#9c179e\"],[0.4444444444444444,\"#bd3786\"],[0.5555555555555556,\"#d8576b\"],[0.6666666666666666,\"#ed7953\"],[0.7777777777777778,\"#fb9f3a\"],[0.8888888888888888,\"#fdca26\"],[1.0,\"#f0f921\"]],\"type\":\"heatmapgl\"}],\"histogram\":[{\"marker\":{\"pattern\":{\"fillmode\":\"overlay\",\"size\":10,\"solidity\":0.2}},\"type\":\"histogram\"}],\"histogram2d\":[{\"colorbar\":{\"outlinewidth\":0,\"ticks\":\"\"},\"colorscale\":[[0.0,\"#0d0887\"],[0.1111111111111111,\"#46039f\"],[0.2222222222222222,\"#7201a8\"],[0.3333333333333333,\"#9c179e\"],[0.4444444444444444,\"#bd3786\"],[0.5555555555555556,\"#d8576b\"],[0.6666666666666666,\"#ed7953\"],[0.7777777777777778,\"#fb9f3a\"],[0.8888888888888888,\"#fdca26\"],[1.0,\"#f0f921\"]],\"type\":\"histogram2d\"}],\"histogram2dcontour\":[{\"colorbar\":{\"outlinewidth\":0,\"ticks\":\"\"},\"colorscale\":[[0.0,\"#0d0887\"],[0.1111111111111111,\"#46039f\"],[0.2222222222222222,\"#7201a8\"],[0.3333333333333333,\"#9c179e\"],[0.4444444444444444,\"#bd3786\"],[0.5555555555555556,\"#d8576b\"],[0.6666666666666666,\"#ed7953\"],[0.7777777777777778,\"#fb9f3a\"],[0.8888888888888888,\"#fdca26\"],[1.0,\"#f0f921\"]],\"type\":\"histogram2dcontour\"}],\"mesh3d\":[{\"colorbar\":{\"outlinewidth\":0,\"ticks\":\"\"},\"type\":\"mesh3d\"}],\"parcoords\":[{\"line\":{\"colorbar\":{\"outlinewidth\":0,\"ticks\":\"\"}},\"type\":\"parcoords\"}],\"pie\":[{\"automargin\":true,\"type\":\"pie\"}],\"scatter\":[{\"marker\":{\"colorbar\":{\"outlinewidth\":0,\"ticks\":\"\"}},\"type\":\"scatter\"}],\"scatter3d\":[{\"line\":{\"colorbar\":{\"outlinewidth\":0,\"ticks\":\"\"}},\"marker\":{\"colorbar\":{\"outlinewidth\":0,\"ticks\":\"\"}},\"type\":\"scatter3d\"}],\"scattercarpet\":[{\"marker\":{\"colorbar\":{\"outlinewidth\":0,\"ticks\":\"\"}},\"type\":\"scattercarpet\"}],\"scattergeo\":[{\"marker\":{\"colorbar\":{\"outlinewidth\":0,\"ticks\":\"\"}},\"type\":\"scattergeo\"}],\"scattergl\":[{\"marker\":{\"colorbar\":{\"outlinewidth\":0,\"ticks\":\"\"}},\"type\":\"scattergl\"}],\"scattermapbox\":[{\"marker\":{\"colorbar\":{\"outlinewidth\":0,\"ticks\":\"\"}},\"type\":\"scattermapbox\"}],\"scatterpolar\":[{\"marker\":{\"colorbar\":{\"outlinewidth\":0,\"ticks\":\"\"}},\"type\":\"scatterpolar\"}],\"scatterpolargl\":[{\"marker\":{\"colorbar\":{\"outlinewidth\":0,\"ticks\":\"\"}},\"type\":\"scatterpolargl\"}],\"scatterternary\":[{\"marker\":{\"colorbar\":{\"outlinewidth\":0,\"ticks\":\"\"}},\"type\":\"scatterternary\"}],\"surface\":[{\"colorbar\":{\"outlinewidth\":0,\"ticks\":\"\"},\"colorscale\":[[0.0,\"#0d0887\"],[0.1111111111111111,\"#46039f\"],[0.2222222222222222,\"#7201a8\"],[0.3333333333333333,\"#9c179e\"],[0.4444444444444444,\"#bd3786\"],[0.5555555555555556,\"#d8576b\"],[0.6666666666666666,\"#ed7953\"],[0.7777777777777778,\"#fb9f3a\"],[0.8888888888888888,\"#fdca26\"],[1.0,\"#f0f921\"]],\"type\":\"surface\"}],\"table\":[{\"cells\":{\"fill\":{\"color\":\"#EBF0F8\"},\"line\":{\"color\":\"white\"}},\"header\":{\"fill\":{\"color\":\"#C8D4E3\"},\"line\":{\"color\":\"white\"}},\"type\":\"table\"}]},\"layout\":{\"annotationdefaults\":{\"arrowcolor\":\"#2a3f5f\",\"arrowhead\":0,\"arrowwidth\":1},\"autotypenumbers\":\"strict\",\"coloraxis\":{\"colorbar\":{\"outlinewidth\":0,\"ticks\":\"\"}},\"colorscale\":{\"diverging\":[[0,\"#8e0152\"],[0.1,\"#c51b7d\"],[0.2,\"#de77ae\"],[0.3,\"#f1b6da\"],[0.4,\"#fde0ef\"],[0.5,\"#f7f7f7\"],[0.6,\"#e6f5d0\"],[0.7,\"#b8e186\"],[0.8,\"#7fbc41\"],[0.9,\"#4d9221\"],[1,\"#276419\"]],\"sequential\":[[0.0,\"#0d0887\"],[0.1111111111111111,\"#46039f\"],[0.2222222222222222,\"#7201a8\"],[0.3333333333333333,\"#9c179e\"],[0.4444444444444444,\"#bd3786\"],[0.5555555555555556,\"#d8576b\"],[0.6666666666666666,\"#ed7953\"],[0.7777777777777778,\"#fb9f3a\"],[0.8888888888888888,\"#fdca26\"],[1.0,\"#f0f921\"]],\"sequentialminus\":[[0.0,\"#0d0887\"],[0.1111111111111111,\"#46039f\"],[0.2222222222222222,\"#7201a8\"],[0.3333333333333333,\"#9c179e\"],[0.4444444444444444,\"#bd3786\"],[0.5555555555555556,\"#d8576b\"],[0.6666666666666666,\"#ed7953\"],[0.7777777777777778,\"#fb9f3a\"],[0.8888888888888888,\"#fdca26\"],[1.0,\"#f0f921\"]]},\"colorway\":[\"#636efa\",\"#EF553B\",\"#00cc96\",\"#ab63fa\",\"#FFA15A\",\"#19d3f3\",\"#FF6692\",\"#B6E880\",\"#FF97FF\",\"#FECB52\"],\"font\":{\"color\":\"#2a3f5f\"},\"geo\":{\"bgcolor\":\"white\",\"lakecolor\":\"white\",\"landcolor\":\"#E5ECF6\",\"showlakes\":true,\"showland\":true,\"subunitcolor\":\"white\"},\"hoverlabel\":{\"align\":\"left\"},\"hovermode\":\"closest\",\"mapbox\":{\"style\":\"light\"},\"paper_bgcolor\":\"white\",\"plot_bgcolor\":\"#E5ECF6\",\"polar\":{\"angularaxis\":{\"gridcolor\":\"white\",\"linecolor\":\"white\",\"ticks\":\"\"},\"bgcolor\":\"#E5ECF6\",\"radialaxis\":{\"gridcolor\":\"white\",\"linecolor\":\"white\",\"ticks\":\"\"}},\"scene\":{\"xaxis\":{\"backgroundcolor\":\"#E5ECF6\",\"gridcolor\":\"white\",\"gridwidth\":2,\"linecolor\":\"white\",\"showbackground\":true,\"ticks\":\"\",\"zerolinecolor\":\"white\"},\"yaxis\":{\"backgroundcolor\":\"#E5ECF6\",\"gridcolor\":\"white\",\"gridwidth\":2,\"linecolor\":\"white\",\"showbackground\":true,\"ticks\":\"\",\"zerolinecolor\":\"white\"},\"zaxis\":{\"backgroundcolor\":\"#E5ECF6\",\"gridcolor\":\"white\",\"gridwidth\":2,\"linecolor\":\"white\",\"showbackground\":true,\"ticks\":\"\",\"zerolinecolor\":\"white\"}},\"shapedefaults\":{\"line\":{\"color\":\"#2a3f5f\"}},\"ternary\":{\"aaxis\":{\"gridcolor\":\"white\",\"linecolor\":\"white\",\"ticks\":\"\"},\"baxis\":{\"gridcolor\":\"white\",\"linecolor\":\"white\",\"ticks\":\"\"},\"bgcolor\":\"#E5ECF6\",\"caxis\":{\"gridcolor\":\"white\",\"linecolor\":\"white\",\"ticks\":\"\"}},\"title\":{\"x\":0.05},\"xaxis\":{\"automargin\":true,\"gridcolor\":\"white\",\"linecolor\":\"white\",\"ticks\":\"\",\"title\":{\"standoff\":15},\"zerolinecolor\":\"white\",\"zerolinewidth\":2},\"yaxis\":{\"automargin\":true,\"gridcolor\":\"white\",\"linecolor\":\"white\",\"ticks\":\"\",\"title\":{\"standoff\":15},\"zerolinecolor\":\"white\",\"zerolinewidth\":2}}},\"title\":{\"text\":\"The best performance (test accuracy) for each ML model type\"},\"yaxis\":{\"range\":[0.4074693186627169,0.5858704040228025]}},                        {\"responsive\": true}                    ).then(function(){\n",
              "                            \n",
              "var gd = document.getElementById('8522845e-b0be-4584-8188-1240399c7f84');\n",
              "var x = new MutationObserver(function (mutations, observer) {{\n",
              "        var display = window.getComputedStyle(gd).display;\n",
              "        if (!display || display === 'none') {{\n",
              "            console.log([gd, 'removed!']);\n",
              "            Plotly.purge(gd);\n",
              "            observer.disconnect();\n",
              "        }}\n",
              "}});\n",
              "\n",
              "// Listen for the removal of the full notebook cells\n",
              "var notebookContainer = gd.closest('#notebook-container');\n",
              "if (notebookContainer) {{\n",
              "    x.observe(notebookContainer, {childList: true});\n",
              "}}\n",
              "\n",
              "// Listen for the clearing of the current output cell\n",
              "var outputEl = gd.closest('.output');\n",
              "if (outputEl) {{\n",
              "    x.observe(outputEl, {childList: true});\n",
              "}}\n",
              "\n",
              "                        })                };                            </script>        </div>\n",
              "</body>\n",
              "</html>"
            ]
          },
          "metadata": {}
        }
      ]
    },
    {
      "cell_type": "markdown",
      "source": [
        "# Scatter plots"
      ],
      "metadata": {
        "id": "SYA3bauxP04H"
      }
    },
    {
      "cell_type": "markdown",
      "source": [
        "## Accuracy vs what type of text data classification was made on and what vectorizer&ngram_range was used"
      ],
      "metadata": {
        "id": "G85d0Rr5qiQL"
      }
    },
    {
      "cell_type": "markdown",
      "source": [
        "### Helper function to build complex figure"
      ],
      "metadata": {
        "id": "DiZF816oHFyn"
      }
    },
    {
      "cell_type": "code",
      "source": [
        "def build_all(dataframe):\n",
        "    \"\"\"\n",
        "    Visual representation of how different vectorizer/ngram_range/\n",
        "    topKfeatures/what classification was based on combination affects each\n",
        "    of the classifier's performance.\n",
        "    \"\"\"\n",
        "    dataframe[\"FullBy\"] = dataframe[\"Preprocessed\"].apply(map_prepr) + \" \" + dataframe[\"By\"]\n",
        "    dataframe[\"NgramRange\"] = dataframe[\"Ngram\"].apply(map_grams)\n",
        "    big_fig = px.scatter(\n",
        "      dataframe, x=\"TopKFeatures\", y=\"TestAccuracy\", \n",
        "      color=\"FullBy\", symbol=\"NgramRange\", \n",
        "      facet_row=\"Classifier\", facet_col=\"Vectorizer\", facet_row_spacing=0.05)\n",
        "    big_fig.update_layout(\n",
        "        autosize=False,\n",
        "        width=1100,\n",
        "        height=1450)\n",
        "    big_fig.show()"
      ],
      "metadata": {
        "id": "8T_oUG3HHKv2"
      },
      "execution_count": 98,
      "outputs": []
    },
    {
      "cell_type": "markdown",
      "source": [
        "### Performance of classifiers trained on data with all categories"
      ],
      "metadata": {
        "id": "kMh1vAUsI2Cb"
      }
    },
    {
      "cell_type": "code",
      "source": [
        "build_all(top_50_all)  # performance_for_all.png"
      ],
      "metadata": {
        "colab": {
          "base_uri": "https://localhost:8080/",
          "height": 1000
        },
        "id": "98lmsFREP9Ad",
        "outputId": "b6245537-814f-4c4c-e160-4eb14b661a2a"
      },
      "execution_count": 99,
      "outputs": [
        {
          "output_type": "display_data",
          "data": {
            "text/html": [
              "<html>\n",
              "<head><meta charset=\"utf-8\" /></head>\n",
              "<body>\n",
              "    <div>            <script src=\"https://cdnjs.cloudflare.com/ajax/libs/mathjax/2.7.5/MathJax.js?config=TeX-AMS-MML_SVG\"></script><script type=\"text/javascript\">if (window.MathJax) {MathJax.Hub.Config({SVG: {font: \"STIX-Web\"}});}</script>                <script type=\"text/javascript\">window.PlotlyConfig = {MathJaxConfig: 'local'};</script>\n",
              "        <script src=\"https://cdn.plot.ly/plotly-2.8.3.min.js\"></script>                <div id=\"81d2e4e3-2157-48f5-90b8-43e93c383e47\" class=\"plotly-graph-div\" style=\"height:1450px; width:1100px;\"></div>            <script type=\"text/javascript\">                                    window.PLOTLYENV=window.PLOTLYENV || {};                                    if (document.getElementById(\"81d2e4e3-2157-48f5-90b8-43e93c383e47\")) {                    Plotly.newPlot(                        \"81d2e4e3-2157-48f5-90b8-43e93c383e47\",                        [{\"hovertemplate\":\"FullBy=Raw full_text<br>NgramRange=Unigrams and Bigrams<br>Classifier=MultinomialNB<br>Vectorizer=CountVectorizer<br>TopKFeatures=%{x}<br>TestAccuracy=%{y}<extra></extra>\",\"legendgroup\":\"Raw full_text, Unigrams and Bigrams\",\"marker\":{\"color\":\"#636efa\",\"symbol\":\"circle\"},\"mode\":\"markers\",\"name\":\"Raw full_text, Unigrams and Bigrams\",\"orientation\":\"v\",\"showlegend\":true,\"x\":[10000,11000,12000,13000,14000,9000,8000,7000,14000,6000,13000,12000,11000,5000,10000,9000,8000,7000],\"xaxis\":\"x13\",\"y\":[0.5739463792287969,0.5736227626895024,0.5730751039306963,0.572826168131239,0.5722287222125414,0.5709840432152548,0.569565109158348,0.5662791566055114,0.5653332005675736,0.5645366060093102,0.5637649050309925,0.5618480993751711,0.5604291653182644,0.5591098055811407,0.5582634238629858,0.5554006621692266,0.5529113041746534,0.5493017350825222],\"yaxis\":\"y13\",\"type\":\"scatter\"},{\"hovertemplate\":\"FullBy=Raw full_text<br>NgramRange=Unigrams and Bigrams<br>Classifier=ComplementNB<br>Vectorizer=CountVectorizer<br>TopKFeatures=%{x}<br>TestAccuracy=%{y}<extra></extra>\",\"legendgroup\":\"Raw full_text, Unigrams and Bigrams\",\"marker\":{\"color\":\"#636efa\",\"symbol\":\"circle\"},\"mode\":\"markers\",\"name\":\"Raw full_text, Unigrams and Bigrams\",\"orientation\":\"v\",\"showlegend\":false,\"x\":[14000,13000,12000,14000,11000,13000,11000,12000,10000,10000,9000,9000,8000],\"xaxis\":\"x11\",\"y\":[0.5587612954619003,0.5561723631475443,0.5551019392098778,0.5539319409524284,0.5533344950337308,0.5530606656543278,0.5529610913345449,0.5528864105947077,0.5515421572776381,0.5511438599985063,0.549973861741057,0.5495755644619252,0.548579821264096],\"yaxis\":\"y11\",\"type\":\"scatter\"},{\"hovertemplate\":\"FullBy=Raw full_text<br>NgramRange=Unigrams and Bigrams<br>Classifier=ComplementNB<br>Vectorizer=TfidfVectorizer<br>TopKFeatures=%{x}<br>TestAccuracy=%{y}<extra></extra>\",\"legendgroup\":\"Raw full_text, Unigrams and Bigrams\",\"marker\":{\"color\":\"#636efa\",\"symbol\":\"circle\"},\"mode\":\"markers\",\"name\":\"Raw full_text, Unigrams and Bigrams\",\"orientation\":\"v\",\"showlegend\":false,\"x\":[14000,13000,12000,11000,14000,12000,10000,11000,13000,9000,10000,9000,8000,7000,6000,8000,7000,5000],\"xaxis\":\"x12\",\"y\":[0.563067884792512,0.5621966094944114,0.5606781011177218,0.559532996440218,0.5588359762017375,0.5577406586841254,0.5575664036245053,0.5575415100445595,0.5573174678250479,0.555176619949715,0.555176619949715,0.5549525777302033,0.5542057703318314,0.5538572602125912,0.5535087500933509,0.5529859849144906,0.5491274800229021,0.548579821264096],\"yaxis\":\"y12\",\"type\":\"scatter\"},{\"hovertemplate\":\"FullBy=Preprocessed full_text<br>NgramRange=Unigrams and Bigrams<br>Classifier=MultinomialNB<br>Vectorizer=CountVectorizer<br>TopKFeatures=%{x}<br>TestAccuracy=%{y}<extra></extra>\",\"legendgroup\":\"Preprocessed full_text, Unigrams and Bigrams\",\"marker\":{\"color\":\"#EF553B\",\"symbol\":\"circle\"},\"mode\":\"markers\",\"name\":\"Preprocessed full_text, Unigrams and Bigrams\",\"orientation\":\"v\",\"showlegend\":true,\"x\":[14000,12000,13000,11000,10000,11000,12000,9000,13000,14000,8000,10000,7000,6000,9000,8000,5000,7000,6000],\"xaxis\":\"x13\",\"y\":[0.5623708645540315,0.5623459709740858,0.5623210773941401,0.5613253341963108,0.5605038460581017,0.5599312937193498,0.5598566129795126,0.5596823579198925,0.5594085285404894,0.5589604441014663,0.5562719374673272,0.5557740658684125,0.5552015135296607,0.5541808767518857,0.5540813024321027,0.5514923701177467,0.5491025864429564,0.5490279057031192,0.5456174852505539],\"yaxis\":\"y13\",\"type\":\"scatter\"},{\"hovertemplate\":\"FullBy=Preprocessed full_text<br>NgramRange=Unigrams and Bigrams<br>Classifier=ComplementNB<br>Vectorizer=CountVectorizer<br>TopKFeatures=%{x}<br>TestAccuracy=%{y}<extra></extra>\",\"legendgroup\":\"Preprocessed full_text, Unigrams and Bigrams\",\"marker\":{\"color\":\"#EF553B\",\"symbol\":\"circle\"},\"mode\":\"markers\",\"name\":\"Preprocessed full_text, Unigrams and Bigrams\",\"orientation\":\"v\",\"showlegend\":false,\"x\":[14000,14000,13000,13000,12000,12000],\"xaxis\":\"x11\",\"y\":[0.5511936471583978,0.5511936471583978,0.5509198177789948,0.5509198177789948,0.5497000323616539,0.5497000323616539],\"yaxis\":\"y11\",\"type\":\"scatter\"},{\"hovertemplate\":\"FullBy=Preprocessed full_text<br>NgramRange=Unigrams and Bigrams<br>Classifier=ComplementNB<br>Vectorizer=TfidfVectorizer<br>TopKFeatures=%{x}<br>TestAccuracy=%{y}<extra></extra>\",\"legendgroup\":\"Preprocessed full_text, Unigrams and Bigrams\",\"marker\":{\"color\":\"#EF553B\",\"symbol\":\"circle\"},\"mode\":\"markers\",\"name\":\"Preprocessed full_text, Unigrams and Bigrams\",\"orientation\":\"v\",\"showlegend\":false,\"x\":[12000,13000,11000,14000,10000,14000,13000,12000,9000,11000,10000,9000],\"xaxis\":\"x12\",\"y\":[0.5571929999253192,0.5569938512857534,0.556844489806079,0.5567947026461876,0.553409175773568,0.5524881133155759,0.5524632197356302,0.551367902218018,0.5510940728386149,0.5486793955838789,0.5484055662044759,0.5482313111448558],\"yaxis\":\"y12\",\"type\":\"scatter\"},{\"hovertemplate\":\"FullBy=Preprocessed full_text<br>NgramRange=Unigrams and Bigrams<br>Classifier=LinearSVC<br>Vectorizer=CountVectorizer<br>TopKFeatures=%{x}<br>TestAccuracy=%{y}<extra></extra>\",\"legendgroup\":\"Preprocessed full_text, Unigrams and Bigrams\",\"marker\":{\"color\":\"#EF553B\",\"symbol\":\"circle\"},\"mode\":\"markers\",\"name\":\"Preprocessed full_text, Unigrams and Bigrams\",\"orientation\":\"v\",\"showlegend\":false,\"x\":[9000,10500,12000],\"xaxis\":\"x9\",\"y\":[0.5653332005675736,0.5633666077518608,0.5619227801150083],\"yaxis\":\"y9\",\"type\":\"scatter\"},{\"hovertemplate\":\"FullBy=Preprocessed full_text<br>NgramRange=Unigrams and Bigrams<br>Classifier=LinearSVC<br>Vectorizer=TfidfVectorizer<br>TopKFeatures=%{x}<br>TestAccuracy=%{y}<extra></extra>\",\"legendgroup\":\"Preprocessed full_text, Unigrams and Bigrams\",\"marker\":{\"color\":\"#EF553B\",\"symbol\":\"circle\"},\"mode\":\"markers\",\"name\":\"Preprocessed full_text, Unigrams and Bigrams\",\"orientation\":\"v\",\"showlegend\":false,\"x\":[12000,10500,9000],\"xaxis\":\"x10\",\"y\":[0.5858704040228025,0.5838291304672525,0.5833561524482835],\"yaxis\":\"y10\",\"type\":\"scatter\"},{\"hovertemplate\":\"FullBy=Preprocessed full_text<br>NgramRange=Unigrams and Bigrams<br>Classifier=PassiveAggressiveClassifier<br>Vectorizer=CountVectorizer<br>TopKFeatures=%{x}<br>TestAccuracy=%{y}<extra></extra>\",\"legendgroup\":\"Preprocessed full_text, Unigrams and Bigrams\",\"marker\":{\"color\":\"#EF553B\",\"symbol\":\"circle\"},\"mode\":\"markers\",\"name\":\"Preprocessed full_text, Unigrams and Bigrams\",\"orientation\":\"v\",\"showlegend\":false,\"x\":[10500,9000,12000],\"xaxis\":\"x7\",\"y\":[0.4786039680366433,0.4757163127629384,0.4752931219038609],\"yaxis\":\"y7\",\"type\":\"scatter\"},{\"hovertemplate\":\"FullBy=Preprocessed full_text<br>NgramRange=Unigrams and Bigrams<br>Classifier=PassiveAggressiveClassifier<br>Vectorizer=TfidfVectorizer<br>TopKFeatures=%{x}<br>TestAccuracy=%{y}<extra></extra>\",\"legendgroup\":\"Preprocessed full_text, Unigrams and Bigrams\",\"marker\":{\"color\":\"#EF553B\",\"symbol\":\"circle\"},\"mode\":\"markers\",\"name\":\"Preprocessed full_text, Unigrams and Bigrams\",\"orientation\":\"v\",\"showlegend\":false,\"x\":[12000,9000,10500],\"xaxis\":\"x8\",\"y\":[0.557591297204451,0.5553757685892808,0.554529386871126],\"yaxis\":\"y8\",\"type\":\"scatter\"},{\"hovertemplate\":\"FullBy=Preprocessed full_text<br>NgramRange=Unigrams and Bigrams<br>Classifier=XGBClassifier<br>Vectorizer=CountVectorizer<br>TopKFeatures=%{x}<br>TestAccuracy=%{y}<extra></extra>\",\"legendgroup\":\"Preprocessed full_text, Unigrams and Bigrams\",\"marker\":{\"color\":\"#EF553B\",\"symbol\":\"circle\"},\"mode\":\"markers\",\"name\":\"Preprocessed full_text, Unigrams and Bigrams\",\"orientation\":\"v\",\"showlegend\":false,\"x\":[12000,9000,10500],\"xaxis\":\"x5\",\"y\":[0.4522914540340046,0.4516442209554156,0.4515197530556869],\"yaxis\":\"y5\",\"type\":\"scatter\"},{\"hovertemplate\":\"FullBy=Preprocessed full_text<br>NgramRange=Unigrams and Bigrams<br>Classifier=XGBClassifier<br>Vectorizer=TfidfVectorizer<br>TopKFeatures=%{x}<br>TestAccuracy=%{y}<extra></extra>\",\"legendgroup\":\"Preprocessed full_text, Unigrams and Bigrams\",\"marker\":{\"color\":\"#EF553B\",\"symbol\":\"circle\"},\"mode\":\"markers\",\"name\":\"Preprocessed full_text, Unigrams and Bigrams\",\"orientation\":\"v\",\"showlegend\":false,\"x\":[9000,10500,12000],\"xaxis\":\"x6\",\"y\":[0.4574693186627169,0.4567971920041821,0.456622936944562],\"yaxis\":\"y6\",\"type\":\"scatter\"},{\"hovertemplate\":\"FullBy=Preprocessed full_text<br>NgramRange=Unigrams and Bigrams<br>Classifier=RandomForestClassifier<br>Vectorizer=CountVectorizer<br>TopKFeatures=%{x}<br>TestAccuracy=%{y}<extra></extra>\",\"legendgroup\":\"Preprocessed full_text, Unigrams and Bigrams\",\"marker\":{\"color\":\"#EF553B\",\"symbol\":\"circle\"},\"mode\":\"markers\",\"name\":\"Preprocessed full_text, Unigrams and Bigrams\",\"orientation\":\"v\",\"showlegend\":false,\"x\":[12000,10500,9000],\"xaxis\":\"x3\",\"y\":[0.4959298996788728,0.493863732543377,0.4919967140474471],\"yaxis\":\"y3\",\"type\":\"scatter\"},{\"hovertemplate\":\"FullBy=Preprocessed full_text<br>NgramRange=Unigrams and Bigrams<br>Classifier=RandomForestClassifier<br>Vectorizer=TfidfVectorizer<br>TopKFeatures=%{x}<br>TestAccuracy=%{y}<extra></extra>\",\"legendgroup\":\"Preprocessed full_text, Unigrams and Bigrams\",\"marker\":{\"color\":\"#EF553B\",\"symbol\":\"circle\"},\"mode\":\"markers\",\"name\":\"Preprocessed full_text, Unigrams and Bigrams\",\"orientation\":\"v\",\"showlegend\":false,\"x\":[12000,10500,9000],\"xaxis\":\"x4\",\"y\":[0.5129571083617535,0.5107166861666377,0.5094222200094596],\"yaxis\":\"y4\",\"type\":\"scatter\"},{\"hovertemplate\":\"FullBy=Preprocessed full_text<br>NgramRange=Unigrams and Bigrams<br>Classifier=SGDClassifier<br>Vectorizer=CountVectorizer<br>TopKFeatures=%{x}<br>TestAccuracy=%{y}<extra></extra>\",\"legendgroup\":\"Preprocessed full_text, Unigrams and Bigrams\",\"marker\":{\"color\":\"#EF553B\",\"symbol\":\"circle\"},\"mode\":\"markers\",\"name\":\"Preprocessed full_text, Unigrams and Bigrams\",\"orientation\":\"v\",\"showlegend\":false,\"x\":[12000,10500,9000],\"xaxis\":\"x\",\"y\":[0.5615244828358766,0.5608025690174504,0.5572427870852107],\"yaxis\":\"y\",\"type\":\"scatter\"},{\"hovertemplate\":\"FullBy=Preprocessed full_text<br>NgramRange=Unigrams and Bigrams<br>Classifier=SGDClassifier<br>Vectorizer=TfidfVectorizer<br>TopKFeatures=%{x}<br>TestAccuracy=%{y}<extra></extra>\",\"legendgroup\":\"Preprocessed full_text, Unigrams and Bigrams\",\"marker\":{\"color\":\"#EF553B\",\"symbol\":\"circle\"},\"mode\":\"markers\",\"name\":\"Preprocessed full_text, Unigrams and Bigrams\",\"orientation\":\"v\",\"showlegend\":false,\"x\":[12000,10500,9000],\"xaxis\":\"x2\",\"y\":[0.5399168554429813,0.5363321799307958,0.5354111174728038],\"yaxis\":\"y2\",\"type\":\"scatter\"},{\"hovertemplate\":\"FullBy=Raw headline<br>NgramRange=Unigrams and Bigrams<br>Classifier=MultinomialNB<br>Vectorizer=CountVectorizer<br>TopKFeatures=%{x}<br>TestAccuracy=%{y}<extra></extra>\",\"legendgroup\":\"Raw headline, Unigrams and Bigrams\",\"marker\":{\"color\":\"#00cc96\",\"symbol\":\"circle\"},\"mode\":\"markers\",\"name\":\"Raw headline, Unigrams and Bigrams\",\"orientation\":\"v\",\"showlegend\":true,\"x\":[13000,12000,12000,11000,14000,13000,10000,14000,14000,11000,9000,10000,8000],\"xaxis\":\"x13\",\"y\":[0.5494013094023051,0.5491025864429564,0.5491025864429564,0.5487042891638246,0.548579821264096,0.5481815239849642,0.5476338652261582,0.5473849294267008,0.5473849294267008,0.5469866321475692,0.546911951407732,0.5459411017898484,0.5452440815513679],\"yaxis\":\"y13\",\"type\":\"scatter\"},{\"hovertemplate\":\"FullBy=Raw headline<br>NgramRange=Unigrams and Bigrams<br>Classifier=ComplementNB<br>Vectorizer=CountVectorizer<br>TopKFeatures=%{x}<br>TestAccuracy=%{y}<extra></extra>\",\"legendgroup\":\"Raw headline, Unigrams and Bigrams\",\"marker\":{\"color\":\"#00cc96\",\"symbol\":\"circle\"},\"mode\":\"markers\",\"name\":\"Raw headline, Unigrams and Bigrams\",\"orientation\":\"v\",\"showlegend\":false,\"x\":[14000],\"xaxis\":\"x11\",\"y\":[0.548305991884693],\"yaxis\":\"y11\",\"type\":\"scatter\"}],                        {\"template\":{\"data\":{\"bar\":[{\"error_x\":{\"color\":\"#2a3f5f\"},\"error_y\":{\"color\":\"#2a3f5f\"},\"marker\":{\"line\":{\"color\":\"#E5ECF6\",\"width\":0.5},\"pattern\":{\"fillmode\":\"overlay\",\"size\":10,\"solidity\":0.2}},\"type\":\"bar\"}],\"barpolar\":[{\"marker\":{\"line\":{\"color\":\"#E5ECF6\",\"width\":0.5},\"pattern\":{\"fillmode\":\"overlay\",\"size\":10,\"solidity\":0.2}},\"type\":\"barpolar\"}],\"carpet\":[{\"aaxis\":{\"endlinecolor\":\"#2a3f5f\",\"gridcolor\":\"white\",\"linecolor\":\"white\",\"minorgridcolor\":\"white\",\"startlinecolor\":\"#2a3f5f\"},\"baxis\":{\"endlinecolor\":\"#2a3f5f\",\"gridcolor\":\"white\",\"linecolor\":\"white\",\"minorgridcolor\":\"white\",\"startlinecolor\":\"#2a3f5f\"},\"type\":\"carpet\"}],\"choropleth\":[{\"colorbar\":{\"outlinewidth\":0,\"ticks\":\"\"},\"type\":\"choropleth\"}],\"contour\":[{\"colorbar\":{\"outlinewidth\":0,\"ticks\":\"\"},\"colorscale\":[[0.0,\"#0d0887\"],[0.1111111111111111,\"#46039f\"],[0.2222222222222222,\"#7201a8\"],[0.3333333333333333,\"#9c179e\"],[0.4444444444444444,\"#bd3786\"],[0.5555555555555556,\"#d8576b\"],[0.6666666666666666,\"#ed7953\"],[0.7777777777777778,\"#fb9f3a\"],[0.8888888888888888,\"#fdca26\"],[1.0,\"#f0f921\"]],\"type\":\"contour\"}],\"contourcarpet\":[{\"colorbar\":{\"outlinewidth\":0,\"ticks\":\"\"},\"type\":\"contourcarpet\"}],\"heatmap\":[{\"colorbar\":{\"outlinewidth\":0,\"ticks\":\"\"},\"colorscale\":[[0.0,\"#0d0887\"],[0.1111111111111111,\"#46039f\"],[0.2222222222222222,\"#7201a8\"],[0.3333333333333333,\"#9c179e\"],[0.4444444444444444,\"#bd3786\"],[0.5555555555555556,\"#d8576b\"],[0.6666666666666666,\"#ed7953\"],[0.7777777777777778,\"#fb9f3a\"],[0.8888888888888888,\"#fdca26\"],[1.0,\"#f0f921\"]],\"type\":\"heatmap\"}],\"heatmapgl\":[{\"colorbar\":{\"outlinewidth\":0,\"ticks\":\"\"},\"colorscale\":[[0.0,\"#0d0887\"],[0.1111111111111111,\"#46039f\"],[0.2222222222222222,\"#7201a8\"],[0.3333333333333333,\"#9c179e\"],[0.4444444444444444,\"#bd3786\"],[0.5555555555555556,\"#d8576b\"],[0.6666666666666666,\"#ed7953\"],[0.7777777777777778,\"#fb9f3a\"],[0.8888888888888888,\"#fdca26\"],[1.0,\"#f0f921\"]],\"type\":\"heatmapgl\"}],\"histogram\":[{\"marker\":{\"pattern\":{\"fillmode\":\"overlay\",\"size\":10,\"solidity\":0.2}},\"type\":\"histogram\"}],\"histogram2d\":[{\"colorbar\":{\"outlinewidth\":0,\"ticks\":\"\"},\"colorscale\":[[0.0,\"#0d0887\"],[0.1111111111111111,\"#46039f\"],[0.2222222222222222,\"#7201a8\"],[0.3333333333333333,\"#9c179e\"],[0.4444444444444444,\"#bd3786\"],[0.5555555555555556,\"#d8576b\"],[0.6666666666666666,\"#ed7953\"],[0.7777777777777778,\"#fb9f3a\"],[0.8888888888888888,\"#fdca26\"],[1.0,\"#f0f921\"]],\"type\":\"histogram2d\"}],\"histogram2dcontour\":[{\"colorbar\":{\"outlinewidth\":0,\"ticks\":\"\"},\"colorscale\":[[0.0,\"#0d0887\"],[0.1111111111111111,\"#46039f\"],[0.2222222222222222,\"#7201a8\"],[0.3333333333333333,\"#9c179e\"],[0.4444444444444444,\"#bd3786\"],[0.5555555555555556,\"#d8576b\"],[0.6666666666666666,\"#ed7953\"],[0.7777777777777778,\"#fb9f3a\"],[0.8888888888888888,\"#fdca26\"],[1.0,\"#f0f921\"]],\"type\":\"histogram2dcontour\"}],\"mesh3d\":[{\"colorbar\":{\"outlinewidth\":0,\"ticks\":\"\"},\"type\":\"mesh3d\"}],\"parcoords\":[{\"line\":{\"colorbar\":{\"outlinewidth\":0,\"ticks\":\"\"}},\"type\":\"parcoords\"}],\"pie\":[{\"automargin\":true,\"type\":\"pie\"}],\"scatter\":[{\"marker\":{\"colorbar\":{\"outlinewidth\":0,\"ticks\":\"\"}},\"type\":\"scatter\"}],\"scatter3d\":[{\"line\":{\"colorbar\":{\"outlinewidth\":0,\"ticks\":\"\"}},\"marker\":{\"colorbar\":{\"outlinewidth\":0,\"ticks\":\"\"}},\"type\":\"scatter3d\"}],\"scattercarpet\":[{\"marker\":{\"colorbar\":{\"outlinewidth\":0,\"ticks\":\"\"}},\"type\":\"scattercarpet\"}],\"scattergeo\":[{\"marker\":{\"colorbar\":{\"outlinewidth\":0,\"ticks\":\"\"}},\"type\":\"scattergeo\"}],\"scattergl\":[{\"marker\":{\"colorbar\":{\"outlinewidth\":0,\"ticks\":\"\"}},\"type\":\"scattergl\"}],\"scattermapbox\":[{\"marker\":{\"colorbar\":{\"outlinewidth\":0,\"ticks\":\"\"}},\"type\":\"scattermapbox\"}],\"scatterpolar\":[{\"marker\":{\"colorbar\":{\"outlinewidth\":0,\"ticks\":\"\"}},\"type\":\"scatterpolar\"}],\"scatterpolargl\":[{\"marker\":{\"colorbar\":{\"outlinewidth\":0,\"ticks\":\"\"}},\"type\":\"scatterpolargl\"}],\"scatterternary\":[{\"marker\":{\"colorbar\":{\"outlinewidth\":0,\"ticks\":\"\"}},\"type\":\"scatterternary\"}],\"surface\":[{\"colorbar\":{\"outlinewidth\":0,\"ticks\":\"\"},\"colorscale\":[[0.0,\"#0d0887\"],[0.1111111111111111,\"#46039f\"],[0.2222222222222222,\"#7201a8\"],[0.3333333333333333,\"#9c179e\"],[0.4444444444444444,\"#bd3786\"],[0.5555555555555556,\"#d8576b\"],[0.6666666666666666,\"#ed7953\"],[0.7777777777777778,\"#fb9f3a\"],[0.8888888888888888,\"#fdca26\"],[1.0,\"#f0f921\"]],\"type\":\"surface\"}],\"table\":[{\"cells\":{\"fill\":{\"color\":\"#EBF0F8\"},\"line\":{\"color\":\"white\"}},\"header\":{\"fill\":{\"color\":\"#C8D4E3\"},\"line\":{\"color\":\"white\"}},\"type\":\"table\"}]},\"layout\":{\"annotationdefaults\":{\"arrowcolor\":\"#2a3f5f\",\"arrowhead\":0,\"arrowwidth\":1},\"autotypenumbers\":\"strict\",\"coloraxis\":{\"colorbar\":{\"outlinewidth\":0,\"ticks\":\"\"}},\"colorscale\":{\"diverging\":[[0,\"#8e0152\"],[0.1,\"#c51b7d\"],[0.2,\"#de77ae\"],[0.3,\"#f1b6da\"],[0.4,\"#fde0ef\"],[0.5,\"#f7f7f7\"],[0.6,\"#e6f5d0\"],[0.7,\"#b8e186\"],[0.8,\"#7fbc41\"],[0.9,\"#4d9221\"],[1,\"#276419\"]],\"sequential\":[[0.0,\"#0d0887\"],[0.1111111111111111,\"#46039f\"],[0.2222222222222222,\"#7201a8\"],[0.3333333333333333,\"#9c179e\"],[0.4444444444444444,\"#bd3786\"],[0.5555555555555556,\"#d8576b\"],[0.6666666666666666,\"#ed7953\"],[0.7777777777777778,\"#fb9f3a\"],[0.8888888888888888,\"#fdca26\"],[1.0,\"#f0f921\"]],\"sequentialminus\":[[0.0,\"#0d0887\"],[0.1111111111111111,\"#46039f\"],[0.2222222222222222,\"#7201a8\"],[0.3333333333333333,\"#9c179e\"],[0.4444444444444444,\"#bd3786\"],[0.5555555555555556,\"#d8576b\"],[0.6666666666666666,\"#ed7953\"],[0.7777777777777778,\"#fb9f3a\"],[0.8888888888888888,\"#fdca26\"],[1.0,\"#f0f921\"]]},\"colorway\":[\"#636efa\",\"#EF553B\",\"#00cc96\",\"#ab63fa\",\"#FFA15A\",\"#19d3f3\",\"#FF6692\",\"#B6E880\",\"#FF97FF\",\"#FECB52\"],\"font\":{\"color\":\"#2a3f5f\"},\"geo\":{\"bgcolor\":\"white\",\"lakecolor\":\"white\",\"landcolor\":\"#E5ECF6\",\"showlakes\":true,\"showland\":true,\"subunitcolor\":\"white\"},\"hoverlabel\":{\"align\":\"left\"},\"hovermode\":\"closest\",\"mapbox\":{\"style\":\"light\"},\"paper_bgcolor\":\"white\",\"plot_bgcolor\":\"#E5ECF6\",\"polar\":{\"angularaxis\":{\"gridcolor\":\"white\",\"linecolor\":\"white\",\"ticks\":\"\"},\"bgcolor\":\"#E5ECF6\",\"radialaxis\":{\"gridcolor\":\"white\",\"linecolor\":\"white\",\"ticks\":\"\"}},\"scene\":{\"xaxis\":{\"backgroundcolor\":\"#E5ECF6\",\"gridcolor\":\"white\",\"gridwidth\":2,\"linecolor\":\"white\",\"showbackground\":true,\"ticks\":\"\",\"zerolinecolor\":\"white\"},\"yaxis\":{\"backgroundcolor\":\"#E5ECF6\",\"gridcolor\":\"white\",\"gridwidth\":2,\"linecolor\":\"white\",\"showbackground\":true,\"ticks\":\"\",\"zerolinecolor\":\"white\"},\"zaxis\":{\"backgroundcolor\":\"#E5ECF6\",\"gridcolor\":\"white\",\"gridwidth\":2,\"linecolor\":\"white\",\"showbackground\":true,\"ticks\":\"\",\"zerolinecolor\":\"white\"}},\"shapedefaults\":{\"line\":{\"color\":\"#2a3f5f\"}},\"ternary\":{\"aaxis\":{\"gridcolor\":\"white\",\"linecolor\":\"white\",\"ticks\":\"\"},\"baxis\":{\"gridcolor\":\"white\",\"linecolor\":\"white\",\"ticks\":\"\"},\"bgcolor\":\"#E5ECF6\",\"caxis\":{\"gridcolor\":\"white\",\"linecolor\":\"white\",\"ticks\":\"\"}},\"title\":{\"x\":0.05},\"xaxis\":{\"automargin\":true,\"gridcolor\":\"white\",\"linecolor\":\"white\",\"ticks\":\"\",\"title\":{\"standoff\":15},\"zerolinecolor\":\"white\",\"zerolinewidth\":2},\"yaxis\":{\"automargin\":true,\"gridcolor\":\"white\",\"linecolor\":\"white\",\"ticks\":\"\",\"title\":{\"standoff\":15},\"zerolinecolor\":\"white\",\"zerolinewidth\":2}}},\"xaxis\":{\"anchor\":\"y\",\"domain\":[0.0,0.48],\"title\":{\"text\":\"TopKFeatures\"}},\"yaxis\":{\"anchor\":\"x\",\"domain\":[0.0,0.09999999999999999],\"title\":{\"text\":\"TestAccuracy\"}},\"xaxis2\":{\"anchor\":\"y2\",\"domain\":[0.5,0.98],\"matches\":\"x\",\"title\":{\"text\":\"TopKFeatures\"}},\"yaxis2\":{\"anchor\":\"x2\",\"domain\":[0.0,0.09999999999999999],\"matches\":\"y\",\"showticklabels\":false},\"xaxis3\":{\"anchor\":\"y3\",\"domain\":[0.0,0.48],\"matches\":\"x\",\"showticklabels\":false},\"yaxis3\":{\"anchor\":\"x3\",\"domain\":[0.15,0.25],\"matches\":\"y\",\"title\":{\"text\":\"TestAccuracy\"}},\"xaxis4\":{\"anchor\":\"y4\",\"domain\":[0.5,0.98],\"matches\":\"x\",\"showticklabels\":false},\"yaxis4\":{\"anchor\":\"x4\",\"domain\":[0.15,0.25],\"matches\":\"y\",\"showticklabels\":false},\"xaxis5\":{\"anchor\":\"y5\",\"domain\":[0.0,0.48],\"matches\":\"x\",\"showticklabels\":false},\"yaxis5\":{\"anchor\":\"x5\",\"domain\":[0.3,0.39999999999999997],\"matches\":\"y\",\"title\":{\"text\":\"TestAccuracy\"}},\"xaxis6\":{\"anchor\":\"y6\",\"domain\":[0.5,0.98],\"matches\":\"x\",\"showticklabels\":false},\"yaxis6\":{\"anchor\":\"x6\",\"domain\":[0.3,0.39999999999999997],\"matches\":\"y\",\"showticklabels\":false},\"xaxis7\":{\"anchor\":\"y7\",\"domain\":[0.0,0.48],\"matches\":\"x\",\"showticklabels\":false},\"yaxis7\":{\"anchor\":\"x7\",\"domain\":[0.45,0.55],\"matches\":\"y\",\"title\":{\"text\":\"TestAccuracy\"}},\"xaxis8\":{\"anchor\":\"y8\",\"domain\":[0.5,0.98],\"matches\":\"x\",\"showticklabels\":false},\"yaxis8\":{\"anchor\":\"x8\",\"domain\":[0.45,0.55],\"matches\":\"y\",\"showticklabels\":false},\"xaxis9\":{\"anchor\":\"y9\",\"domain\":[0.0,0.48],\"matches\":\"x\",\"showticklabels\":false},\"yaxis9\":{\"anchor\":\"x9\",\"domain\":[0.6,0.7],\"matches\":\"y\",\"title\":{\"text\":\"TestAccuracy\"}},\"xaxis10\":{\"anchor\":\"y10\",\"domain\":[0.5,0.98],\"matches\":\"x\",\"showticklabels\":false},\"yaxis10\":{\"anchor\":\"x10\",\"domain\":[0.6,0.7],\"matches\":\"y\",\"showticklabels\":false},\"xaxis11\":{\"anchor\":\"y11\",\"domain\":[0.0,0.48],\"matches\":\"x\",\"showticklabels\":false},\"yaxis11\":{\"anchor\":\"x11\",\"domain\":[0.75,0.85],\"matches\":\"y\",\"title\":{\"text\":\"TestAccuracy\"}},\"xaxis12\":{\"anchor\":\"y12\",\"domain\":[0.5,0.98],\"matches\":\"x\",\"showticklabels\":false},\"yaxis12\":{\"anchor\":\"x12\",\"domain\":[0.75,0.85],\"matches\":\"y\",\"showticklabels\":false},\"xaxis13\":{\"anchor\":\"y13\",\"domain\":[0.0,0.48],\"matches\":\"x\",\"showticklabels\":false},\"yaxis13\":{\"anchor\":\"x13\",\"domain\":[0.9,1.0],\"matches\":\"y\",\"title\":{\"text\":\"TestAccuracy\"}},\"xaxis14\":{\"anchor\":\"y14\",\"domain\":[0.5,0.98],\"matches\":\"x\",\"showticklabels\":false},\"yaxis14\":{\"anchor\":\"x14\",\"domain\":[0.9,1.0],\"matches\":\"y\",\"showticklabels\":false},\"annotations\":[{\"font\":{},\"showarrow\":false,\"text\":\"Vectorizer=CountVectorizer\",\"x\":0.24,\"xanchor\":\"center\",\"xref\":\"paper\",\"y\":1.0,\"yanchor\":\"bottom\",\"yref\":\"paper\"},{\"font\":{},\"showarrow\":false,\"text\":\"Vectorizer=TfidfVectorizer\",\"x\":0.74,\"xanchor\":\"center\",\"xref\":\"paper\",\"y\":1.0,\"yanchor\":\"bottom\",\"yref\":\"paper\"},{\"font\":{},\"showarrow\":false,\"text\":\"Classifier=SGDClassifier\",\"textangle\":90,\"x\":0.98,\"xanchor\":\"left\",\"xref\":\"paper\",\"y\":0.049999999999999996,\"yanchor\":\"middle\",\"yref\":\"paper\"},{\"font\":{},\"showarrow\":false,\"text\":\"Classifier=RandomForestClassifier\",\"textangle\":90,\"x\":0.98,\"xanchor\":\"left\",\"xref\":\"paper\",\"y\":0.2,\"yanchor\":\"middle\",\"yref\":\"paper\"},{\"font\":{},\"showarrow\":false,\"text\":\"Classifier=XGBClassifier\",\"textangle\":90,\"x\":0.98,\"xanchor\":\"left\",\"xref\":\"paper\",\"y\":0.35,\"yanchor\":\"middle\",\"yref\":\"paper\"},{\"font\":{},\"showarrow\":false,\"text\":\"Classifier=PassiveAggressiveClassifier\",\"textangle\":90,\"x\":0.98,\"xanchor\":\"left\",\"xref\":\"paper\",\"y\":0.5,\"yanchor\":\"middle\",\"yref\":\"paper\"},{\"font\":{},\"showarrow\":false,\"text\":\"Classifier=LinearSVC\",\"textangle\":90,\"x\":0.98,\"xanchor\":\"left\",\"xref\":\"paper\",\"y\":0.6499999999999999,\"yanchor\":\"middle\",\"yref\":\"paper\"},{\"font\":{},\"showarrow\":false,\"text\":\"Classifier=ComplementNB\",\"textangle\":90,\"x\":0.98,\"xanchor\":\"left\",\"xref\":\"paper\",\"y\":0.8,\"yanchor\":\"middle\",\"yref\":\"paper\"},{\"font\":{},\"showarrow\":false,\"text\":\"Classifier=MultinomialNB\",\"textangle\":90,\"x\":0.98,\"xanchor\":\"left\",\"xref\":\"paper\",\"y\":0.95,\"yanchor\":\"middle\",\"yref\":\"paper\"}],\"legend\":{\"title\":{\"text\":\"FullBy, NgramRange\"},\"tracegroupgap\":0},\"margin\":{\"t\":60},\"autosize\":false,\"width\":1100,\"height\":1450},                        {\"responsive\": true}                    ).then(function(){\n",
              "                            \n",
              "var gd = document.getElementById('81d2e4e3-2157-48f5-90b8-43e93c383e47');\n",
              "var x = new MutationObserver(function (mutations, observer) {{\n",
              "        var display = window.getComputedStyle(gd).display;\n",
              "        if (!display || display === 'none') {{\n",
              "            console.log([gd, 'removed!']);\n",
              "            Plotly.purge(gd);\n",
              "            observer.disconnect();\n",
              "        }}\n",
              "}});\n",
              "\n",
              "// Listen for the removal of the full notebook cells\n",
              "var notebookContainer = gd.closest('#notebook-container');\n",
              "if (notebookContainer) {{\n",
              "    x.observe(notebookContainer, {childList: true});\n",
              "}}\n",
              "\n",
              "// Listen for the clearing of the current output cell\n",
              "var outputEl = gd.closest('.output');\n",
              "if (outputEl) {{\n",
              "    x.observe(outputEl, {childList: true});\n",
              "}}\n",
              "\n",
              "                        })                };                            </script>        </div>\n",
              "</body>\n",
              "</html>"
            ]
          },
          "metadata": {}
        }
      ]
    },
    {
      "cell_type": "markdown",
      "source": [
        "### Performance after training on data with top 5 categories"
      ],
      "metadata": {
        "id": "iveEaLkJMwWB"
      }
    },
    {
      "cell_type": "code",
      "source": [
        "build_all(top_50_5)  # performance_for_top_5.png"
      ],
      "metadata": {
        "colab": {
          "base_uri": "https://localhost:8080/",
          "height": 1000
        },
        "id": "dAprtkf5M5ZJ",
        "outputId": "00f3de88-9948-4c0c-a323-c8b4f8f5b5be"
      },
      "execution_count": 100,
      "outputs": [
        {
          "output_type": "display_data",
          "data": {
            "text/html": [
              "<html>\n",
              "<head><meta charset=\"utf-8\" /></head>\n",
              "<body>\n",
              "    <div>            <script src=\"https://cdnjs.cloudflare.com/ajax/libs/mathjax/2.7.5/MathJax.js?config=TeX-AMS-MML_SVG\"></script><script type=\"text/javascript\">if (window.MathJax) {MathJax.Hub.Config({SVG: {font: \"STIX-Web\"}});}</script>                <script type=\"text/javascript\">window.PlotlyConfig = {MathJaxConfig: 'local'};</script>\n",
              "        <script src=\"https://cdn.plot.ly/plotly-2.8.3.min.js\"></script>                <div id=\"b971cfa5-8fd4-4caf-9b51-ae17bee4df0c\" class=\"plotly-graph-div\" style=\"height:1450px; width:1100px;\"></div>            <script type=\"text/javascript\">                                    window.PLOTLYENV=window.PLOTLYENV || {};                                    if (document.getElementById(\"b971cfa5-8fd4-4caf-9b51-ae17bee4df0c\")) {                    Plotly.newPlot(                        \"b971cfa5-8fd4-4caf-9b51-ae17bee4df0c\",                        [{\"hovertemplate\":\"FullBy=Raw full_text<br>NgramRange=Unigrams and Bigrams<br>Classifier=LinearSVC<br>Vectorizer=TfidfVectorizer<br>TopKFeatures=%{x}<br>TestAccuracy=%{y}<extra></extra>\",\"legendgroup\":\"Raw full_text, Unigrams and Bigrams\",\"marker\":{\"color\":\"#636efa\",\"symbol\":\"circle\"},\"mode\":\"markers\",\"name\":\"Raw full_text, Unigrams and Bigrams\",\"orientation\":\"v\",\"showlegend\":true,\"x\":[7500,6000,4500,7500,6000,3000,4500,3000,7500],\"xaxis\":\"x13\",\"y\":[0.905930826369545,0.9050603528319404,0.9004178272980501,0.9003597957288765,0.8977483751160631,0.89258356545961,0.8899721448467967,0.8807451253481894,0.905930826369545],\"yaxis\":\"y13\",\"type\":\"scatter\"},{\"hovertemplate\":\"FullBy=Raw full_text<br>NgramRange=Unigrams and Bigrams<br>Classifier=LinearSVC<br>Vectorizer=CountVectorizer<br>TopKFeatures=%{x}<br>TestAccuracy=%{y}<extra></extra>\",\"legendgroup\":\"Raw full_text, Unigrams and Bigrams\",\"marker\":{\"color\":\"#636efa\",\"symbol\":\"circle\"},\"mode\":\"markers\",\"name\":\"Raw full_text, Unigrams and Bigrams\",\"orientation\":\"v\",\"showlegend\":false,\"x\":[4500,7500,6000,3000,7500,6000,4500,3000],\"xaxis\":\"x14\",\"y\":[0.8960654596100278,0.8953110492107706,0.8946146703806871,0.8914229340761374,0.8893918291550603,0.8893337975858867,0.8882892293407614,0.8827762302692664],\"yaxis\":\"y14\",\"type\":\"scatter\"},{\"hovertemplate\":\"FullBy=Raw full_text<br>NgramRange=Unigrams and Bigrams<br>Classifier=PassiveAggressiveClassifier<br>Vectorizer=TfidfVectorizer<br>TopKFeatures=%{x}<br>TestAccuracy=%{y}<extra></extra>\",\"legendgroup\":\"Raw full_text, Unigrams and Bigrams\",\"marker\":{\"color\":\"#636efa\",\"symbol\":\"circle\"},\"mode\":\"markers\",\"name\":\"Raw full_text, Unigrams and Bigrams\",\"orientation\":\"v\",\"showlegend\":false,\"x\":[7500,6000,4500,7500,6000,4500,3000,3000,7500],\"xaxis\":\"x11\",\"y\":[0.8969359331476323,0.8957753017641596,0.8954851439182916,0.8954851439182916,0.894788765088208,0.890378365831012,0.8887534818941504,0.8833565459610028,0.8997214484679665],\"yaxis\":\"y11\",\"type\":\"scatter\"},{\"hovertemplate\":\"FullBy=Raw full_text<br>NgramRange=Unigrams and Bigrams<br>Classifier=PassiveAggressiveClassifier<br>Vectorizer=CountVectorizer<br>TopKFeatures=%{x}<br>TestAccuracy=%{y}<extra></extra>\",\"legendgroup\":\"Raw full_text, Unigrams and Bigrams\",\"marker\":{\"color\":\"#636efa\",\"symbol\":\"circle\"},\"mode\":\"markers\",\"name\":\"Raw full_text, Unigrams and Bigrams\",\"orientation\":\"v\",\"showlegend\":false,\"x\":[7500,6000,7500,4500,6000,3000,4500],\"xaxis\":\"x12\",\"y\":[0.8835306406685237,0.877669452181987,0.872968895078923,0.8728528319405757,0.8679781801299907,0.8622330547818013,0.8523096564531105],\"yaxis\":\"y12\",\"type\":\"scatter\"},{\"hovertemplate\":\"FullBy=Raw full_text<br>NgramRange=Unigrams and Bigrams<br>Classifier=SGDClassifier<br>Vectorizer=TfidfVectorizer<br>TopKFeatures=%{x}<br>TestAccuracy=%{y}<extra></extra>\",\"legendgroup\":\"Raw full_text, Unigrams and Bigrams\",\"marker\":{\"color\":\"#636efa\",\"symbol\":\"circle\"},\"mode\":\"markers\",\"name\":\"Raw full_text, Unigrams and Bigrams\",\"orientation\":\"v\",\"showlegend\":false,\"x\":[7500,6000,4500,3000,7500,6000,4500],\"xaxis\":\"x9\",\"y\":[0.8927576601671309,0.8907265552460538,0.8859679665738162,0.8800487465181058,0.8634517177344475,0.8595055710306406,0.8523676880222841],\"yaxis\":\"y9\",\"type\":\"scatter\"},{\"hovertemplate\":\"FullBy=Raw full_text<br>NgramRange=Unigrams and Bigrams<br>Classifier=SGDClassifier<br>Vectorizer=CountVectorizer<br>TopKFeatures=%{x}<br>TestAccuracy=%{y}<extra></extra>\",\"legendgroup\":\"Raw full_text, Unigrams and Bigrams\",\"marker\":{\"color\":\"#636efa\",\"symbol\":\"circle\"},\"mode\":\"markers\",\"name\":\"Raw full_text, Unigrams and Bigrams\",\"orientation\":\"v\",\"showlegend\":false,\"x\":[7500,6000,4500,7500,6000,3000,4500,3000,7500],\"xaxis\":\"x10\",\"y\":[0.9015784586815228,0.9008240482822656,0.8992571959145775,0.8977483751160631,0.8937441968430826,0.8903203342618384,0.887708913649025,0.8788300835654597,0.904828226555246],\"yaxis\":\"y10\",\"type\":\"scatter\"},{\"hovertemplate\":\"FullBy=Raw full_text<br>NgramRange=Unigrams and Bigrams<br>Classifier=XGBClassifier<br>Vectorizer=TfidfVectorizer<br>TopKFeatures=%{x}<br>TestAccuracy=%{y}<extra></extra>\",\"legendgroup\":\"Raw full_text, Unigrams and Bigrams\",\"marker\":{\"color\":\"#636efa\",\"symbol\":\"circle\"},\"mode\":\"markers\",\"name\":\"Raw full_text, Unigrams and Bigrams\",\"orientation\":\"v\",\"showlegend\":false,\"x\":[7500,6000,4500,3000,4500,6000,7500,3000],\"xaxis\":\"x7\",\"y\":[0.743094243268338,0.7423978644382544,0.7423398328690808,0.7416434540389972,0.7356081708449397,0.7343314763231198,0.7337511606313835,0.7328226555246053],\"yaxis\":\"y7\",\"type\":\"scatter\"},{\"hovertemplate\":\"FullBy=Raw full_text<br>NgramRange=Unigrams and Bigrams<br>Classifier=XGBClassifier<br>Vectorizer=CountVectorizer<br>TopKFeatures=%{x}<br>TestAccuracy=%{y}<extra></extra>\",\"legendgroup\":\"Raw full_text, Unigrams and Bigrams\",\"marker\":{\"color\":\"#636efa\",\"symbol\":\"circle\"},\"mode\":\"markers\",\"name\":\"Raw full_text, Unigrams and Bigrams\",\"orientation\":\"v\",\"showlegend\":false,\"x\":[4500,3000,3000,7500,4500,6000,7500,6000,4500],\"xaxis\":\"x8\",\"y\":[0.7455315691736305,0.7449512534818942,0.7443709377901578,0.7443709377901578,0.7441388115134633,0.7439066852367688,0.7438486536675951,0.7438486536675951,0.8185933147632312],\"yaxis\":\"y8\",\"type\":\"scatter\"},{\"hovertemplate\":\"FullBy=Raw full_text<br>NgramRange=Unigrams and Bigrams<br>Classifier=RandomForestClassifier<br>Vectorizer=TfidfVectorizer<br>TopKFeatures=%{x}<br>TestAccuracy=%{y}<extra></extra>\",\"legendgroup\":\"Raw full_text, Unigrams and Bigrams\",\"marker\":{\"color\":\"#636efa\",\"symbol\":\"circle\"},\"mode\":\"markers\",\"name\":\"Raw full_text, Unigrams and Bigrams\",\"orientation\":\"v\",\"showlegend\":false,\"x\":[7500,6000,4500,3000],\"xaxis\":\"x5\",\"y\":[0.7933495821727019,0.7921309192200557,0.7890552460538532,0.7883008356545961],\"yaxis\":\"y5\",\"type\":\"scatter\"},{\"hovertemplate\":\"FullBy=Raw full_text<br>NgramRange=Unigrams and Bigrams<br>Classifier=RandomForestClassifier<br>Vectorizer=CountVectorizer<br>TopKFeatures=%{x}<br>TestAccuracy=%{y}<extra></extra>\",\"legendgroup\":\"Raw full_text, Unigrams and Bigrams\",\"marker\":{\"color\":\"#636efa\",\"symbol\":\"circle\"},\"mode\":\"markers\",\"name\":\"Raw full_text, Unigrams and Bigrams\",\"orientation\":\"v\",\"showlegend\":false,\"x\":[7500,7500,6000,6000,4500,4500,3000,3000],\"xaxis\":\"x6\",\"y\":[0.7985143918291551,0.7979921077065923,0.7963091922005571,0.7947423398328691,0.7945102135561746,0.7917246982358404,0.7906220984215413,0.7896355617455896],\"yaxis\":\"y6\",\"type\":\"scatter\"},{\"hovertemplate\":\"FullBy=Raw full_text<br>NgramRange=Unigrams and Bigrams<br>Classifier=MultinomialNB<br>Vectorizer=TfidfVectorizer<br>TopKFeatures=%{x}<br>TestAccuracy=%{y}<extra></extra>\",\"legendgroup\":\"Raw full_text, Unigrams and Bigrams\",\"marker\":{\"color\":\"#636efa\",\"symbol\":\"circle\"},\"mode\":\"markers\",\"name\":\"Raw full_text, Unigrams and Bigrams\",\"orientation\":\"v\",\"showlegend\":false,\"x\":[7500,6000,4500,3000,7500,6000],\"xaxis\":\"x3\",\"y\":[0.8777855153203342,0.8767989786443825,0.8709377901578459,0.8575905292479109,0.8357706592386258,0.828052460538533],\"yaxis\":\"y3\",\"type\":\"scatter\"},{\"hovertemplate\":\"FullBy=Raw full_text<br>NgramRange=Unigrams and Bigrams<br>Classifier=MultinomialNB<br>Vectorizer=CountVectorizer<br>TopKFeatures=%{x}<br>TestAccuracy=%{y}<extra></extra>\",\"legendgroup\":\"Raw full_text, Unigrams and Bigrams\",\"marker\":{\"color\":\"#636efa\",\"symbol\":\"circle\"},\"mode\":\"markers\",\"name\":\"Raw full_text, Unigrams and Bigrams\",\"orientation\":\"v\",\"showlegend\":false,\"x\":[7500,6000,4500,7500,3000,6000,4500,3000,7500],\"xaxis\":\"x4\",\"y\":[0.8862000928505107,0.8832985143918292,0.8798166202414113,0.8737813370473537,0.8709377901578459,0.8697771587743732,0.8625232126276694,0.8513231197771588,0.8862000928505107],\"yaxis\":\"y4\",\"type\":\"scatter\"},{\"hovertemplate\":\"FullBy=Raw full_text<br>NgramRange=Unigrams and Bigrams<br>Classifier=ComplementNB<br>Vectorizer=TfidfVectorizer<br>TopKFeatures=%{x}<br>TestAccuracy=%{y}<extra></extra>\",\"legendgroup\":\"Raw full_text, Unigrams and Bigrams\",\"marker\":{\"color\":\"#636efa\",\"symbol\":\"circle\"},\"mode\":\"markers\",\"name\":\"Raw full_text, Unigrams and Bigrams\",\"orientation\":\"v\",\"showlegend\":false,\"x\":[7500,6000,4500,7500,6000,3000,4500,3000,7500],\"xaxis\":\"x\",\"y\":[0.8900301764159703,0.8857938718662952,0.8789461467038069,0.8750580315691736,0.8689066852367688,0.8668755803156918,0.8604340761374187,0.8502785515320335,0.8900301764159703],\"yaxis\":\"y\",\"type\":\"scatter\"},{\"hovertemplate\":\"FullBy=Raw full_text<br>NgramRange=Unigrams and Bigrams<br>Classifier=ComplementNB<br>Vectorizer=CountVectorizer<br>TopKFeatures=%{x}<br>TestAccuracy=%{y}<extra></extra>\",\"legendgroup\":\"Raw full_text, Unigrams and Bigrams\",\"marker\":{\"color\":\"#636efa\",\"symbol\":\"circle\"},\"mode\":\"markers\",\"name\":\"Raw full_text, Unigrams and Bigrams\",\"orientation\":\"v\",\"showlegend\":false,\"x\":[7500,6000,4500,7500,6000,3000,4500,3000],\"xaxis\":\"x2\",\"y\":[0.8844011142061281,0.8795264623955432,0.8734911792014856,0.8692548746518106,0.862291086350975,0.8605501392757661,0.8551532033426184,0.8416898792943361],\"yaxis\":\"y2\",\"type\":\"scatter\"},{\"hovertemplate\":\"FullBy=Preprocessed full_text<br>NgramRange=Unigrams and Bigrams<br>Classifier=LinearSVC<br>Vectorizer=TfidfVectorizer<br>TopKFeatures=%{x}<br>TestAccuracy=%{y}<extra></extra>\",\"legendgroup\":\"Preprocessed full_text, Unigrams and Bigrams\",\"marker\":{\"color\":\"#EF553B\",\"symbol\":\"circle\"},\"mode\":\"markers\",\"name\":\"Preprocessed full_text, Unigrams and Bigrams\",\"orientation\":\"v\",\"showlegend\":true,\"x\":[7500,7500,6000,6000,4500,4500,3000,3000],\"xaxis\":\"x13\",\"y\":[0.8942664809656453,0.8933960074280408,0.8896819870009285,0.8896819870009285,0.8870705663881151,0.8842850510677809,0.879236304549675,0.8722725162488394],\"yaxis\":\"y13\",\"type\":\"scatter\"},{\"hovertemplate\":\"FullBy=Preprocessed full_text<br>NgramRange=Unigrams and Bigrams<br>Classifier=LinearSVC<br>Vectorizer=CountVectorizer<br>TopKFeatures=%{x}<br>TestAccuracy=%{y}<extra></extra>\",\"legendgroup\":\"Preprocessed full_text, Unigrams and Bigrams\",\"marker\":{\"color\":\"#EF553B\",\"symbol\":\"circle\"},\"mode\":\"markers\",\"name\":\"Preprocessed full_text, Unigrams and Bigrams\",\"orientation\":\"v\",\"showlegend\":false,\"x\":[6000,6000,7500,7500,4500,4500,3000,3000],\"xaxis\":\"x14\",\"y\":[0.8870125348189415,0.885677808727948,0.885677808727948,0.8856197771587744,0.8846912720519963,0.8835886722376973,0.880803156917363,0.8733170844939647],\"yaxis\":\"y14\",\"type\":\"scatter\"},{\"hovertemplate\":\"FullBy=Preprocessed full_text<br>NgramRange=Unigrams and Bigrams<br>Classifier=PassiveAggressiveClassifier<br>Vectorizer=TfidfVectorizer<br>TopKFeatures=%{x}<br>TestAccuracy=%{y}<extra></extra>\",\"legendgroup\":\"Preprocessed full_text, Unigrams and Bigrams\",\"marker\":{\"color\":\"#EF553B\",\"symbol\":\"circle\"},\"mode\":\"markers\",\"name\":\"Preprocessed full_text, Unigrams and Bigrams\",\"orientation\":\"v\",\"showlegend\":false,\"x\":[7500,6000,7500,4500,4500,6000,3000,3000],\"xaxis\":\"x11\",\"y\":[0.8907845868152274,0.8865482822655525,0.8844011142061281,0.8834145775301764,0.883008356545961,0.8824860724233984,0.8766829155060353,0.8738393686165274],\"yaxis\":\"y11\",\"type\":\"scatter\"},{\"hovertemplate\":\"FullBy=Preprocessed full_text<br>NgramRange=Unigrams and Bigrams<br>Classifier=PassiveAggressiveClassifier<br>Vectorizer=CountVectorizer<br>TopKFeatures=%{x}<br>TestAccuracy=%{y}<extra></extra>\",\"legendgroup\":\"Preprocessed full_text, Unigrams and Bigrams\",\"marker\":{\"color\":\"#EF553B\",\"symbol\":\"circle\"},\"mode\":\"markers\",\"name\":\"Preprocessed full_text, Unigrams and Bigrams\",\"orientation\":\"v\",\"showlegend\":false,\"x\":[7500,6000,7500,6000,4500,4500],\"xaxis\":\"x12\",\"y\":[0.8650766016713092,0.8624071494893222,0.8622330547818013,0.8606662024141133,0.8551532033426184,0.8518454038997214],\"yaxis\":\"y12\",\"type\":\"scatter\"},{\"hovertemplate\":\"FullBy=Preprocessed full_text<br>NgramRange=Unigrams and Bigrams<br>Classifier=SGDClassifier<br>Vectorizer=TfidfVectorizer<br>TopKFeatures=%{x}<br>TestAccuracy=%{y}<extra></extra>\",\"legendgroup\":\"Preprocessed full_text, Unigrams and Bigrams\",\"marker\":{\"color\":\"#EF553B\",\"symbol\":\"circle\"},\"mode\":\"markers\",\"name\":\"Preprocessed full_text, Unigrams and Bigrams\",\"orientation\":\"v\",\"showlegend\":false,\"x\":[7500,6000,4500,7500,3000,6000,4500],\"xaxis\":\"x9\",\"y\":[0.8822539461467038,0.8796425255338904,0.8752901578458682,0.8649025069637883,0.864786443825441,0.8614786443825441,0.856313834726091],\"yaxis\":\"y9\",\"type\":\"scatter\"},{\"hovertemplate\":\"FullBy=Preprocessed full_text<br>NgramRange=Unigrams and Bigrams<br>Classifier=SGDClassifier<br>Vectorizer=CountVectorizer<br>TopKFeatures=%{x}<br>TestAccuracy=%{y}<extra></extra>\",\"legendgroup\":\"Preprocessed full_text, Unigrams and Bigrams\",\"marker\":{\"color\":\"#EF553B\",\"symbol\":\"circle\"},\"mode\":\"markers\",\"name\":\"Preprocessed full_text, Unigrams and Bigrams\",\"orientation\":\"v\",\"showlegend\":false,\"x\":[7500,7500,6000,6000,4500,4500,3000,3000],\"xaxis\":\"x10\",\"y\":[0.8944405756731661,0.8934540389972145,0.8906685236768802,0.8891597028783659,0.8885793871866295,0.8844011142061281,0.8806290622098422,0.8749419684308264],\"yaxis\":\"y10\",\"type\":\"scatter\"},{\"hovertemplate\":\"FullBy=Preprocessed full_text<br>NgramRange=Unigrams and Bigrams<br>Classifier=XGBClassifier<br>Vectorizer=TfidfVectorizer<br>TopKFeatures=%{x}<br>TestAccuracy=%{y}<extra></extra>\",\"legendgroup\":\"Preprocessed full_text, Unigrams and Bigrams\",\"marker\":{\"color\":\"#EF553B\",\"symbol\":\"circle\"},\"mode\":\"markers\",\"name\":\"Preprocessed full_text, Unigrams and Bigrams\",\"orientation\":\"v\",\"showlegend\":false,\"x\":[3000,7500,6000,4500,6000,7500,4500,3000],\"xaxis\":\"x7\",\"y\":[0.6999187558031569,0.6994545032497679,0.6993384401114207,0.6986420612813371,0.6933611884865367,0.6927808727948004,0.6923166202414113,0.6916202414113277],\"yaxis\":\"y7\",\"type\":\"scatter\"},{\"hovertemplate\":\"FullBy=Preprocessed full_text<br>NgramRange=Unigrams and Bigrams<br>Classifier=XGBClassifier<br>Vectorizer=CountVectorizer<br>TopKFeatures=%{x}<br>TestAccuracy=%{y}<extra></extra>\",\"legendgroup\":\"Preprocessed full_text, Unigrams and Bigrams\",\"marker\":{\"color\":\"#EF553B\",\"symbol\":\"circle\"},\"mode\":\"markers\",\"name\":\"Preprocessed full_text, Unigrams and Bigrams\",\"orientation\":\"v\",\"showlegend\":false,\"x\":[3000,6000,3000,4500,7500,7500,6000,4500],\"xaxis\":\"x8\",\"y\":[0.6963788300835655,0.6957404828226555,0.695044103992572,0.6949860724233984,0.6949280408542247,0.6949280408542247,0.6949280408542247,0.6948119777158774],\"yaxis\":\"y8\",\"type\":\"scatter\"},{\"hovertemplate\":\"FullBy=Preprocessed full_text<br>NgramRange=Unigrams and Bigrams<br>Classifier=RandomForestClassifier<br>Vectorizer=TfidfVectorizer<br>TopKFeatures=%{x}<br>TestAccuracy=%{y}<extra></extra>\",\"legendgroup\":\"Preprocessed full_text, Unigrams and Bigrams\",\"marker\":{\"color\":\"#EF553B\",\"symbol\":\"circle\"},\"mode\":\"markers\",\"name\":\"Preprocessed full_text, Unigrams and Bigrams\",\"orientation\":\"v\",\"showlegend\":false,\"x\":[7500,6000,4500,3000,7500,6000,4500,3000],\"xaxis\":\"x5\",\"y\":[0.8170844939647168,0.8155176415970288,0.8113393686165274,0.8109911792014856,0.8033310120705663,0.7984563602599815,0.796947539461467,0.7865018570102136],\"yaxis\":\"y5\",\"type\":\"scatter\"},{\"hovertemplate\":\"FullBy=Preprocessed full_text<br>NgramRange=Unigrams and Bigrams<br>Classifier=RandomForestClassifier<br>Vectorizer=CountVectorizer<br>TopKFeatures=%{x}<br>TestAccuracy=%{y}<extra></extra>\",\"legendgroup\":\"Preprocessed full_text, Unigrams and Bigrams\",\"marker\":{\"color\":\"#EF553B\",\"symbol\":\"circle\"},\"mode\":\"markers\",\"name\":\"Preprocessed full_text, Unigrams and Bigrams\",\"orientation\":\"v\",\"showlegend\":false,\"x\":[7500,7500,6000,4500,6000,3000,4500,3000],\"xaxis\":\"x6\",\"y\":[0.8149953574744662,0.812964252553389,0.8126740947075209,0.8096564531104921,0.8087859795728877,0.8075092850510678,0.8064647168059424,0.8001392757660167],\"yaxis\":\"y6\",\"type\":\"scatter\"},{\"hovertemplate\":\"FullBy=Preprocessed full_text<br>NgramRange=Unigrams and Bigrams<br>Classifier=MultinomialNB<br>Vectorizer=TfidfVectorizer<br>TopKFeatures=%{x}<br>TestAccuracy=%{y}<extra></extra>\",\"legendgroup\":\"Preprocessed full_text, Unigrams and Bigrams\",\"marker\":{\"color\":\"#EF553B\",\"symbol\":\"circle\"},\"mode\":\"markers\",\"name\":\"Preprocessed full_text, Unigrams and Bigrams\",\"orientation\":\"v\",\"showlegend\":false,\"x\":[7500,6000,4500,3000,7500,6000,4500],\"xaxis\":\"x3\",\"y\":[0.8722725162488394,0.8679781801299907,0.8619428969359332,0.8471448467966574,0.8444173630454967,0.8384401114206128,0.8288068709377902],\"yaxis\":\"y3\",\"type\":\"scatter\"},{\"hovertemplate\":\"FullBy=Preprocessed full_text<br>NgramRange=Unigrams and Bigrams<br>Classifier=MultinomialNB<br>Vectorizer=CountVectorizer<br>TopKFeatures=%{x}<br>TestAccuracy=%{y}<extra></extra>\",\"legendgroup\":\"Preprocessed full_text, Unigrams and Bigrams\",\"marker\":{\"color\":\"#EF553B\",\"symbol\":\"circle\"},\"mode\":\"markers\",\"name\":\"Preprocessed full_text, Unigrams and Bigrams\",\"orientation\":\"v\",\"showlegend\":false,\"x\":[7500,6000,7500,4500,6000,4500,3000,3000],\"xaxis\":\"x4\",\"y\":[0.8855037140204272,0.8821378830083565,0.8797585886722377,0.8779015784586816,0.8771471680594243,0.8698351903435468,0.8694870009285051,0.8588672237697307],\"yaxis\":\"y4\",\"type\":\"scatter\"},{\"hovertemplate\":\"FullBy=Preprocessed full_text<br>NgramRange=Unigrams and Bigrams<br>Classifier=ComplementNB<br>Vectorizer=TfidfVectorizer<br>TopKFeatures=%{x}<br>TestAccuracy=%{y}<extra></extra>\",\"legendgroup\":\"Preprocessed full_text, Unigrams and Bigrams\",\"marker\":{\"color\":\"#EF553B\",\"symbol\":\"circle\"},\"mode\":\"markers\",\"name\":\"Preprocessed full_text, Unigrams and Bigrams\",\"orientation\":\"v\",\"showlegend\":false,\"x\":[7500,7500,6000,6000,4500,4500,3000,3000],\"xaxis\":\"x\",\"y\":[0.8847493036211699,0.880338904363974,0.8801067780872794,0.8756383472609099,0.8743036211699164,0.8671657381615598,0.862291086350975,0.8543407613741876],\"yaxis\":\"y\",\"type\":\"scatter\"},{\"hovertemplate\":\"FullBy=Preprocessed full_text<br>NgramRange=Unigrams and Bigrams<br>Classifier=ComplementNB<br>Vectorizer=CountVectorizer<br>TopKFeatures=%{x}<br>TestAccuracy=%{y}<extra></extra>\",\"legendgroup\":\"Preprocessed full_text, Unigrams and Bigrams\",\"marker\":{\"color\":\"#EF553B\",\"symbol\":\"circle\"},\"mode\":\"markers\",\"name\":\"Preprocessed full_text, Unigrams and Bigrams\",\"orientation\":\"v\",\"showlegend\":false,\"x\":[7500,6000,7500,4500,6000,4500,3000,3000],\"xaxis\":\"x2\",\"y\":[0.882370009285051,0.8783658310120706,0.878133704735376,0.8720984215413184,0.8719243268337976,0.8637999071494893,0.8607242339832869,0.849233983286908],\"yaxis\":\"y2\",\"type\":\"scatter\"},{\"hovertemplate\":\"FullBy=Raw headline<br>NgramRange=Unigrams and Bigrams<br>Classifier=LinearSVC<br>Vectorizer=TfidfVectorizer<br>TopKFeatures=%{x}<br>TestAccuracy=%{y}<extra></extra>\",\"legendgroup\":\"Raw headline, Unigrams and Bigrams\",\"marker\":{\"color\":\"#00cc96\",\"symbol\":\"circle\"},\"mode\":\"markers\",\"name\":\"Raw headline, Unigrams and Bigrams\",\"orientation\":\"v\",\"showlegend\":true,\"x\":[7500,6000,4500,7500,6000],\"xaxis\":\"x13\",\"y\":[0.8884052924791086,0.8865482822655525,0.8813834726090993,0.8787720519962859,0.8741875580315692],\"yaxis\":\"y13\",\"type\":\"scatter\"},{\"hovertemplate\":\"FullBy=Raw headline<br>NgramRange=Unigrams and Bigrams<br>Classifier=LinearSVC<br>Vectorizer=CountVectorizer<br>TopKFeatures=%{x}<br>TestAccuracy=%{y}<extra></extra>\",\"legendgroup\":\"Raw headline, Unigrams and Bigrams\",\"marker\":{\"color\":\"#00cc96\",\"symbol\":\"circle\"},\"mode\":\"markers\",\"name\":\"Raw headline, Unigrams and Bigrams\",\"orientation\":\"v\",\"showlegend\":false,\"x\":[7500,6000,4500,7500,6000],\"xaxis\":\"x14\",\"y\":[0.8835886722376973,0.8833565459610028,0.8795844939647168,0.8772632311977716,0.8743616527390901],\"yaxis\":\"y14\",\"type\":\"scatter\"},{\"hovertemplate\":\"FullBy=Raw headline<br>NgramRange=Unigrams and Bigrams<br>Classifier=PassiveAggressiveClassifier<br>Vectorizer=TfidfVectorizer<br>TopKFeatures=%{x}<br>TestAccuracy=%{y}<extra></extra>\",\"legendgroup\":\"Raw headline, Unigrams and Bigrams\",\"marker\":{\"color\":\"#00cc96\",\"symbol\":\"circle\"},\"mode\":\"markers\",\"name\":\"Raw headline, Unigrams and Bigrams\",\"orientation\":\"v\",\"showlegend\":false,\"x\":[6000,7500,7500,6000,4500,4500,3000,3000],\"xaxis\":\"x11\",\"y\":[0.8785399257195915,0.8773792943361188,0.8771471680594243,0.8733751160631383,0.872794800371402,0.865424791086351,0.8633936861652739,0.8517873723305478],\"yaxis\":\"y11\",\"type\":\"scatter\"},{\"hovertemplate\":\"FullBy=Raw headline<br>NgramRange=Unigrams and Bigrams<br>Classifier=PassiveAggressiveClassifier<br>Vectorizer=CountVectorizer<br>TopKFeatures=%{x}<br>TestAccuracy=%{y}<extra></extra>\",\"legendgroup\":\"Raw headline, Unigrams and Bigrams\",\"marker\":{\"color\":\"#00cc96\",\"symbol\":\"circle\"},\"mode\":\"markers\",\"name\":\"Raw headline, Unigrams and Bigrams\",\"orientation\":\"v\",\"showlegend\":false,\"x\":[7500,7500],\"xaxis\":\"x12\",\"y\":[0.8557915506035283,0.8551532033426184],\"yaxis\":\"y12\",\"type\":\"scatter\"},{\"hovertemplate\":\"FullBy=Raw headline<br>NgramRange=Unigrams and Bigrams<br>Classifier=SGDClassifier<br>Vectorizer=TfidfVectorizer<br>TopKFeatures=%{x}<br>TestAccuracy=%{y}<extra></extra>\",\"legendgroup\":\"Raw headline, Unigrams and Bigrams\",\"marker\":{\"color\":\"#00cc96\",\"symbol\":\"circle\"},\"mode\":\"markers\",\"name\":\"Raw headline, Unigrams and Bigrams\",\"orientation\":\"v\",\"showlegend\":false,\"x\":[7500,6000,4500],\"xaxis\":\"x9\",\"y\":[0.8639159702878366,0.8626392757660167,0.8588091922005571],\"yaxis\":\"y9\",\"type\":\"scatter\"},{\"hovertemplate\":\"FullBy=Raw headline<br>NgramRange=Unigrams and Bigrams<br>Classifier=SGDClassifier<br>Vectorizer=CountVectorizer<br>TopKFeatures=%{x}<br>TestAccuracy=%{y}<extra></extra>\",\"legendgroup\":\"Raw headline, Unigrams and Bigrams\",\"marker\":{\"color\":\"#00cc96\",\"symbol\":\"circle\"},\"mode\":\"markers\",\"name\":\"Raw headline, Unigrams and Bigrams\",\"orientation\":\"v\",\"showlegend\":false,\"x\":[6000,7500,7500,4500,6000,4500,3000],\"xaxis\":\"x10\",\"y\":[0.8785399257195915,0.8779015784586816,0.8769730733519034,0.8736072423398329,0.872330547818013,0.8638579387186629,0.8631035283194057],\"yaxis\":\"y10\",\"type\":\"scatter\"},{\"hovertemplate\":\"FullBy=Raw headline<br>NgramRange=Unigrams and Bigrams<br>Classifier=XGBClassifier<br>Vectorizer=TfidfVectorizer<br>TopKFeatures=%{x}<br>TestAccuracy=%{y}<extra></extra>\",\"legendgroup\":\"Raw headline, Unigrams and Bigrams\",\"marker\":{\"color\":\"#00cc96\",\"symbol\":\"circle\"},\"mode\":\"markers\",\"name\":\"Raw headline, Unigrams and Bigrams\",\"orientation\":\"v\",\"showlegend\":false,\"x\":[7500,6000,3000,4500,4500,3000,7500,6000],\"xaxis\":\"x7\",\"y\":[0.6727019498607242,0.6726439182915506,0.6708449396471681,0.6707869080779945,0.6583101207056639,0.6580779944289693,0.6577878365831012,0.6572075208913649],\"yaxis\":\"y7\",\"type\":\"scatter\"},{\"hovertemplate\":\"FullBy=Raw headline<br>NgramRange=Unigrams and Bigrams<br>Classifier=XGBClassifier<br>Vectorizer=CountVectorizer<br>TopKFeatures=%{x}<br>TestAccuracy=%{y}<extra></extra>\",\"legendgroup\":\"Raw headline, Unigrams and Bigrams\",\"marker\":{\"color\":\"#00cc96\",\"symbol\":\"circle\"},\"mode\":\"markers\",\"name\":\"Raw headline, Unigrams and Bigrams\",\"orientation\":\"v\",\"showlegend\":false,\"x\":[6000,4500,7500,6000,3000,3000,7500,4500],\"xaxis\":\"x8\",\"y\":[0.6654480037140205,0.6645194986072424,0.6635909935004642,0.6631267409470752,0.6624303621169917,0.6621402042711235,0.6619661095636026,0.6616759517177344],\"yaxis\":\"y8\",\"type\":\"scatter\"},{\"hovertemplate\":\"FullBy=Raw headline<br>NgramRange=Unigrams and Bigrams<br>Classifier=RandomForestClassifier<br>Vectorizer=TfidfVectorizer<br>TopKFeatures=%{x}<br>TestAccuracy=%{y}<extra></extra>\",\"legendgroup\":\"Raw headline, Unigrams and Bigrams\",\"marker\":{\"color\":\"#00cc96\",\"symbol\":\"circle\"},\"mode\":\"markers\",\"name\":\"Raw headline, Unigrams and Bigrams\",\"orientation\":\"v\",\"showlegend\":false,\"x\":[7500],\"xaxis\":\"x5\",\"y\":[0.7851090993500465],\"yaxis\":\"y5\",\"type\":\"scatter\"},{\"hovertemplate\":\"FullBy=Raw headline<br>NgramRange=Unigrams and Bigrams<br>Classifier=RandomForestClassifier<br>Vectorizer=CountVectorizer<br>TopKFeatures=%{x}<br>TestAccuracy=%{y}<extra></extra>\",\"legendgroup\":\"Raw headline, Unigrams and Bigrams\",\"marker\":{\"color\":\"#00cc96\",\"symbol\":\"circle\"},\"mode\":\"markers\",\"name\":\"Raw headline, Unigrams and Bigrams\",\"orientation\":\"v\",\"showlegend\":false,\"x\":[7500,7500,6000,6000,4500,4500],\"xaxis\":\"x6\",\"y\":[0.7947423398328691,0.7943941504178273,0.7936977715877437,0.7927692664809657,0.7913765088207985,0.7879526462395543],\"yaxis\":\"y6\",\"type\":\"scatter\"},{\"hovertemplate\":\"FullBy=Raw headline<br>NgramRange=Unigrams and Bigrams<br>Classifier=MultinomialNB<br>Vectorizer=TfidfVectorizer<br>TopKFeatures=%{x}<br>TestAccuracy=%{y}<extra></extra>\",\"legendgroup\":\"Raw headline, Unigrams and Bigrams\",\"marker\":{\"color\":\"#00cc96\",\"symbol\":\"circle\"},\"mode\":\"markers\",\"name\":\"Raw headline, Unigrams and Bigrams\",\"orientation\":\"v\",\"showlegend\":false,\"x\":[6000,7500,4500],\"xaxis\":\"x3\",\"y\":[0.8467966573816156,0.846738625812442,0.840297121634169],\"yaxis\":\"y3\",\"type\":\"scatter\"},{\"hovertemplate\":\"FullBy=Raw headline<br>NgramRange=Unigrams and Bigrams<br>Classifier=MultinomialNB<br>Vectorizer=CountVectorizer<br>TopKFeatures=%{x}<br>TestAccuracy=%{y}<extra></extra>\",\"legendgroup\":\"Raw headline, Unigrams and Bigrams\",\"marker\":{\"color\":\"#00cc96\",\"symbol\":\"circle\"},\"mode\":\"markers\",\"name\":\"Raw headline, Unigrams and Bigrams\",\"orientation\":\"v\",\"showlegend\":false,\"x\":[7500,6000,4500,7500,6000,3000,4500,3000],\"xaxis\":\"x4\",\"y\":[0.8692548746518106,0.8661211699164345,0.8591573816155988,0.854282729805014,0.8503946146703807,0.8478992571959145,0.8397748375116063,0.8276462395543176],\"yaxis\":\"y4\",\"type\":\"scatter\"},{\"hovertemplate\":\"FullBy=Raw headline<br>NgramRange=Unigrams and Bigrams<br>Classifier=ComplementNB<br>Vectorizer=TfidfVectorizer<br>TopKFeatures=%{x}<br>TestAccuracy=%{y}<extra></extra>\",\"legendgroup\":\"Raw headline, Unigrams and Bigrams\",\"marker\":{\"color\":\"#00cc96\",\"symbol\":\"circle\"},\"mode\":\"markers\",\"name\":\"Raw headline, Unigrams and Bigrams\",\"orientation\":\"v\",\"showlegend\":false,\"x\":[7500,6000,4500,7500,6000],\"xaxis\":\"x\",\"y\":[0.8651926648096564,0.8615947075208914,0.8549210770659239,0.8532381615598886,0.8479572887650882],\"yaxis\":\"y\",\"type\":\"scatter\"},{\"hovertemplate\":\"FullBy=Raw headline<br>NgramRange=Unigrams and Bigrams<br>Classifier=ComplementNB<br>Vectorizer=CountVectorizer<br>TopKFeatures=%{x}<br>TestAccuracy=%{y}<extra></extra>\",\"legendgroup\":\"Raw headline, Unigrams and Bigrams\",\"marker\":{\"color\":\"#00cc96\",\"symbol\":\"circle\"},\"mode\":\"markers\",\"name\":\"Raw headline, Unigrams and Bigrams\",\"orientation\":\"v\",\"showlegend\":false,\"x\":[7500,6000,4500,7500,6000,3000],\"xaxis\":\"x2\",\"y\":[0.8661211699164345,0.8607242339832869,0.8537604456824512,0.8528319405756731,0.8467966573816156,0.8426764159702879],\"yaxis\":\"y2\",\"type\":\"scatter\"},{\"hovertemplate\":\"FullBy=Preprocessed headline<br>NgramRange=Unigrams and Bigrams<br>Classifier=LinearSVC<br>Vectorizer=TfidfVectorizer<br>TopKFeatures=%{x}<br>TestAccuracy=%{y}<extra></extra>\",\"legendgroup\":\"Preprocessed headline, Unigrams and Bigrams\",\"marker\":{\"color\":\"#ab63fa\",\"symbol\":\"circle\"},\"mode\":\"markers\",\"name\":\"Preprocessed headline, Unigrams and Bigrams\",\"orientation\":\"v\",\"showlegend\":true,\"x\":[7500,6000,7500,4500],\"xaxis\":\"x13\",\"y\":[0.8802228412256268,0.8767409470752089,0.8765088207985144,0.8721564531104921],\"yaxis\":\"y13\",\"type\":\"scatter\"},{\"hovertemplate\":\"FullBy=Preprocessed headline<br>NgramRange=Unigrams and Bigrams<br>Classifier=LinearSVC<br>Vectorizer=CountVectorizer<br>TopKFeatures=%{x}<br>TestAccuracy=%{y}<extra></extra>\",\"legendgroup\":\"Preprocessed headline, Unigrams and Bigrams\",\"marker\":{\"color\":\"#ab63fa\",\"symbol\":\"circle\"},\"mode\":\"markers\",\"name\":\"Preprocessed headline, Unigrams and Bigrams\",\"orientation\":\"v\",\"showlegend\":false,\"x\":[7500,7500,6000,4500],\"xaxis\":\"x14\",\"y\":[0.8760445682451253,0.8755222841225627,0.8750580315691736,0.8714600742804085],\"yaxis\":\"y14\",\"type\":\"scatter\"},{\"hovertemplate\":\"FullBy=Preprocessed headline<br>NgramRange=Unigrams and Bigrams<br>Classifier=PassiveAggressiveClassifier<br>Vectorizer=TfidfVectorizer<br>TopKFeatures=%{x}<br>TestAccuracy=%{y}<extra></extra>\",\"legendgroup\":\"Preprocessed headline, Unigrams and Bigrams\",\"marker\":{\"color\":\"#ab63fa\",\"symbol\":\"circle\"},\"mode\":\"markers\",\"name\":\"Preprocessed headline, Unigrams and Bigrams\",\"orientation\":\"v\",\"showlegend\":false,\"x\":[7500,6000,6000,7500,4500,4500,3000],\"xaxis\":\"x11\",\"y\":[0.8734911792014856,0.8693129062209842,0.8686745589600743,0.8685584958217271,0.8661211699164345,0.8620589600742804,0.8531801299907149],\"yaxis\":\"y11\",\"type\":\"scatter\"},{\"hovertemplate\":\"FullBy=Preprocessed headline<br>NgramRange=Unigrams and Bigrams<br>Classifier=PassiveAggressiveClassifier<br>Vectorizer=CountVectorizer<br>TopKFeatures=%{x}<br>TestAccuracy=%{y}<extra></extra>\",\"legendgroup\":\"Preprocessed headline, Unigrams and Bigrams\",\"marker\":{\"color\":\"#ab63fa\",\"symbol\":\"circle\"},\"mode\":\"markers\",\"name\":\"Preprocessed headline, Unigrams and Bigrams\",\"orientation\":\"v\",\"showlegend\":false,\"x\":[7500,7500,6000,6000],\"xaxis\":\"x12\",\"y\":[0.8534122562674095,0.8515552460538532,0.850974930362117,0.8485956360259982],\"yaxis\":\"y12\",\"type\":\"scatter\"},{\"hovertemplate\":\"FullBy=Preprocessed headline<br>NgramRange=Unigrams and Bigrams<br>Classifier=SGDClassifier<br>Vectorizer=TfidfVectorizer<br>TopKFeatures=%{x}<br>TestAccuracy=%{y}<extra></extra>\",\"legendgroup\":\"Preprocessed headline, Unigrams and Bigrams\",\"marker\":{\"color\":\"#ab63fa\",\"symbol\":\"circle\"},\"mode\":\"markers\",\"name\":\"Preprocessed headline, Unigrams and Bigrams\",\"orientation\":\"v\",\"showlegend\":false,\"x\":[7500,6000,4500],\"xaxis\":\"x9\",\"y\":[0.8590993500464252,0.8535863509749304,0.8535283194057567],\"yaxis\":\"y9\",\"type\":\"scatter\"},{\"hovertemplate\":\"FullBy=Preprocessed headline<br>NgramRange=Unigrams and Bigrams<br>Classifier=SGDClassifier<br>Vectorizer=CountVectorizer<br>TopKFeatures=%{x}<br>TestAccuracy=%{y}<extra></extra>\",\"legendgroup\":\"Preprocessed headline, Unigrams and Bigrams\",\"marker\":{\"color\":\"#ab63fa\",\"symbol\":\"circle\"},\"mode\":\"markers\",\"name\":\"Preprocessed headline, Unigrams and Bigrams\",\"orientation\":\"v\",\"showlegend\":false,\"x\":[7500,6000,7500,4500,6000,4500,3000],\"xaxis\":\"x10\",\"y\":[0.8743036211699164,0.8720403899721448,0.8717502321262767,0.8667014856081708,0.8646703806870938,0.856952181987001,0.8526578458681523],\"yaxis\":\"y10\",\"type\":\"scatter\"},{\"hovertemplate\":\"FullBy=Preprocessed headline<br>NgramRange=Unigrams and Bigrams<br>Classifier=XGBClassifier<br>Vectorizer=TfidfVectorizer<br>TopKFeatures=%{x}<br>TestAccuracy=%{y}<extra></extra>\",\"legendgroup\":\"Preprocessed headline, Unigrams and Bigrams\",\"marker\":{\"color\":\"#ab63fa\",\"symbol\":\"circle\"},\"mode\":\"markers\",\"name\":\"Preprocessed headline, Unigrams and Bigrams\",\"orientation\":\"v\",\"showlegend\":false,\"x\":[4500,7500],\"xaxis\":\"x7\",\"y\":[0.6486188486536676,0.6481545961002786],\"yaxis\":\"y7\",\"type\":\"scatter\"},{\"hovertemplate\":\"FullBy=Preprocessed headline<br>NgramRange=Unigrams and Bigrams<br>Classifier=RandomForestClassifier<br>Vectorizer=TfidfVectorizer<br>TopKFeatures=%{x}<br>TestAccuracy=%{y}<extra></extra>\",\"legendgroup\":\"Preprocessed headline, Unigrams and Bigrams\",\"marker\":{\"color\":\"#ab63fa\",\"symbol\":\"circle\"},\"mode\":\"markers\",\"name\":\"Preprocessed headline, Unigrams and Bigrams\",\"orientation\":\"v\",\"showlegend\":false,\"x\":[7500,6000,4500,3000,7500,6000,4500,7500],\"xaxis\":\"x5\",\"y\":[0.820044103992572,0.8191736304549675,0.8131383472609099,0.8037372330547818,0.7970055710306406,0.7928853296193129,0.7848189415041783,0.8206244196843082],\"yaxis\":\"y5\",\"type\":\"scatter\"},{\"hovertemplate\":\"FullBy=Preprocessed headline<br>NgramRange=Unigrams and Bigrams<br>Classifier=RandomForestClassifier<br>Vectorizer=CountVectorizer<br>TopKFeatures=%{x}<br>TestAccuracy=%{y}<extra></extra>\",\"legendgroup\":\"Preprocessed headline, Unigrams and Bigrams\",\"marker\":{\"color\":\"#ab63fa\",\"symbol\":\"circle\"},\"mode\":\"markers\",\"name\":\"Preprocessed headline, Unigrams and Bigrams\",\"orientation\":\"v\",\"showlegend\":false,\"x\":[6000,7500,7500,6000,4500,4500,3000,3000],\"xaxis\":\"x6\",\"y\":[0.8145891364902507,0.8117455896007428,0.8115134633240483,0.8106429897864438,0.8101207056638812,0.8081476323119777,0.8068709377901578,0.8053621169916435],\"yaxis\":\"y6\",\"type\":\"scatter\"},{\"hovertemplate\":\"FullBy=Preprocessed headline<br>NgramRange=Unigrams and Bigrams<br>Classifier=MultinomialNB<br>Vectorizer=TfidfVectorizer<br>TopKFeatures=%{x}<br>TestAccuracy=%{y}<extra></extra>\",\"legendgroup\":\"Preprocessed headline, Unigrams and Bigrams\",\"marker\":{\"color\":\"#ab63fa\",\"symbol\":\"circle\"},\"mode\":\"markers\",\"name\":\"Preprocessed headline, Unigrams and Bigrams\",\"orientation\":\"v\",\"showlegend\":false,\"x\":[7500,6000,4500],\"xaxis\":\"x3\",\"y\":[0.8423862581244197,0.8394846796657381,0.8336234911792015],\"yaxis\":\"y3\",\"type\":\"scatter\"},{\"hovertemplate\":\"FullBy=Preprocessed headline<br>NgramRange=Unigrams and Bigrams<br>Classifier=MultinomialNB<br>Vectorizer=CountVectorizer<br>TopKFeatures=%{x}<br>TestAccuracy=%{y}<extra></extra>\",\"legendgroup\":\"Preprocessed headline, Unigrams and Bigrams\",\"marker\":{\"color\":\"#ab63fa\",\"symbol\":\"circle\"},\"mode\":\"markers\",\"name\":\"Preprocessed headline, Unigrams and Bigrams\",\"orientation\":\"v\",\"showlegend\":false,\"x\":[7500,6000,7500,4500,6000,4500,3000],\"xaxis\":\"x4\",\"y\":[0.8617107706592386,0.8566620241411328,0.8538184772516249,0.8510909935004642,0.8472609099350047,0.8409935004642526,0.8396007428040855],\"yaxis\":\"y4\",\"type\":\"scatter\"},{\"hovertemplate\":\"FullBy=Preprocessed headline<br>NgramRange=Unigrams and Bigrams<br>Classifier=ComplementNB<br>Vectorizer=TfidfVectorizer<br>TopKFeatures=%{x}<br>TestAccuracy=%{y}<extra></extra>\",\"legendgroup\":\"Preprocessed headline, Unigrams and Bigrams\",\"marker\":{\"color\":\"#ab63fa\",\"symbol\":\"circle\"},\"mode\":\"markers\",\"name\":\"Preprocessed headline, Unigrams and Bigrams\",\"orientation\":\"v\",\"showlegend\":false,\"x\":[7500,6000,7500,4500],\"xaxis\":\"x\",\"y\":[0.8555594243268339,0.8506847725162489,0.8482474466109564,0.842966573816156],\"yaxis\":\"y\",\"type\":\"scatter\"},{\"hovertemplate\":\"FullBy=Preprocessed headline<br>NgramRange=Unigrams and Bigrams<br>Classifier=ComplementNB<br>Vectorizer=CountVectorizer<br>TopKFeatures=%{x}<br>TestAccuracy=%{y}<extra></extra>\",\"legendgroup\":\"Preprocessed headline, Unigrams and Bigrams\",\"marker\":{\"color\":\"#ab63fa\",\"symbol\":\"circle\"},\"mode\":\"markers\",\"name\":\"Preprocessed headline, Unigrams and Bigrams\",\"orientation\":\"v\",\"showlegend\":false,\"x\":[7500,6000,7500],\"xaxis\":\"x2\",\"y\":[0.8566039925719592,0.8516713091922006,0.8481894150417827],\"yaxis\":\"y2\",\"type\":\"scatter\"}],                        {\"template\":{\"data\":{\"bar\":[{\"error_x\":{\"color\":\"#2a3f5f\"},\"error_y\":{\"color\":\"#2a3f5f\"},\"marker\":{\"line\":{\"color\":\"#E5ECF6\",\"width\":0.5},\"pattern\":{\"fillmode\":\"overlay\",\"size\":10,\"solidity\":0.2}},\"type\":\"bar\"}],\"barpolar\":[{\"marker\":{\"line\":{\"color\":\"#E5ECF6\",\"width\":0.5},\"pattern\":{\"fillmode\":\"overlay\",\"size\":10,\"solidity\":0.2}},\"type\":\"barpolar\"}],\"carpet\":[{\"aaxis\":{\"endlinecolor\":\"#2a3f5f\",\"gridcolor\":\"white\",\"linecolor\":\"white\",\"minorgridcolor\":\"white\",\"startlinecolor\":\"#2a3f5f\"},\"baxis\":{\"endlinecolor\":\"#2a3f5f\",\"gridcolor\":\"white\",\"linecolor\":\"white\",\"minorgridcolor\":\"white\",\"startlinecolor\":\"#2a3f5f\"},\"type\":\"carpet\"}],\"choropleth\":[{\"colorbar\":{\"outlinewidth\":0,\"ticks\":\"\"},\"type\":\"choropleth\"}],\"contour\":[{\"colorbar\":{\"outlinewidth\":0,\"ticks\":\"\"},\"colorscale\":[[0.0,\"#0d0887\"],[0.1111111111111111,\"#46039f\"],[0.2222222222222222,\"#7201a8\"],[0.3333333333333333,\"#9c179e\"],[0.4444444444444444,\"#bd3786\"],[0.5555555555555556,\"#d8576b\"],[0.6666666666666666,\"#ed7953\"],[0.7777777777777778,\"#fb9f3a\"],[0.8888888888888888,\"#fdca26\"],[1.0,\"#f0f921\"]],\"type\":\"contour\"}],\"contourcarpet\":[{\"colorbar\":{\"outlinewidth\":0,\"ticks\":\"\"},\"type\":\"contourcarpet\"}],\"heatmap\":[{\"colorbar\":{\"outlinewidth\":0,\"ticks\":\"\"},\"colorscale\":[[0.0,\"#0d0887\"],[0.1111111111111111,\"#46039f\"],[0.2222222222222222,\"#7201a8\"],[0.3333333333333333,\"#9c179e\"],[0.4444444444444444,\"#bd3786\"],[0.5555555555555556,\"#d8576b\"],[0.6666666666666666,\"#ed7953\"],[0.7777777777777778,\"#fb9f3a\"],[0.8888888888888888,\"#fdca26\"],[1.0,\"#f0f921\"]],\"type\":\"heatmap\"}],\"heatmapgl\":[{\"colorbar\":{\"outlinewidth\":0,\"ticks\":\"\"},\"colorscale\":[[0.0,\"#0d0887\"],[0.1111111111111111,\"#46039f\"],[0.2222222222222222,\"#7201a8\"],[0.3333333333333333,\"#9c179e\"],[0.4444444444444444,\"#bd3786\"],[0.5555555555555556,\"#d8576b\"],[0.6666666666666666,\"#ed7953\"],[0.7777777777777778,\"#fb9f3a\"],[0.8888888888888888,\"#fdca26\"],[1.0,\"#f0f921\"]],\"type\":\"heatmapgl\"}],\"histogram\":[{\"marker\":{\"pattern\":{\"fillmode\":\"overlay\",\"size\":10,\"solidity\":0.2}},\"type\":\"histogram\"}],\"histogram2d\":[{\"colorbar\":{\"outlinewidth\":0,\"ticks\":\"\"},\"colorscale\":[[0.0,\"#0d0887\"],[0.1111111111111111,\"#46039f\"],[0.2222222222222222,\"#7201a8\"],[0.3333333333333333,\"#9c179e\"],[0.4444444444444444,\"#bd3786\"],[0.5555555555555556,\"#d8576b\"],[0.6666666666666666,\"#ed7953\"],[0.7777777777777778,\"#fb9f3a\"],[0.8888888888888888,\"#fdca26\"],[1.0,\"#f0f921\"]],\"type\":\"histogram2d\"}],\"histogram2dcontour\":[{\"colorbar\":{\"outlinewidth\":0,\"ticks\":\"\"},\"colorscale\":[[0.0,\"#0d0887\"],[0.1111111111111111,\"#46039f\"],[0.2222222222222222,\"#7201a8\"],[0.3333333333333333,\"#9c179e\"],[0.4444444444444444,\"#bd3786\"],[0.5555555555555556,\"#d8576b\"],[0.6666666666666666,\"#ed7953\"],[0.7777777777777778,\"#fb9f3a\"],[0.8888888888888888,\"#fdca26\"],[1.0,\"#f0f921\"]],\"type\":\"histogram2dcontour\"}],\"mesh3d\":[{\"colorbar\":{\"outlinewidth\":0,\"ticks\":\"\"},\"type\":\"mesh3d\"}],\"parcoords\":[{\"line\":{\"colorbar\":{\"outlinewidth\":0,\"ticks\":\"\"}},\"type\":\"parcoords\"}],\"pie\":[{\"automargin\":true,\"type\":\"pie\"}],\"scatter\":[{\"marker\":{\"colorbar\":{\"outlinewidth\":0,\"ticks\":\"\"}},\"type\":\"scatter\"}],\"scatter3d\":[{\"line\":{\"colorbar\":{\"outlinewidth\":0,\"ticks\":\"\"}},\"marker\":{\"colorbar\":{\"outlinewidth\":0,\"ticks\":\"\"}},\"type\":\"scatter3d\"}],\"scattercarpet\":[{\"marker\":{\"colorbar\":{\"outlinewidth\":0,\"ticks\":\"\"}},\"type\":\"scattercarpet\"}],\"scattergeo\":[{\"marker\":{\"colorbar\":{\"outlinewidth\":0,\"ticks\":\"\"}},\"type\":\"scattergeo\"}],\"scattergl\":[{\"marker\":{\"colorbar\":{\"outlinewidth\":0,\"ticks\":\"\"}},\"type\":\"scattergl\"}],\"scattermapbox\":[{\"marker\":{\"colorbar\":{\"outlinewidth\":0,\"ticks\":\"\"}},\"type\":\"scattermapbox\"}],\"scatterpolar\":[{\"marker\":{\"colorbar\":{\"outlinewidth\":0,\"ticks\":\"\"}},\"type\":\"scatterpolar\"}],\"scatterpolargl\":[{\"marker\":{\"colorbar\":{\"outlinewidth\":0,\"ticks\":\"\"}},\"type\":\"scatterpolargl\"}],\"scatterternary\":[{\"marker\":{\"colorbar\":{\"outlinewidth\":0,\"ticks\":\"\"}},\"type\":\"scatterternary\"}],\"surface\":[{\"colorbar\":{\"outlinewidth\":0,\"ticks\":\"\"},\"colorscale\":[[0.0,\"#0d0887\"],[0.1111111111111111,\"#46039f\"],[0.2222222222222222,\"#7201a8\"],[0.3333333333333333,\"#9c179e\"],[0.4444444444444444,\"#bd3786\"],[0.5555555555555556,\"#d8576b\"],[0.6666666666666666,\"#ed7953\"],[0.7777777777777778,\"#fb9f3a\"],[0.8888888888888888,\"#fdca26\"],[1.0,\"#f0f921\"]],\"type\":\"surface\"}],\"table\":[{\"cells\":{\"fill\":{\"color\":\"#EBF0F8\"},\"line\":{\"color\":\"white\"}},\"header\":{\"fill\":{\"color\":\"#C8D4E3\"},\"line\":{\"color\":\"white\"}},\"type\":\"table\"}]},\"layout\":{\"annotationdefaults\":{\"arrowcolor\":\"#2a3f5f\",\"arrowhead\":0,\"arrowwidth\":1},\"autotypenumbers\":\"strict\",\"coloraxis\":{\"colorbar\":{\"outlinewidth\":0,\"ticks\":\"\"}},\"colorscale\":{\"diverging\":[[0,\"#8e0152\"],[0.1,\"#c51b7d\"],[0.2,\"#de77ae\"],[0.3,\"#f1b6da\"],[0.4,\"#fde0ef\"],[0.5,\"#f7f7f7\"],[0.6,\"#e6f5d0\"],[0.7,\"#b8e186\"],[0.8,\"#7fbc41\"],[0.9,\"#4d9221\"],[1,\"#276419\"]],\"sequential\":[[0.0,\"#0d0887\"],[0.1111111111111111,\"#46039f\"],[0.2222222222222222,\"#7201a8\"],[0.3333333333333333,\"#9c179e\"],[0.4444444444444444,\"#bd3786\"],[0.5555555555555556,\"#d8576b\"],[0.6666666666666666,\"#ed7953\"],[0.7777777777777778,\"#fb9f3a\"],[0.8888888888888888,\"#fdca26\"],[1.0,\"#f0f921\"]],\"sequentialminus\":[[0.0,\"#0d0887\"],[0.1111111111111111,\"#46039f\"],[0.2222222222222222,\"#7201a8\"],[0.3333333333333333,\"#9c179e\"],[0.4444444444444444,\"#bd3786\"],[0.5555555555555556,\"#d8576b\"],[0.6666666666666666,\"#ed7953\"],[0.7777777777777778,\"#fb9f3a\"],[0.8888888888888888,\"#fdca26\"],[1.0,\"#f0f921\"]]},\"colorway\":[\"#636efa\",\"#EF553B\",\"#00cc96\",\"#ab63fa\",\"#FFA15A\",\"#19d3f3\",\"#FF6692\",\"#B6E880\",\"#FF97FF\",\"#FECB52\"],\"font\":{\"color\":\"#2a3f5f\"},\"geo\":{\"bgcolor\":\"white\",\"lakecolor\":\"white\",\"landcolor\":\"#E5ECF6\",\"showlakes\":true,\"showland\":true,\"subunitcolor\":\"white\"},\"hoverlabel\":{\"align\":\"left\"},\"hovermode\":\"closest\",\"mapbox\":{\"style\":\"light\"},\"paper_bgcolor\":\"white\",\"plot_bgcolor\":\"#E5ECF6\",\"polar\":{\"angularaxis\":{\"gridcolor\":\"white\",\"linecolor\":\"white\",\"ticks\":\"\"},\"bgcolor\":\"#E5ECF6\",\"radialaxis\":{\"gridcolor\":\"white\",\"linecolor\":\"white\",\"ticks\":\"\"}},\"scene\":{\"xaxis\":{\"backgroundcolor\":\"#E5ECF6\",\"gridcolor\":\"white\",\"gridwidth\":2,\"linecolor\":\"white\",\"showbackground\":true,\"ticks\":\"\",\"zerolinecolor\":\"white\"},\"yaxis\":{\"backgroundcolor\":\"#E5ECF6\",\"gridcolor\":\"white\",\"gridwidth\":2,\"linecolor\":\"white\",\"showbackground\":true,\"ticks\":\"\",\"zerolinecolor\":\"white\"},\"zaxis\":{\"backgroundcolor\":\"#E5ECF6\",\"gridcolor\":\"white\",\"gridwidth\":2,\"linecolor\":\"white\",\"showbackground\":true,\"ticks\":\"\",\"zerolinecolor\":\"white\"}},\"shapedefaults\":{\"line\":{\"color\":\"#2a3f5f\"}},\"ternary\":{\"aaxis\":{\"gridcolor\":\"white\",\"linecolor\":\"white\",\"ticks\":\"\"},\"baxis\":{\"gridcolor\":\"white\",\"linecolor\":\"white\",\"ticks\":\"\"},\"bgcolor\":\"#E5ECF6\",\"caxis\":{\"gridcolor\":\"white\",\"linecolor\":\"white\",\"ticks\":\"\"}},\"title\":{\"x\":0.05},\"xaxis\":{\"automargin\":true,\"gridcolor\":\"white\",\"linecolor\":\"white\",\"ticks\":\"\",\"title\":{\"standoff\":15},\"zerolinecolor\":\"white\",\"zerolinewidth\":2},\"yaxis\":{\"automargin\":true,\"gridcolor\":\"white\",\"linecolor\":\"white\",\"ticks\":\"\",\"title\":{\"standoff\":15},\"zerolinecolor\":\"white\",\"zerolinewidth\":2}}},\"xaxis\":{\"anchor\":\"y\",\"domain\":[0.0,0.48],\"title\":{\"text\":\"TopKFeatures\"}},\"yaxis\":{\"anchor\":\"x\",\"domain\":[0.0,0.09999999999999999],\"title\":{\"text\":\"TestAccuracy\"}},\"xaxis2\":{\"anchor\":\"y2\",\"domain\":[0.5,0.98],\"matches\":\"x\",\"title\":{\"text\":\"TopKFeatures\"}},\"yaxis2\":{\"anchor\":\"x2\",\"domain\":[0.0,0.09999999999999999],\"matches\":\"y\",\"showticklabels\":false},\"xaxis3\":{\"anchor\":\"y3\",\"domain\":[0.0,0.48],\"matches\":\"x\",\"showticklabels\":false},\"yaxis3\":{\"anchor\":\"x3\",\"domain\":[0.15,0.25],\"matches\":\"y\",\"title\":{\"text\":\"TestAccuracy\"}},\"xaxis4\":{\"anchor\":\"y4\",\"domain\":[0.5,0.98],\"matches\":\"x\",\"showticklabels\":false},\"yaxis4\":{\"anchor\":\"x4\",\"domain\":[0.15,0.25],\"matches\":\"y\",\"showticklabels\":false},\"xaxis5\":{\"anchor\":\"y5\",\"domain\":[0.0,0.48],\"matches\":\"x\",\"showticklabels\":false},\"yaxis5\":{\"anchor\":\"x5\",\"domain\":[0.3,0.39999999999999997],\"matches\":\"y\",\"title\":{\"text\":\"TestAccuracy\"}},\"xaxis6\":{\"anchor\":\"y6\",\"domain\":[0.5,0.98],\"matches\":\"x\",\"showticklabels\":false},\"yaxis6\":{\"anchor\":\"x6\",\"domain\":[0.3,0.39999999999999997],\"matches\":\"y\",\"showticklabels\":false},\"xaxis7\":{\"anchor\":\"y7\",\"domain\":[0.0,0.48],\"matches\":\"x\",\"showticklabels\":false},\"yaxis7\":{\"anchor\":\"x7\",\"domain\":[0.45,0.55],\"matches\":\"y\",\"title\":{\"text\":\"TestAccuracy\"}},\"xaxis8\":{\"anchor\":\"y8\",\"domain\":[0.5,0.98],\"matches\":\"x\",\"showticklabels\":false},\"yaxis8\":{\"anchor\":\"x8\",\"domain\":[0.45,0.55],\"matches\":\"y\",\"showticklabels\":false},\"xaxis9\":{\"anchor\":\"y9\",\"domain\":[0.0,0.48],\"matches\":\"x\",\"showticklabels\":false},\"yaxis9\":{\"anchor\":\"x9\",\"domain\":[0.6,0.7],\"matches\":\"y\",\"title\":{\"text\":\"TestAccuracy\"}},\"xaxis10\":{\"anchor\":\"y10\",\"domain\":[0.5,0.98],\"matches\":\"x\",\"showticklabels\":false},\"yaxis10\":{\"anchor\":\"x10\",\"domain\":[0.6,0.7],\"matches\":\"y\",\"showticklabels\":false},\"xaxis11\":{\"anchor\":\"y11\",\"domain\":[0.0,0.48],\"matches\":\"x\",\"showticklabels\":false},\"yaxis11\":{\"anchor\":\"x11\",\"domain\":[0.75,0.85],\"matches\":\"y\",\"title\":{\"text\":\"TestAccuracy\"}},\"xaxis12\":{\"anchor\":\"y12\",\"domain\":[0.5,0.98],\"matches\":\"x\",\"showticklabels\":false},\"yaxis12\":{\"anchor\":\"x12\",\"domain\":[0.75,0.85],\"matches\":\"y\",\"showticklabels\":false},\"xaxis13\":{\"anchor\":\"y13\",\"domain\":[0.0,0.48],\"matches\":\"x\",\"showticklabels\":false},\"yaxis13\":{\"anchor\":\"x13\",\"domain\":[0.9,1.0],\"matches\":\"y\",\"title\":{\"text\":\"TestAccuracy\"}},\"xaxis14\":{\"anchor\":\"y14\",\"domain\":[0.5,0.98],\"matches\":\"x\",\"showticklabels\":false},\"yaxis14\":{\"anchor\":\"x14\",\"domain\":[0.9,1.0],\"matches\":\"y\",\"showticklabels\":false},\"annotations\":[{\"font\":{},\"showarrow\":false,\"text\":\"Vectorizer=TfidfVectorizer\",\"x\":0.24,\"xanchor\":\"center\",\"xref\":\"paper\",\"y\":1.0,\"yanchor\":\"bottom\",\"yref\":\"paper\"},{\"font\":{},\"showarrow\":false,\"text\":\"Vectorizer=CountVectorizer\",\"x\":0.74,\"xanchor\":\"center\",\"xref\":\"paper\",\"y\":1.0,\"yanchor\":\"bottom\",\"yref\":\"paper\"},{\"font\":{},\"showarrow\":false,\"text\":\"Classifier=ComplementNB\",\"textangle\":90,\"x\":0.98,\"xanchor\":\"left\",\"xref\":\"paper\",\"y\":0.049999999999999996,\"yanchor\":\"middle\",\"yref\":\"paper\"},{\"font\":{},\"showarrow\":false,\"text\":\"Classifier=MultinomialNB\",\"textangle\":90,\"x\":0.98,\"xanchor\":\"left\",\"xref\":\"paper\",\"y\":0.2,\"yanchor\":\"middle\",\"yref\":\"paper\"},{\"font\":{},\"showarrow\":false,\"text\":\"Classifier=RandomForestClassifier\",\"textangle\":90,\"x\":0.98,\"xanchor\":\"left\",\"xref\":\"paper\",\"y\":0.35,\"yanchor\":\"middle\",\"yref\":\"paper\"},{\"font\":{},\"showarrow\":false,\"text\":\"Classifier=XGBClassifier\",\"textangle\":90,\"x\":0.98,\"xanchor\":\"left\",\"xref\":\"paper\",\"y\":0.5,\"yanchor\":\"middle\",\"yref\":\"paper\"},{\"font\":{},\"showarrow\":false,\"text\":\"Classifier=SGDClassifier\",\"textangle\":90,\"x\":0.98,\"xanchor\":\"left\",\"xref\":\"paper\",\"y\":0.6499999999999999,\"yanchor\":\"middle\",\"yref\":\"paper\"},{\"font\":{},\"showarrow\":false,\"text\":\"Classifier=PassiveAggressiveClassifier\",\"textangle\":90,\"x\":0.98,\"xanchor\":\"left\",\"xref\":\"paper\",\"y\":0.8,\"yanchor\":\"middle\",\"yref\":\"paper\"},{\"font\":{},\"showarrow\":false,\"text\":\"Classifier=LinearSVC\",\"textangle\":90,\"x\":0.98,\"xanchor\":\"left\",\"xref\":\"paper\",\"y\":0.95,\"yanchor\":\"middle\",\"yref\":\"paper\"}],\"legend\":{\"title\":{\"text\":\"FullBy, NgramRange\"},\"tracegroupgap\":0},\"margin\":{\"t\":60},\"autosize\":false,\"width\":1100,\"height\":1450},                        {\"responsive\": true}                    ).then(function(){\n",
              "                            \n",
              "var gd = document.getElementById('b971cfa5-8fd4-4caf-9b51-ae17bee4df0c');\n",
              "var x = new MutationObserver(function (mutations, observer) {{\n",
              "        var display = window.getComputedStyle(gd).display;\n",
              "        if (!display || display === 'none') {{\n",
              "            console.log([gd, 'removed!']);\n",
              "            Plotly.purge(gd);\n",
              "            observer.disconnect();\n",
              "        }}\n",
              "}});\n",
              "\n",
              "// Listen for the removal of the full notebook cells\n",
              "var notebookContainer = gd.closest('#notebook-container');\n",
              "if (notebookContainer) {{\n",
              "    x.observe(notebookContainer, {childList: true});\n",
              "}}\n",
              "\n",
              "// Listen for the clearing of the current output cell\n",
              "var outputEl = gd.closest('.output');\n",
              "if (outputEl) {{\n",
              "    x.observe(outputEl, {childList: true});\n",
              "}}\n",
              "\n",
              "                        })                };                            </script>        </div>\n",
              "</body>\n",
              "</html>"
            ]
          },
          "metadata": {}
        }
      ]
    },
    {
      "cell_type": "markdown",
      "source": [
        "# Exploring performance of tuned models (with parameters, fitted to the models trained only on top 5 most frequent categories)\n",
        "\n",
        "\n"
      ],
      "metadata": {
        "id": "1SbdHxPgfPEm"
      }
    },
    {
      "cell_type": "markdown",
      "source": [
        "## Collecting dataframes"
      ],
      "metadata": {
        "id": "b5k8TrtNNzcb"
      }
    },
    {
      "cell_type": "code",
      "source": [
        "tuned_df_all = create_dfs(tuned=True)"
      ],
      "metadata": {
        "id": "QgLAKNBhAljN"
      },
      "execution_count": 93,
      "outputs": []
    },
    {
      "cell_type": "code",
      "source": [
        "tuned_df_all"
      ],
      "metadata": {
        "colab": {
          "base_uri": "https://localhost:8080/",
          "height": 261
        },
        "id": "yUobiN_sSwfQ",
        "outputId": "867ac153-c3d9-4ab5-a431-155f8407cb0e"
      },
      "execution_count": 94,
      "outputs": [
        {
          "output_type": "execute_result",
          "data": {
            "text/html": [
              "\n",
              "  <div id=\"df-677c09be-f449-4b7c-b835-c28605935310\">\n",
              "    <div class=\"colab-df-container\">\n",
              "      <div>\n",
              "<style scoped>\n",
              "    .dataframe tbody tr th:only-of-type {\n",
              "        vertical-align: middle;\n",
              "    }\n",
              "\n",
              "    .dataframe tbody tr th {\n",
              "        vertical-align: top;\n",
              "    }\n",
              "\n",
              "    .dataframe thead th {\n",
              "        text-align: right;\n",
              "    }\n",
              "</style>\n",
              "<table border=\"1\" class=\"dataframe\">\n",
              "  <thead>\n",
              "    <tr style=\"text-align: right;\">\n",
              "      <th></th>\n",
              "      <th>Unnamed: 0</th>\n",
              "      <th>Classifier</th>\n",
              "      <th>By</th>\n",
              "      <th>Preprocessed</th>\n",
              "      <th>Vectorizer</th>\n",
              "      <th>Ngram</th>\n",
              "      <th>TopKFeatures</th>\n",
              "      <th>Best_parameters</th>\n",
              "      <th>TestAccuracy</th>\n",
              "    </tr>\n",
              "  </thead>\n",
              "  <tbody>\n",
              "    <tr>\n",
              "      <th>0</th>\n",
              "      <td>1</td>\n",
              "      <td>MultinomialNB</td>\n",
              "      <td>full_text</td>\n",
              "      <td>0</td>\n",
              "      <td>CountVectorizer</td>\n",
              "      <td>(1, 1)</td>\n",
              "      <td>7500</td>\n",
              "      <td>{'alpha': 1.0, 'fit_prior': True}</td>\n",
              "      <td>0.562670</td>\n",
              "    </tr>\n",
              "    <tr>\n",
              "      <th>1</th>\n",
              "      <td>0</td>\n",
              "      <td>LinearSVC</td>\n",
              "      <td>full_text</td>\n",
              "      <td>0</td>\n",
              "      <td>TfidfVectorizer</td>\n",
              "      <td>(1, 1)</td>\n",
              "      <td>7500</td>\n",
              "      <td>{'dual': True, 'max_iter': 4000, 'C': 1}</td>\n",
              "      <td>0.602350</td>\n",
              "    </tr>\n",
              "    <tr>\n",
              "      <th>2</th>\n",
              "      <td>2</td>\n",
              "      <td>ComplementNB</td>\n",
              "      <td>full_text</td>\n",
              "      <td>0</td>\n",
              "      <td>TfidfVectorizer</td>\n",
              "      <td>(1, 1)</td>\n",
              "      <td>7500</td>\n",
              "      <td>{'alpha': 1.0, 'fit_prior': True, 'norm': False}</td>\n",
              "      <td>0.553783</td>\n",
              "    </tr>\n",
              "    <tr>\n",
              "      <th>3</th>\n",
              "      <td>3</td>\n",
              "      <td>XGBClassifier</td>\n",
              "      <td>full_text</td>\n",
              "      <td>0</td>\n",
              "      <td>CountVectorizer</td>\n",
              "      <td>(1, 2)</td>\n",
              "      <td>4500</td>\n",
              "      <td>{'learning_rate': 0.15, 'max_depth': 4, 'n_est...</td>\n",
              "      <td>0.539792</td>\n",
              "    </tr>\n",
              "    <tr>\n",
              "      <th>4</th>\n",
              "      <td>6</td>\n",
              "      <td>RandomForestClassifier</td>\n",
              "      <td>headline</td>\n",
              "      <td>1</td>\n",
              "      <td>TfidfVectorizer</td>\n",
              "      <td>(1, 1)</td>\n",
              "      <td>7500</td>\n",
              "      <td>{'n_jobs': -1, 'max_depth': None}</td>\n",
              "      <td>0.482861</td>\n",
              "    </tr>\n",
              "    <tr>\n",
              "      <th>5</th>\n",
              "      <td>4</td>\n",
              "      <td>PassiveAggressiveClassifier</td>\n",
              "      <td>full_text</td>\n",
              "      <td>0</td>\n",
              "      <td>TfidfVectorizer</td>\n",
              "      <td>(1, 2)</td>\n",
              "      <td>7500</td>\n",
              "      <td>{'max_iter': 2500, 'C': 0.5, 'n_jobs': -1}</td>\n",
              "      <td>0.579597</td>\n",
              "    </tr>\n",
              "    <tr>\n",
              "      <th>6</th>\n",
              "      <td>5</td>\n",
              "      <td>SGDClassifier</td>\n",
              "      <td>full_text</td>\n",
              "      <td>0</td>\n",
              "      <td>CountVectorizer</td>\n",
              "      <td>(1, 1)</td>\n",
              "      <td>7500</td>\n",
              "      <td>{'max_iter': 2500, 'n_jobs': -1, 'learning_rat...</td>\n",
              "      <td>0.588708</td>\n",
              "    </tr>\n",
              "  </tbody>\n",
              "</table>\n",
              "</div>\n",
              "      <button class=\"colab-df-convert\" onclick=\"convertToInteractive('df-677c09be-f449-4b7c-b835-c28605935310')\"\n",
              "              title=\"Convert this dataframe to an interactive table.\"\n",
              "              style=\"display:none;\">\n",
              "        \n",
              "  <svg xmlns=\"http://www.w3.org/2000/svg\" height=\"24px\"viewBox=\"0 0 24 24\"\n",
              "       width=\"24px\">\n",
              "    <path d=\"M0 0h24v24H0V0z\" fill=\"none\"/>\n",
              "    <path d=\"M18.56 5.44l.94 2.06.94-2.06 2.06-.94-2.06-.94-.94-2.06-.94 2.06-2.06.94zm-11 1L8.5 8.5l.94-2.06 2.06-.94-2.06-.94L8.5 2.5l-.94 2.06-2.06.94zm10 10l.94 2.06.94-2.06 2.06-.94-2.06-.94-.94-2.06-.94 2.06-2.06.94z\"/><path d=\"M17.41 7.96l-1.37-1.37c-.4-.4-.92-.59-1.43-.59-.52 0-1.04.2-1.43.59L10.3 9.45l-7.72 7.72c-.78.78-.78 2.05 0 2.83L4 21.41c.39.39.9.59 1.41.59.51 0 1.02-.2 1.41-.59l7.78-7.78 2.81-2.81c.8-.78.8-2.07 0-2.86zM5.41 20L4 18.59l7.72-7.72 1.47 1.35L5.41 20z\"/>\n",
              "  </svg>\n",
              "      </button>\n",
              "      \n",
              "  <style>\n",
              "    .colab-df-container {\n",
              "      display:flex;\n",
              "      flex-wrap:wrap;\n",
              "      gap: 12px;\n",
              "    }\n",
              "\n",
              "    .colab-df-convert {\n",
              "      background-color: #E8F0FE;\n",
              "      border: none;\n",
              "      border-radius: 50%;\n",
              "      cursor: pointer;\n",
              "      display: none;\n",
              "      fill: #1967D2;\n",
              "      height: 32px;\n",
              "      padding: 0 0 0 0;\n",
              "      width: 32px;\n",
              "    }\n",
              "\n",
              "    .colab-df-convert:hover {\n",
              "      background-color: #E2EBFA;\n",
              "      box-shadow: 0px 1px 2px rgba(60, 64, 67, 0.3), 0px 1px 3px 1px rgba(60, 64, 67, 0.15);\n",
              "      fill: #174EA6;\n",
              "    }\n",
              "\n",
              "    [theme=dark] .colab-df-convert {\n",
              "      background-color: #3B4455;\n",
              "      fill: #D2E3FC;\n",
              "    }\n",
              "\n",
              "    [theme=dark] .colab-df-convert:hover {\n",
              "      background-color: #434B5C;\n",
              "      box-shadow: 0px 1px 3px 1px rgba(0, 0, 0, 0.15);\n",
              "      filter: drop-shadow(0px 1px 2px rgba(0, 0, 0, 0.3));\n",
              "      fill: #FFFFFF;\n",
              "    }\n",
              "  </style>\n",
              "\n",
              "      <script>\n",
              "        const buttonEl =\n",
              "          document.querySelector('#df-677c09be-f449-4b7c-b835-c28605935310 button.colab-df-convert');\n",
              "        buttonEl.style.display =\n",
              "          google.colab.kernel.accessAllowed ? 'block' : 'none';\n",
              "\n",
              "        async function convertToInteractive(key) {\n",
              "          const element = document.querySelector('#df-677c09be-f449-4b7c-b835-c28605935310');\n",
              "          const dataTable =\n",
              "            await google.colab.kernel.invokeFunction('convertToInteractive',\n",
              "                                                     [key], {});\n",
              "          if (!dataTable) return;\n",
              "\n",
              "          const docLinkHtml = 'Like what you see? Visit the ' +\n",
              "            '<a target=\"_blank\" href=https://colab.research.google.com/notebooks/data_table.ipynb>data table notebook</a>'\n",
              "            + ' to learn more about interactive tables.';\n",
              "          element.innerHTML = '';\n",
              "          dataTable['output_type'] = 'display_data';\n",
              "          await google.colab.output.renderOutput(dataTable, element);\n",
              "          const docLink = document.createElement('div');\n",
              "          docLink.innerHTML = docLinkHtml;\n",
              "          element.appendChild(docLink);\n",
              "        }\n",
              "      </script>\n",
              "    </div>\n",
              "  </div>\n",
              "  "
            ],
            "text/plain": [
              "   Unnamed: 0  ... TestAccuracy\n",
              "0           1  ...     0.562670\n",
              "1           0  ...     0.602350\n",
              "2           2  ...     0.553783\n",
              "3           3  ...     0.539792\n",
              "4           6  ...     0.482861\n",
              "5           4  ...     0.579597\n",
              "6           5  ...     0.588708\n",
              "\n",
              "[7 rows x 9 columns]"
            ]
          },
          "metadata": {},
          "execution_count": 94
        }
      ]
    },
    {
      "cell_type": "markdown",
      "source": [
        "## Checking the peak performance of tuned classifiers"
      ],
      "metadata": {
        "id": "aDJf7vDkS7oc"
      }
    },
    {
      "cell_type": "markdown",
      "source": [
        "### On all categories"
      ],
      "metadata": {
        "id": "E_MNz7FITG_n"
      }
    },
    {
      "cell_type": "code",
      "source": [
        "plot_unique_clf(tuned_df_all)  # max_tuned_performance_all"
      ],
      "metadata": {
        "colab": {
          "base_uri": "https://localhost:8080/",
          "height": 542
        },
        "id": "eMwymcNDSyaT",
        "outputId": "03ea5216-5797-4a04-c0e5-30242538e6b0"
      },
      "execution_count": 95,
      "outputs": [
        {
          "output_type": "display_data",
          "data": {
            "text/html": [
              "<html>\n",
              "<head><meta charset=\"utf-8\" /></head>\n",
              "<body>\n",
              "    <div>            <script src=\"https://cdnjs.cloudflare.com/ajax/libs/mathjax/2.7.5/MathJax.js?config=TeX-AMS-MML_SVG\"></script><script type=\"text/javascript\">if (window.MathJax) {MathJax.Hub.Config({SVG: {font: \"STIX-Web\"}});}</script>                <script type=\"text/javascript\">window.PlotlyConfig = {MathJaxConfig: 'local'};</script>\n",
              "        <script src=\"https://cdn.plot.ly/plotly-2.8.3.min.js\"></script>                <div id=\"c0bf5031-324a-48ce-9ed8-652d1aa7b9d5\" class=\"plotly-graph-div\" style=\"height:525px; width:100%;\"></div>            <script type=\"text/javascript\">                                    window.PLOTLYENV=window.PLOTLYENV || {};                                    if (document.getElementById(\"c0bf5031-324a-48ce-9ed8-652d1aa7b9d5\")) {                    Plotly.newPlot(                        \"c0bf5031-324a-48ce-9ed8-652d1aa7b9d5\",                        [{\"showlegend\":false,\"x\":[\"LinearSVC\",\"SGDClassifier\",\"PassiveAggressiveClassifier\",\"MultinomialNB\",\"ComplementNB\",\"XGBClassifier\",\"RandomForestClassifier\"],\"y\":[0.6023499539468771,0.5887082721366159,0.5795972218764781,0.5626695875133803,0.553782579472754,0.5397923875432526,0.4828607702073635],\"type\":\"bar\"}],                        {\"template\":{\"data\":{\"bar\":[{\"error_x\":{\"color\":\"#2a3f5f\"},\"error_y\":{\"color\":\"#2a3f5f\"},\"marker\":{\"line\":{\"color\":\"#E5ECF6\",\"width\":0.5},\"pattern\":{\"fillmode\":\"overlay\",\"size\":10,\"solidity\":0.2}},\"type\":\"bar\"}],\"barpolar\":[{\"marker\":{\"line\":{\"color\":\"#E5ECF6\",\"width\":0.5},\"pattern\":{\"fillmode\":\"overlay\",\"size\":10,\"solidity\":0.2}},\"type\":\"barpolar\"}],\"carpet\":[{\"aaxis\":{\"endlinecolor\":\"#2a3f5f\",\"gridcolor\":\"white\",\"linecolor\":\"white\",\"minorgridcolor\":\"white\",\"startlinecolor\":\"#2a3f5f\"},\"baxis\":{\"endlinecolor\":\"#2a3f5f\",\"gridcolor\":\"white\",\"linecolor\":\"white\",\"minorgridcolor\":\"white\",\"startlinecolor\":\"#2a3f5f\"},\"type\":\"carpet\"}],\"choropleth\":[{\"colorbar\":{\"outlinewidth\":0,\"ticks\":\"\"},\"type\":\"choropleth\"}],\"contour\":[{\"colorbar\":{\"outlinewidth\":0,\"ticks\":\"\"},\"colorscale\":[[0.0,\"#0d0887\"],[0.1111111111111111,\"#46039f\"],[0.2222222222222222,\"#7201a8\"],[0.3333333333333333,\"#9c179e\"],[0.4444444444444444,\"#bd3786\"],[0.5555555555555556,\"#d8576b\"],[0.6666666666666666,\"#ed7953\"],[0.7777777777777778,\"#fb9f3a\"],[0.8888888888888888,\"#fdca26\"],[1.0,\"#f0f921\"]],\"type\":\"contour\"}],\"contourcarpet\":[{\"colorbar\":{\"outlinewidth\":0,\"ticks\":\"\"},\"type\":\"contourcarpet\"}],\"heatmap\":[{\"colorbar\":{\"outlinewidth\":0,\"ticks\":\"\"},\"colorscale\":[[0.0,\"#0d0887\"],[0.1111111111111111,\"#46039f\"],[0.2222222222222222,\"#7201a8\"],[0.3333333333333333,\"#9c179e\"],[0.4444444444444444,\"#bd3786\"],[0.5555555555555556,\"#d8576b\"],[0.6666666666666666,\"#ed7953\"],[0.7777777777777778,\"#fb9f3a\"],[0.8888888888888888,\"#fdca26\"],[1.0,\"#f0f921\"]],\"type\":\"heatmap\"}],\"heatmapgl\":[{\"colorbar\":{\"outlinewidth\":0,\"ticks\":\"\"},\"colorscale\":[[0.0,\"#0d0887\"],[0.1111111111111111,\"#46039f\"],[0.2222222222222222,\"#7201a8\"],[0.3333333333333333,\"#9c179e\"],[0.4444444444444444,\"#bd3786\"],[0.5555555555555556,\"#d8576b\"],[0.6666666666666666,\"#ed7953\"],[0.7777777777777778,\"#fb9f3a\"],[0.8888888888888888,\"#fdca26\"],[1.0,\"#f0f921\"]],\"type\":\"heatmapgl\"}],\"histogram\":[{\"marker\":{\"pattern\":{\"fillmode\":\"overlay\",\"size\":10,\"solidity\":0.2}},\"type\":\"histogram\"}],\"histogram2d\":[{\"colorbar\":{\"outlinewidth\":0,\"ticks\":\"\"},\"colorscale\":[[0.0,\"#0d0887\"],[0.1111111111111111,\"#46039f\"],[0.2222222222222222,\"#7201a8\"],[0.3333333333333333,\"#9c179e\"],[0.4444444444444444,\"#bd3786\"],[0.5555555555555556,\"#d8576b\"],[0.6666666666666666,\"#ed7953\"],[0.7777777777777778,\"#fb9f3a\"],[0.8888888888888888,\"#fdca26\"],[1.0,\"#f0f921\"]],\"type\":\"histogram2d\"}],\"histogram2dcontour\":[{\"colorbar\":{\"outlinewidth\":0,\"ticks\":\"\"},\"colorscale\":[[0.0,\"#0d0887\"],[0.1111111111111111,\"#46039f\"],[0.2222222222222222,\"#7201a8\"],[0.3333333333333333,\"#9c179e\"],[0.4444444444444444,\"#bd3786\"],[0.5555555555555556,\"#d8576b\"],[0.6666666666666666,\"#ed7953\"],[0.7777777777777778,\"#fb9f3a\"],[0.8888888888888888,\"#fdca26\"],[1.0,\"#f0f921\"]],\"type\":\"histogram2dcontour\"}],\"mesh3d\":[{\"colorbar\":{\"outlinewidth\":0,\"ticks\":\"\"},\"type\":\"mesh3d\"}],\"parcoords\":[{\"line\":{\"colorbar\":{\"outlinewidth\":0,\"ticks\":\"\"}},\"type\":\"parcoords\"}],\"pie\":[{\"automargin\":true,\"type\":\"pie\"}],\"scatter\":[{\"marker\":{\"colorbar\":{\"outlinewidth\":0,\"ticks\":\"\"}},\"type\":\"scatter\"}],\"scatter3d\":[{\"line\":{\"colorbar\":{\"outlinewidth\":0,\"ticks\":\"\"}},\"marker\":{\"colorbar\":{\"outlinewidth\":0,\"ticks\":\"\"}},\"type\":\"scatter3d\"}],\"scattercarpet\":[{\"marker\":{\"colorbar\":{\"outlinewidth\":0,\"ticks\":\"\"}},\"type\":\"scattercarpet\"}],\"scattergeo\":[{\"marker\":{\"colorbar\":{\"outlinewidth\":0,\"ticks\":\"\"}},\"type\":\"scattergeo\"}],\"scattergl\":[{\"marker\":{\"colorbar\":{\"outlinewidth\":0,\"ticks\":\"\"}},\"type\":\"scattergl\"}],\"scattermapbox\":[{\"marker\":{\"colorbar\":{\"outlinewidth\":0,\"ticks\":\"\"}},\"type\":\"scattermapbox\"}],\"scatterpolar\":[{\"marker\":{\"colorbar\":{\"outlinewidth\":0,\"ticks\":\"\"}},\"type\":\"scatterpolar\"}],\"scatterpolargl\":[{\"marker\":{\"colorbar\":{\"outlinewidth\":0,\"ticks\":\"\"}},\"type\":\"scatterpolargl\"}],\"scatterternary\":[{\"marker\":{\"colorbar\":{\"outlinewidth\":0,\"ticks\":\"\"}},\"type\":\"scatterternary\"}],\"surface\":[{\"colorbar\":{\"outlinewidth\":0,\"ticks\":\"\"},\"colorscale\":[[0.0,\"#0d0887\"],[0.1111111111111111,\"#46039f\"],[0.2222222222222222,\"#7201a8\"],[0.3333333333333333,\"#9c179e\"],[0.4444444444444444,\"#bd3786\"],[0.5555555555555556,\"#d8576b\"],[0.6666666666666666,\"#ed7953\"],[0.7777777777777778,\"#fb9f3a\"],[0.8888888888888888,\"#fdca26\"],[1.0,\"#f0f921\"]],\"type\":\"surface\"}],\"table\":[{\"cells\":{\"fill\":{\"color\":\"#EBF0F8\"},\"line\":{\"color\":\"white\"}},\"header\":{\"fill\":{\"color\":\"#C8D4E3\"},\"line\":{\"color\":\"white\"}},\"type\":\"table\"}]},\"layout\":{\"annotationdefaults\":{\"arrowcolor\":\"#2a3f5f\",\"arrowhead\":0,\"arrowwidth\":1},\"autotypenumbers\":\"strict\",\"coloraxis\":{\"colorbar\":{\"outlinewidth\":0,\"ticks\":\"\"}},\"colorscale\":{\"diverging\":[[0,\"#8e0152\"],[0.1,\"#c51b7d\"],[0.2,\"#de77ae\"],[0.3,\"#f1b6da\"],[0.4,\"#fde0ef\"],[0.5,\"#f7f7f7\"],[0.6,\"#e6f5d0\"],[0.7,\"#b8e186\"],[0.8,\"#7fbc41\"],[0.9,\"#4d9221\"],[1,\"#276419\"]],\"sequential\":[[0.0,\"#0d0887\"],[0.1111111111111111,\"#46039f\"],[0.2222222222222222,\"#7201a8\"],[0.3333333333333333,\"#9c179e\"],[0.4444444444444444,\"#bd3786\"],[0.5555555555555556,\"#d8576b\"],[0.6666666666666666,\"#ed7953\"],[0.7777777777777778,\"#fb9f3a\"],[0.8888888888888888,\"#fdca26\"],[1.0,\"#f0f921\"]],\"sequentialminus\":[[0.0,\"#0d0887\"],[0.1111111111111111,\"#46039f\"],[0.2222222222222222,\"#7201a8\"],[0.3333333333333333,\"#9c179e\"],[0.4444444444444444,\"#bd3786\"],[0.5555555555555556,\"#d8576b\"],[0.6666666666666666,\"#ed7953\"],[0.7777777777777778,\"#fb9f3a\"],[0.8888888888888888,\"#fdca26\"],[1.0,\"#f0f921\"]]},\"colorway\":[\"#636efa\",\"#EF553B\",\"#00cc96\",\"#ab63fa\",\"#FFA15A\",\"#19d3f3\",\"#FF6692\",\"#B6E880\",\"#FF97FF\",\"#FECB52\"],\"font\":{\"color\":\"#2a3f5f\"},\"geo\":{\"bgcolor\":\"white\",\"lakecolor\":\"white\",\"landcolor\":\"#E5ECF6\",\"showlakes\":true,\"showland\":true,\"subunitcolor\":\"white\"},\"hoverlabel\":{\"align\":\"left\"},\"hovermode\":\"closest\",\"mapbox\":{\"style\":\"light\"},\"paper_bgcolor\":\"white\",\"plot_bgcolor\":\"#E5ECF6\",\"polar\":{\"angularaxis\":{\"gridcolor\":\"white\",\"linecolor\":\"white\",\"ticks\":\"\"},\"bgcolor\":\"#E5ECF6\",\"radialaxis\":{\"gridcolor\":\"white\",\"linecolor\":\"white\",\"ticks\":\"\"}},\"scene\":{\"xaxis\":{\"backgroundcolor\":\"#E5ECF6\",\"gridcolor\":\"white\",\"gridwidth\":2,\"linecolor\":\"white\",\"showbackground\":true,\"ticks\":\"\",\"zerolinecolor\":\"white\"},\"yaxis\":{\"backgroundcolor\":\"#E5ECF6\",\"gridcolor\":\"white\",\"gridwidth\":2,\"linecolor\":\"white\",\"showbackground\":true,\"ticks\":\"\",\"zerolinecolor\":\"white\"},\"zaxis\":{\"backgroundcolor\":\"#E5ECF6\",\"gridcolor\":\"white\",\"gridwidth\":2,\"linecolor\":\"white\",\"showbackground\":true,\"ticks\":\"\",\"zerolinecolor\":\"white\"}},\"shapedefaults\":{\"line\":{\"color\":\"#2a3f5f\"}},\"ternary\":{\"aaxis\":{\"gridcolor\":\"white\",\"linecolor\":\"white\",\"ticks\":\"\"},\"baxis\":{\"gridcolor\":\"white\",\"linecolor\":\"white\",\"ticks\":\"\"},\"bgcolor\":\"#E5ECF6\",\"caxis\":{\"gridcolor\":\"white\",\"linecolor\":\"white\",\"ticks\":\"\"}},\"title\":{\"x\":0.05},\"xaxis\":{\"automargin\":true,\"gridcolor\":\"white\",\"linecolor\":\"white\",\"ticks\":\"\",\"title\":{\"standoff\":15},\"zerolinecolor\":\"white\",\"zerolinewidth\":2},\"yaxis\":{\"automargin\":true,\"gridcolor\":\"white\",\"linecolor\":\"white\",\"ticks\":\"\",\"title\":{\"standoff\":15},\"zerolinecolor\":\"white\",\"zerolinewidth\":2}}},\"title\":{\"text\":\"The best performance (test accuracy) for each ML model type\"},\"yaxis\":{\"range\":[0.4328607702073635,0.6023499539468771]}},                        {\"responsive\": true}                    ).then(function(){\n",
              "                            \n",
              "var gd = document.getElementById('c0bf5031-324a-48ce-9ed8-652d1aa7b9d5');\n",
              "var x = new MutationObserver(function (mutations, observer) {{\n",
              "        var display = window.getComputedStyle(gd).display;\n",
              "        if (!display || display === 'none') {{\n",
              "            console.log([gd, 'removed!']);\n",
              "            Plotly.purge(gd);\n",
              "            observer.disconnect();\n",
              "        }}\n",
              "}});\n",
              "\n",
              "// Listen for the removal of the full notebook cells\n",
              "var notebookContainer = gd.closest('#notebook-container');\n",
              "if (notebookContainer) {{\n",
              "    x.observe(notebookContainer, {childList: true});\n",
              "}}\n",
              "\n",
              "// Listen for the clearing of the current output cell\n",
              "var outputEl = gd.closest('.output');\n",
              "if (outputEl) {{\n",
              "    x.observe(outputEl, {childList: true});\n",
              "}}\n",
              "\n",
              "                        })                };                            </script>        </div>\n",
              "</body>\n",
              "</html>"
            ]
          },
          "metadata": {}
        }
      ]
    }
  ]
}