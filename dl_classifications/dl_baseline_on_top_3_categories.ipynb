{
  "nbformat": 4,
  "nbformat_minor": 0,
  "metadata": {
    "colab": {
      "name": "dl_baseline_on_top_3_categories.ipynb",
      "provenance": [],
      "collapsed_sections": [],
      "toc_visible": true
    },
    "kernelspec": {
      "name": "python3",
      "display_name": "Python 3"
    },
    "language_info": {
      "name": "python"
    }
  },
  "cells": [
    {
      "cell_type": "code",
      "metadata": {
        "id": "8m222M_gj1l1",
        "colab": {
          "base_uri": "https://localhost:8080/"
        },
        "outputId": "83195e34-8027-43df-c276-d36887eb5669"
      },
      "source": [
        "from google.colab import drive\n",
        "drive.mount('/content/drive', force_remount=False)"
      ],
      "execution_count": null,
      "outputs": [
        {
          "output_type": "stream",
          "name": "stdout",
          "text": [
            "Mounted at /content/drive\n"
          ]
        }
      ]
    },
    {
      "cell_type": "code",
      "source": [
        "import pandas as pd\n",
        "import tensorflow as tf"
      ],
      "metadata": {
        "id": "L4s7GVjT_7AE"
      },
      "execution_count": null,
      "outputs": []
    },
    {
      "cell_type": "code",
      "source": [
        "filename = \"/content/drive/MyDrive/SDLC/news_analysis_project/data/final_news_category_dataset.json\"\n",
        "df = pd.read_json(filename, orient='split')\n",
        "df.head()"
      ],
      "metadata": {
        "colab": {
          "base_uri": "https://localhost:8080/",
          "height": 315
        },
        "id": "JKi-tl9R_vix",
        "outputId": "b06b2e72-14cf-4a4a-bd76-5b708a1db7f9"
      },
      "execution_count": null,
      "outputs": [
        {
          "output_type": "execute_result",
          "data": {
            "text/html": [
              "\n",
              "  <div id=\"df-7ebe23ea-dedb-409b-9f9f-06ad8955d7ac\">\n",
              "    <div class=\"colab-df-container\">\n",
              "      <div>\n",
              "<style scoped>\n",
              "    .dataframe tbody tr th:only-of-type {\n",
              "        vertical-align: middle;\n",
              "    }\n",
              "\n",
              "    .dataframe tbody tr th {\n",
              "        vertical-align: top;\n",
              "    }\n",
              "\n",
              "    .dataframe thead th {\n",
              "        text-align: right;\n",
              "    }\n",
              "</style>\n",
              "<table border=\"1\" class=\"dataframe\">\n",
              "  <thead>\n",
              "    <tr style=\"text-align: right;\">\n",
              "      <th></th>\n",
              "      <th>category</th>\n",
              "      <th>headline</th>\n",
              "      <th>authors</th>\n",
              "      <th>link</th>\n",
              "      <th>short_description</th>\n",
              "      <th>date</th>\n",
              "    </tr>\n",
              "  </thead>\n",
              "  <tbody>\n",
              "    <tr>\n",
              "      <th>0</th>\n",
              "      <td>CRIME</td>\n",
              "      <td>There Were 2 Mass Shootings In Texas Last Week...</td>\n",
              "      <td>Melissa Jeltsen</td>\n",
              "      <td>https://www.huffingtonpost.com/entry/texas-ama...</td>\n",
              "      <td>She left her husband. He killed their children...</td>\n",
              "      <td>2018-05-26</td>\n",
              "    </tr>\n",
              "    <tr>\n",
              "      <th>1</th>\n",
              "      <td>ENTERTAINMENT</td>\n",
              "      <td>Will Smith Joins Diplo And Nicky Jam For The 2...</td>\n",
              "      <td>Andy McDonald</td>\n",
              "      <td>https://www.huffingtonpost.com/entry/will-smit...</td>\n",
              "      <td>Of course it has a song.</td>\n",
              "      <td>2018-05-26</td>\n",
              "    </tr>\n",
              "    <tr>\n",
              "      <th>2</th>\n",
              "      <td>ENTERTAINMENT</td>\n",
              "      <td>Hugh Grant Marries For The First Time At Age 57</td>\n",
              "      <td>Ron Dicker</td>\n",
              "      <td>https://www.huffingtonpost.com/entry/hugh-gran...</td>\n",
              "      <td>The actor and his longtime girlfriend Anna Ebe...</td>\n",
              "      <td>2018-05-26</td>\n",
              "    </tr>\n",
              "    <tr>\n",
              "      <th>3</th>\n",
              "      <td>ENTERTAINMENT</td>\n",
              "      <td>Jim Carrey Blasts 'Castrato' Adam Schiff And D...</td>\n",
              "      <td>Ron Dicker</td>\n",
              "      <td>https://www.huffingtonpost.com/entry/jim-carre...</td>\n",
              "      <td>The actor gives Dems an ass-kicking for not fi...</td>\n",
              "      <td>2018-05-26</td>\n",
              "    </tr>\n",
              "    <tr>\n",
              "      <th>4</th>\n",
              "      <td>ENTERTAINMENT</td>\n",
              "      <td>Julianna Margulies Uses Donald Trump Poop Bags...</td>\n",
              "      <td>Ron Dicker</td>\n",
              "      <td>https://www.huffingtonpost.com/entry/julianna-...</td>\n",
              "      <td>The \"Dietland\" actress said using the bags is ...</td>\n",
              "      <td>2018-05-26</td>\n",
              "    </tr>\n",
              "  </tbody>\n",
              "</table>\n",
              "</div>\n",
              "      <button class=\"colab-df-convert\" onclick=\"convertToInteractive('df-7ebe23ea-dedb-409b-9f9f-06ad8955d7ac')\"\n",
              "              title=\"Convert this dataframe to an interactive table.\"\n",
              "              style=\"display:none;\">\n",
              "        \n",
              "  <svg xmlns=\"http://www.w3.org/2000/svg\" height=\"24px\"viewBox=\"0 0 24 24\"\n",
              "       width=\"24px\">\n",
              "    <path d=\"M0 0h24v24H0V0z\" fill=\"none\"/>\n",
              "    <path d=\"M18.56 5.44l.94 2.06.94-2.06 2.06-.94-2.06-.94-.94-2.06-.94 2.06-2.06.94zm-11 1L8.5 8.5l.94-2.06 2.06-.94-2.06-.94L8.5 2.5l-.94 2.06-2.06.94zm10 10l.94 2.06.94-2.06 2.06-.94-2.06-.94-.94-2.06-.94 2.06-2.06.94z\"/><path d=\"M17.41 7.96l-1.37-1.37c-.4-.4-.92-.59-1.43-.59-.52 0-1.04.2-1.43.59L10.3 9.45l-7.72 7.72c-.78.78-.78 2.05 0 2.83L4 21.41c.39.39.9.59 1.41.59.51 0 1.02-.2 1.41-.59l7.78-7.78 2.81-2.81c.8-.78.8-2.07 0-2.86zM5.41 20L4 18.59l7.72-7.72 1.47 1.35L5.41 20z\"/>\n",
              "  </svg>\n",
              "      </button>\n",
              "      \n",
              "  <style>\n",
              "    .colab-df-container {\n",
              "      display:flex;\n",
              "      flex-wrap:wrap;\n",
              "      gap: 12px;\n",
              "    }\n",
              "\n",
              "    .colab-df-convert {\n",
              "      background-color: #E8F0FE;\n",
              "      border: none;\n",
              "      border-radius: 50%;\n",
              "      cursor: pointer;\n",
              "      display: none;\n",
              "      fill: #1967D2;\n",
              "      height: 32px;\n",
              "      padding: 0 0 0 0;\n",
              "      width: 32px;\n",
              "    }\n",
              "\n",
              "    .colab-df-convert:hover {\n",
              "      background-color: #E2EBFA;\n",
              "      box-shadow: 0px 1px 2px rgba(60, 64, 67, 0.3), 0px 1px 3px 1px rgba(60, 64, 67, 0.15);\n",
              "      fill: #174EA6;\n",
              "    }\n",
              "\n",
              "    [theme=dark] .colab-df-convert {\n",
              "      background-color: #3B4455;\n",
              "      fill: #D2E3FC;\n",
              "    }\n",
              "\n",
              "    [theme=dark] .colab-df-convert:hover {\n",
              "      background-color: #434B5C;\n",
              "      box-shadow: 0px 1px 3px 1px rgba(0, 0, 0, 0.15);\n",
              "      filter: drop-shadow(0px 1px 2px rgba(0, 0, 0, 0.3));\n",
              "      fill: #FFFFFF;\n",
              "    }\n",
              "  </style>\n",
              "\n",
              "      <script>\n",
              "        const buttonEl =\n",
              "          document.querySelector('#df-7ebe23ea-dedb-409b-9f9f-06ad8955d7ac button.colab-df-convert');\n",
              "        buttonEl.style.display =\n",
              "          google.colab.kernel.accessAllowed ? 'block' : 'none';\n",
              "\n",
              "        async function convertToInteractive(key) {\n",
              "          const element = document.querySelector('#df-7ebe23ea-dedb-409b-9f9f-06ad8955d7ac');\n",
              "          const dataTable =\n",
              "            await google.colab.kernel.invokeFunction('convertToInteractive',\n",
              "                                                     [key], {});\n",
              "          if (!dataTable) return;\n",
              "\n",
              "          const docLinkHtml = 'Like what you see? Visit the ' +\n",
              "            '<a target=\"_blank\" href=https://colab.research.google.com/notebooks/data_table.ipynb>data table notebook</a>'\n",
              "            + ' to learn more about interactive tables.';\n",
              "          element.innerHTML = '';\n",
              "          dataTable['output_type'] = 'display_data';\n",
              "          await google.colab.output.renderOutput(dataTable, element);\n",
              "          const docLink = document.createElement('div');\n",
              "          docLink.innerHTML = docLinkHtml;\n",
              "          element.appendChild(docLink);\n",
              "        }\n",
              "      </script>\n",
              "    </div>\n",
              "  </div>\n",
              "  "
            ],
            "text/plain": [
              "        category  ...       date\n",
              "0          CRIME  ... 2018-05-26\n",
              "1  ENTERTAINMENT  ... 2018-05-26\n",
              "2  ENTERTAINMENT  ... 2018-05-26\n",
              "3  ENTERTAINMENT  ... 2018-05-26\n",
              "4  ENTERTAINMENT  ... 2018-05-26\n",
              "\n",
              "[5 rows x 6 columns]"
            ]
          },
          "metadata": {},
          "execution_count": 3
        }
      ]
    },
    {
      "cell_type": "markdown",
      "source": [
        "Making a smaller dataframe with only top 3 most frequent categories"
      ],
      "metadata": {
        "id": "uEZRw209IGtg"
      }
    },
    {
      "cell_type": "code",
      "source": [
        "df_3 = df[df.category.isin(df.category.value_counts()[:3].index.values)]\n",
        "df_3"
      ],
      "metadata": {
        "colab": {
          "base_uri": "https://localhost:8080/",
          "height": 608
        },
        "id": "rXfK9lfwIKRw",
        "outputId": "69454776-6d95-4056-d685-04b6742a7103"
      },
      "execution_count": null,
      "outputs": [
        {
          "output_type": "execute_result",
          "data": {
            "text/html": [
              "\n",
              "  <div id=\"df-caef1652-057a-4602-9ae7-cc1881c0627e\">\n",
              "    <div class=\"colab-df-container\">\n",
              "      <div>\n",
              "<style scoped>\n",
              "    .dataframe tbody tr th:only-of-type {\n",
              "        vertical-align: middle;\n",
              "    }\n",
              "\n",
              "    .dataframe tbody tr th {\n",
              "        vertical-align: top;\n",
              "    }\n",
              "\n",
              "    .dataframe thead th {\n",
              "        text-align: right;\n",
              "    }\n",
              "</style>\n",
              "<table border=\"1\" class=\"dataframe\">\n",
              "  <thead>\n",
              "    <tr style=\"text-align: right;\">\n",
              "      <th></th>\n",
              "      <th>category</th>\n",
              "      <th>headline</th>\n",
              "      <th>authors</th>\n",
              "      <th>link</th>\n",
              "      <th>short_description</th>\n",
              "      <th>date</th>\n",
              "    </tr>\n",
              "  </thead>\n",
              "  <tbody>\n",
              "    <tr>\n",
              "      <th>1</th>\n",
              "      <td>ENTERTAINMENT</td>\n",
              "      <td>Will Smith Joins Diplo And Nicky Jam For The 2...</td>\n",
              "      <td>Andy McDonald</td>\n",
              "      <td>https://www.huffingtonpost.com/entry/will-smit...</td>\n",
              "      <td>Of course it has a song.</td>\n",
              "      <td>2018-05-26</td>\n",
              "    </tr>\n",
              "    <tr>\n",
              "      <th>2</th>\n",
              "      <td>ENTERTAINMENT</td>\n",
              "      <td>Hugh Grant Marries For The First Time At Age 57</td>\n",
              "      <td>Ron Dicker</td>\n",
              "      <td>https://www.huffingtonpost.com/entry/hugh-gran...</td>\n",
              "      <td>The actor and his longtime girlfriend Anna Ebe...</td>\n",
              "      <td>2018-05-26</td>\n",
              "    </tr>\n",
              "    <tr>\n",
              "      <th>3</th>\n",
              "      <td>ENTERTAINMENT</td>\n",
              "      <td>Jim Carrey Blasts 'Castrato' Adam Schiff And D...</td>\n",
              "      <td>Ron Dicker</td>\n",
              "      <td>https://www.huffingtonpost.com/entry/jim-carre...</td>\n",
              "      <td>The actor gives Dems an ass-kicking for not fi...</td>\n",
              "      <td>2018-05-26</td>\n",
              "    </tr>\n",
              "    <tr>\n",
              "      <th>4</th>\n",
              "      <td>ENTERTAINMENT</td>\n",
              "      <td>Julianna Margulies Uses Donald Trump Poop Bags...</td>\n",
              "      <td>Ron Dicker</td>\n",
              "      <td>https://www.huffingtonpost.com/entry/julianna-...</td>\n",
              "      <td>The \"Dietland\" actress said using the bags is ...</td>\n",
              "      <td>2018-05-26</td>\n",
              "    </tr>\n",
              "    <tr>\n",
              "      <th>5</th>\n",
              "      <td>ENTERTAINMENT</td>\n",
              "      <td>Morgan Freeman 'Devastated' That Sexual Harass...</td>\n",
              "      <td>Ron Dicker</td>\n",
              "      <td>https://www.huffingtonpost.com/entry/morgan-fr...</td>\n",
              "      <td>\"It is not right to equate horrific incidents ...</td>\n",
              "      <td>2018-05-26</td>\n",
              "    </tr>\n",
              "    <tr>\n",
              "      <th>...</th>\n",
              "      <td>...</td>\n",
              "      <td>...</td>\n",
              "      <td>...</td>\n",
              "      <td>...</td>\n",
              "      <td>...</td>\n",
              "      <td>...</td>\n",
              "    </tr>\n",
              "    <tr>\n",
              "      <th>200800</th>\n",
              "      <td>WELLNESS</td>\n",
              "      <td>The Sleep Library: 11 Soothing Books For Bedtime</td>\n",
              "      <td></td>\n",
              "      <td>https://www.huffingtonpost.comhttp://www.oprah...</td>\n",
              "      <td>Do you toss and turn until you finally sit up ...</td>\n",
              "      <td>2012-01-28</td>\n",
              "    </tr>\n",
              "    <tr>\n",
              "      <th>200802</th>\n",
              "      <td>WELLNESS</td>\n",
              "      <td>The Benefits of Caring for a Pet</td>\n",
              "      <td>Rita Altman, R.N., Contributor\\nSenior Vice Pr...</td>\n",
              "      <td>https://www.huffingtonpost.com/entry/pets-seni...</td>\n",
              "      <td>For the young as well as the old, especially i...</td>\n",
              "      <td>2012-01-28</td>\n",
              "    </tr>\n",
              "    <tr>\n",
              "      <th>200805</th>\n",
              "      <td>WELLNESS</td>\n",
              "      <td>This Is Only the Beginning: Surprising Advice ...</td>\n",
              "      <td>Ellie Knaus, Contributor\\nAtomic Moms Podcast ...</td>\n",
              "      <td>https://www.huffingtonpost.com/entry/life-tips...</td>\n",
              "      <td>My great-aunt Ida loves to say, \"This is only ...</td>\n",
              "      <td>2012-01-28</td>\n",
              "    </tr>\n",
              "    <tr>\n",
              "      <th>200838</th>\n",
              "      <td>ENTERTAINMENT</td>\n",
              "      <td>Sundance, Ice-T, and Shades of the American Ra...</td>\n",
              "      <td>Courtney Garcia, Contributor\\nI tell stories a...</td>\n",
              "      <td>https://www.huffingtonpost.com/entry/sundance-...</td>\n",
              "      <td>Representation of the collective diaspora has ...</td>\n",
              "      <td>2012-01-28</td>\n",
              "    </tr>\n",
              "    <tr>\n",
              "      <th>200839</th>\n",
              "      <td>ENTERTAINMENT</td>\n",
              "      <td>'Girl With the Dragon Tattoo' India Release Ca...</td>\n",
              "      <td></td>\n",
              "      <td>https://www.huffingtonpost.com/entry/girl-with...</td>\n",
              "      <td>\"Sony Pictures will not be releasing The Girl ...</td>\n",
              "      <td>2012-01-28</td>\n",
              "    </tr>\n",
              "  </tbody>\n",
              "</table>\n",
              "<p>66624 rows × 6 columns</p>\n",
              "</div>\n",
              "      <button class=\"colab-df-convert\" onclick=\"convertToInteractive('df-caef1652-057a-4602-9ae7-cc1881c0627e')\"\n",
              "              title=\"Convert this dataframe to an interactive table.\"\n",
              "              style=\"display:none;\">\n",
              "        \n",
              "  <svg xmlns=\"http://www.w3.org/2000/svg\" height=\"24px\"viewBox=\"0 0 24 24\"\n",
              "       width=\"24px\">\n",
              "    <path d=\"M0 0h24v24H0V0z\" fill=\"none\"/>\n",
              "    <path d=\"M18.56 5.44l.94 2.06.94-2.06 2.06-.94-2.06-.94-.94-2.06-.94 2.06-2.06.94zm-11 1L8.5 8.5l.94-2.06 2.06-.94-2.06-.94L8.5 2.5l-.94 2.06-2.06.94zm10 10l.94 2.06.94-2.06 2.06-.94-2.06-.94-.94-2.06-.94 2.06-2.06.94z\"/><path d=\"M17.41 7.96l-1.37-1.37c-.4-.4-.92-.59-1.43-.59-.52 0-1.04.2-1.43.59L10.3 9.45l-7.72 7.72c-.78.78-.78 2.05 0 2.83L4 21.41c.39.39.9.59 1.41.59.51 0 1.02-.2 1.41-.59l7.78-7.78 2.81-2.81c.8-.78.8-2.07 0-2.86zM5.41 20L4 18.59l7.72-7.72 1.47 1.35L5.41 20z\"/>\n",
              "  </svg>\n",
              "      </button>\n",
              "      \n",
              "  <style>\n",
              "    .colab-df-container {\n",
              "      display:flex;\n",
              "      flex-wrap:wrap;\n",
              "      gap: 12px;\n",
              "    }\n",
              "\n",
              "    .colab-df-convert {\n",
              "      background-color: #E8F0FE;\n",
              "      border: none;\n",
              "      border-radius: 50%;\n",
              "      cursor: pointer;\n",
              "      display: none;\n",
              "      fill: #1967D2;\n",
              "      height: 32px;\n",
              "      padding: 0 0 0 0;\n",
              "      width: 32px;\n",
              "    }\n",
              "\n",
              "    .colab-df-convert:hover {\n",
              "      background-color: #E2EBFA;\n",
              "      box-shadow: 0px 1px 2px rgba(60, 64, 67, 0.3), 0px 1px 3px 1px rgba(60, 64, 67, 0.15);\n",
              "      fill: #174EA6;\n",
              "    }\n",
              "\n",
              "    [theme=dark] .colab-df-convert {\n",
              "      background-color: #3B4455;\n",
              "      fill: #D2E3FC;\n",
              "    }\n",
              "\n",
              "    [theme=dark] .colab-df-convert:hover {\n",
              "      background-color: #434B5C;\n",
              "      box-shadow: 0px 1px 3px 1px rgba(0, 0, 0, 0.15);\n",
              "      filter: drop-shadow(0px 1px 2px rgba(0, 0, 0, 0.3));\n",
              "      fill: #FFFFFF;\n",
              "    }\n",
              "  </style>\n",
              "\n",
              "      <script>\n",
              "        const buttonEl =\n",
              "          document.querySelector('#df-caef1652-057a-4602-9ae7-cc1881c0627e button.colab-df-convert');\n",
              "        buttonEl.style.display =\n",
              "          google.colab.kernel.accessAllowed ? 'block' : 'none';\n",
              "\n",
              "        async function convertToInteractive(key) {\n",
              "          const element = document.querySelector('#df-caef1652-057a-4602-9ae7-cc1881c0627e');\n",
              "          const dataTable =\n",
              "            await google.colab.kernel.invokeFunction('convertToInteractive',\n",
              "                                                     [key], {});\n",
              "          if (!dataTable) return;\n",
              "\n",
              "          const docLinkHtml = 'Like what you see? Visit the ' +\n",
              "            '<a target=\"_blank\" href=https://colab.research.google.com/notebooks/data_table.ipynb>data table notebook</a>'\n",
              "            + ' to learn more about interactive tables.';\n",
              "          element.innerHTML = '';\n",
              "          dataTable['output_type'] = 'display_data';\n",
              "          await google.colab.output.renderOutput(dataTable, element);\n",
              "          const docLink = document.createElement('div');\n",
              "          docLink.innerHTML = docLinkHtml;\n",
              "          element.appendChild(docLink);\n",
              "        }\n",
              "      </script>\n",
              "    </div>\n",
              "  </div>\n",
              "  "
            ],
            "text/plain": [
              "             category  ...       date\n",
              "1       ENTERTAINMENT  ... 2018-05-26\n",
              "2       ENTERTAINMENT  ... 2018-05-26\n",
              "3       ENTERTAINMENT  ... 2018-05-26\n",
              "4       ENTERTAINMENT  ... 2018-05-26\n",
              "5       ENTERTAINMENT  ... 2018-05-26\n",
              "...               ...  ...        ...\n",
              "200800       WELLNESS  ... 2012-01-28\n",
              "200802       WELLNESS  ... 2012-01-28\n",
              "200805       WELLNESS  ... 2012-01-28\n",
              "200838  ENTERTAINMENT  ... 2012-01-28\n",
              "200839  ENTERTAINMENT  ... 2012-01-28\n",
              "\n",
              "[66624 rows x 6 columns]"
            ]
          },
          "metadata": {},
          "execution_count": 4
        }
      ]
    },
    {
      "cell_type": "markdown",
      "source": [
        "# Text processing"
      ],
      "metadata": {
        "id": "FBjbfB9KQ3_U"
      }
    },
    {
      "cell_type": "code",
      "source": [
        "import nltk\n",
        "nltk.download('stopwords')\n",
        "from nltk.corpus import stopwords\n",
        "stop_words = set(stopwords.words('english'))"
      ],
      "metadata": {
        "colab": {
          "base_uri": "https://localhost:8080/"
        },
        "id": "9em2BKWiQ5TL",
        "outputId": "d6e38228-e97d-4da7-9b0c-37a970315faa"
      },
      "execution_count": null,
      "outputs": [
        {
          "output_type": "stream",
          "name": "stdout",
          "text": [
            "[nltk_data] Downloading package stopwords to /root/nltk_data...\n",
            "[nltk_data]   Unzipping corpora/stopwords.zip.\n"
          ]
        }
      ]
    },
    {
      "cell_type": "code",
      "source": [
        "import re\n",
        "import string\n",
        "\n",
        "\n",
        "def cleaning_function(sentence):\n",
        "    \"\"\"\n",
        "    Function needed to perform data preprocessing: removing punctuation symbols,\n",
        "    stop_words and other random things in order to obtain clean text\n",
        "    \"\"\"\n",
        "    # the following line removes numbers from text\n",
        "    result = re.sub(r'\\d+', '', sentence.lower())\n",
        "\n",
        "    # the following line removes any punctuation from the text\n",
        "    result = result.translate(str.maketrans('','',string.punctuation))\n",
        "    return [word for word in result.split() if not word in stop_words]\n",
        "    "
      ],
      "metadata": {
        "id": "vfFxQBOuQ6Tf"
      },
      "execution_count": null,
      "outputs": []
    },
    {
      "cell_type": "code",
      "source": [
        "df_3['processed_description'] = df_3['short_description'].apply(lambda x: ' '.join(cleaning_function(x)))"
      ],
      "metadata": {
        "colab": {
          "base_uri": "https://localhost:8080/"
        },
        "id": "WtRlsGT_Q-hD",
        "outputId": "605228cb-8a6f-4808-fd25-b6ae30dd6435"
      },
      "execution_count": null,
      "outputs": [
        {
          "output_type": "stream",
          "name": "stderr",
          "text": [
            "/usr/local/lib/python3.7/dist-packages/ipykernel_launcher.py:1: SettingWithCopyWarning: \n",
            "A value is trying to be set on a copy of a slice from a DataFrame.\n",
            "Try using .loc[row_indexer,col_indexer] = value instead\n",
            "\n",
            "See the caveats in the documentation: https://pandas.pydata.org/pandas-docs/stable/user_guide/indexing.html#returning-a-view-versus-a-copy\n",
            "  \"\"\"Entry point for launching an IPython kernel.\n"
          ]
        }
      ]
    },
    {
      "cell_type": "markdown",
      "source": [
        "# Splitting into train and test"
      ],
      "metadata": {
        "id": "DdX9zAgih5EW"
      }
    },
    {
      "cell_type": "code",
      "source": [
        "from sklearn.model_selection import train_test_split\n",
        "y = df_3['category'].astype('category').cat.codes\n",
        "\n",
        "sentences_train, sentences_test, y_train, y_test = train_test_split(df_3, y, test_size=0.2, stratify=y, random_state=1000)"
      ],
      "metadata": {
        "id": "fengdXieJUNv"
      },
      "execution_count": null,
      "outputs": []
    },
    {
      "cell_type": "code",
      "source": [
        "words_processed = set([k for i in df_3.processed_description.values for j in i.split('.') for k in j.split()])\n",
        "words_raw = set([k for i in df_3.short_description.values for j in i.split('.') for k in j.split()])\n",
        "print(f\"Number of unique words in the processed dataset: {len(words_processed)}\") \n",
        "print(f\"Number of unique words in the raw dataset: {len(words_raw)}\")"
      ],
      "metadata": {
        "colab": {
          "base_uri": "https://localhost:8080/"
        },
        "id": "Yz3IZisaRTD9",
        "outputId": "077f68fe-a4c9-4fc2-fd25-3ed9510b07e5"
      },
      "execution_count": null,
      "outputs": [
        {
          "output_type": "stream",
          "name": "stdout",
          "text": [
            "Number of unique words in the processed dataset: 47482\n",
            "Number of unique words in the raw dataset: 82908\n"
          ]
        }
      ]
    },
    {
      "cell_type": "code",
      "source": [
        "from tensorflow.keras.preprocessing.text import Tokenizer\n",
        "\n",
        "tokenizer_processed = Tokenizer(num_words=40000)\n",
        "tokenizer_processed.fit_on_texts(sentences_train['processed_description'].values)\n",
        "\n",
        "X_train_processed = tokenizer_processed.texts_to_sequences(sentences_train['processed_description'])\n",
        "X_test_processed = tokenizer_processed.texts_to_sequences(sentences_test['processed_description'])\n",
        "\n",
        "tokenizer_raw = Tokenizer(num_words=60000)\n",
        "tokenizer_raw.fit_on_texts(sentences_train['processed_description'])\n",
        "\n",
        "X_train_raw = tokenizer_raw.texts_to_sequences(sentences_train['short_description'])\n",
        "X_test_raw = tokenizer_raw.texts_to_sequences(sentences_test['short_description'])"
      ],
      "metadata": {
        "id": "IqhYQn-BOfQ-"
      },
      "execution_count": null,
      "outputs": []
    },
    {
      "cell_type": "code",
      "source": [
        "vocab_size_processed = len(tokenizer_processed.word_index) + 1  \n",
        "vocab_size_raw = len(tokenizer_raw.word_index) + 1"
      ],
      "metadata": {
        "id": "pgLkojyARKFY"
      },
      "execution_count": null,
      "outputs": []
    },
    {
      "cell_type": "markdown",
      "source": [
        "# Padding sequences"
      ],
      "metadata": {
        "id": "kE6aqAIdijrj"
      }
    },
    {
      "cell_type": "code",
      "source": [
        "from tensorflow.keras.preprocessing.sequence import pad_sequences\n",
        "\n",
        "maxlen_processed = 25\n",
        "maxlen_raw = 100\n",
        "\n",
        "X_train_processed = pad_sequences(X_train_processed, padding='post', maxlen=maxlen_processed)\n",
        "X_test_processed = pad_sequences(X_test_processed, padding='post', maxlen=maxlen_processed)\n",
        "\n",
        "X_train_raw = pad_sequences(X_train_raw, padding='post', maxlen=maxlen_raw)\n",
        "X_test_raw = pad_sequences(X_test_raw, padding='post', maxlen=maxlen_raw)\n",
        "\n",
        "print(sentences_train['short_description'][2])\n",
        "print(X_train_raw[2, :])"
      ],
      "metadata": {
        "colab": {
          "base_uri": "https://localhost:8080/"
        },
        "id": "7Z62b2KjRWDE",
        "outputId": "e78d0de8-8bac-486f-8cb7-5cafd5d9e9af"
      },
      "execution_count": null,
      "outputs": [
        {
          "output_type": "stream",
          "name": "stdout",
          "text": [
            "The actor and his longtime girlfriend Anna Eberstein tied the knot in a civil ceremony.\n",
            "[0 0 0 0 0 0 0 0 0 0 0 0 0 0 0 0 0 0 0 0 0 0 0 0 0 0 0 0 0 0 0 0 0 0 0 0 0\n",
            " 0 0 0 0 0 0 0 0 0 0 0 0 0 0 0 0 0 0 0 0 0 0 0 0 0 0 0 0 0 0 0 0 0 0 0 0 0\n",
            " 0 0 0 0 0 0 0 0 0 0 0 0 0 0 0 0 0 0 0 0 0 0 0 0 0 0]\n"
          ]
        }
      ]
    },
    {
      "cell_type": "markdown",
      "source": [
        "# Converting y-vector to a compatible format, to avoid exploding gradients"
      ],
      "metadata": {
        "id": "f0OWqmwHnuDI"
      }
    },
    {
      "cell_type": "code",
      "source": [
        "from tensorflow.keras.utils import to_categorical\n",
        "y_train = to_categorical(y_train)\n",
        "y_test = to_categorical(y_test) "
      ],
      "metadata": {
        "id": "NKFHipAxn1Q2"
      },
      "execution_count": null,
      "outputs": []
    },
    {
      "cell_type": "markdown",
      "source": [
        "# Loading the pretrained embedding layer"
      ],
      "metadata": {
        "id": "rOxv4oV3_c__"
      }
    },
    {
      "cell_type": "code",
      "source": [
        "!wget http://nlp.stanford.edu/data/glove.6B.zip\n",
        "!unzip -q glove.6B.zip"
      ],
      "metadata": {
        "colab": {
          "base_uri": "https://localhost:8080/"
        },
        "id": "lMZDKzMr_e-V",
        "outputId": "312a39e9-6560-4827-bc3b-33a35181e5c6"
      },
      "execution_count": null,
      "outputs": [
        {
          "output_type": "stream",
          "name": "stdout",
          "text": [
            "--2022-02-11 11:19:44--  http://nlp.stanford.edu/data/glove.6B.zip\n",
            "Resolving nlp.stanford.edu (nlp.stanford.edu)... 171.64.67.140\n",
            "Connecting to nlp.stanford.edu (nlp.stanford.edu)|171.64.67.140|:80... connected.\n",
            "HTTP request sent, awaiting response... 302 Found\n",
            "Location: https://nlp.stanford.edu/data/glove.6B.zip [following]\n",
            "--2022-02-11 11:19:44--  https://nlp.stanford.edu/data/glove.6B.zip\n",
            "Connecting to nlp.stanford.edu (nlp.stanford.edu)|171.64.67.140|:443... connected.\n",
            "HTTP request sent, awaiting response... 301 Moved Permanently\n",
            "Location: http://downloads.cs.stanford.edu/nlp/data/glove.6B.zip [following]\n",
            "--2022-02-11 11:19:45--  http://downloads.cs.stanford.edu/nlp/data/glove.6B.zip\n",
            "Resolving downloads.cs.stanford.edu (downloads.cs.stanford.edu)... 171.64.64.22\n",
            "Connecting to downloads.cs.stanford.edu (downloads.cs.stanford.edu)|171.64.64.22|:80... connected.\n",
            "HTTP request sent, awaiting response... 200 OK\n",
            "Length: 862182613 (822M) [application/zip]\n",
            "Saving to: ‘glove.6B.zip’\n",
            "\n",
            "glove.6B.zip        100%[===================>] 822.24M  5.08MB/s    in 2m 41s  \n",
            "\n",
            "2022-02-11 11:22:26 (5.12 MB/s) - ‘glove.6B.zip’ saved [862182613/862182613]\n",
            "\n"
          ]
        }
      ]
    },
    {
      "cell_type": "code",
      "source": [
        "!head -n 1 glove.6B.50d.txt | cut -c-50"
      ],
      "metadata": {
        "colab": {
          "base_uri": "https://localhost:8080/"
        },
        "id": "FB_V1Kg9_gMN",
        "outputId": "64c23b6b-0a81-4b67-e8d7-b91543fa94bc"
      },
      "execution_count": null,
      "outputs": [
        {
          "output_type": "stream",
          "name": "stdout",
          "text": [
            "the 0.418 0.24968 -0.41242 0.1217 0.34527 -0.04445\n"
          ]
        }
      ]
    },
    {
      "cell_type": "code",
      "source": [
        "import numpy as np\n",
        "\n",
        "def create_embedding_matrix(filepath, word_index, embedding_dim):\n",
        "    vocab_size = len(word_index) + 1  # Adding again 1 because of reserved 0 index\n",
        "    embedding_matrix = np.zeros((vocab_size, embedding_dim))\n",
        "\n",
        "    with open(filepath) as f:\n",
        "        for line in f:\n",
        "            word, *vector = line.split()\n",
        "            if word in word_index:\n",
        "                idx = word_index[word] \n",
        "                embedding_matrix[idx] = np.array(\n",
        "                    vector, dtype=np.float32)[:embedding_dim]\n",
        "\n",
        "    return embedding_matrix"
      ],
      "metadata": {
        "id": "JwV5blRFBwbD"
      },
      "execution_count": null,
      "outputs": []
    },
    {
      "cell_type": "code",
      "source": [
        "embedding_dim = 50\n",
        "embedding_matrix_processed = create_embedding_matrix('glove.6B.50d.txt',\n",
        "                                           tokenizer_processed.word_index, \n",
        "                                           embedding_dim)\n",
        "\n",
        "embedding_matrix_raw = create_embedding_matrix('glove.6B.50d.txt', \n",
        "                                               tokenizer_raw.word_index,\n",
        "                                               embedding_dim)"
      ],
      "metadata": {
        "id": "9DoqP0PLBySw"
      },
      "execution_count": null,
      "outputs": []
    },
    {
      "cell_type": "markdown",
      "source": [
        "# Building models on pretrained embedding layer"
      ],
      "metadata": {
        "id": "7EejGMyhl9k0"
      }
    },
    {
      "cell_type": "code",
      "source": [
        "from tensorflow.keras.models import Sequential\n",
        "from tensorflow.keras import layers\n",
        "from tensorflow.keras.optimizers import SGD"
      ],
      "metadata": {
        "id": "o3aKrgW4mD1b"
      },
      "execution_count": null,
      "outputs": []
    },
    {
      "cell_type": "code",
      "source": [
        "def create_basic_model(vocab_size, embedding_dim, embedding_matrix, maxlen, pretrained_embedding=False):\n",
        "    model = Sequential()\n",
        "    if pretrained_embedding:\n",
        "        model.add(layers.Embedding(vocab_size, embedding_dim, \n",
        "                                  weights=[embedding_matrix], \n",
        "                                  input_length=maxlen, \n",
        "                                  trainable=False))\n",
        "    else:\n",
        "        model.add(layers.Embedding(vocab_size, embedding_dim, input_length=maxlen))\n",
        "    model.add(layers.GlobalMaxPool1D())\n",
        "    model.add(layers.Flatten())\n",
        "    model.add(layers.Dropout(0.5))\n",
        "    model.add(layers.Dense(10))\n",
        "    model.add(layers.Dense(3, activation='softmax'))\n",
        "    opt = SGD(learning_rate=0.01)\n",
        "    model.compile(loss = \"categorical_crossentropy\", optimizer = opt, metrics=['accuracy'])\n",
        "    return model"
      ],
      "metadata": {
        "id": "-96etaztmq-C"
      },
      "execution_count": null,
      "outputs": []
    },
    {
      "cell_type": "markdown",
      "source": [
        "## Working on processed texts"
      ],
      "metadata": {
        "id": "Owb_ncIamH7P"
      }
    },
    {
      "cell_type": "code",
      "source": [
        "model_processed = create_basic_model(vocab_size_processed, \n",
        "                                     embedding_dim, \n",
        "                                     embedding_matrix_processed, \n",
        "                                     maxlen_processed, pretrained_embedding=True)"
      ],
      "metadata": {
        "id": "L5XfzPYQnTfC"
      },
      "execution_count": null,
      "outputs": []
    },
    {
      "cell_type": "code",
      "source": [
        "history_processed = model_processed.fit(X_train_processed, y_train,\n",
        "                    epochs=30,\n",
        "                    validation_data=(X_test_processed, y_test))\n",
        "loss_training_processed, accuracy_training_processed = model_processed.evaluate(X_train_processed, y_train, verbose=False)\n",
        "print(\"Training Accuracy: {:.4f}\".format(accuracy_training_processed))\n",
        "loss_test_processed, accuracy_test_processed = model_processed.evaluate(X_test_processed, y_test, verbose=False)\n",
        "print(\"Testing Accuracy:  {:.4f}\".format(accuracy_test_processed))"
      ],
      "metadata": {
        "colab": {
          "base_uri": "https://localhost:8080/"
        },
        "id": "AjrkXeaAPRL4",
        "outputId": "b0222114-170e-4f9c-ed29-e9322371d376"
      },
      "execution_count": null,
      "outputs": [
        {
          "output_type": "stream",
          "name": "stdout",
          "text": [
            "Epoch 1/30\n",
            "1666/1666 [==============================] - 4s 2ms/step - loss: 0.9580 - accuracy: 0.5479 - val_loss: 0.7884 - val_accuracy: 0.6493\n",
            "Epoch 2/30\n",
            "1666/1666 [==============================] - 3s 2ms/step - loss: 0.8501 - accuracy: 0.5940 - val_loss: 0.7581 - val_accuracy: 0.6895\n",
            "Epoch 3/30\n",
            "1666/1666 [==============================] - 3s 2ms/step - loss: 0.8376 - accuracy: 0.6021 - val_loss: 0.7552 - val_accuracy: 0.6624\n",
            "Epoch 4/30\n",
            "1666/1666 [==============================] - 5s 3ms/step - loss: 0.8334 - accuracy: 0.6005 - val_loss: 0.7502 - val_accuracy: 0.6488\n",
            "Epoch 5/30\n",
            "1666/1666 [==============================] - 3s 2ms/step - loss: 0.8337 - accuracy: 0.6009 - val_loss: 0.7501 - val_accuracy: 0.6399\n",
            "Epoch 6/30\n",
            "1666/1666 [==============================] - 3s 2ms/step - loss: 0.8332 - accuracy: 0.6022 - val_loss: 0.7387 - val_accuracy: 0.6606\n",
            "Epoch 7/30\n",
            "1666/1666 [==============================] - 3s 2ms/step - loss: 0.8338 - accuracy: 0.6025 - val_loss: 0.7380 - val_accuracy: 0.6786\n",
            "Epoch 8/30\n",
            "1666/1666 [==============================] - 3s 2ms/step - loss: 0.8354 - accuracy: 0.5995 - val_loss: 0.7481 - val_accuracy: 0.6612\n",
            "Epoch 9/30\n",
            "1666/1666 [==============================] - 3s 2ms/step - loss: 0.8368 - accuracy: 0.6000 - val_loss: 0.7420 - val_accuracy: 0.6663\n",
            "Epoch 10/30\n",
            "1666/1666 [==============================] - 3s 2ms/step - loss: 0.8323 - accuracy: 0.6037 - val_loss: 0.7434 - val_accuracy: 0.6567\n",
            "Epoch 11/30\n",
            "1666/1666 [==============================] - 3s 2ms/step - loss: 0.8331 - accuracy: 0.6007 - val_loss: 0.7408 - val_accuracy: 0.6584\n",
            "Epoch 12/30\n",
            "1666/1666 [==============================] - 3s 2ms/step - loss: 0.8332 - accuracy: 0.6011 - val_loss: 0.7472 - val_accuracy: 0.6560\n",
            "Epoch 13/30\n",
            "1666/1666 [==============================] - 3s 2ms/step - loss: 0.8332 - accuracy: 0.6003 - val_loss: 0.7391 - val_accuracy: 0.6760\n",
            "Epoch 14/30\n",
            "1666/1666 [==============================] - 3s 2ms/step - loss: 0.8335 - accuracy: 0.6005 - val_loss: 0.7400 - val_accuracy: 0.6648\n",
            "Epoch 15/30\n",
            "1666/1666 [==============================] - 3s 2ms/step - loss: 0.8342 - accuracy: 0.5992 - val_loss: 0.7390 - val_accuracy: 0.6708\n",
            "Epoch 16/30\n",
            "1666/1666 [==============================] - 3s 2ms/step - loss: 0.8331 - accuracy: 0.6023 - val_loss: 0.7391 - val_accuracy: 0.6567\n",
            "Epoch 17/30\n",
            "1666/1666 [==============================] - 3s 2ms/step - loss: 0.8346 - accuracy: 0.5992 - val_loss: 0.7407 - val_accuracy: 0.6612\n",
            "Epoch 18/30\n",
            "1666/1666 [==============================] - 4s 2ms/step - loss: 0.8345 - accuracy: 0.5990 - val_loss: 0.7413 - val_accuracy: 0.6664\n",
            "Epoch 19/30\n",
            "1666/1666 [==============================] - 5s 3ms/step - loss: 0.8329 - accuracy: 0.6019 - val_loss: 0.7375 - val_accuracy: 0.6812\n",
            "Epoch 20/30\n",
            "1666/1666 [==============================] - 5s 3ms/step - loss: 0.8327 - accuracy: 0.6017 - val_loss: 0.7417 - val_accuracy: 0.6557\n",
            "Epoch 21/30\n",
            "1666/1666 [==============================] - 3s 2ms/step - loss: 0.8322 - accuracy: 0.6011 - val_loss: 0.7406 - val_accuracy: 0.6606\n",
            "Epoch 22/30\n",
            "1666/1666 [==============================] - 4s 2ms/step - loss: 0.8328 - accuracy: 0.6006 - val_loss: 0.7408 - val_accuracy: 0.6579\n",
            "Epoch 23/30\n",
            "1666/1666 [==============================] - 6s 3ms/step - loss: 0.8316 - accuracy: 0.6032 - val_loss: 0.7358 - val_accuracy: 0.6687\n",
            "Epoch 24/30\n",
            "1666/1666 [==============================] - 3s 2ms/step - loss: 0.8318 - accuracy: 0.6011 - val_loss: 0.7355 - val_accuracy: 0.6690\n",
            "Epoch 25/30\n",
            "1666/1666 [==============================] - 3s 2ms/step - loss: 0.8317 - accuracy: 0.6020 - val_loss: 0.7438 - val_accuracy: 0.6594\n",
            "Epoch 26/30\n",
            "1666/1666 [==============================] - 3s 2ms/step - loss: 0.8302 - accuracy: 0.6010 - val_loss: 0.7385 - val_accuracy: 0.6650\n",
            "Epoch 27/30\n",
            "1666/1666 [==============================] - 3s 2ms/step - loss: 0.8316 - accuracy: 0.6029 - val_loss: 0.7387 - val_accuracy: 0.6687\n",
            "Epoch 28/30\n",
            "1666/1666 [==============================] - 3s 2ms/step - loss: 0.8325 - accuracy: 0.6039 - val_loss: 0.7398 - val_accuracy: 0.6625\n",
            "Epoch 29/30\n",
            "1666/1666 [==============================] - 3s 2ms/step - loss: 0.8322 - accuracy: 0.6024 - val_loss: 0.7397 - val_accuracy: 0.6582\n",
            "Epoch 30/30\n",
            "1666/1666 [==============================] - 3s 2ms/step - loss: 0.8330 - accuracy: 0.6023 - val_loss: 0.7441 - val_accuracy: 0.6513\n",
            "Training Accuracy: 0.6647\n",
            "Testing Accuracy:  0.6513\n"
          ]
        }
      ]
    },
    {
      "cell_type": "markdown",
      "source": [
        "## Working on raw texts"
      ],
      "metadata": {
        "id": "JGyVyXV7yH2i"
      }
    },
    {
      "cell_type": "code",
      "source": [
        "model_raw = create_basic_model(vocab_size_raw, \n",
        "                                     embedding_dim, \n",
        "                                     embedding_matrix_raw, \n",
        "                                     maxlen_raw, pretrained_embedding=True)"
      ],
      "metadata": {
        "id": "gJvDd548yKKS"
      },
      "execution_count": null,
      "outputs": []
    },
    {
      "cell_type": "code",
      "source": [
        "model_raw.summary()"
      ],
      "metadata": {
        "colab": {
          "base_uri": "https://localhost:8080/"
        },
        "id": "g1-OELrj1eo2",
        "outputId": "f58344ab-4357-4bec-b3f8-680d66674a4d"
      },
      "execution_count": null,
      "outputs": [
        {
          "output_type": "stream",
          "name": "stdout",
          "text": [
            "Model: \"sequential_3\"\n",
            "_________________________________________________________________\n",
            " Layer (type)                Output Shape              Param #   \n",
            "=================================================================\n",
            " embedding_3 (Embedding)     (None, 100, 50)           2132300   \n",
            "                                                                 \n",
            " global_max_pooling1d_3 (Glo  (None, 50)               0         \n",
            " balMaxPooling1D)                                                \n",
            "                                                                 \n",
            " flatten_3 (Flatten)         (None, 50)                0         \n",
            "                                                                 \n",
            " dropout_3 (Dropout)         (None, 50)                0         \n",
            "                                                                 \n",
            " dense_6 (Dense)             (None, 10)                510       \n",
            "                                                                 \n",
            " dense_7 (Dense)             (None, 3)                 33        \n",
            "                                                                 \n",
            "=================================================================\n",
            "Total params: 2,132,843\n",
            "Trainable params: 543\n",
            "Non-trainable params: 2,132,300\n",
            "_________________________________________________________________\n"
          ]
        }
      ]
    },
    {
      "cell_type": "code",
      "source": [
        "history_raw = model_raw.fit(X_train_raw, y_train,\n",
        "                    epochs=30,\n",
        "                    validation_data=(X_test_raw, y_test))\n",
        "loss_training_raw, accuracy_training_raw = model_raw.evaluate(X_train_raw, y_train, verbose=False)\n",
        "print(\"Training Accuracy: {:.4f}\".format(accuracy_training_raw))\n",
        "loss_test_raw, accuracy_test_raw = model_raw.evaluate(X_test_raw, y_test, verbose=False)\n",
        "print(\"Testing Accuracy:  {:.4f}\".format(accuracy_test_raw))"
      ],
      "metadata": {
        "colab": {
          "base_uri": "https://localhost:8080/"
        },
        "id": "Ff0UyX8mPcYQ",
        "outputId": "30d976ae-5a0f-4ca7-a2a1-8378317ea31a"
      },
      "execution_count": null,
      "outputs": [
        {
          "output_type": "stream",
          "name": "stdout",
          "text": [
            "Epoch 1/30\n",
            "1666/1666 [==============================] - 4s 2ms/step - loss: 0.9545 - accuracy: 0.5412 - val_loss: 0.8022 - val_accuracy: 0.6172\n",
            "Epoch 2/30\n",
            "1666/1666 [==============================] - 4s 2ms/step - loss: 0.8496 - accuracy: 0.6000 - val_loss: 0.7574 - val_accuracy: 0.6764\n",
            "Epoch 3/30\n",
            "1666/1666 [==============================] - 4s 2ms/step - loss: 0.8410 - accuracy: 0.5987 - val_loss: 0.7574 - val_accuracy: 0.6386\n",
            "Epoch 4/30\n",
            "1666/1666 [==============================] - 4s 2ms/step - loss: 0.8345 - accuracy: 0.6011 - val_loss: 0.7437 - val_accuracy: 0.6657\n",
            "Epoch 5/30\n",
            "1666/1666 [==============================] - 3s 2ms/step - loss: 0.8332 - accuracy: 0.6035 - val_loss: 0.7383 - val_accuracy: 0.6792\n",
            "Epoch 6/30\n",
            "1666/1666 [==============================] - 3s 2ms/step - loss: 0.8359 - accuracy: 0.5990 - val_loss: 0.7456 - val_accuracy: 0.6528\n",
            "Epoch 7/30\n",
            "1666/1666 [==============================] - 5s 3ms/step - loss: 0.8352 - accuracy: 0.5994 - val_loss: 0.7441 - val_accuracy: 0.6674\n",
            "Epoch 8/30\n",
            "1666/1666 [==============================] - 4s 2ms/step - loss: 0.8354 - accuracy: 0.5980 - val_loss: 0.7554 - val_accuracy: 0.6242\n",
            "Epoch 9/30\n",
            "1666/1666 [==============================] - 4s 2ms/step - loss: 0.8294 - accuracy: 0.6050 - val_loss: 0.7384 - val_accuracy: 0.6789\n",
            "Epoch 10/30\n",
            "1666/1666 [==============================] - 3s 2ms/step - loss: 0.8343 - accuracy: 0.6010 - val_loss: 0.7466 - val_accuracy: 0.6405\n",
            "Epoch 11/30\n",
            "1666/1666 [==============================] - 4s 2ms/step - loss: 0.8354 - accuracy: 0.6010 - val_loss: 0.7408 - val_accuracy: 0.6630\n",
            "Epoch 12/30\n",
            "1666/1666 [==============================] - 3s 2ms/step - loss: 0.8317 - accuracy: 0.6031 - val_loss: 0.7386 - val_accuracy: 0.6715\n",
            "Epoch 13/30\n",
            "1666/1666 [==============================] - 4s 2ms/step - loss: 0.8351 - accuracy: 0.6004 - val_loss: 0.7451 - val_accuracy: 0.6590\n",
            "Epoch 14/30\n",
            "1666/1666 [==============================] - 3s 2ms/step - loss: 0.8289 - accuracy: 0.6061 - val_loss: 0.7436 - val_accuracy: 0.6519\n",
            "Epoch 15/30\n",
            "1666/1666 [==============================] - 3s 2ms/step - loss: 0.8332 - accuracy: 0.6030 - val_loss: 0.7419 - val_accuracy: 0.6634\n",
            "Epoch 16/30\n",
            "1666/1666 [==============================] - 4s 2ms/step - loss: 0.8290 - accuracy: 0.6053 - val_loss: 0.7356 - val_accuracy: 0.6753\n",
            "Epoch 17/30\n",
            "1666/1666 [==============================] - 4s 2ms/step - loss: 0.8316 - accuracy: 0.6043 - val_loss: 0.7412 - val_accuracy: 0.6525\n",
            "Epoch 18/30\n",
            "1666/1666 [==============================] - 4s 2ms/step - loss: 0.8363 - accuracy: 0.6027 - val_loss: 0.7417 - val_accuracy: 0.6756\n",
            "Epoch 19/30\n",
            "1666/1666 [==============================] - 3s 2ms/step - loss: 0.8311 - accuracy: 0.6031 - val_loss: 0.7414 - val_accuracy: 0.6739\n",
            "Epoch 20/30\n",
            "1666/1666 [==============================] - 3s 2ms/step - loss: 0.8318 - accuracy: 0.6009 - val_loss: 0.7420 - val_accuracy: 0.6618\n",
            "Epoch 21/30\n",
            "1666/1666 [==============================] - 3s 2ms/step - loss: 0.8331 - accuracy: 0.6009 - val_loss: 0.7384 - val_accuracy: 0.6734\n",
            "Epoch 22/30\n",
            "1666/1666 [==============================] - 4s 2ms/step - loss: 0.8333 - accuracy: 0.6003 - val_loss: 0.7367 - val_accuracy: 0.6729\n",
            "Epoch 23/30\n",
            "1666/1666 [==============================] - 3s 2ms/step - loss: 0.8316 - accuracy: 0.6032 - val_loss: 0.7400 - val_accuracy: 0.6539\n",
            "Epoch 24/30\n",
            "1666/1666 [==============================] - 4s 2ms/step - loss: 0.8331 - accuracy: 0.6010 - val_loss: 0.7442 - val_accuracy: 0.6651\n",
            "Epoch 25/30\n",
            "1666/1666 [==============================] - 3s 2ms/step - loss: 0.8321 - accuracy: 0.6021 - val_loss: 0.7411 - val_accuracy: 0.6514\n",
            "Epoch 26/30\n",
            "1666/1666 [==============================] - 4s 3ms/step - loss: 0.8325 - accuracy: 0.6023 - val_loss: 0.7438 - val_accuracy: 0.6576\n",
            "Epoch 27/30\n",
            "1666/1666 [==============================] - 3s 2ms/step - loss: 0.8369 - accuracy: 0.6002 - val_loss: 0.7495 - val_accuracy: 0.6434\n",
            "Epoch 28/30\n",
            "1666/1666 [==============================] - 4s 2ms/step - loss: 0.8330 - accuracy: 0.6013 - val_loss: 0.7440 - val_accuracy: 0.6654\n",
            "Epoch 29/30\n",
            "1666/1666 [==============================] - 4s 2ms/step - loss: 0.8315 - accuracy: 0.6029 - val_loss: 0.7424 - val_accuracy: 0.6487\n",
            "Epoch 30/30\n",
            "1666/1666 [==============================] - 3s 2ms/step - loss: 0.8293 - accuracy: 0.6039 - val_loss: 0.7362 - val_accuracy: 0.6702\n",
            "Training Accuracy: 0.6768\n",
            "Testing Accuracy:  0.6702\n"
          ]
        }
      ]
    },
    {
      "cell_type": "markdown",
      "source": [
        "# Building models with training embedding layers as well"
      ],
      "metadata": {
        "id": "7IgaFRCJzhnO"
      }
    },
    {
      "cell_type": "markdown",
      "source": [
        "## Working on processed texts"
      ],
      "metadata": {
        "id": "NdQaCnaq0aPK"
      }
    },
    {
      "cell_type": "code",
      "source": [
        "model_processed_new = create_basic_model(vocab_size_processed, 8, None, maxlen_processed)\n",
        "model_processed_new.summary()"
      ],
      "metadata": {
        "colab": {
          "base_uri": "https://localhost:8080/"
        },
        "id": "nJsHzZA5zoYk",
        "outputId": "a9a88fee-23d7-44d4-891e-07c6f79789ef"
      },
      "execution_count": null,
      "outputs": [
        {
          "output_type": "stream",
          "name": "stdout",
          "text": [
            "Model: \"sequential_4\"\n",
            "_________________________________________________________________\n",
            " Layer (type)                Output Shape              Param #   \n",
            "=================================================================\n",
            " embedding_4 (Embedding)     (None, 25, 8)             341168    \n",
            "                                                                 \n",
            " global_max_pooling1d_4 (Glo  (None, 8)                0         \n",
            " balMaxPooling1D)                                                \n",
            "                                                                 \n",
            " flatten_4 (Flatten)         (None, 8)                 0         \n",
            "                                                                 \n",
            " dropout_4 (Dropout)         (None, 8)                 0         \n",
            "                                                                 \n",
            " dense_8 (Dense)             (None, 10)                90        \n",
            "                                                                 \n",
            " dense_9 (Dense)             (None, 3)                 33        \n",
            "                                                                 \n",
            "=================================================================\n",
            "Total params: 341,291\n",
            "Trainable params: 341,291\n",
            "Non-trainable params: 0\n",
            "_________________________________________________________________\n"
          ]
        }
      ]
    },
    {
      "cell_type": "code",
      "source": [
        "history_processed_new = model_processed_new.fit(X_train_processed, y_train,\n",
        "                    epochs=30,\n",
        "                    validation_data=(X_test_processed, y_test))\n",
        "loss_training_processed_new, accuracy_training_processed_new = model_processed_new.evaluate(X_train_processed, y_train, verbose=False)\n",
        "print(\"Training Accuracy: {:.4f}\".format(accuracy_training_processed_new))\n",
        "loss_test_processed_new, accuracy_test_processed_new = model_processed_new.evaluate(X_test_processed, y_test, verbose=False)\n",
        "print(\"Testing Accuracy:  {:.4f}\".format(accuracy_test_processed))"
      ],
      "metadata": {
        "colab": {
          "base_uri": "https://localhost:8080/"
        },
        "id": "daUGOElb1NQa",
        "outputId": "a1628e94-2fd6-4e80-9c97-f6c7268dab8f"
      },
      "execution_count": null,
      "outputs": [
        {
          "output_type": "stream",
          "name": "stdout",
          "text": [
            "Epoch 1/30\n",
            "1666/1666 [==============================] - 3s 2ms/step - loss: 1.0267 - accuracy: 0.4895 - val_loss: 1.0053 - val_accuracy: 0.4914\n",
            "Epoch 2/30\n",
            "1666/1666 [==============================] - 3s 2ms/step - loss: 0.9890 - accuracy: 0.5015 - val_loss: 0.9569 - val_accuracy: 0.5060\n",
            "Epoch 3/30\n",
            "1666/1666 [==============================] - 3s 2ms/step - loss: 0.9453 - accuracy: 0.5314 - val_loss: 0.8952 - val_accuracy: 0.5650\n",
            "Epoch 4/30\n",
            "1666/1666 [==============================] - 3s 2ms/step - loss: 0.9083 - accuracy: 0.5575 - val_loss: 0.8420 - val_accuracy: 0.6014\n",
            "Epoch 5/30\n",
            "1666/1666 [==============================] - 3s 2ms/step - loss: 0.8773 - accuracy: 0.5722 - val_loss: 0.7995 - val_accuracy: 0.6234\n",
            "Epoch 6/30\n",
            "1666/1666 [==============================] - 3s 2ms/step - loss: 0.8491 - accuracy: 0.5846 - val_loss: 0.7647 - val_accuracy: 0.6423\n",
            "Epoch 7/30\n",
            "1666/1666 [==============================] - 3s 2ms/step - loss: 0.8297 - accuracy: 0.5944 - val_loss: 0.7356 - val_accuracy: 0.6504\n",
            "Epoch 8/30\n",
            "1666/1666 [==============================] - 3s 2ms/step - loss: 0.8110 - accuracy: 0.6033 - val_loss: 0.7126 - val_accuracy: 0.6567\n",
            "Epoch 9/30\n",
            "1666/1666 [==============================] - 3s 2ms/step - loss: 0.7929 - accuracy: 0.6076 - val_loss: 0.6935 - val_accuracy: 0.6648\n",
            "Epoch 10/30\n",
            "1666/1666 [==============================] - 3s 2ms/step - loss: 0.7820 - accuracy: 0.6139 - val_loss: 0.6790 - val_accuracy: 0.6669\n",
            "Epoch 11/30\n",
            "1666/1666 [==============================] - 3s 2ms/step - loss: 0.7681 - accuracy: 0.6182 - val_loss: 0.6653 - val_accuracy: 0.6840\n",
            "Epoch 12/30\n",
            "1666/1666 [==============================] - 3s 2ms/step - loss: 0.7616 - accuracy: 0.6214 - val_loss: 0.6570 - val_accuracy: 0.6873\n",
            "Epoch 13/30\n",
            "1666/1666 [==============================] - 3s 2ms/step - loss: 0.7485 - accuracy: 0.6281 - val_loss: 0.6485 - val_accuracy: 0.6861\n",
            "Epoch 14/30\n",
            "1666/1666 [==============================] - 3s 2ms/step - loss: 0.7403 - accuracy: 0.6324 - val_loss: 0.6386 - val_accuracy: 0.7009\n",
            "Epoch 15/30\n",
            "1666/1666 [==============================] - 3s 2ms/step - loss: 0.7363 - accuracy: 0.6367 - val_loss: 0.6312 - val_accuracy: 0.7069\n",
            "Epoch 16/30\n",
            "1666/1666 [==============================] - 3s 2ms/step - loss: 0.7244 - accuracy: 0.6473 - val_loss: 0.6242 - val_accuracy: 0.7065\n",
            "Epoch 17/30\n",
            "1666/1666 [==============================] - 3s 2ms/step - loss: 0.7176 - accuracy: 0.6500 - val_loss: 0.6186 - val_accuracy: 0.7096\n",
            "Epoch 18/30\n",
            "1666/1666 [==============================] - 3s 2ms/step - loss: 0.7131 - accuracy: 0.6557 - val_loss: 0.6117 - val_accuracy: 0.7203\n",
            "Epoch 19/30\n",
            "1666/1666 [==============================] - 3s 2ms/step - loss: 0.7035 - accuracy: 0.6629 - val_loss: 0.6056 - val_accuracy: 0.7159\n",
            "Epoch 20/30\n",
            "1666/1666 [==============================] - 3s 2ms/step - loss: 0.7011 - accuracy: 0.6628 - val_loss: 0.6015 - val_accuracy: 0.7328\n",
            "Epoch 21/30\n",
            "1666/1666 [==============================] - 3s 2ms/step - loss: 0.6891 - accuracy: 0.6742 - val_loss: 0.5955 - val_accuracy: 0.7285\n",
            "Epoch 22/30\n",
            "1666/1666 [==============================] - 3s 2ms/step - loss: 0.6887 - accuracy: 0.6723 - val_loss: 0.5921 - val_accuracy: 0.7280\n",
            "Epoch 23/30\n",
            "1666/1666 [==============================] - 3s 2ms/step - loss: 0.6725 - accuracy: 0.6826 - val_loss: 0.5832 - val_accuracy: 0.7490\n",
            "Epoch 24/30\n",
            "1666/1666 [==============================] - 3s 2ms/step - loss: 0.6675 - accuracy: 0.6883 - val_loss: 0.5775 - val_accuracy: 0.7463\n",
            "Epoch 25/30\n",
            "1666/1666 [==============================] - 3s 2ms/step - loss: 0.6613 - accuracy: 0.6932 - val_loss: 0.5701 - val_accuracy: 0.7536\n",
            "Epoch 26/30\n",
            "1666/1666 [==============================] - 3s 2ms/step - loss: 0.6553 - accuracy: 0.6946 - val_loss: 0.5650 - val_accuracy: 0.7591\n",
            "Epoch 27/30\n",
            "1666/1666 [==============================] - 3s 2ms/step - loss: 0.6531 - accuracy: 0.6994 - val_loss: 0.5603 - val_accuracy: 0.7571\n",
            "Epoch 28/30\n",
            "1666/1666 [==============================] - 4s 2ms/step - loss: 0.6418 - accuracy: 0.7064 - val_loss: 0.5592 - val_accuracy: 0.7496\n",
            "Epoch 29/30\n",
            "1666/1666 [==============================] - 4s 2ms/step - loss: 0.6354 - accuracy: 0.7110 - val_loss: 0.5523 - val_accuracy: 0.7660\n",
            "Epoch 30/30\n",
            "1666/1666 [==============================] - 3s 2ms/step - loss: 0.6346 - accuracy: 0.7126 - val_loss: 0.5478 - val_accuracy: 0.7683\n",
            "Training Accuracy: 0.8310\n",
            "Testing Accuracy:  0.6513\n"
          ]
        }
      ]
    },
    {
      "cell_type": "markdown",
      "source": [
        "## Working on raw data"
      ],
      "metadata": {
        "id": "AshXU_7e1-xa"
      }
    },
    {
      "cell_type": "code",
      "source": [
        "model_raw_new = create_basic_model(vocab_size_raw, 8, None, maxlen_raw)\n",
        "model_raw_new.summary()"
      ],
      "metadata": {
        "colab": {
          "base_uri": "https://localhost:8080/"
        },
        "id": "OmqCP13N1uR4",
        "outputId": "d77ff927-7464-4e3c-f1e4-7b6347ef7afb"
      },
      "execution_count": null,
      "outputs": [
        {
          "output_type": "stream",
          "name": "stdout",
          "text": [
            "Model: \"sequential_5\"\n",
            "_________________________________________________________________\n",
            " Layer (type)                Output Shape              Param #   \n",
            "=================================================================\n",
            " embedding_5 (Embedding)     (None, 100, 8)            341168    \n",
            "                                                                 \n",
            " global_max_pooling1d_5 (Glo  (None, 8)                0         \n",
            " balMaxPooling1D)                                                \n",
            "                                                                 \n",
            " flatten_5 (Flatten)         (None, 8)                 0         \n",
            "                                                                 \n",
            " dropout_5 (Dropout)         (None, 8)                 0         \n",
            "                                                                 \n",
            " dense_10 (Dense)            (None, 10)                90        \n",
            "                                                                 \n",
            " dense_11 (Dense)            (None, 3)                 33        \n",
            "                                                                 \n",
            "=================================================================\n",
            "Total params: 341,291\n",
            "Trainable params: 341,291\n",
            "Non-trainable params: 0\n",
            "_________________________________________________________________\n"
          ]
        }
      ]
    },
    {
      "cell_type": "code",
      "source": [
        "history_raw_new = model_raw_new.fit(X_train_raw, y_train,\n",
        "                    epochs=30,\n",
        "                    validation_data=(X_test_raw, y_test))\n",
        "loss_training_raw_new, accuracy_training_raw_new = model_raw_new.evaluate(X_train_raw, y_train, verbose=False)\n",
        "print(\"Training Accuracy: {:.4f}\".format(accuracy_training_raw_new))\n",
        "loss_test_raw_new, accuracy_test_raw_new = model_raw_new.evaluate(X_test_raw, y_test, verbose=False)\n",
        "print(\"Testing Accuracy:  {:.4f}\".format(accuracy_test_raw))"
      ],
      "metadata": {
        "colab": {
          "base_uri": "https://localhost:8080/"
        },
        "id": "TiqZCPNe2WKH",
        "outputId": "792da689-c414-4eaa-fae6-3ebe0714a26f"
      },
      "execution_count": null,
      "outputs": [
        {
          "output_type": "stream",
          "name": "stdout",
          "text": [
            "Epoch 1/30\n",
            "1666/1666 [==============================] - 4s 2ms/step - loss: 1.0295 - accuracy: 0.4937 - val_loss: 1.0048 - val_accuracy: 0.5154\n",
            "Epoch 2/30\n",
            "1666/1666 [==============================] - 3s 2ms/step - loss: 0.9894 - accuracy: 0.5167 - val_loss: 0.9581 - val_accuracy: 0.5208\n",
            "Epoch 3/30\n",
            "1666/1666 [==============================] - 4s 2ms/step - loss: 0.9562 - accuracy: 0.5439 - val_loss: 0.9170 - val_accuracy: 0.5703\n",
            "Epoch 4/30\n",
            "1666/1666 [==============================] - 3s 2ms/step - loss: 0.9268 - accuracy: 0.5660 - val_loss: 0.8771 - val_accuracy: 0.5926\n",
            "Epoch 5/30\n",
            "1666/1666 [==============================] - 3s 2ms/step - loss: 0.9002 - accuracy: 0.5839 - val_loss: 0.8403 - val_accuracy: 0.6218\n",
            "Epoch 6/30\n",
            "1666/1666 [==============================] - 3s 2ms/step - loss: 0.8762 - accuracy: 0.5959 - val_loss: 0.8122 - val_accuracy: 0.6383\n",
            "Epoch 7/30\n",
            "1666/1666 [==============================] - 3s 2ms/step - loss: 0.8624 - accuracy: 0.6027 - val_loss: 0.7926 - val_accuracy: 0.6448\n",
            "Epoch 8/30\n",
            "1666/1666 [==============================] - 4s 2ms/step - loss: 0.8465 - accuracy: 0.6101 - val_loss: 0.7761 - val_accuracy: 0.6474\n",
            "Epoch 9/30\n",
            "1666/1666 [==============================] - 3s 2ms/step - loss: 0.8341 - accuracy: 0.6144 - val_loss: 0.7608 - val_accuracy: 0.6543\n",
            "Epoch 10/30\n",
            "1666/1666 [==============================] - 3s 2ms/step - loss: 0.8235 - accuracy: 0.6201 - val_loss: 0.7460 - val_accuracy: 0.6593\n",
            "Epoch 11/30\n",
            "1666/1666 [==============================] - 3s 2ms/step - loss: 0.8099 - accuracy: 0.6227 - val_loss: 0.7301 - val_accuracy: 0.6661\n",
            "Epoch 12/30\n",
            "1666/1666 [==============================] - 3s 2ms/step - loss: 0.8013 - accuracy: 0.6280 - val_loss: 0.7159 - val_accuracy: 0.6705\n",
            "Epoch 13/30\n",
            "1666/1666 [==============================] - 3s 2ms/step - loss: 0.7870 - accuracy: 0.6298 - val_loss: 0.6979 - val_accuracy: 0.6765\n",
            "Epoch 14/30\n",
            "1666/1666 [==============================] - 4s 2ms/step - loss: 0.7761 - accuracy: 0.6347 - val_loss: 0.6859 - val_accuracy: 0.6737\n",
            "Epoch 15/30\n",
            "1666/1666 [==============================] - 3s 2ms/step - loss: 0.7683 - accuracy: 0.6371 - val_loss: 0.6752 - val_accuracy: 0.6835\n",
            "Epoch 16/30\n",
            "1666/1666 [==============================] - 3s 2ms/step - loss: 0.7592 - accuracy: 0.6425 - val_loss: 0.6657 - val_accuracy: 0.6880\n",
            "Epoch 17/30\n",
            "1666/1666 [==============================] - 3s 2ms/step - loss: 0.7529 - accuracy: 0.6445 - val_loss: 0.6577 - val_accuracy: 0.6920\n",
            "Epoch 18/30\n",
            "1666/1666 [==============================] - 3s 2ms/step - loss: 0.7459 - accuracy: 0.6481 - val_loss: 0.6494 - val_accuracy: 0.6910\n",
            "Epoch 19/30\n",
            "1666/1666 [==============================] - 3s 2ms/step - loss: 0.7373 - accuracy: 0.6522 - val_loss: 0.6420 - val_accuracy: 0.6975\n",
            "Epoch 20/30\n",
            "1666/1666 [==============================] - 3s 2ms/step - loss: 0.7338 - accuracy: 0.6557 - val_loss: 0.6358 - val_accuracy: 0.6999\n",
            "Epoch 21/30\n",
            "1666/1666 [==============================] - 3s 2ms/step - loss: 0.7194 - accuracy: 0.6617 - val_loss: 0.6279 - val_accuracy: 0.6988\n",
            "Epoch 22/30\n",
            "1666/1666 [==============================] - 3s 2ms/step - loss: 0.7144 - accuracy: 0.6645 - val_loss: 0.6213 - val_accuracy: 0.7007\n",
            "Epoch 23/30\n",
            "1666/1666 [==============================] - 3s 2ms/step - loss: 0.7135 - accuracy: 0.6660 - val_loss: 0.6159 - val_accuracy: 0.7043\n",
            "Epoch 24/30\n",
            "1666/1666 [==============================] - 3s 2ms/step - loss: 0.6994 - accuracy: 0.6738 - val_loss: 0.6070 - val_accuracy: 0.7114\n",
            "Epoch 25/30\n",
            "1666/1666 [==============================] - 3s 2ms/step - loss: 0.6926 - accuracy: 0.6742 - val_loss: 0.6004 - val_accuracy: 0.7172\n",
            "Epoch 26/30\n",
            "1666/1666 [==============================] - 3s 2ms/step - loss: 0.6884 - accuracy: 0.6788 - val_loss: 0.5955 - val_accuracy: 0.7214\n",
            "Epoch 27/30\n",
            "1666/1666 [==============================] - 3s 2ms/step - loss: 0.6835 - accuracy: 0.6822 - val_loss: 0.5909 - val_accuracy: 0.7231\n",
            "Epoch 28/30\n",
            "1666/1666 [==============================] - 3s 2ms/step - loss: 0.6724 - accuracy: 0.6869 - val_loss: 0.5843 - val_accuracy: 0.7268\n",
            "Epoch 29/30\n",
            "1666/1666 [==============================] - 3s 2ms/step - loss: 0.6699 - accuracy: 0.6919 - val_loss: 0.5791 - val_accuracy: 0.7406\n",
            "Epoch 30/30\n",
            "1666/1666 [==============================] - 4s 2ms/step - loss: 0.6655 - accuracy: 0.6907 - val_loss: 0.5744 - val_accuracy: 0.7379\n",
            "Training Accuracy: 0.7687\n",
            "Testing Accuracy:  0.6702\n"
          ]
        }
      ]
    },
    {
      "cell_type": "markdown",
      "source": [
        "# Checking performance of the model trained on more epochs and with a different optimizer; *embedding_dim* will be set to 20, instead of 8, and there will be 50 epochs"
      ],
      "metadata": {
        "id": "fMxI7P0z5Crx"
      }
    },
    {
      "cell_type": "code",
      "source": [
        "from tensorflow.keras.optimizers import RMSprop\n",
        "model = Sequential()\n",
        "model.add(layers.Embedding(vocab_size_raw, 20, input_length=maxlen_raw))\n",
        "model.add(layers.GlobalMaxPool1D())\n",
        "model.add(layers.Flatten())\n",
        "model.add(layers.Dropout(0.5))\n",
        "model.add(layers.Dense(30))\n",
        "model.add(layers.Dense(3, activation='softmax'))\n",
        "rmsprop = RMSprop()\n",
        "model.compile(loss = \"categorical_crossentropy\", optimizer = rmsprop, metrics=['accuracy'])\n",
        "\n",
        "model.summary()"
      ],
      "metadata": {
        "colab": {
          "base_uri": "https://localhost:8080/"
        },
        "id": "U0W19yGe20x7",
        "outputId": "b8b466ed-e5d5-47fb-fb93-a760cb97aa1d"
      },
      "execution_count": null,
      "outputs": [
        {
          "output_type": "stream",
          "name": "stdout",
          "text": [
            "Model: \"sequential_7\"\n",
            "_________________________________________________________________\n",
            " Layer (type)                Output Shape              Param #   \n",
            "=================================================================\n",
            " embedding_7 (Embedding)     (None, 100, 20)           852920    \n",
            "                                                                 \n",
            " global_max_pooling1d_7 (Glo  (None, 20)               0         \n",
            " balMaxPooling1D)                                                \n",
            "                                                                 \n",
            " flatten_7 (Flatten)         (None, 20)                0         \n",
            "                                                                 \n",
            " dropout_7 (Dropout)         (None, 20)                0         \n",
            "                                                                 \n",
            " dense_14 (Dense)            (None, 30)                630       \n",
            "                                                                 \n",
            " dense_15 (Dense)            (None, 3)                 93        \n",
            "                                                                 \n",
            "=================================================================\n",
            "Total params: 853,643\n",
            "Trainable params: 853,643\n",
            "Non-trainable params: 0\n",
            "_________________________________________________________________\n"
          ]
        }
      ]
    },
    {
      "cell_type": "code",
      "source": [
        "history = model.fit(X_train_raw, y_train,\n",
        "                    epochs=50,\n",
        "                    validation_data=(X_test_raw, y_test))\n",
        "loss_training, accuracy_training = model.evaluate(X_train_raw, y_train, verbose=False)\n",
        "print(\"Training Accuracy: {:.4f}\".format(accuracy_training))\n",
        "loss_test, accuracy_test = model.evaluate(X_test_raw, y_test, verbose=False)\n",
        "print(\"Testing Accuracy:  {:.4f}\".format(accuracy_test))"
      ],
      "metadata": {
        "colab": {
          "base_uri": "https://localhost:8080/"
        },
        "id": "DHpK0-_u6C3l",
        "outputId": "fc3ea4a9-ae12-4c80-ba85-9c59388e353d"
      },
      "execution_count": null,
      "outputs": [
        {
          "output_type": "stream",
          "name": "stdout",
          "text": [
            "Epoch 1/50\n",
            "1666/1666 [==============================] - 15s 8ms/step - loss: 0.8363 - accuracy: 0.5915 - val_loss: 0.6329 - val_accuracy: 0.7006\n",
            "Epoch 2/50\n",
            "1666/1666 [==============================] - 13s 8ms/step - loss: 0.6877 - accuracy: 0.6813 - val_loss: 0.5846 - val_accuracy: 0.7478\n",
            "Epoch 3/50\n",
            "1666/1666 [==============================] - 13s 8ms/step - loss: 0.6465 - accuracy: 0.7146 - val_loss: 0.5731 - val_accuracy: 0.7547\n",
            "Epoch 4/50\n",
            "1666/1666 [==============================] - 11s 6ms/step - loss: 0.6214 - accuracy: 0.7331 - val_loss: 0.5659 - val_accuracy: 0.7590\n",
            "Epoch 5/50\n",
            "1666/1666 [==============================] - 8s 5ms/step - loss: 0.6033 - accuracy: 0.7430 - val_loss: 0.5641 - val_accuracy: 0.7602\n",
            "Epoch 6/50\n",
            "1666/1666 [==============================] - 7s 4ms/step - loss: 0.6013 - accuracy: 0.7480 - val_loss: 0.5635 - val_accuracy: 0.7586\n",
            "Epoch 7/50\n",
            "1666/1666 [==============================] - 7s 4ms/step - loss: 0.5908 - accuracy: 0.7528 - val_loss: 0.5634 - val_accuracy: 0.7526\n",
            "Epoch 8/50\n",
            "1666/1666 [==============================] - 7s 4ms/step - loss: 0.5888 - accuracy: 0.7536 - val_loss: 0.5644 - val_accuracy: 0.7626\n",
            "Epoch 9/50\n",
            "1666/1666 [==============================] - 7s 4ms/step - loss: 0.5837 - accuracy: 0.7554 - val_loss: 0.5644 - val_accuracy: 0.7635\n",
            "Epoch 10/50\n",
            "1666/1666 [==============================] - 8s 5ms/step - loss: 0.5834 - accuracy: 0.7555 - val_loss: 0.5633 - val_accuracy: 0.7611\n",
            "Epoch 11/50\n",
            "1666/1666 [==============================] - 8s 5ms/step - loss: 0.5806 - accuracy: 0.7580 - val_loss: 0.5637 - val_accuracy: 0.7535\n",
            "Epoch 12/50\n",
            "1666/1666 [==============================] - 7s 4ms/step - loss: 0.5760 - accuracy: 0.7601 - val_loss: 0.5586 - val_accuracy: 0.7691\n",
            "Epoch 13/50\n",
            "1666/1666 [==============================] - 8s 5ms/step - loss: 0.5753 - accuracy: 0.7639 - val_loss: 0.5558 - val_accuracy: 0.7739\n",
            "Epoch 14/50\n",
            "1666/1666 [==============================] - 8s 5ms/step - loss: 0.5708 - accuracy: 0.7672 - val_loss: 0.5504 - val_accuracy: 0.7780\n",
            "Epoch 15/50\n",
            "1666/1666 [==============================] - 8s 5ms/step - loss: 0.5664 - accuracy: 0.7706 - val_loss: 0.5497 - val_accuracy: 0.7653\n",
            "Epoch 16/50\n",
            "1666/1666 [==============================] - 7s 4ms/step - loss: 0.5638 - accuracy: 0.7750 - val_loss: 0.5426 - val_accuracy: 0.7703\n",
            "Epoch 17/50\n",
            "1666/1666 [==============================] - 7s 4ms/step - loss: 0.5642 - accuracy: 0.7756 - val_loss: 0.5421 - val_accuracy: 0.7722\n",
            "Epoch 18/50\n",
            "1666/1666 [==============================] - 7s 4ms/step - loss: 0.5549 - accuracy: 0.7787 - val_loss: 0.5412 - val_accuracy: 0.7860\n",
            "Epoch 19/50\n",
            "1666/1666 [==============================] - 7s 4ms/step - loss: 0.5555 - accuracy: 0.7801 - val_loss: 0.5370 - val_accuracy: 0.7863\n",
            "Epoch 20/50\n",
            "1666/1666 [==============================] - 7s 4ms/step - loss: 0.5591 - accuracy: 0.7792 - val_loss: 0.5332 - val_accuracy: 0.7776\n",
            "Epoch 21/50\n",
            "1666/1666 [==============================] - 7s 4ms/step - loss: 0.5519 - accuracy: 0.7807 - val_loss: 0.5318 - val_accuracy: 0.7896\n",
            "Epoch 22/50\n",
            "1666/1666 [==============================] - 7s 4ms/step - loss: 0.5514 - accuracy: 0.7824 - val_loss: 0.5419 - val_accuracy: 0.7886\n",
            "Epoch 23/50\n",
            "1666/1666 [==============================] - 8s 5ms/step - loss: 0.5518 - accuracy: 0.7820 - val_loss: 0.5374 - val_accuracy: 0.7901\n",
            "Epoch 24/50\n",
            "1666/1666 [==============================] - 10s 6ms/step - loss: 0.5491 - accuracy: 0.7824 - val_loss: 0.5250 - val_accuracy: 0.7897\n",
            "Epoch 25/50\n",
            "1666/1666 [==============================] - 7s 4ms/step - loss: 0.5529 - accuracy: 0.7802 - val_loss: 0.5267 - val_accuracy: 0.7785\n",
            "Epoch 26/50\n",
            "1666/1666 [==============================] - 7s 4ms/step - loss: 0.5512 - accuracy: 0.7824 - val_loss: 0.5331 - val_accuracy: 0.7806\n",
            "Epoch 27/50\n",
            "1666/1666 [==============================] - 8s 5ms/step - loss: 0.5517 - accuracy: 0.7814 - val_loss: 0.5278 - val_accuracy: 0.7800\n",
            "Epoch 28/50\n",
            "1666/1666 [==============================] - 7s 4ms/step - loss: 0.5482 - accuracy: 0.7830 - val_loss: 0.5264 - val_accuracy: 0.7794\n",
            "Epoch 29/50\n",
            "1666/1666 [==============================] - 7s 4ms/step - loss: 0.5513 - accuracy: 0.7819 - val_loss: 0.5407 - val_accuracy: 0.7702\n",
            "Epoch 30/50\n",
            "1666/1666 [==============================] - 7s 4ms/step - loss: 0.5496 - accuracy: 0.7841 - val_loss: 0.5291 - val_accuracy: 0.7761\n",
            "Epoch 31/50\n",
            "1666/1666 [==============================] - 7s 4ms/step - loss: 0.5490 - accuracy: 0.7838 - val_loss: 0.5237 - val_accuracy: 0.7782\n",
            "Epoch 32/50\n",
            "1666/1666 [==============================] - 7s 4ms/step - loss: 0.5475 - accuracy: 0.7847 - val_loss: 0.5242 - val_accuracy: 0.7886\n",
            "Epoch 33/50\n",
            "1666/1666 [==============================] - 7s 4ms/step - loss: 0.5531 - accuracy: 0.7843 - val_loss: 0.5291 - val_accuracy: 0.7934\n",
            "Epoch 34/50\n",
            "1666/1666 [==============================] - 7s 4ms/step - loss: 0.5510 - accuracy: 0.7824 - val_loss: 0.5247 - val_accuracy: 0.7785\n",
            "Epoch 35/50\n",
            "1666/1666 [==============================] - 7s 4ms/step - loss: 0.5485 - accuracy: 0.7835 - val_loss: 0.5229 - val_accuracy: 0.7908\n",
            "Epoch 36/50\n",
            "1666/1666 [==============================] - 7s 4ms/step - loss: 0.5480 - accuracy: 0.7870 - val_loss: 0.5294 - val_accuracy: 0.7760\n",
            "Epoch 37/50\n",
            "1666/1666 [==============================] - 7s 4ms/step - loss: 0.5507 - accuracy: 0.7837 - val_loss: 0.5258 - val_accuracy: 0.7820\n",
            "Epoch 38/50\n",
            "1666/1666 [==============================] - 8s 5ms/step - loss: 0.5478 - accuracy: 0.7860 - val_loss: 0.5239 - val_accuracy: 0.7929\n",
            "Epoch 39/50\n",
            "1666/1666 [==============================] - 7s 4ms/step - loss: 0.5486 - accuracy: 0.7846 - val_loss: 0.5245 - val_accuracy: 0.7917\n",
            "Epoch 40/50\n",
            "1666/1666 [==============================] - 7s 4ms/step - loss: 0.5499 - accuracy: 0.7861 - val_loss: 0.5213 - val_accuracy: 0.7911\n",
            "Epoch 41/50\n",
            "1666/1666 [==============================] - 8s 5ms/step - loss: 0.5455 - accuracy: 0.7877 - val_loss: 0.5227 - val_accuracy: 0.7802\n",
            "Epoch 42/50\n",
            "1666/1666 [==============================] - 7s 4ms/step - loss: 0.5462 - accuracy: 0.7866 - val_loss: 0.5235 - val_accuracy: 0.7787\n",
            "Epoch 43/50\n",
            "1666/1666 [==============================] - 7s 4ms/step - loss: 0.5474 - accuracy: 0.7874 - val_loss: 0.5259 - val_accuracy: 0.7759\n",
            "Epoch 44/50\n",
            "1666/1666 [==============================] - 7s 4ms/step - loss: 0.5441 - accuracy: 0.7884 - val_loss: 0.5221 - val_accuracy: 0.7908\n",
            "Epoch 45/50\n",
            "1666/1666 [==============================] - 7s 4ms/step - loss: 0.5466 - accuracy: 0.7896 - val_loss: 0.5303 - val_accuracy: 0.7935\n",
            "Epoch 46/50\n",
            "1666/1666 [==============================] - 7s 4ms/step - loss: 0.5489 - accuracy: 0.7873 - val_loss: 0.5283 - val_accuracy: 0.7872\n",
            "Epoch 47/50\n",
            "1666/1666 [==============================] - 7s 4ms/step - loss: 0.5456 - accuracy: 0.7864 - val_loss: 0.5226 - val_accuracy: 0.7753\n",
            "Epoch 48/50\n",
            "1666/1666 [==============================] - 7s 4ms/step - loss: 0.5433 - accuracy: 0.7852 - val_loss: 0.5270 - val_accuracy: 0.7932\n",
            "Epoch 49/50\n",
            "1666/1666 [==============================] - 7s 4ms/step - loss: 0.5416 - accuracy: 0.7891 - val_loss: 0.5202 - val_accuracy: 0.7814\n",
            "Epoch 50/50\n",
            "1666/1666 [==============================] - 7s 4ms/step - loss: 0.5442 - accuracy: 0.7884 - val_loss: 0.5211 - val_accuracy: 0.7907\n",
            "Training Accuracy: 0.8315\n",
            "Testing Accuracy:  0.7907\n"
          ]
        }
      ]
    },
    {
      "cell_type": "markdown",
      "source": [
        "# Conclusions "
      ],
      "metadata": {
        "id": "UM5zuV5u3xWL"
      }
    },
    {
      "cell_type": "markdown",
      "source": [
        "All models were trained on the train data which is 0.8 portion of original dataset with only top 3 most frequent categories (validation set is 0.2). Models were overfitting more when they had to also update parameters for the Embedding layer; compared to relatively similar accuracy results between train/test in the models with pretrained embedding layer (of dimension 50). Also, all models were trained on 30 epochs only"
      ],
      "metadata": {
        "id": "-fjGor-e3y7R"
      }
    },
    {
      "cell_type": "code",
      "source": [
        ""
      ],
      "metadata": {
        "id": "PwYINQXU6YGY"
      },
      "execution_count": null,
      "outputs": []
    }
  ]
}