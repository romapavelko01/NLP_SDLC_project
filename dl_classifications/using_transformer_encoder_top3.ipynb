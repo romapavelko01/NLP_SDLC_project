{
  "nbformat": 4,
  "nbformat_minor": 0,
  "metadata": {
    "colab": {
      "name": "using_transformer_encoder_top3.ipynb",
      "provenance": []
    },
    "kernelspec": {
      "name": "python3",
      "display_name": "Python 3"
    },
    "language_info": {
      "name": "python"
    }
  },
  "cells": [
    {
      "cell_type": "code",
      "execution_count": 1,
      "metadata": {
        "colab": {
          "base_uri": "https://localhost:8080/"
        },
        "id": "DCit_WXRvQAk",
        "outputId": "c1740755-0b8d-4d70-d108-206b93ffdba8"
      },
      "outputs": [
        {
          "output_type": "stream",
          "name": "stdout",
          "text": [
            "Mounted at /content/drive\n"
          ]
        }
      ],
      "source": [
        "from google.colab import drive\n",
        "drive.mount('/content/drive', force_remount=False)\n"
      ]
    },
    {
      "cell_type": "code",
      "source": [
        "import pandas as pd\n",
        "import tensorflow as tf"
      ],
      "metadata": {
        "id": "RE0yzBBMvTfe"
      },
      "execution_count": 2,
      "outputs": []
    },
    {
      "cell_type": "code",
      "source": [
        "filename = \"/content/drive/MyDrive/SDLC/news_analysis_project/data/final_news_category_dataset.json\"\n",
        "df = pd.read_json(filename, orient='split')\n",
        "df.head()"
      ],
      "metadata": {
        "colab": {
          "base_uri": "https://localhost:8080/",
          "height": 201
        },
        "id": "IwD56iOwvZQz",
        "outputId": "b5056244-58e9-4de0-efa0-0c86b55ecf5b"
      },
      "execution_count": 3,
      "outputs": [
        {
          "output_type": "execute_result",
          "data": {
            "text/plain": [
              "        category                                           headline  \\\n",
              "0          CRIME  There Were 2 Mass Shootings In Texas Last Week...   \n",
              "1  ENTERTAINMENT  Will Smith Joins Diplo And Nicky Jam For The 2...   \n",
              "2  ENTERTAINMENT    Hugh Grant Marries For The First Time At Age 57   \n",
              "3  ENTERTAINMENT  Jim Carrey Blasts 'Castrato' Adam Schiff And D...   \n",
              "4  ENTERTAINMENT  Julianna Margulies Uses Donald Trump Poop Bags...   \n",
              "\n",
              "           authors                                               link  \\\n",
              "0  Melissa Jeltsen  https://www.huffingtonpost.com/entry/texas-ama...   \n",
              "1    Andy McDonald  https://www.huffingtonpost.com/entry/will-smit...   \n",
              "2       Ron Dicker  https://www.huffingtonpost.com/entry/hugh-gran...   \n",
              "3       Ron Dicker  https://www.huffingtonpost.com/entry/jim-carre...   \n",
              "4       Ron Dicker  https://www.huffingtonpost.com/entry/julianna-...   \n",
              "\n",
              "                                   short_description       date  \n",
              "0  She left her husband. He killed their children... 2018-05-26  \n",
              "1                           Of course it has a song. 2018-05-26  \n",
              "2  The actor and his longtime girlfriend Anna Ebe... 2018-05-26  \n",
              "3  The actor gives Dems an ass-kicking for not fi... 2018-05-26  \n",
              "4  The \"Dietland\" actress said using the bags is ... 2018-05-26  "
            ],
            "text/html": [
              "\n",
              "  <div id=\"df-bd8592a9-b8f7-4ace-8282-cd00789ec853\">\n",
              "    <div class=\"colab-df-container\">\n",
              "      <div>\n",
              "<style scoped>\n",
              "    .dataframe tbody tr th:only-of-type {\n",
              "        vertical-align: middle;\n",
              "    }\n",
              "\n",
              "    .dataframe tbody tr th {\n",
              "        vertical-align: top;\n",
              "    }\n",
              "\n",
              "    .dataframe thead th {\n",
              "        text-align: right;\n",
              "    }\n",
              "</style>\n",
              "<table border=\"1\" class=\"dataframe\">\n",
              "  <thead>\n",
              "    <tr style=\"text-align: right;\">\n",
              "      <th></th>\n",
              "      <th>category</th>\n",
              "      <th>headline</th>\n",
              "      <th>authors</th>\n",
              "      <th>link</th>\n",
              "      <th>short_description</th>\n",
              "      <th>date</th>\n",
              "    </tr>\n",
              "  </thead>\n",
              "  <tbody>\n",
              "    <tr>\n",
              "      <th>0</th>\n",
              "      <td>CRIME</td>\n",
              "      <td>There Were 2 Mass Shootings In Texas Last Week...</td>\n",
              "      <td>Melissa Jeltsen</td>\n",
              "      <td>https://www.huffingtonpost.com/entry/texas-ama...</td>\n",
              "      <td>She left her husband. He killed their children...</td>\n",
              "      <td>2018-05-26</td>\n",
              "    </tr>\n",
              "    <tr>\n",
              "      <th>1</th>\n",
              "      <td>ENTERTAINMENT</td>\n",
              "      <td>Will Smith Joins Diplo And Nicky Jam For The 2...</td>\n",
              "      <td>Andy McDonald</td>\n",
              "      <td>https://www.huffingtonpost.com/entry/will-smit...</td>\n",
              "      <td>Of course it has a song.</td>\n",
              "      <td>2018-05-26</td>\n",
              "    </tr>\n",
              "    <tr>\n",
              "      <th>2</th>\n",
              "      <td>ENTERTAINMENT</td>\n",
              "      <td>Hugh Grant Marries For The First Time At Age 57</td>\n",
              "      <td>Ron Dicker</td>\n",
              "      <td>https://www.huffingtonpost.com/entry/hugh-gran...</td>\n",
              "      <td>The actor and his longtime girlfriend Anna Ebe...</td>\n",
              "      <td>2018-05-26</td>\n",
              "    </tr>\n",
              "    <tr>\n",
              "      <th>3</th>\n",
              "      <td>ENTERTAINMENT</td>\n",
              "      <td>Jim Carrey Blasts 'Castrato' Adam Schiff And D...</td>\n",
              "      <td>Ron Dicker</td>\n",
              "      <td>https://www.huffingtonpost.com/entry/jim-carre...</td>\n",
              "      <td>The actor gives Dems an ass-kicking for not fi...</td>\n",
              "      <td>2018-05-26</td>\n",
              "    </tr>\n",
              "    <tr>\n",
              "      <th>4</th>\n",
              "      <td>ENTERTAINMENT</td>\n",
              "      <td>Julianna Margulies Uses Donald Trump Poop Bags...</td>\n",
              "      <td>Ron Dicker</td>\n",
              "      <td>https://www.huffingtonpost.com/entry/julianna-...</td>\n",
              "      <td>The \"Dietland\" actress said using the bags is ...</td>\n",
              "      <td>2018-05-26</td>\n",
              "    </tr>\n",
              "  </tbody>\n",
              "</table>\n",
              "</div>\n",
              "      <button class=\"colab-df-convert\" onclick=\"convertToInteractive('df-bd8592a9-b8f7-4ace-8282-cd00789ec853')\"\n",
              "              title=\"Convert this dataframe to an interactive table.\"\n",
              "              style=\"display:none;\">\n",
              "        \n",
              "  <svg xmlns=\"http://www.w3.org/2000/svg\" height=\"24px\"viewBox=\"0 0 24 24\"\n",
              "       width=\"24px\">\n",
              "    <path d=\"M0 0h24v24H0V0z\" fill=\"none\"/>\n",
              "    <path d=\"M18.56 5.44l.94 2.06.94-2.06 2.06-.94-2.06-.94-.94-2.06-.94 2.06-2.06.94zm-11 1L8.5 8.5l.94-2.06 2.06-.94-2.06-.94L8.5 2.5l-.94 2.06-2.06.94zm10 10l.94 2.06.94-2.06 2.06-.94-2.06-.94-.94-2.06-.94 2.06-2.06.94z\"/><path d=\"M17.41 7.96l-1.37-1.37c-.4-.4-.92-.59-1.43-.59-.52 0-1.04.2-1.43.59L10.3 9.45l-7.72 7.72c-.78.78-.78 2.05 0 2.83L4 21.41c.39.39.9.59 1.41.59.51 0 1.02-.2 1.41-.59l7.78-7.78 2.81-2.81c.8-.78.8-2.07 0-2.86zM5.41 20L4 18.59l7.72-7.72 1.47 1.35L5.41 20z\"/>\n",
              "  </svg>\n",
              "      </button>\n",
              "      \n",
              "  <style>\n",
              "    .colab-df-container {\n",
              "      display:flex;\n",
              "      flex-wrap:wrap;\n",
              "      gap: 12px;\n",
              "    }\n",
              "\n",
              "    .colab-df-convert {\n",
              "      background-color: #E8F0FE;\n",
              "      border: none;\n",
              "      border-radius: 50%;\n",
              "      cursor: pointer;\n",
              "      display: none;\n",
              "      fill: #1967D2;\n",
              "      height: 32px;\n",
              "      padding: 0 0 0 0;\n",
              "      width: 32px;\n",
              "    }\n",
              "\n",
              "    .colab-df-convert:hover {\n",
              "      background-color: #E2EBFA;\n",
              "      box-shadow: 0px 1px 2px rgba(60, 64, 67, 0.3), 0px 1px 3px 1px rgba(60, 64, 67, 0.15);\n",
              "      fill: #174EA6;\n",
              "    }\n",
              "\n",
              "    [theme=dark] .colab-df-convert {\n",
              "      background-color: #3B4455;\n",
              "      fill: #D2E3FC;\n",
              "    }\n",
              "\n",
              "    [theme=dark] .colab-df-convert:hover {\n",
              "      background-color: #434B5C;\n",
              "      box-shadow: 0px 1px 3px 1px rgba(0, 0, 0, 0.15);\n",
              "      filter: drop-shadow(0px 1px 2px rgba(0, 0, 0, 0.3));\n",
              "      fill: #FFFFFF;\n",
              "    }\n",
              "  </style>\n",
              "\n",
              "      <script>\n",
              "        const buttonEl =\n",
              "          document.querySelector('#df-bd8592a9-b8f7-4ace-8282-cd00789ec853 button.colab-df-convert');\n",
              "        buttonEl.style.display =\n",
              "          google.colab.kernel.accessAllowed ? 'block' : 'none';\n",
              "\n",
              "        async function convertToInteractive(key) {\n",
              "          const element = document.querySelector('#df-bd8592a9-b8f7-4ace-8282-cd00789ec853');\n",
              "          const dataTable =\n",
              "            await google.colab.kernel.invokeFunction('convertToInteractive',\n",
              "                                                     [key], {});\n",
              "          if (!dataTable) return;\n",
              "\n",
              "          const docLinkHtml = 'Like what you see? Visit the ' +\n",
              "            '<a target=\"_blank\" href=https://colab.research.google.com/notebooks/data_table.ipynb>data table notebook</a>'\n",
              "            + ' to learn more about interactive tables.';\n",
              "          element.innerHTML = '';\n",
              "          dataTable['output_type'] = 'display_data';\n",
              "          await google.colab.output.renderOutput(dataTable, element);\n",
              "          const docLink = document.createElement('div');\n",
              "          docLink.innerHTML = docLinkHtml;\n",
              "          element.appendChild(docLink);\n",
              "        }\n",
              "      </script>\n",
              "    </div>\n",
              "  </div>\n",
              "  "
            ]
          },
          "metadata": {},
          "execution_count": 3
        }
      ]
    },
    {
      "cell_type": "code",
      "source": [
        "df_3 = df[df.category.isin(df.category.value_counts()[:3].index.values)]\n",
        "df_3"
      ],
      "metadata": {
        "colab": {
          "base_uri": "https://localhost:8080/",
          "height": 608
        },
        "id": "g7h-uVR3vcyU",
        "outputId": "abc1216c-b253-47c9-ff2b-bdd958ee5ec8"
      },
      "execution_count": 4,
      "outputs": [
        {
          "output_type": "execute_result",
          "data": {
            "text/plain": [
              "             category                                           headline  \\\n",
              "1       ENTERTAINMENT  Will Smith Joins Diplo And Nicky Jam For The 2...   \n",
              "2       ENTERTAINMENT    Hugh Grant Marries For The First Time At Age 57   \n",
              "3       ENTERTAINMENT  Jim Carrey Blasts 'Castrato' Adam Schiff And D...   \n",
              "4       ENTERTAINMENT  Julianna Margulies Uses Donald Trump Poop Bags...   \n",
              "5       ENTERTAINMENT  Morgan Freeman 'Devastated' That Sexual Harass...   \n",
              "...               ...                                                ...   \n",
              "200800       WELLNESS   The Sleep Library: 11 Soothing Books For Bedtime   \n",
              "200802       WELLNESS                   The Benefits of Caring for a Pet   \n",
              "200805       WELLNESS  This Is Only the Beginning: Surprising Advice ...   \n",
              "200838  ENTERTAINMENT  Sundance, Ice-T, and Shades of the American Ra...   \n",
              "200839  ENTERTAINMENT  'Girl With the Dragon Tattoo' India Release Ca...   \n",
              "\n",
              "                                                  authors  \\\n",
              "1                                           Andy McDonald   \n",
              "2                                              Ron Dicker   \n",
              "3                                              Ron Dicker   \n",
              "4                                              Ron Dicker   \n",
              "5                                              Ron Dicker   \n",
              "...                                                   ...   \n",
              "200800                                                      \n",
              "200802  Rita Altman, R.N., Contributor\\nSenior Vice Pr...   \n",
              "200805  Ellie Knaus, Contributor\\nAtomic Moms Podcast ...   \n",
              "200838  Courtney Garcia, Contributor\\nI tell stories a...   \n",
              "200839                                                      \n",
              "\n",
              "                                                     link  \\\n",
              "1       https://www.huffingtonpost.com/entry/will-smit...   \n",
              "2       https://www.huffingtonpost.com/entry/hugh-gran...   \n",
              "3       https://www.huffingtonpost.com/entry/jim-carre...   \n",
              "4       https://www.huffingtonpost.com/entry/julianna-...   \n",
              "5       https://www.huffingtonpost.com/entry/morgan-fr...   \n",
              "...                                                   ...   \n",
              "200800  https://www.huffingtonpost.comhttp://www.oprah...   \n",
              "200802  https://www.huffingtonpost.com/entry/pets-seni...   \n",
              "200805  https://www.huffingtonpost.com/entry/life-tips...   \n",
              "200838  https://www.huffingtonpost.com/entry/sundance-...   \n",
              "200839  https://www.huffingtonpost.com/entry/girl-with...   \n",
              "\n",
              "                                        short_description       date  \n",
              "1                                Of course it has a song. 2018-05-26  \n",
              "2       The actor and his longtime girlfriend Anna Ebe... 2018-05-26  \n",
              "3       The actor gives Dems an ass-kicking for not fi... 2018-05-26  \n",
              "4       The \"Dietland\" actress said using the bags is ... 2018-05-26  \n",
              "5       \"It is not right to equate horrific incidents ... 2018-05-26  \n",
              "...                                                   ...        ...  \n",
              "200800  Do you toss and turn until you finally sit up ... 2012-01-28  \n",
              "200802  For the young as well as the old, especially i... 2012-01-28  \n",
              "200805  My great-aunt Ida loves to say, \"This is only ... 2012-01-28  \n",
              "200838  Representation of the collective diaspora has ... 2012-01-28  \n",
              "200839  \"Sony Pictures will not be releasing The Girl ... 2012-01-28  \n",
              "\n",
              "[66624 rows x 6 columns]"
            ],
            "text/html": [
              "\n",
              "  <div id=\"df-6d53d7ec-997a-4a6f-83a1-cbb53fdedc97\">\n",
              "    <div class=\"colab-df-container\">\n",
              "      <div>\n",
              "<style scoped>\n",
              "    .dataframe tbody tr th:only-of-type {\n",
              "        vertical-align: middle;\n",
              "    }\n",
              "\n",
              "    .dataframe tbody tr th {\n",
              "        vertical-align: top;\n",
              "    }\n",
              "\n",
              "    .dataframe thead th {\n",
              "        text-align: right;\n",
              "    }\n",
              "</style>\n",
              "<table border=\"1\" class=\"dataframe\">\n",
              "  <thead>\n",
              "    <tr style=\"text-align: right;\">\n",
              "      <th></th>\n",
              "      <th>category</th>\n",
              "      <th>headline</th>\n",
              "      <th>authors</th>\n",
              "      <th>link</th>\n",
              "      <th>short_description</th>\n",
              "      <th>date</th>\n",
              "    </tr>\n",
              "  </thead>\n",
              "  <tbody>\n",
              "    <tr>\n",
              "      <th>1</th>\n",
              "      <td>ENTERTAINMENT</td>\n",
              "      <td>Will Smith Joins Diplo And Nicky Jam For The 2...</td>\n",
              "      <td>Andy McDonald</td>\n",
              "      <td>https://www.huffingtonpost.com/entry/will-smit...</td>\n",
              "      <td>Of course it has a song.</td>\n",
              "      <td>2018-05-26</td>\n",
              "    </tr>\n",
              "    <tr>\n",
              "      <th>2</th>\n",
              "      <td>ENTERTAINMENT</td>\n",
              "      <td>Hugh Grant Marries For The First Time At Age 57</td>\n",
              "      <td>Ron Dicker</td>\n",
              "      <td>https://www.huffingtonpost.com/entry/hugh-gran...</td>\n",
              "      <td>The actor and his longtime girlfriend Anna Ebe...</td>\n",
              "      <td>2018-05-26</td>\n",
              "    </tr>\n",
              "    <tr>\n",
              "      <th>3</th>\n",
              "      <td>ENTERTAINMENT</td>\n",
              "      <td>Jim Carrey Blasts 'Castrato' Adam Schiff And D...</td>\n",
              "      <td>Ron Dicker</td>\n",
              "      <td>https://www.huffingtonpost.com/entry/jim-carre...</td>\n",
              "      <td>The actor gives Dems an ass-kicking for not fi...</td>\n",
              "      <td>2018-05-26</td>\n",
              "    </tr>\n",
              "    <tr>\n",
              "      <th>4</th>\n",
              "      <td>ENTERTAINMENT</td>\n",
              "      <td>Julianna Margulies Uses Donald Trump Poop Bags...</td>\n",
              "      <td>Ron Dicker</td>\n",
              "      <td>https://www.huffingtonpost.com/entry/julianna-...</td>\n",
              "      <td>The \"Dietland\" actress said using the bags is ...</td>\n",
              "      <td>2018-05-26</td>\n",
              "    </tr>\n",
              "    <tr>\n",
              "      <th>5</th>\n",
              "      <td>ENTERTAINMENT</td>\n",
              "      <td>Morgan Freeman 'Devastated' That Sexual Harass...</td>\n",
              "      <td>Ron Dicker</td>\n",
              "      <td>https://www.huffingtonpost.com/entry/morgan-fr...</td>\n",
              "      <td>\"It is not right to equate horrific incidents ...</td>\n",
              "      <td>2018-05-26</td>\n",
              "    </tr>\n",
              "    <tr>\n",
              "      <th>...</th>\n",
              "      <td>...</td>\n",
              "      <td>...</td>\n",
              "      <td>...</td>\n",
              "      <td>...</td>\n",
              "      <td>...</td>\n",
              "      <td>...</td>\n",
              "    </tr>\n",
              "    <tr>\n",
              "      <th>200800</th>\n",
              "      <td>WELLNESS</td>\n",
              "      <td>The Sleep Library: 11 Soothing Books For Bedtime</td>\n",
              "      <td></td>\n",
              "      <td>https://www.huffingtonpost.comhttp://www.oprah...</td>\n",
              "      <td>Do you toss and turn until you finally sit up ...</td>\n",
              "      <td>2012-01-28</td>\n",
              "    </tr>\n",
              "    <tr>\n",
              "      <th>200802</th>\n",
              "      <td>WELLNESS</td>\n",
              "      <td>The Benefits of Caring for a Pet</td>\n",
              "      <td>Rita Altman, R.N., Contributor\\nSenior Vice Pr...</td>\n",
              "      <td>https://www.huffingtonpost.com/entry/pets-seni...</td>\n",
              "      <td>For the young as well as the old, especially i...</td>\n",
              "      <td>2012-01-28</td>\n",
              "    </tr>\n",
              "    <tr>\n",
              "      <th>200805</th>\n",
              "      <td>WELLNESS</td>\n",
              "      <td>This Is Only the Beginning: Surprising Advice ...</td>\n",
              "      <td>Ellie Knaus, Contributor\\nAtomic Moms Podcast ...</td>\n",
              "      <td>https://www.huffingtonpost.com/entry/life-tips...</td>\n",
              "      <td>My great-aunt Ida loves to say, \"This is only ...</td>\n",
              "      <td>2012-01-28</td>\n",
              "    </tr>\n",
              "    <tr>\n",
              "      <th>200838</th>\n",
              "      <td>ENTERTAINMENT</td>\n",
              "      <td>Sundance, Ice-T, and Shades of the American Ra...</td>\n",
              "      <td>Courtney Garcia, Contributor\\nI tell stories a...</td>\n",
              "      <td>https://www.huffingtonpost.com/entry/sundance-...</td>\n",
              "      <td>Representation of the collective diaspora has ...</td>\n",
              "      <td>2012-01-28</td>\n",
              "    </tr>\n",
              "    <tr>\n",
              "      <th>200839</th>\n",
              "      <td>ENTERTAINMENT</td>\n",
              "      <td>'Girl With the Dragon Tattoo' India Release Ca...</td>\n",
              "      <td></td>\n",
              "      <td>https://www.huffingtonpost.com/entry/girl-with...</td>\n",
              "      <td>\"Sony Pictures will not be releasing The Girl ...</td>\n",
              "      <td>2012-01-28</td>\n",
              "    </tr>\n",
              "  </tbody>\n",
              "</table>\n",
              "<p>66624 rows × 6 columns</p>\n",
              "</div>\n",
              "      <button class=\"colab-df-convert\" onclick=\"convertToInteractive('df-6d53d7ec-997a-4a6f-83a1-cbb53fdedc97')\"\n",
              "              title=\"Convert this dataframe to an interactive table.\"\n",
              "              style=\"display:none;\">\n",
              "        \n",
              "  <svg xmlns=\"http://www.w3.org/2000/svg\" height=\"24px\"viewBox=\"0 0 24 24\"\n",
              "       width=\"24px\">\n",
              "    <path d=\"M0 0h24v24H0V0z\" fill=\"none\"/>\n",
              "    <path d=\"M18.56 5.44l.94 2.06.94-2.06 2.06-.94-2.06-.94-.94-2.06-.94 2.06-2.06.94zm-11 1L8.5 8.5l.94-2.06 2.06-.94-2.06-.94L8.5 2.5l-.94 2.06-2.06.94zm10 10l.94 2.06.94-2.06 2.06-.94-2.06-.94-.94-2.06-.94 2.06-2.06.94z\"/><path d=\"M17.41 7.96l-1.37-1.37c-.4-.4-.92-.59-1.43-.59-.52 0-1.04.2-1.43.59L10.3 9.45l-7.72 7.72c-.78.78-.78 2.05 0 2.83L4 21.41c.39.39.9.59 1.41.59.51 0 1.02-.2 1.41-.59l7.78-7.78 2.81-2.81c.8-.78.8-2.07 0-2.86zM5.41 20L4 18.59l7.72-7.72 1.47 1.35L5.41 20z\"/>\n",
              "  </svg>\n",
              "      </button>\n",
              "      \n",
              "  <style>\n",
              "    .colab-df-container {\n",
              "      display:flex;\n",
              "      flex-wrap:wrap;\n",
              "      gap: 12px;\n",
              "    }\n",
              "\n",
              "    .colab-df-convert {\n",
              "      background-color: #E8F0FE;\n",
              "      border: none;\n",
              "      border-radius: 50%;\n",
              "      cursor: pointer;\n",
              "      display: none;\n",
              "      fill: #1967D2;\n",
              "      height: 32px;\n",
              "      padding: 0 0 0 0;\n",
              "      width: 32px;\n",
              "    }\n",
              "\n",
              "    .colab-df-convert:hover {\n",
              "      background-color: #E2EBFA;\n",
              "      box-shadow: 0px 1px 2px rgba(60, 64, 67, 0.3), 0px 1px 3px 1px rgba(60, 64, 67, 0.15);\n",
              "      fill: #174EA6;\n",
              "    }\n",
              "\n",
              "    [theme=dark] .colab-df-convert {\n",
              "      background-color: #3B4455;\n",
              "      fill: #D2E3FC;\n",
              "    }\n",
              "\n",
              "    [theme=dark] .colab-df-convert:hover {\n",
              "      background-color: #434B5C;\n",
              "      box-shadow: 0px 1px 3px 1px rgba(0, 0, 0, 0.15);\n",
              "      filter: drop-shadow(0px 1px 2px rgba(0, 0, 0, 0.3));\n",
              "      fill: #FFFFFF;\n",
              "    }\n",
              "  </style>\n",
              "\n",
              "      <script>\n",
              "        const buttonEl =\n",
              "          document.querySelector('#df-6d53d7ec-997a-4a6f-83a1-cbb53fdedc97 button.colab-df-convert');\n",
              "        buttonEl.style.display =\n",
              "          google.colab.kernel.accessAllowed ? 'block' : 'none';\n",
              "\n",
              "        async function convertToInteractive(key) {\n",
              "          const element = document.querySelector('#df-6d53d7ec-997a-4a6f-83a1-cbb53fdedc97');\n",
              "          const dataTable =\n",
              "            await google.colab.kernel.invokeFunction('convertToInteractive',\n",
              "                                                     [key], {});\n",
              "          if (!dataTable) return;\n",
              "\n",
              "          const docLinkHtml = 'Like what you see? Visit the ' +\n",
              "            '<a target=\"_blank\" href=https://colab.research.google.com/notebooks/data_table.ipynb>data table notebook</a>'\n",
              "            + ' to learn more about interactive tables.';\n",
              "          element.innerHTML = '';\n",
              "          dataTable['output_type'] = 'display_data';\n",
              "          await google.colab.output.renderOutput(dataTable, element);\n",
              "          const docLink = document.createElement('div');\n",
              "          docLink.innerHTML = docLinkHtml;\n",
              "          element.appendChild(docLink);\n",
              "        }\n",
              "      </script>\n",
              "    </div>\n",
              "  </div>\n",
              "  "
            ]
          },
          "metadata": {},
          "execution_count": 4
        }
      ]
    },
    {
      "cell_type": "code",
      "source": [
        "from sklearn.model_selection import train_test_split\n",
        "y = df_3['category'].astype('category').cat.codes\n",
        "\n",
        "sentences_train, sentences_test, y_train, y_test = train_test_split(df_3, y, test_size=0.2, stratify=y, random_state=1000)"
      ],
      "metadata": {
        "id": "HNwuoERNvh3Y"
      },
      "execution_count": 6,
      "outputs": []
    },
    {
      "cell_type": "code",
      "source": [
        "words_raw = set([k for i in df_3.short_description.values for j in i.split('.') for k in j.split()])\n",
        "print(f\"Number of unique words in the raw dataset: {len(words_raw)}\")"
      ],
      "metadata": {
        "colab": {
          "base_uri": "https://localhost:8080/"
        },
        "id": "aQHBa2Awvul3",
        "outputId": "e19c436e-7d1c-4ff8-cf64-c88a170dd9d3"
      },
      "execution_count": 7,
      "outputs": [
        {
          "output_type": "stream",
          "name": "stdout",
          "text": [
            "Number of unique words in the raw dataset: 82908\n"
          ]
        }
      ]
    },
    {
      "cell_type": "markdown",
      "source": [
        "## Tokenization"
      ],
      "metadata": {
        "id": "QZZ_9-6oB0OV"
      }
    },
    {
      "cell_type": "code",
      "source": [
        "from tensorflow.keras.preprocessing.text import Tokenizer\n",
        "\n",
        "tokenizer_raw = Tokenizer(num_words=60000)\n",
        "tokenizer_raw.fit_on_texts(sentences_train['short_description'])\n",
        "\n",
        "X_train_raw = tokenizer_raw.texts_to_sequences(sentences_train['short_description'])\n",
        "X_test_raw = tokenizer_raw.texts_to_sequences(sentences_test['short_description'])"
      ],
      "metadata": {
        "id": "nmGqAGONv1la"
      },
      "execution_count": 12,
      "outputs": []
    },
    {
      "cell_type": "markdown",
      "source": [
        "## Padding sequences"
      ],
      "metadata": {
        "id": "nPkC2TJzB2fH"
      }
    },
    {
      "cell_type": "code",
      "source": [
        "X_train_raw = pad_sequences(X_train_raw, padding='post', maxlen=maxlen_raw)\n",
        "X_test_raw = pad_sequences(X_test_raw, padding='post', maxlen=maxlen_raw)"
      ],
      "metadata": {
        "id": "MeueW7FEBt_d"
      },
      "execution_count": 13,
      "outputs": []
    },
    {
      "cell_type": "code",
      "source": [
        "print(sentences_train['short_description'][1])\n",
        "print(X_train_raw[1, :])"
      ],
      "metadata": {
        "colab": {
          "base_uri": "https://localhost:8080/"
        },
        "id": "qTRd7ZqpB5I-",
        "outputId": "233eee4b-fd3e-457a-b883-e0bdb90f07df"
      },
      "execution_count": 20,
      "outputs": [
        {
          "output_type": "stream",
          "name": "stdout",
          "text": [
            "Of course it has a song.\n",
            "[   32    66   403   287    45    14 22609     6     4 14074   368     3\n",
            "  8955  6706     5  3448  2201     0     0     0     0     0     0     0\n",
            "     0     0     0     0     0     0     0     0     0     0     0     0\n",
            "     0     0     0     0     0     0     0     0     0     0     0     0\n",
            "     0     0     0     0     0     0     0     0     0     0     0     0\n",
            "     0     0     0     0     0     0     0     0     0     0     0     0\n",
            "     0     0     0     0     0     0     0     0     0     0     0     0\n",
            "     0     0     0     0     0     0     0     0     0     0     0     0\n",
            "     0     0     0     0]\n"
          ]
        }
      ]
    },
    {
      "cell_type": "code",
      "source": [
        "vocab_size_raw = len(tokenizer_raw.word_index) + 1"
      ],
      "metadata": {
        "id": "Gg-uUudjwGsx"
      },
      "execution_count": 9,
      "outputs": []
    },
    {
      "cell_type": "markdown",
      "source": [
        "## Converting y's to categorical"
      ],
      "metadata": {
        "id": "jHaxoUKkkctv"
      }
    },
    {
      "cell_type": "code",
      "source": [
        "from tensorflow.keras.utils import to_categorical\n",
        "y_train = to_categorical(y_train)\n",
        "y_test = to_categorical(y_test) "
      ],
      "metadata": {
        "id": "63fn2sgtwkLy"
      },
      "execution_count": 21,
      "outputs": []
    },
    {
      "cell_type": "code",
      "source": [
        "from tensorflow.keras.models import Sequential\n",
        "from tensorflow.keras import layers\n",
        "from tensorflow.keras.optimizers import SGD, RMSprop, Adam, Adagrad"
      ],
      "metadata": {
        "id": "QZ89drQ_la-L"
      },
      "execution_count": 22,
      "outputs": []
    },
    {
      "cell_type": "markdown",
      "source": [
        "## Loading pretrained word embeddings"
      ],
      "metadata": {
        "id": "u4x7PkrFmoYg"
      }
    },
    {
      "cell_type": "code",
      "source": [
        "!wget http://nlp.stanford.edu/data/glove.6B.zip\n",
        "!unzip -q glove.6B.zip"
      ],
      "metadata": {
        "colab": {
          "base_uri": "https://localhost:8080/"
        },
        "id": "l2uYwjCFmqkT",
        "outputId": "6ae18eb9-6b32-438a-da70-083379aa8859"
      },
      "execution_count": 56,
      "outputs": [
        {
          "output_type": "stream",
          "name": "stdout",
          "text": [
            "--2022-03-21 13:11:34--  http://nlp.stanford.edu/data/glove.6B.zip\n",
            "Resolving nlp.stanford.edu (nlp.stanford.edu)... 171.64.67.140\n",
            "Connecting to nlp.stanford.edu (nlp.stanford.edu)|171.64.67.140|:80... connected.\n",
            "HTTP request sent, awaiting response... 302 Found\n",
            "Location: https://nlp.stanford.edu/data/glove.6B.zip [following]\n",
            "--2022-03-21 13:11:34--  https://nlp.stanford.edu/data/glove.6B.zip\n",
            "Connecting to nlp.stanford.edu (nlp.stanford.edu)|171.64.67.140|:443... connected.\n",
            "HTTP request sent, awaiting response... 301 Moved Permanently\n",
            "Location: http://downloads.cs.stanford.edu/nlp/data/glove.6B.zip [following]\n",
            "--2022-03-21 13:11:34--  http://downloads.cs.stanford.edu/nlp/data/glove.6B.zip\n",
            "Resolving downloads.cs.stanford.edu (downloads.cs.stanford.edu)... 171.64.64.22\n",
            "Connecting to downloads.cs.stanford.edu (downloads.cs.stanford.edu)|171.64.64.22|:80... connected.\n",
            "HTTP request sent, awaiting response... 200 OK\n",
            "Length: 862182613 (822M) [application/zip]\n",
            "Saving to: ‘glove.6B.zip’\n",
            "\n",
            "glove.6B.zip        100%[===================>] 822.24M  5.07MB/s    in 2m 40s  \n",
            "\n",
            "2022-03-21 13:14:15 (5.13 MB/s) - ‘glove.6B.zip’ saved [862182613/862182613]\n",
            "\n"
          ]
        }
      ]
    },
    {
      "cell_type": "code",
      "source": [
        "!head -n 1 glove.6B.50d.txt | cut -c-50"
      ],
      "metadata": {
        "colab": {
          "base_uri": "https://localhost:8080/"
        },
        "id": "8SDJ7z6Dmrmb",
        "outputId": "bdb92895-22ea-46b3-e4aa-666a5e608644"
      },
      "execution_count": 57,
      "outputs": [
        {
          "output_type": "stream",
          "name": "stdout",
          "text": [
            "the 0.418 0.24968 -0.41242 0.1217 0.34527 -0.04445\n"
          ]
        }
      ]
    },
    {
      "cell_type": "code",
      "source": [
        "import numpy as np\n",
        "\n",
        "def create_embedding_matrix(filepath, word_index, embedding_dim):\n",
        "    vocab_size = len(word_index) + 1  # Adding again 1 because of reserved 0 index\n",
        "    embedding_matrix = np.zeros((vocab_size, embedding_dim))\n",
        "\n",
        "    with open(filepath) as f:\n",
        "        for line in f:\n",
        "            word, *vector = line.split()\n",
        "            if word in word_index:\n",
        "                idx = word_index[word] \n",
        "                embedding_matrix[idx] = np.array(\n",
        "                    vector, dtype=np.float32)[:embedding_dim]\n",
        "\n",
        "    return embedding_matrix"
      ],
      "metadata": {
        "id": "JXxGAXuDmubG"
      },
      "execution_count": 58,
      "outputs": []
    },
    {
      "cell_type": "code",
      "source": [
        "embedding_dim = 50\n",
        "embedding_matrix_raw = create_embedding_matrix('glove.6B.50d.txt', \n",
        "                                               tokenizer_raw.word_index,\n",
        "                                               embedding_dim)"
      ],
      "metadata": {
        "id": "zbyxRTpOmxTb"
      },
      "execution_count": 59,
      "outputs": []
    },
    {
      "cell_type": "code",
      "source": [
        ""
      ],
      "metadata": {
        "id": "hxYKqicDm-hj"
      },
      "execution_count": null,
      "outputs": []
    },
    {
      "cell_type": "markdown",
      "source": [
        "# Custom Tranformer from *tensorflow* book example"
      ],
      "metadata": {
        "id": "9IX7AHX6k4J_"
      }
    },
    {
      "cell_type": "code",
      "source": [
        "class TransformerEncoder(layers.Layer):\n",
        "    def __init__(self, embed_dim, dense_dim, num_heads, **kwargs):\n",
        "        super().__init__(**kwargs)\n",
        "        self.embed_dim = embed_dim\n",
        "        self.dense_dim = dense_dim\n",
        "        self.num_heads = num_heads\n",
        "        self.attention = layers.MultiHeadAttention(num_heads=num_heads, key_dim=embed_dim)\n",
        "        self.dense_proj = Sequential([layers.Dense(dense_dim, activation=\"relu\"),\n",
        "                                      layers.Dense(embed_dim),]\n",
        "        )\n",
        "        self.layernorm_1 = layers.LayerNormalization()\n",
        "        self.layernorm_2 = layers.LayerNormalization()\n",
        "\n",
        "    def call(self, inputs, mask=None): \n",
        "        if mask is not None:\n",
        "            mask = mask[:, tf.newaxis, :]\n",
        "        attention_output = self.attention(inputs, inputs, attention_mask=mask)\n",
        "\n",
        "        proj_input = self.layernorm_1(inputs + attention_output) \n",
        "        proj_output = self.dense_proj(proj_input)\n",
        "        return self.layernorm_2(proj_input + proj_output)\n",
        "\n",
        "    def get_config(self):\n",
        "        config = super().get_config() \n",
        "        config.update({\n",
        "                \"embed_dim\": self.embed_dim,\n",
        "                \"num_heads\": self.num_heads,\n",
        "                \"dense_dim\": self.dense_dim,\n",
        "        })\n",
        "        return config"
      ],
      "metadata": {
        "id": "N5xKIn6BwtlJ"
      },
      "execution_count": 53,
      "outputs": []
    },
    {
      "cell_type": "code",
      "source": [
        "# vocab_size = 20000\n",
        "# embed_dim = 50\n",
        "num_heads = 2\n",
        "dense_dim = 32\n",
        "inputs = tf.keras.Input(shape=(None,), dtype=\"int64\")\n",
        "x = layers.Embedding(vocab_size_raw, embedding_dim, weights=[embedding_matrix_raw], trainable=False)(inputs)\n",
        "x = TransformerEncoder(embedding_dim, dense_dim, num_heads)(x)\n",
        "x = layers.GlobalMaxPooling1D()(x)\n",
        "x = layers.Dropout(0.5)(x)\n",
        "outputs = layers.Dense(3, activation=\"softmax\")(x)\n",
        "model = tf.keras.Model(inputs, outputs)\n",
        "model.compile(optimizer=\"rmsprop\",\n",
        "              loss=\"binary_crossentropy\",\n",
        "              metrics=[\"accuracy\"])\n",
        "model.summary()"
      ],
      "metadata": {
        "colab": {
          "base_uri": "https://localhost:8080/"
        },
        "id": "la4LGzz0l2wO",
        "outputId": "17bbf091-9d54-44db-ca45-954fb941f50e"
      },
      "execution_count": 60,
      "outputs": [
        {
          "output_type": "stream",
          "name": "stdout",
          "text": [
            "Model: \"model_1\"\n",
            "_________________________________________________________________\n",
            " Layer (type)                Output Shape              Param #   \n",
            "=================================================================\n",
            " input_2 (InputLayer)        [(None, None)]            0         \n",
            "                                                                 \n",
            " embedding_1 (Embedding)     (None, None, 50)          2026950   \n",
            "                                                                 \n",
            " transformer_encoder_1 (Tran  (None, None, 50)         23832     \n",
            " sformerEncoder)                                                 \n",
            "                                                                 \n",
            " global_max_pooling1d_1 (Glo  (None, 50)               0         \n",
            " balMaxPooling1D)                                                \n",
            "                                                                 \n",
            " dropout_1 (Dropout)         (None, 50)                0         \n",
            "                                                                 \n",
            " dense_5 (Dense)             (None, 3)                 153       \n",
            "                                                                 \n",
            "=================================================================\n",
            "Total params: 2,050,935\n",
            "Trainable params: 23,985\n",
            "Non-trainable params: 2,026,950\n",
            "_________________________________________________________________\n"
          ]
        }
      ]
    },
    {
      "cell_type": "code",
      "source": [
        "callbacks = [tf.keras.callbacks.EarlyStopping(patience=3)]\n",
        "             \n",
        "history_raw = model.fit(X_train_raw, y_train,\n",
        "                    epochs=30,\n",
        "                    validation_data=(X_test_raw, y_test), callbacks=callbacks)\n"
      ],
      "metadata": {
        "colab": {
          "base_uri": "https://localhost:8080/"
        },
        "id": "NIJrbB9al32r",
        "outputId": "3d0df418-871a-44ad-ae9e-f5123ddc5247"
      },
      "execution_count": 61,
      "outputs": [
        {
          "output_type": "stream",
          "name": "stdout",
          "text": [
            "Epoch 1/30\n",
            "1666/1666 [==============================] - 112s 65ms/step - loss: 0.3399 - accuracy: 0.7774 - val_loss: 0.2617 - val_accuracy: 0.8171\n",
            "Epoch 2/30\n",
            "1666/1666 [==============================] - 107s 64ms/step - loss: 0.2725 - accuracy: 0.8171 - val_loss: 0.2540 - val_accuracy: 0.8169\n",
            "Epoch 3/30\n",
            "1666/1666 [==============================] - 113s 68ms/step - loss: 0.2628 - accuracy: 0.8238 - val_loss: 0.2565 - val_accuracy: 0.8163\n",
            "Epoch 4/30\n",
            "1666/1666 [==============================] - 109s 66ms/step - loss: 0.2567 - accuracy: 0.8261 - val_loss: 0.2597 - val_accuracy: 0.8178\n",
            "Epoch 5/30\n",
            "1666/1666 [==============================] - 109s 66ms/step - loss: 0.2536 - accuracy: 0.8271 - val_loss: 0.2468 - val_accuracy: 0.8263\n",
            "Epoch 6/30\n",
            "1666/1666 [==============================] - 112s 67ms/step - loss: 0.2505 - accuracy: 0.8293 - val_loss: 0.2444 - val_accuracy: 0.8311\n",
            "Epoch 7/30\n",
            "1666/1666 [==============================] - 114s 69ms/step - loss: 0.2475 - accuracy: 0.8309 - val_loss: 0.2457 - val_accuracy: 0.8302\n",
            "Epoch 8/30\n",
            "1666/1666 [==============================] - 115s 69ms/step - loss: 0.2453 - accuracy: 0.8336 - val_loss: 0.2433 - val_accuracy: 0.8290\n",
            "Epoch 9/30\n",
            "1666/1666 [==============================] - 112s 67ms/step - loss: 0.2442 - accuracy: 0.8342 - val_loss: 0.2427 - val_accuracy: 0.8324\n",
            "Epoch 10/30\n",
            "1666/1666 [==============================] - 112s 67ms/step - loss: 0.2411 - accuracy: 0.8367 - val_loss: 0.2459 - val_accuracy: 0.8215\n",
            "Epoch 11/30\n",
            "1666/1666 [==============================] - 113s 68ms/step - loss: 0.2396 - accuracy: 0.8372 - val_loss: 0.2507 - val_accuracy: 0.8262\n",
            "Epoch 12/30\n",
            "1666/1666 [==============================] - 114s 68ms/step - loss: 0.2372 - accuracy: 0.8378 - val_loss: 0.2426 - val_accuracy: 0.8295\n",
            "Epoch 13/30\n",
            "1666/1666 [==============================] - 114s 69ms/step - loss: 0.2351 - accuracy: 0.8403 - val_loss: 0.2492 - val_accuracy: 0.8285\n",
            "Epoch 14/30\n",
            "1666/1666 [==============================] - 114s 69ms/step - loss: 0.2346 - accuracy: 0.8408 - val_loss: 0.2442 - val_accuracy: 0.8311\n",
            "Epoch 15/30\n",
            "1666/1666 [==============================] - 113s 68ms/step - loss: 0.2320 - accuracy: 0.8421 - val_loss: 0.2434 - val_accuracy: 0.8325\n"
          ]
        }
      ]
    },
    {
      "cell_type": "code",
      "source": [
        "loss_training_raw, accuracy_training_raw = model.evaluate(X_train_raw, y_train, verbose=False)\n",
        "print(\"Training Accuracy: {:.4f}\".format(accuracy_training_raw))\n",
        "loss_test_raw, accuracy_test_raw = model.evaluate(X_test_raw, y_test, verbose=False)\n",
        "print(\"Testing Accuracy:  {:.4f}\".format(accuracy_test_raw))"
      ],
      "metadata": {
        "colab": {
          "base_uri": "https://localhost:8080/"
        },
        "id": "Ca5bLb67mL4g",
        "outputId": "aafbcba4-b776-48bb-d38f-181c756a9a3a"
      },
      "execution_count": 62,
      "outputs": [
        {
          "output_type": "stream",
          "name": "stdout",
          "text": [
            "Training Accuracy: 0.8516\n",
            "Testing Accuracy:  0.8325\n"
          ]
        }
      ]
    }
  ]
}